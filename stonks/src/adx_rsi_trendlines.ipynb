{
 "cells": [
  {
   "cell_type": "markdown",
   "metadata": {},
   "source": [
    "# ADX and RSI Trendline Analysis\n",
    "\n",
    "This notebook provides simplified functions to draw trendlines based on ADX and RSI indicators,\n",
    "showing convergence and divergence between high-to-high and low-to-low points."
   ]
  },
  {
   "cell_type": "code",
   "execution_count": 20,
   "metadata": {},
   "outputs": [],
   "source": [
    "import pandas as pd\n",
    "import numpy as np\n",
    "import matplotlib.pyplot as plt\n",
    "import plotly.graph_objects as go\n",
    "from plotly.subplots import make_subplots\n",
    "from datetime import datetime, timedelta"
   ]
  },
  {
   "cell_type": "code",
   "execution_count": 21,
   "metadata": {},
   "outputs": [
    {
     "name": "stdout",
     "output_type": "stream",
     "text": [
      "Loaded dataset with 5001 rows\n",
      "Date range: 2005-03-11 00:00:00 to 2025-01-24 00:00:00\n"
     ]
    }
   ],
   "source": [
    "# Load dataset created by prepare_dataset.ipynb\n",
    "df = pd.read_parquet('../data/dataset.parquet')\n",
    "print(f\"Loaded dataset with {len(df)} rows\")\n",
    "print(f\"Date range: {df['date'].min()} to {df['date'].max()}\")"
   ]
  },
  {
   "cell_type": "code",
   "execution_count": 22,
   "metadata": {},
   "outputs": [],
   "source": [
    "def find_local_extrema(series, window=5, mode='high'):\n",
    "    \"\"\"Find local maxima or minima in a time series.\n",
    "    \n",
    "    Args:\n",
    "        series: Time series data\n",
    "        window: Window size to look before and after a point\n",
    "        mode: 'high' for maxima, 'low' for minima\n",
    "        \n",
    "    Returns:\n",
    "        List of indices where extrema are found\n",
    "    \"\"\"\n",
    "    indices = []\n",
    "    values = []\n",
    "    \n",
    "    # Skip edge cases where we don't have enough points for the window\n",
    "    for i in range(window, len(series)-window):\n",
    "        window_slice = series[i-window:i+window+1]\n",
    "        if mode == 'high' and series[i] == max(window_slice):\n",
    "            indices.append(i)\n",
    "            values.append(series[i])\n",
    "        elif mode == 'low' and series[i] == min(window_slice):\n",
    "            indices.append(i)\n",
    "            values.append(series[i])\n",
    "    \n",
    "    return indices, values"
   ]
  },
  {
   "cell_type": "code",
   "execution_count": 23,
   "metadata": {},
   "outputs": [],
   "source": [
    "def pair_extrema_by_time(price_indices, indicator_indices, max_time_gap=10):\n",
    "    \"\"\"Pair price extrema with nearest indicator extrema within a time window.\n",
    "    \n",
    "    Args:\n",
    "        price_indices: Indices of price extrema\n",
    "        indicator_indices: Indices of indicator extrema\n",
    "        max_time_gap: Maximum allowed index difference between pairs\n",
    "        \n",
    "    Returns:\n",
    "        List of paired indices (price_idx, indicator_idx)\n",
    "    \"\"\"\n",
    "    pairs = []\n",
    "    \n",
    "    for p_idx in price_indices:\n",
    "        # Find the closest indicator extrema within the allowed time gap\n",
    "        candidates = [i_idx for i_idx in indicator_indices \n",
    "                     if abs(i_idx - p_idx) <= max_time_gap]\n",
    "        \n",
    "        if candidates:\n",
    "            # Select the closest indicator extrema\n",
    "            closest_idx = min(candidates, key=lambda x: abs(x - p_idx))\n",
    "            pairs.append((p_idx, closest_idx))\n",
    "    \n",
    "    return pairs"
   ]
  },
  {
   "cell_type": "code",
   "execution_count": 24,
   "metadata": {},
   "outputs": [],
   "source": [
    "def analyze_convergence_divergence(df, extrema_pairs, price_col, indicator_col, mode='high'):\n",
    "    \"\"\"Analyze if consecutive extrema pairs show convergence or divergence.\n",
    "    \n",
    "    Args:\n",
    "        df: DataFrame with price and indicator data\n",
    "        extrema_pairs: List of paired indices (price_idx, indicator_idx)\n",
    "        price_col: Column name for price data\n",
    "        indicator_col: Column name for indicator data\n",
    "        mode: 'high' for peaks, 'low' for troughs\n",
    "        \n",
    "    Returns:\n",
    "        List of dictionaries with trendline information and convergence/divergence type\n",
    "    \"\"\"\n",
    "    results = []\n",
    "    \n",
    "    # Need at least two pairs to analyze trendlines\n",
    "    if len(extrema_pairs) < 2:\n",
    "        return results\n",
    "    \n",
    "    for i in range(len(extrema_pairs)-1):\n",
    "        # Get current and next pair\n",
    "        curr_price_idx, curr_ind_idx = extrema_pairs[i]\n",
    "        next_price_idx, next_ind_idx = extrema_pairs[i+1]\n",
    "        \n",
    "        # Calculate slopes\n",
    "        price_slope = (df[price_col].iloc[next_price_idx] - df[price_col].iloc[curr_price_idx]) / (next_price_idx - curr_price_idx)\n",
    "        ind_slope = (df[indicator_col].iloc[next_ind_idx] - df[indicator_col].iloc[curr_ind_idx]) / (next_ind_idx - curr_ind_idx)\n",
    "        \n",
    "        # Determine pattern type\n",
    "        pattern_type = 'neutral'\n",
    "        if mode == 'high':\n",
    "            # For highs: price up + indicator down = bearish divergence\n",
    "            if price_slope > 0 and ind_slope < 0:\n",
    "                pattern_type = 'bearish_divergence'\n",
    "            # For highs: price down + indicator up = bullish divergence\n",
    "            elif price_slope < 0 and ind_slope > 0:\n",
    "                pattern_type = 'bullish_divergence'\n",
    "            elif price_slope * ind_slope > 0:\n",
    "                pattern_type = 'convergence'\n",
    "        else:  # mode == 'low'\n",
    "            # For lows: price down + indicator up = bullish divergence\n",
    "            if price_slope < 0 and ind_slope > 0:\n",
    "                pattern_type = 'bullish_divergence'\n",
    "            # For lows: price up + indicator down = bearish divergence\n",
    "            elif price_slope > 0 and ind_slope < 0:\n",
    "                pattern_type = 'bearish_divergence'\n",
    "            elif price_slope * ind_slope > 0:\n",
    "                pattern_type = 'convergence'\n",
    "        \n",
    "        results.append({\n",
    "            'price_start': (curr_price_idx, df[price_col].iloc[curr_price_idx]),\n",
    "            'price_end': (next_price_idx, df[price_col].iloc[next_price_idx]),\n",
    "            'indicator_start': (curr_ind_idx, df[indicator_col].iloc[curr_ind_idx]),\n",
    "            'indicator_end': (next_ind_idx, df[indicator_col].iloc[next_ind_idx]),\n",
    "            'price_slope': price_slope,\n",
    "            'indicator_slope': ind_slope,\n",
    "            'pattern_type': pattern_type,\n",
    "            'start_date': df['date'].iloc[min(curr_price_idx, curr_ind_idx)],\n",
    "            'end_date': df['date'].iloc[max(next_price_idx, next_ind_idx)],\n",
    "        })\n",
    "    \n",
    "    return results"
   ]
  },
  {
   "cell_type": "code",
   "execution_count": 39,
   "metadata": {},
   "outputs": [],
   "source": [
    "def plot_trendlines(df, analysis_results, price_col, indicator_col, title=None):\n",
    "    \"\"\"Plot price and indicator trendlines on a single chart with color-coded signals.\n",
    "    \n",
    "    Args:\n",
    "        df: DataFrame with price and indicator data\n",
    "        analysis_results: Results from analyze_convergence_divergence\n",
    "        price_col: Column name for price data\n",
    "        indicator_col: Column name for indicator data\n",
    "        title: Optional title for the plot\n",
    "    \"\"\"\n",
    "    fig = go.Figure()\n",
    "    \n",
    "    # Plot price data\n",
    "    fig.add_trace(\n",
    "        go.Scatter(x=df['date'], y=df[price_col], name=price_col, line=dict(color='blue', width=1))\n",
    "    )\n",
    "    \n",
    "    # Determine indicator color based on name (RSI = blue, ADX = black)\n",
    "    indicator_color = 'blue' if 'rsi' in indicator_col.lower() else 'black'\n",
    "    \n",
    "    # Plot indicator data (scaled to match price range for better visualization)\n",
    "    price_min, price_max = df[price_col].min(), df[price_col].max()\n",
    "    ind_min, ind_max = df[indicator_col].min(), df[indicator_col].max()\n",
    "    \n",
    "    # Scale indicator values to price range\n",
    "    scaled_indicator = ((df[indicator_col] - ind_min) / (ind_max - ind_min)) * (price_max - price_min) * 0.8 + price_min\n",
    "    \n",
    "    fig.add_trace(\n",
    "        go.Scatter(x=df['date'], y=scaled_indicator, \n",
    "                  name=f\"{indicator_col} (scaled)\", \n",
    "                  line=dict(color=indicator_color, width=1, dash='dot'))\n",
    "    )\n",
    "    \n",
    "    # Plot trendlines with different colors based on price movement\n",
    "    for result in analysis_results:\n",
    "        # Determine price trendline color based on slope\n",
    "        if result['price_slope'] > 0.001:  # Increasing price\n",
    "            price_color = 'green'\n",
    "        elif result['price_slope'] < -0.001:  # Decreasing price\n",
    "            price_color = 'red'\n",
    "        else:  # Flat price\n",
    "            price_color = 'gray'\n",
    "        \n",
    "        # Price trendline\n",
    "        fig.add_trace(\n",
    "            go.Scatter(\n",
    "                x=[df['date'].iloc[result['price_start'][0]], df['date'].iloc[result['price_end'][0]]],\n",
    "                y=[result['price_start'][1], result['price_end'][1]],\n",
    "                mode='lines+markers',\n",
    "                line=dict(color=price_color, width=2),\n",
    "                marker=dict(color=price_color, size=8),\n",
    "                name=f'Price {result[\"pattern_type\"]}',\n",
    "                showlegend=(result == analysis_results[0])  # Show only one legend item per type\n",
    "            )\n",
    "        )\n",
    "        \n",
    "        # Scale indicator trendline points to match price chart\n",
    "        indicator_start_value = ((result['indicator_start'][1] - ind_min) / (ind_max - ind_min)) * (price_max - price_min) * 0.8 + price_min\n",
    "        indicator_end_value = ((result['indicator_end'][1] - ind_min) / (ind_max - ind_min)) * (price_max - price_min) * 0.8 + price_min\n",
    "        \n",
    "        # Indicator trendline\n",
    "        fig.add_trace(\n",
    "            go.Scatter(\n",
    "                x=[df['date'].iloc[result['indicator_start'][0]], df['date'].iloc[result['indicator_end'][0]]],\n",
    "                y=[indicator_start_value, indicator_end_value],\n",
    "                mode='lines+markers',\n",
    "                line=dict(color=indicator_color, width=2, dash='dash'),\n",
    "                marker=dict(color=indicator_color, size=8),\n",
    "                name=f'{indicator_col} {result[\"pattern_type\"]}',\n",
    "                showlegend=(result == analysis_results[0])  # Show only one legend item per type\n",
    "            )\n",
    "        )\n",
    "    \n",
    "    # Add annotations for divergences\n",
    "    for result in analysis_results:\n",
    "        if 'divergence' in result['pattern_type']:\n",
    "            mid_x = df['date'].iloc[int((result['price_end'][0] + result['price_start'][0])/2)]\n",
    "            mid_y = (result['price_end'][1] + result['price_start'][1])/2\n",
    "            \n",
    "            annotation_color = 'green' if 'bullish' in result['pattern_type'] else 'red'\n",
    "            \n",
    "            fig.add_annotation(\n",
    "                x=mid_x,\n",
    "                y=mid_y,\n",
    "                text=result['pattern_type'].replace('_', ' ').title(),\n",
    "                showarrow=True,\n",
    "                arrowhead=1,\n",
    "                arrowsize=1,\n",
    "                arrowwidth=2,\n",
    "                arrowcolor=annotation_color,\n",
    "                font=dict(color=annotation_color),\n",
    "                bgcolor=\"rgba(255,255,255,0.8)\"\n",
    "            )\n",
    "    \n",
    "    # Update layout\n",
    "    fig.update_layout(\n",
    "        title=title or f'Trendline Analysis: {price_col} vs {indicator_col}',\n",
    "        height=800,\n",
    "        width=1200,\n",
    "        legend=dict(orientation='h', y=1.02, xanchor='right', x=1),\n",
    "        xaxis_title=\"Date\",\n",
    "        yaxis_title=\"Price\",\n",
    "        hovermode=\"x unified\"\n",
    "    )\n",
    "    \n",
    "    # Add secondary y-axis for the indicator's original values\n",
    "    fig.update_layout(\n",
    "        yaxis2=dict(\n",
    "            title=f\"{indicator_col} Value\",\n",
    "            overlaying=\"y\",\n",
    "            side=\"right\",\n",
    "            range=[ind_min, ind_max],\n",
    "            showgrid=False\n",
    "        )\n",
    "    )\n",
    "    \n",
    "    # Add a note about the scaling\n",
    "    fig.add_annotation(\n",
    "        xref=\"paper\", yref=\"paper\",\n",
    "        x=0.01, y=0.99,\n",
    "        text=f\"Note: {indicator_col} is scaled to match price range for visualization\",\n",
    "        showarrow=False,\n",
    "        font=dict(size=10),\n",
    "        bgcolor=\"rgba(255,255,255,0.8)\"\n",
    "    )\n",
    "    \n",
    "    fig.show()"
   ]
  },
  {
   "cell_type": "code",
   "execution_count": null,
   "metadata": {},
   "outputs": [],
   "source": [
    "def analyze_indicator_trendlines(df, price_col, indicator_col, extrema_window=10, \n",
    "                             time_gap=60, mode='high', min_patterns=3, plot=True):\n",
    "    \"\"\"Complete analysis pipeline for finding and plotting trendline convergence/divergence.\n",
    "    \n",
    "    Args:\n",
    "        df: DataFrame with price and indicator data\n",
    "        price_col: Column name for price data\n",
    "        indicator_col: Column name for indicator data\n",
    "        extrema_window: Window size for finding local extrema\n",
    "        time_gap: Maximum time gap between price and indicator extrema to be paired\n",
    "        mode: 'high' for peaks, 'low' for troughs\n",
    "        min_patterns: Minimum number of patterns to find before returning results\n",
    "        plot: Whether to plot the results\n",
    "        \n",
    "    Returns:\n",
    "        Analysis results from analyze_convergence_divergence\n",
    "    \"\"\"\n",
    "    # Find local extrema\n",
    "    price_indices, _ = find_local_extrema(df[price_col].values, window=extrema_window, mode=mode)\n",
    "    indicator_indices, _ = find_local_extrema(df[indicator_col].values, window=extrema_window, mode=mode)\n",
    "    \n",
    "    # Pair extrema by time\n",
    "    extrema_pairs = pair_extrema_by_time(price_indices, indicator_indices, max_time_gap=time_gap)\n",
    "    \n",
    "    # Analyze convergence/divergence\n",
    "    results = analyze_convergence_divergence(df, extrema_pairs, price_col, indicator_col, mode=mode)\n",
    "    \n",
    "    # If we don't have enough patterns, try with a smaller window\n",
    "    if len(results) < min_patterns and extrema_window > 3:\n",
    "        return analyze_indicator_trendlines(\n",
    "            df, price_col, indicator_col, \n",
    "            extrema_window=extrema_window-2, \n",
    "            time_gap=time_gap,\n",
    "            mode=mode,\n",
    "            min_patterns=min_patterns,\n",
    "            plot=plot\n",
    "        )\n",
    "    \n",
    "    # Plot if requested\n",
    "    if plot and results:\n",
    "        mode_str = \"Highs\" if mode == \"high\" else \"Lows\"\n",
    "        plot_trendlines(df, results, price_col, indicator_col, \n",
    "                      title=f'{mode_str} Trendline Analysis: {price_col} vs {indicator_col}')\n",
    "    \n",
    "    return results"
   ]
  },
  {
   "cell_type": "markdown",
   "metadata": {},
   "source": [
    "## Run Trendline Analysis for ADX and RSI\n",
    "\n",
    "Let's analyze both high-to-high and low-to-low trendlines for ADX and RSI."
   ]
  },
  {
   "cell_type": "code",
   "execution_count": 45,
   "metadata": {},
   "outputs": [
    {
     "name": "stderr",
     "output_type": "stream",
     "text": [
      "C:\\Users\\josep\\AppData\\Local\\Temp\\ipykernel_46280\\2823576645.py:27: RuntimeWarning:\n",
      "\n",
      "invalid value encountered in scalar divide\n",
      "\n"
     ]
    },
    {
     "data": {
      "application/vnd.plotly.v1+json": {
       "config": {
        "plotlyServerURL": "https://plot.ly"
       },
       "data": [
        {
         "line": {
          "color": "blue",
          "width": 1
         },
         "name": "high",
         "type": "scatter",
         "x": [
          "2020-09-16T00:00:00.000000000",
          "2020-09-17T00:00:00.000000000",
          "2020-09-18T00:00:00.000000000",
          "2020-09-21T00:00:00.000000000",
          "2020-09-22T00:00:00.000000000",
          "2020-09-23T00:00:00.000000000",
          "2020-09-24T00:00:00.000000000",
          "2020-09-25T00:00:00.000000000",
          "2020-09-28T00:00:00.000000000",
          "2020-09-29T00:00:00.000000000",
          "2020-09-30T00:00:00.000000000",
          "2020-10-01T00:00:00.000000000",
          "2020-10-02T00:00:00.000000000",
          "2020-10-05T00:00:00.000000000",
          "2020-10-06T00:00:00.000000000",
          "2020-10-07T00:00:00.000000000",
          "2020-10-08T00:00:00.000000000",
          "2020-10-09T00:00:00.000000000",
          "2020-10-12T00:00:00.000000000",
          "2020-10-13T00:00:00.000000000",
          "2020-10-14T00:00:00.000000000",
          "2020-10-15T00:00:00.000000000",
          "2020-10-16T00:00:00.000000000",
          "2020-10-19T00:00:00.000000000",
          "2020-10-20T00:00:00.000000000",
          "2020-10-21T00:00:00.000000000",
          "2020-10-22T00:00:00.000000000",
          "2020-10-23T00:00:00.000000000",
          "2020-10-26T00:00:00.000000000",
          "2020-10-27T00:00:00.000000000",
          "2020-10-28T00:00:00.000000000",
          "2020-10-29T00:00:00.000000000",
          "2020-10-30T00:00:00.000000000",
          "2020-11-02T00:00:00.000000000",
          "2020-11-03T00:00:00.000000000",
          "2020-11-04T00:00:00.000000000",
          "2020-11-05T00:00:00.000000000",
          "2020-11-06T00:00:00.000000000",
          "2020-11-09T00:00:00.000000000",
          "2020-11-10T00:00:00.000000000",
          "2020-11-11T00:00:00.000000000",
          "2020-11-12T00:00:00.000000000",
          "2020-11-13T00:00:00.000000000",
          "2020-11-16T00:00:00.000000000",
          "2020-11-17T00:00:00.000000000",
          "2020-11-18T00:00:00.000000000",
          "2020-11-19T00:00:00.000000000",
          "2020-11-20T00:00:00.000000000",
          "2020-11-23T00:00:00.000000000",
          "2020-11-24T00:00:00.000000000",
          "2020-11-25T00:00:00.000000000",
          "2020-11-27T00:00:00.000000000",
          "2020-11-30T00:00:00.000000000",
          "2020-12-01T00:00:00.000000000",
          "2020-12-02T00:00:00.000000000",
          "2020-12-03T00:00:00.000000000",
          "2020-12-04T00:00:00.000000000",
          "2020-12-07T00:00:00.000000000",
          "2020-12-08T00:00:00.000000000",
          "2020-12-09T00:00:00.000000000",
          "2020-12-10T00:00:00.000000000",
          "2020-12-11T00:00:00.000000000",
          "2020-12-14T00:00:00.000000000",
          "2020-12-15T00:00:00.000000000",
          "2020-12-16T00:00:00.000000000",
          "2020-12-17T00:00:00.000000000",
          "2020-12-18T00:00:00.000000000",
          "2020-12-21T00:00:00.000000000",
          "2020-12-22T00:00:00.000000000",
          "2020-12-23T00:00:00.000000000",
          "2020-12-24T00:00:00.000000000",
          "2020-12-28T00:00:00.000000000",
          "2020-12-29T00:00:00.000000000",
          "2020-12-30T00:00:00.000000000",
          "2020-12-31T00:00:00.000000000",
          "2021-01-04T00:00:00.000000000",
          "2021-01-05T00:00:00.000000000",
          "2021-01-06T00:00:00.000000000",
          "2021-01-07T00:00:00.000000000",
          "2021-01-08T00:00:00.000000000",
          "2021-01-11T00:00:00.000000000",
          "2021-01-12T00:00:00.000000000",
          "2021-01-13T00:00:00.000000000",
          "2021-01-14T00:00:00.000000000",
          "2021-01-15T00:00:00.000000000",
          "2021-01-19T00:00:00.000000000",
          "2021-01-20T00:00:00.000000000",
          "2021-01-21T00:00:00.000000000",
          "2021-01-22T00:00:00.000000000",
          "2021-01-25T00:00:00.000000000",
          "2021-01-26T00:00:00.000000000",
          "2021-01-27T00:00:00.000000000",
          "2021-01-28T00:00:00.000000000",
          "2021-01-29T00:00:00.000000000",
          "2021-02-01T00:00:00.000000000",
          "2021-02-02T00:00:00.000000000",
          "2021-02-03T00:00:00.000000000",
          "2021-02-04T00:00:00.000000000",
          "2021-02-05T00:00:00.000000000",
          "2021-02-08T00:00:00.000000000",
          "2021-02-09T00:00:00.000000000",
          "2021-02-10T00:00:00.000000000",
          "2021-02-11T00:00:00.000000000",
          "2021-02-12T00:00:00.000000000",
          "2021-02-16T00:00:00.000000000",
          "2021-02-17T00:00:00.000000000",
          "2021-02-18T00:00:00.000000000",
          "2021-02-19T00:00:00.000000000",
          "2021-02-22T00:00:00.000000000",
          "2021-02-23T00:00:00.000000000",
          "2021-02-24T00:00:00.000000000",
          "2021-02-25T00:00:00.000000000",
          "2021-02-26T00:00:00.000000000",
          "2021-03-01T00:00:00.000000000",
          "2021-03-02T00:00:00.000000000",
          "2021-03-03T00:00:00.000000000",
          "2021-03-04T00:00:00.000000000",
          "2021-03-05T00:00:00.000000000",
          "2021-03-08T00:00:00.000000000",
          "2021-03-09T00:00:00.000000000",
          "2021-03-10T00:00:00.000000000",
          "2021-03-11T00:00:00.000000000",
          "2021-03-12T00:00:00.000000000",
          "2021-03-15T00:00:00.000000000",
          "2021-03-16T00:00:00.000000000",
          "2021-03-17T00:00:00.000000000",
          "2021-03-18T00:00:00.000000000",
          "2021-03-19T00:00:00.000000000",
          "2021-03-22T00:00:00.000000000",
          "2021-03-23T00:00:00.000000000",
          "2021-03-24T00:00:00.000000000",
          "2021-03-25T00:00:00.000000000",
          "2021-03-26T00:00:00.000000000",
          "2021-03-29T00:00:00.000000000",
          "2021-03-30T00:00:00.000000000",
          "2021-03-31T00:00:00.000000000",
          "2021-04-01T00:00:00.000000000",
          "2021-04-05T00:00:00.000000000",
          "2021-04-06T00:00:00.000000000",
          "2021-04-07T00:00:00.000000000",
          "2021-04-08T00:00:00.000000000",
          "2021-04-09T00:00:00.000000000",
          "2021-04-12T00:00:00.000000000",
          "2021-04-13T00:00:00.000000000",
          "2021-04-14T00:00:00.000000000",
          "2021-04-15T00:00:00.000000000",
          "2021-04-16T00:00:00.000000000",
          "2021-04-19T00:00:00.000000000",
          "2021-04-20T00:00:00.000000000",
          "2021-04-21T00:00:00.000000000",
          "2021-04-22T00:00:00.000000000",
          "2021-04-23T00:00:00.000000000",
          "2021-04-26T00:00:00.000000000",
          "2021-04-27T00:00:00.000000000",
          "2021-04-28T00:00:00.000000000",
          "2021-04-29T00:00:00.000000000",
          "2021-04-30T00:00:00.000000000",
          "2021-05-03T00:00:00.000000000",
          "2021-05-04T00:00:00.000000000",
          "2021-05-05T00:00:00.000000000",
          "2021-05-06T00:00:00.000000000",
          "2021-05-07T00:00:00.000000000",
          "2021-05-10T00:00:00.000000000",
          "2021-05-11T00:00:00.000000000",
          "2021-05-12T00:00:00.000000000",
          "2021-05-13T00:00:00.000000000",
          "2021-05-14T00:00:00.000000000",
          "2021-05-17T00:00:00.000000000",
          "2021-05-18T00:00:00.000000000",
          "2021-05-19T00:00:00.000000000",
          "2021-05-20T00:00:00.000000000",
          "2021-05-21T00:00:00.000000000",
          "2021-05-24T00:00:00.000000000",
          "2021-05-25T00:00:00.000000000",
          "2021-05-26T00:00:00.000000000",
          "2021-05-27T00:00:00.000000000",
          "2021-05-28T00:00:00.000000000",
          "2021-06-01T00:00:00.000000000",
          "2021-06-02T00:00:00.000000000",
          "2021-06-03T00:00:00.000000000",
          "2021-06-04T00:00:00.000000000",
          "2021-06-07T00:00:00.000000000",
          "2021-06-08T00:00:00.000000000",
          "2021-06-09T00:00:00.000000000",
          "2021-06-10T00:00:00.000000000",
          "2021-06-11T00:00:00.000000000",
          "2021-06-14T00:00:00.000000000",
          "2021-06-15T00:00:00.000000000",
          "2021-06-16T00:00:00.000000000",
          "2021-06-17T00:00:00.000000000",
          "2021-06-18T00:00:00.000000000",
          "2021-06-21T00:00:00.000000000",
          "2021-06-22T00:00:00.000000000",
          "2021-06-23T00:00:00.000000000",
          "2021-06-24T00:00:00.000000000",
          "2021-06-25T00:00:00.000000000",
          "2021-06-28T00:00:00.000000000",
          "2021-06-29T00:00:00.000000000",
          "2021-06-30T00:00:00.000000000",
          "2021-07-01T00:00:00.000000000",
          "2021-07-02T00:00:00.000000000",
          "2021-07-06T00:00:00.000000000",
          "2021-07-07T00:00:00.000000000",
          "2021-07-08T00:00:00.000000000",
          "2021-07-09T00:00:00.000000000",
          "2021-07-12T00:00:00.000000000",
          "2021-07-13T00:00:00.000000000",
          "2021-07-14T00:00:00.000000000",
          "2021-07-15T00:00:00.000000000",
          "2021-07-16T00:00:00.000000000",
          "2021-07-19T00:00:00.000000000",
          "2021-07-20T00:00:00.000000000",
          "2021-07-21T00:00:00.000000000",
          "2021-07-22T00:00:00.000000000",
          "2021-07-23T00:00:00.000000000",
          "2021-07-26T00:00:00.000000000",
          "2021-07-27T00:00:00.000000000",
          "2021-07-28T00:00:00.000000000",
          "2021-07-29T00:00:00.000000000",
          "2021-07-30T00:00:00.000000000",
          "2021-08-02T00:00:00.000000000",
          "2021-08-03T00:00:00.000000000",
          "2021-08-04T00:00:00.000000000",
          "2021-08-05T00:00:00.000000000",
          "2021-08-06T00:00:00.000000000",
          "2021-08-09T00:00:00.000000000",
          "2021-08-10T00:00:00.000000000",
          "2021-08-11T00:00:00.000000000",
          "2021-08-12T00:00:00.000000000",
          "2021-08-13T00:00:00.000000000",
          "2021-08-16T00:00:00.000000000",
          "2021-08-17T00:00:00.000000000",
          "2021-08-18T00:00:00.000000000",
          "2021-08-19T00:00:00.000000000",
          "2021-08-20T00:00:00.000000000",
          "2021-08-23T00:00:00.000000000",
          "2021-08-24T00:00:00.000000000",
          "2021-08-25T00:00:00.000000000",
          "2021-08-26T00:00:00.000000000",
          "2021-08-27T00:00:00.000000000",
          "2021-08-30T00:00:00.000000000",
          "2021-08-31T00:00:00.000000000",
          "2021-09-01T00:00:00.000000000",
          "2021-09-02T00:00:00.000000000",
          "2021-09-03T00:00:00.000000000",
          "2021-09-07T00:00:00.000000000",
          "2021-09-08T00:00:00.000000000",
          "2021-09-09T00:00:00.000000000",
          "2021-09-10T00:00:00.000000000",
          "2021-09-13T00:00:00.000000000",
          "2021-09-14T00:00:00.000000000",
          "2021-09-15T00:00:00.000000000",
          "2021-09-16T00:00:00.000000000",
          "2021-09-17T00:00:00.000000000",
          "2021-09-20T00:00:00.000000000",
          "2021-09-21T00:00:00.000000000",
          "2021-09-22T00:00:00.000000000",
          "2021-09-23T00:00:00.000000000",
          "2021-09-24T00:00:00.000000000",
          "2021-09-27T00:00:00.000000000",
          "2021-09-28T00:00:00.000000000",
          "2021-09-29T00:00:00.000000000",
          "2021-09-30T00:00:00.000000000",
          "2021-10-01T00:00:00.000000000",
          "2021-10-04T00:00:00.000000000",
          "2021-10-05T00:00:00.000000000",
          "2021-10-06T00:00:00.000000000",
          "2021-10-07T00:00:00.000000000",
          "2021-10-08T00:00:00.000000000",
          "2021-10-11T00:00:00.000000000",
          "2021-10-12T00:00:00.000000000",
          "2021-10-13T00:00:00.000000000",
          "2021-10-14T00:00:00.000000000",
          "2021-10-15T00:00:00.000000000",
          "2021-10-18T00:00:00.000000000",
          "2021-10-19T00:00:00.000000000",
          "2021-10-20T00:00:00.000000000",
          "2021-10-21T00:00:00.000000000",
          "2021-10-22T00:00:00.000000000",
          "2021-10-25T00:00:00.000000000",
          "2021-10-26T00:00:00.000000000",
          "2021-10-27T00:00:00.000000000",
          "2021-10-28T00:00:00.000000000",
          "2021-10-29T00:00:00.000000000",
          "2021-11-01T00:00:00.000000000",
          "2021-11-02T00:00:00.000000000",
          "2021-11-03T00:00:00.000000000",
          "2021-11-04T00:00:00.000000000",
          "2021-11-05T00:00:00.000000000",
          "2021-11-08T00:00:00.000000000",
          "2021-11-09T00:00:00.000000000",
          "2021-11-10T00:00:00.000000000",
          "2021-11-11T00:00:00.000000000",
          "2021-11-12T00:00:00.000000000",
          "2021-11-15T00:00:00.000000000",
          "2021-11-16T00:00:00.000000000",
          "2021-11-17T00:00:00.000000000",
          "2021-11-18T00:00:00.000000000",
          "2021-11-19T00:00:00.000000000",
          "2021-11-22T00:00:00.000000000",
          "2021-11-23T00:00:00.000000000",
          "2021-11-24T00:00:00.000000000",
          "2021-11-26T00:00:00.000000000",
          "2021-11-29T00:00:00.000000000",
          "2021-11-30T00:00:00.000000000",
          "2021-12-01T00:00:00.000000000",
          "2021-12-02T00:00:00.000000000",
          "2021-12-03T00:00:00.000000000",
          "2021-12-06T00:00:00.000000000",
          "2021-12-07T00:00:00.000000000",
          "2021-12-08T00:00:00.000000000",
          "2021-12-09T00:00:00.000000000",
          "2021-12-10T00:00:00.000000000",
          "2021-12-13T00:00:00.000000000",
          "2021-12-14T00:00:00.000000000",
          "2021-12-15T00:00:00.000000000",
          "2021-12-16T00:00:00.000000000",
          "2021-12-17T00:00:00.000000000",
          "2021-12-20T00:00:00.000000000",
          "2021-12-21T00:00:00.000000000",
          "2021-12-22T00:00:00.000000000",
          "2021-12-23T00:00:00.000000000",
          "2021-12-27T00:00:00.000000000",
          "2021-12-28T00:00:00.000000000",
          "2021-12-29T00:00:00.000000000",
          "2021-12-30T00:00:00.000000000",
          "2021-12-31T00:00:00.000000000",
          "2022-01-03T00:00:00.000000000",
          "2022-01-04T00:00:00.000000000",
          "2022-01-05T00:00:00.000000000",
          "2022-01-06T00:00:00.000000000",
          "2022-01-07T00:00:00.000000000",
          "2022-01-10T00:00:00.000000000",
          "2022-01-11T00:00:00.000000000",
          "2022-01-12T00:00:00.000000000",
          "2022-01-13T00:00:00.000000000",
          "2022-01-14T00:00:00.000000000",
          "2022-01-18T00:00:00.000000000",
          "2022-01-19T00:00:00.000000000",
          "2022-01-20T00:00:00.000000000",
          "2022-01-21T00:00:00.000000000",
          "2022-01-24T00:00:00.000000000",
          "2022-01-25T00:00:00.000000000",
          "2022-01-26T00:00:00.000000000",
          "2022-01-27T00:00:00.000000000",
          "2022-01-28T00:00:00.000000000",
          "2022-01-31T00:00:00.000000000",
          "2022-02-01T00:00:00.000000000",
          "2022-02-02T00:00:00.000000000",
          "2022-02-03T00:00:00.000000000",
          "2022-02-04T00:00:00.000000000",
          "2022-02-07T00:00:00.000000000",
          "2022-02-08T00:00:00.000000000",
          "2022-02-09T00:00:00.000000000",
          "2022-02-10T00:00:00.000000000",
          "2022-02-11T00:00:00.000000000",
          "2022-02-14T00:00:00.000000000",
          "2022-02-15T00:00:00.000000000",
          "2022-02-16T00:00:00.000000000",
          "2022-02-17T00:00:00.000000000",
          "2022-02-18T00:00:00.000000000",
          "2022-02-22T00:00:00.000000000",
          "2022-02-23T00:00:00.000000000",
          "2022-02-24T00:00:00.000000000",
          "2022-02-25T00:00:00.000000000",
          "2022-02-28T00:00:00.000000000",
          "2022-03-01T00:00:00.000000000",
          "2022-03-02T00:00:00.000000000",
          "2022-03-03T00:00:00.000000000",
          "2022-03-04T00:00:00.000000000",
          "2022-03-07T00:00:00.000000000",
          "2022-03-08T00:00:00.000000000",
          "2022-03-09T00:00:00.000000000",
          "2022-03-10T00:00:00.000000000",
          "2022-03-11T00:00:00.000000000",
          "2022-03-14T00:00:00.000000000",
          "2022-03-15T00:00:00.000000000",
          "2022-03-16T00:00:00.000000000",
          "2022-03-17T00:00:00.000000000",
          "2022-03-18T00:00:00.000000000",
          "2022-03-21T00:00:00.000000000",
          "2022-03-22T00:00:00.000000000",
          "2022-03-23T00:00:00.000000000",
          "2022-03-24T00:00:00.000000000",
          "2022-03-25T00:00:00.000000000",
          "2022-03-28T00:00:00.000000000",
          "2022-03-29T00:00:00.000000000",
          "2022-03-30T00:00:00.000000000",
          "2022-03-31T00:00:00.000000000",
          "2022-04-01T00:00:00.000000000",
          "2022-04-04T00:00:00.000000000",
          "2022-04-05T00:00:00.000000000",
          "2022-04-06T00:00:00.000000000",
          "2022-04-07T00:00:00.000000000",
          "2022-04-08T00:00:00.000000000",
          "2022-04-11T00:00:00.000000000",
          "2022-04-12T00:00:00.000000000",
          "2022-04-13T00:00:00.000000000",
          "2022-04-14T00:00:00.000000000",
          "2022-04-18T00:00:00.000000000",
          "2022-04-19T00:00:00.000000000",
          "2022-04-20T00:00:00.000000000",
          "2022-04-21T00:00:00.000000000",
          "2022-04-22T00:00:00.000000000",
          "2022-04-25T00:00:00.000000000",
          "2022-04-26T00:00:00.000000000",
          "2022-04-27T00:00:00.000000000",
          "2022-04-28T00:00:00.000000000",
          "2022-04-29T00:00:00.000000000",
          "2022-05-02T00:00:00.000000000",
          "2022-05-03T00:00:00.000000000",
          "2022-05-04T00:00:00.000000000",
          "2022-05-05T00:00:00.000000000",
          "2022-05-06T00:00:00.000000000",
          "2022-05-09T00:00:00.000000000",
          "2022-05-10T00:00:00.000000000",
          "2022-05-11T00:00:00.000000000",
          "2022-05-12T00:00:00.000000000",
          "2022-05-13T00:00:00.000000000",
          "2022-05-16T00:00:00.000000000",
          "2022-05-17T00:00:00.000000000",
          "2022-05-18T00:00:00.000000000",
          "2022-05-19T00:00:00.000000000",
          "2022-05-20T00:00:00.000000000",
          "2022-05-23T00:00:00.000000000",
          "2022-05-24T00:00:00.000000000",
          "2022-05-25T00:00:00.000000000",
          "2022-05-26T00:00:00.000000000",
          "2022-05-27T00:00:00.000000000",
          "2022-05-31T00:00:00.000000000",
          "2022-06-01T00:00:00.000000000",
          "2022-06-02T00:00:00.000000000",
          "2022-06-03T00:00:00.000000000",
          "2022-06-06T00:00:00.000000000",
          "2022-06-07T00:00:00.000000000",
          "2022-06-08T00:00:00.000000000",
          "2022-06-09T00:00:00.000000000",
          "2022-06-10T00:00:00.000000000",
          "2022-06-13T00:00:00.000000000",
          "2022-06-14T00:00:00.000000000",
          "2022-06-15T00:00:00.000000000",
          "2022-06-16T00:00:00.000000000",
          "2022-06-17T00:00:00.000000000",
          "2022-06-21T00:00:00.000000000",
          "2022-06-22T00:00:00.000000000",
          "2022-06-23T00:00:00.000000000",
          "2022-06-24T00:00:00.000000000",
          "2022-06-27T00:00:00.000000000",
          "2022-06-28T00:00:00.000000000",
          "2022-06-29T00:00:00.000000000",
          "2022-06-30T00:00:00.000000000",
          "2022-07-01T00:00:00.000000000",
          "2022-07-05T00:00:00.000000000",
          "2022-07-06T00:00:00.000000000",
          "2022-07-07T00:00:00.000000000",
          "2022-07-08T00:00:00.000000000",
          "2022-07-11T00:00:00.000000000",
          "2022-07-12T00:00:00.000000000",
          "2022-07-13T00:00:00.000000000",
          "2022-07-14T00:00:00.000000000",
          "2022-07-15T00:00:00.000000000",
          "2022-07-18T00:00:00.000000000",
          "2022-07-19T00:00:00.000000000",
          "2022-07-20T00:00:00.000000000",
          "2022-07-21T00:00:00.000000000",
          "2022-07-22T00:00:00.000000000",
          "2022-07-25T00:00:00.000000000",
          "2022-07-26T00:00:00.000000000",
          "2022-07-27T00:00:00.000000000",
          "2022-07-28T00:00:00.000000000",
          "2022-07-29T00:00:00.000000000",
          "2022-08-01T00:00:00.000000000",
          "2022-08-02T00:00:00.000000000",
          "2022-08-03T00:00:00.000000000",
          "2022-08-04T00:00:00.000000000",
          "2022-08-05T00:00:00.000000000",
          "2022-08-08T00:00:00.000000000",
          "2022-08-09T00:00:00.000000000",
          "2022-08-10T00:00:00.000000000",
          "2022-08-11T00:00:00.000000000",
          "2022-08-12T00:00:00.000000000",
          "2022-08-15T00:00:00.000000000",
          "2022-08-16T00:00:00.000000000",
          "2022-08-17T00:00:00.000000000",
          "2022-08-18T00:00:00.000000000",
          "2022-08-19T00:00:00.000000000",
          "2022-08-22T00:00:00.000000000",
          "2022-08-23T00:00:00.000000000",
          "2022-08-24T00:00:00.000000000",
          "2022-08-25T00:00:00.000000000",
          "2022-08-26T00:00:00.000000000",
          "2022-08-29T00:00:00.000000000",
          "2022-08-30T00:00:00.000000000",
          "2022-08-31T00:00:00.000000000",
          "2022-09-01T00:00:00.000000000",
          "2022-09-02T00:00:00.000000000",
          "2022-09-06T00:00:00.000000000",
          "2022-09-07T00:00:00.000000000",
          "2022-09-08T00:00:00.000000000",
          "2022-09-09T00:00:00.000000000",
          "2022-09-12T00:00:00.000000000",
          "2022-09-13T00:00:00.000000000",
          "2022-09-14T00:00:00.000000000",
          "2022-09-15T00:00:00.000000000",
          "2022-09-16T00:00:00.000000000",
          "2022-09-19T00:00:00.000000000",
          "2022-09-20T00:00:00.000000000",
          "2022-09-21T00:00:00.000000000",
          "2022-09-22T00:00:00.000000000",
          "2022-09-23T00:00:00.000000000",
          "2022-09-26T00:00:00.000000000",
          "2022-09-27T00:00:00.000000000",
          "2022-09-28T00:00:00.000000000",
          "2022-09-29T00:00:00.000000000",
          "2022-09-30T00:00:00.000000000",
          "2022-10-03T00:00:00.000000000",
          "2022-10-04T00:00:00.000000000",
          "2022-10-05T00:00:00.000000000",
          "2022-10-06T00:00:00.000000000",
          "2022-10-07T00:00:00.000000000",
          "2022-10-10T00:00:00.000000000",
          "2022-10-11T00:00:00.000000000",
          "2022-10-12T00:00:00.000000000",
          "2022-10-13T00:00:00.000000000",
          "2022-10-14T00:00:00.000000000",
          "2022-10-17T00:00:00.000000000",
          "2022-10-18T00:00:00.000000000",
          "2022-10-19T00:00:00.000000000",
          "2022-10-20T00:00:00.000000000",
          "2022-10-21T00:00:00.000000000",
          "2022-10-24T00:00:00.000000000",
          "2022-10-25T00:00:00.000000000",
          "2022-10-26T00:00:00.000000000",
          "2022-10-27T00:00:00.000000000",
          "2022-10-28T00:00:00.000000000",
          "2022-10-31T00:00:00.000000000",
          "2022-11-01T00:00:00.000000000",
          "2022-11-02T00:00:00.000000000",
          "2022-11-03T00:00:00.000000000",
          "2022-11-04T00:00:00.000000000",
          "2022-11-07T00:00:00.000000000",
          "2022-11-08T00:00:00.000000000",
          "2022-11-09T00:00:00.000000000",
          "2022-11-10T00:00:00.000000000",
          "2022-11-11T00:00:00.000000000",
          "2022-11-14T00:00:00.000000000",
          "2022-11-15T00:00:00.000000000",
          "2022-11-16T00:00:00.000000000",
          "2022-11-17T00:00:00.000000000",
          "2022-11-18T00:00:00.000000000",
          "2022-11-21T00:00:00.000000000",
          "2022-11-22T00:00:00.000000000",
          "2022-11-23T00:00:00.000000000",
          "2022-11-25T00:00:00.000000000",
          "2022-11-28T00:00:00.000000000",
          "2022-11-29T00:00:00.000000000",
          "2022-11-30T00:00:00.000000000",
          "2022-12-01T00:00:00.000000000",
          "2022-12-02T00:00:00.000000000",
          "2022-12-05T00:00:00.000000000",
          "2022-12-06T00:00:00.000000000",
          "2022-12-07T00:00:00.000000000",
          "2022-12-08T00:00:00.000000000",
          "2022-12-09T00:00:00.000000000",
          "2022-12-12T00:00:00.000000000",
          "2022-12-13T00:00:00.000000000",
          "2022-12-14T00:00:00.000000000",
          "2022-12-15T00:00:00.000000000",
          "2022-12-16T00:00:00.000000000",
          "2022-12-19T00:00:00.000000000",
          "2022-12-20T00:00:00.000000000",
          "2022-12-21T00:00:00.000000000",
          "2022-12-22T00:00:00.000000000",
          "2022-12-23T00:00:00.000000000",
          "2022-12-27T00:00:00.000000000",
          "2022-12-28T00:00:00.000000000",
          "2022-12-29T00:00:00.000000000",
          "2022-12-30T00:00:00.000000000",
          "2023-01-03T00:00:00.000000000",
          "2023-01-04T00:00:00.000000000",
          "2023-01-05T00:00:00.000000000",
          "2023-01-06T00:00:00.000000000",
          "2023-01-09T00:00:00.000000000",
          "2023-01-10T00:00:00.000000000",
          "2023-01-11T00:00:00.000000000",
          "2023-01-12T00:00:00.000000000",
          "2023-01-13T00:00:00.000000000",
          "2023-01-17T00:00:00.000000000",
          "2023-01-18T00:00:00.000000000",
          "2023-01-19T00:00:00.000000000",
          "2023-01-20T00:00:00.000000000",
          "2023-01-23T00:00:00.000000000",
          "2023-01-24T00:00:00.000000000",
          "2023-01-25T00:00:00.000000000",
          "2023-01-26T00:00:00.000000000",
          "2023-01-27T00:00:00.000000000",
          "2023-01-30T00:00:00.000000000",
          "2023-01-31T00:00:00.000000000",
          "2023-02-01T00:00:00.000000000",
          "2023-02-02T00:00:00.000000000",
          "2023-02-03T00:00:00.000000000",
          "2023-02-06T00:00:00.000000000",
          "2023-02-07T00:00:00.000000000",
          "2023-02-08T00:00:00.000000000",
          "2023-02-09T00:00:00.000000000",
          "2023-02-10T00:00:00.000000000",
          "2023-02-13T00:00:00.000000000",
          "2023-02-14T00:00:00.000000000",
          "2023-02-15T00:00:00.000000000",
          "2023-02-16T00:00:00.000000000",
          "2023-02-17T00:00:00.000000000",
          "2023-02-21T00:00:00.000000000",
          "2023-02-22T00:00:00.000000000",
          "2023-02-23T00:00:00.000000000",
          "2023-02-24T00:00:00.000000000",
          "2023-02-27T00:00:00.000000000",
          "2023-02-28T00:00:00.000000000",
          "2023-03-01T00:00:00.000000000",
          "2023-03-02T00:00:00.000000000",
          "2023-03-03T00:00:00.000000000",
          "2023-03-06T00:00:00.000000000",
          "2023-03-07T00:00:00.000000000",
          "2023-03-08T00:00:00.000000000",
          "2023-03-09T00:00:00.000000000",
          "2023-03-10T00:00:00.000000000",
          "2023-03-13T00:00:00.000000000",
          "2023-03-14T00:00:00.000000000",
          "2023-03-15T00:00:00.000000000",
          "2023-03-16T00:00:00.000000000",
          "2023-03-17T00:00:00.000000000",
          "2023-03-20T00:00:00.000000000",
          "2023-03-21T00:00:00.000000000",
          "2023-03-22T00:00:00.000000000",
          "2023-03-23T00:00:00.000000000",
          "2023-03-24T00:00:00.000000000",
          "2023-03-27T00:00:00.000000000",
          "2023-03-28T00:00:00.000000000",
          "2023-03-29T00:00:00.000000000",
          "2023-03-30T00:00:00.000000000",
          "2023-03-31T00:00:00.000000000",
          "2023-04-03T00:00:00.000000000",
          "2023-04-04T00:00:00.000000000",
          "2023-04-05T00:00:00.000000000",
          "2023-04-06T00:00:00.000000000",
          "2023-04-10T00:00:00.000000000",
          "2023-04-11T00:00:00.000000000",
          "2023-04-12T00:00:00.000000000",
          "2023-04-13T00:00:00.000000000",
          "2023-04-14T00:00:00.000000000",
          "2023-04-17T00:00:00.000000000",
          "2023-04-18T00:00:00.000000000",
          "2023-04-19T00:00:00.000000000",
          "2023-04-20T00:00:00.000000000",
          "2023-04-21T00:00:00.000000000",
          "2023-04-24T00:00:00.000000000",
          "2023-04-25T00:00:00.000000000",
          "2023-04-26T00:00:00.000000000",
          "2023-04-27T00:00:00.000000000",
          "2023-04-28T00:00:00.000000000",
          "2023-05-01T00:00:00.000000000",
          "2023-05-02T00:00:00.000000000",
          "2023-05-03T00:00:00.000000000",
          "2023-05-04T00:00:00.000000000",
          "2023-05-05T00:00:00.000000000",
          "2023-05-08T00:00:00.000000000",
          "2023-05-09T00:00:00.000000000",
          "2023-05-10T00:00:00.000000000",
          "2023-05-11T00:00:00.000000000",
          "2023-05-12T00:00:00.000000000",
          "2023-05-15T00:00:00.000000000",
          "2023-05-16T00:00:00.000000000",
          "2023-05-17T00:00:00.000000000",
          "2023-05-18T00:00:00.000000000",
          "2023-05-19T00:00:00.000000000",
          "2023-05-22T00:00:00.000000000",
          "2023-05-23T00:00:00.000000000",
          "2023-05-24T00:00:00.000000000",
          "2023-05-25T00:00:00.000000000",
          "2023-05-26T00:00:00.000000000",
          "2023-05-30T00:00:00.000000000",
          "2023-05-31T00:00:00.000000000",
          "2023-06-01T00:00:00.000000000",
          "2023-06-02T00:00:00.000000000",
          "2023-06-05T00:00:00.000000000",
          "2023-06-06T00:00:00.000000000",
          "2023-06-07T00:00:00.000000000",
          "2023-06-08T00:00:00.000000000",
          "2023-06-09T00:00:00.000000000",
          "2023-06-12T00:00:00.000000000",
          "2023-06-13T00:00:00.000000000",
          "2023-06-14T00:00:00.000000000",
          "2023-06-15T00:00:00.000000000",
          "2023-06-16T00:00:00.000000000",
          "2023-06-20T00:00:00.000000000",
          "2023-06-21T00:00:00.000000000",
          "2023-06-22T00:00:00.000000000",
          "2023-06-23T00:00:00.000000000",
          "2023-06-26T00:00:00.000000000",
          "2023-06-27T00:00:00.000000000",
          "2023-06-28T00:00:00.000000000",
          "2023-06-29T00:00:00.000000000",
          "2023-06-30T00:00:00.000000000",
          "2023-07-03T00:00:00.000000000",
          "2023-07-05T00:00:00.000000000",
          "2023-07-06T00:00:00.000000000",
          "2023-07-07T00:00:00.000000000",
          "2023-07-10T00:00:00.000000000",
          "2023-07-11T00:00:00.000000000",
          "2023-07-12T00:00:00.000000000",
          "2023-07-13T00:00:00.000000000",
          "2023-07-14T00:00:00.000000000",
          "2023-07-17T00:00:00.000000000",
          "2023-07-18T00:00:00.000000000",
          "2023-07-19T00:00:00.000000000",
          "2023-07-20T00:00:00.000000000",
          "2023-07-21T00:00:00.000000000",
          "2023-07-24T00:00:00.000000000",
          "2023-07-25T00:00:00.000000000",
          "2023-07-26T00:00:00.000000000",
          "2023-07-27T00:00:00.000000000",
          "2023-07-28T00:00:00.000000000",
          "2023-07-31T00:00:00.000000000",
          "2023-08-01T00:00:00.000000000",
          "2023-08-02T00:00:00.000000000",
          "2023-08-03T00:00:00.000000000",
          "2023-08-04T00:00:00.000000000",
          "2023-08-07T00:00:00.000000000",
          "2023-08-08T00:00:00.000000000",
          "2023-08-09T00:00:00.000000000",
          "2023-08-10T00:00:00.000000000",
          "2023-08-11T00:00:00.000000000",
          "2023-08-14T00:00:00.000000000",
          "2023-08-15T00:00:00.000000000",
          "2023-08-16T00:00:00.000000000",
          "2023-08-17T00:00:00.000000000",
          "2023-08-18T00:00:00.000000000",
          "2023-08-21T00:00:00.000000000",
          "2023-08-22T00:00:00.000000000",
          "2023-08-23T00:00:00.000000000",
          "2023-08-24T00:00:00.000000000",
          "2023-08-25T00:00:00.000000000",
          "2023-08-28T00:00:00.000000000",
          "2023-08-29T00:00:00.000000000",
          "2023-08-30T00:00:00.000000000",
          "2023-08-31T00:00:00.000000000",
          "2023-09-01T00:00:00.000000000",
          "2023-09-05T00:00:00.000000000",
          "2023-09-06T00:00:00.000000000",
          "2023-09-07T00:00:00.000000000",
          "2023-09-08T00:00:00.000000000",
          "2023-09-11T00:00:00.000000000",
          "2023-09-12T00:00:00.000000000",
          "2023-09-13T00:00:00.000000000",
          "2023-09-14T00:00:00.000000000",
          "2023-09-15T00:00:00.000000000",
          "2023-09-18T00:00:00.000000000",
          "2023-09-19T00:00:00.000000000",
          "2023-09-20T00:00:00.000000000",
          "2023-09-21T00:00:00.000000000",
          "2023-09-22T00:00:00.000000000",
          "2023-09-25T00:00:00.000000000",
          "2023-09-26T00:00:00.000000000",
          "2023-09-27T00:00:00.000000000",
          "2023-09-28T00:00:00.000000000",
          "2023-09-29T00:00:00.000000000",
          "2023-10-02T00:00:00.000000000",
          "2023-10-03T00:00:00.000000000",
          "2023-10-04T00:00:00.000000000",
          "2023-10-05T00:00:00.000000000",
          "2023-10-06T00:00:00.000000000",
          "2023-10-09T00:00:00.000000000",
          "2023-10-10T00:00:00.000000000",
          "2023-10-11T00:00:00.000000000",
          "2023-10-12T00:00:00.000000000",
          "2023-10-13T00:00:00.000000000",
          "2023-10-16T00:00:00.000000000",
          "2023-10-17T00:00:00.000000000",
          "2023-10-18T00:00:00.000000000",
          "2023-10-19T00:00:00.000000000",
          "2023-10-20T00:00:00.000000000",
          "2023-10-23T00:00:00.000000000",
          "2023-10-24T00:00:00.000000000",
          "2023-10-25T00:00:00.000000000",
          "2023-10-26T00:00:00.000000000",
          "2023-10-27T00:00:00.000000000",
          "2023-10-30T00:00:00.000000000",
          "2023-10-31T00:00:00.000000000",
          "2023-11-01T00:00:00.000000000",
          "2023-11-02T00:00:00.000000000",
          "2023-11-03T00:00:00.000000000",
          "2023-11-06T00:00:00.000000000",
          "2023-11-07T00:00:00.000000000",
          "2023-11-08T00:00:00.000000000",
          "2023-11-09T00:00:00.000000000",
          "2023-11-10T00:00:00.000000000",
          "2023-11-13T00:00:00.000000000",
          "2023-11-14T00:00:00.000000000",
          "2023-11-15T00:00:00.000000000",
          "2023-11-16T00:00:00.000000000",
          "2023-11-17T00:00:00.000000000",
          "2023-11-20T00:00:00.000000000",
          "2023-11-21T00:00:00.000000000",
          "2023-11-22T00:00:00.000000000",
          "2023-11-24T00:00:00.000000000",
          "2023-11-27T00:00:00.000000000",
          "2023-11-28T00:00:00.000000000",
          "2023-11-29T00:00:00.000000000",
          "2023-11-30T00:00:00.000000000",
          "2023-12-01T00:00:00.000000000",
          "2023-12-04T00:00:00.000000000",
          "2023-12-05T00:00:00.000000000",
          "2023-12-06T00:00:00.000000000",
          "2023-12-07T00:00:00.000000000",
          "2023-12-08T00:00:00.000000000",
          "2023-12-11T00:00:00.000000000",
          "2023-12-12T00:00:00.000000000",
          "2023-12-13T00:00:00.000000000",
          "2023-12-14T00:00:00.000000000",
          "2023-12-15T00:00:00.000000000",
          "2023-12-18T00:00:00.000000000",
          "2023-12-19T00:00:00.000000000",
          "2023-12-20T00:00:00.000000000",
          "2023-12-21T00:00:00.000000000",
          "2023-12-22T00:00:00.000000000",
          "2023-12-26T00:00:00.000000000",
          "2023-12-27T00:00:00.000000000",
          "2023-12-28T00:00:00.000000000",
          "2023-12-29T00:00:00.000000000",
          "2024-01-02T00:00:00.000000000",
          "2024-01-03T00:00:00.000000000",
          "2024-01-04T00:00:00.000000000",
          "2024-01-05T00:00:00.000000000",
          "2024-01-08T00:00:00.000000000",
          "2024-01-09T00:00:00.000000000",
          "2024-01-10T00:00:00.000000000",
          "2024-01-11T00:00:00.000000000",
          "2024-01-12T00:00:00.000000000",
          "2024-01-16T00:00:00.000000000",
          "2024-01-17T00:00:00.000000000",
          "2024-01-18T00:00:00.000000000",
          "2024-01-19T00:00:00.000000000",
          "2024-01-22T00:00:00.000000000",
          "2024-01-23T00:00:00.000000000",
          "2024-01-24T00:00:00.000000000",
          "2024-01-25T00:00:00.000000000",
          "2024-01-26T00:00:00.000000000",
          "2024-01-29T00:00:00.000000000",
          "2024-01-30T00:00:00.000000000",
          "2024-01-31T00:00:00.000000000",
          "2024-02-01T00:00:00.000000000",
          "2024-02-02T00:00:00.000000000",
          "2024-02-05T00:00:00.000000000",
          "2024-02-06T00:00:00.000000000",
          "2024-02-07T00:00:00.000000000",
          "2024-02-08T00:00:00.000000000",
          "2024-02-09T00:00:00.000000000",
          "2024-02-12T00:00:00.000000000",
          "2024-02-13T00:00:00.000000000",
          "2024-02-14T00:00:00.000000000",
          "2024-02-15T00:00:00.000000000",
          "2024-02-16T00:00:00.000000000",
          "2024-02-20T00:00:00.000000000",
          "2024-02-21T00:00:00.000000000",
          "2024-02-22T00:00:00.000000000",
          "2024-02-23T00:00:00.000000000",
          "2024-02-26T00:00:00.000000000",
          "2024-02-27T00:00:00.000000000",
          "2024-02-28T00:00:00.000000000",
          "2024-02-29T00:00:00.000000000",
          "2024-03-01T00:00:00.000000000",
          "2024-03-04T00:00:00.000000000",
          "2024-03-05T00:00:00.000000000",
          "2024-03-06T00:00:00.000000000",
          "2024-03-07T00:00:00.000000000",
          "2024-03-08T00:00:00.000000000",
          "2024-03-11T00:00:00.000000000",
          "2024-03-12T00:00:00.000000000",
          "2024-03-13T00:00:00.000000000",
          "2024-03-14T00:00:00.000000000",
          "2024-03-15T00:00:00.000000000",
          "2024-03-18T00:00:00.000000000",
          "2024-03-19T00:00:00.000000000",
          "2024-03-20T00:00:00.000000000",
          "2024-03-21T00:00:00.000000000",
          "2024-03-22T00:00:00.000000000",
          "2024-03-25T00:00:00.000000000",
          "2024-03-26T00:00:00.000000000",
          "2024-03-27T00:00:00.000000000",
          "2024-03-28T00:00:00.000000000",
          "2024-04-01T00:00:00.000000000",
          "2024-04-02T00:00:00.000000000",
          "2024-04-03T00:00:00.000000000",
          "2024-04-04T00:00:00.000000000",
          "2024-04-05T00:00:00.000000000",
          "2024-04-08T00:00:00.000000000",
          "2024-04-09T00:00:00.000000000",
          "2024-04-10T00:00:00.000000000",
          "2024-04-11T00:00:00.000000000",
          "2024-04-12T00:00:00.000000000",
          "2024-04-15T00:00:00.000000000",
          "2024-04-16T00:00:00.000000000",
          "2024-04-17T00:00:00.000000000",
          "2024-04-18T00:00:00.000000000",
          "2024-04-19T00:00:00.000000000",
          "2024-04-22T00:00:00.000000000",
          "2024-04-23T00:00:00.000000000",
          "2024-04-24T00:00:00.000000000",
          "2024-04-25T00:00:00.000000000",
          "2024-04-26T00:00:00.000000000",
          "2024-04-29T00:00:00.000000000",
          "2024-04-30T00:00:00.000000000",
          "2024-05-01T00:00:00.000000000",
          "2024-05-02T00:00:00.000000000",
          "2024-05-03T00:00:00.000000000",
          "2024-05-06T00:00:00.000000000",
          "2024-05-07T00:00:00.000000000",
          "2024-05-08T00:00:00.000000000",
          "2024-05-09T00:00:00.000000000",
          "2024-05-10T00:00:00.000000000",
          "2024-05-13T00:00:00.000000000",
          "2024-05-14T00:00:00.000000000",
          "2024-05-15T00:00:00.000000000",
          "2024-05-16T00:00:00.000000000",
          "2024-05-17T00:00:00.000000000",
          "2024-05-20T00:00:00.000000000",
          "2024-05-21T00:00:00.000000000",
          "2024-05-22T00:00:00.000000000",
          "2024-05-23T00:00:00.000000000",
          "2024-05-24T00:00:00.000000000",
          "2024-05-28T00:00:00.000000000",
          "2024-05-29T00:00:00.000000000",
          "2024-05-30T00:00:00.000000000",
          "2024-05-31T00:00:00.000000000",
          "2024-06-03T00:00:00.000000000",
          "2024-06-04T00:00:00.000000000",
          "2024-06-05T00:00:00.000000000",
          "2024-06-06T00:00:00.000000000",
          "2024-06-07T00:00:00.000000000",
          "2024-06-10T00:00:00.000000000",
          "2024-06-11T00:00:00.000000000",
          "2024-06-12T00:00:00.000000000",
          "2024-06-13T00:00:00.000000000",
          "2024-06-14T00:00:00.000000000",
          "2024-06-17T00:00:00.000000000",
          "2024-06-18T00:00:00.000000000",
          "2024-06-20T00:00:00.000000000",
          "2024-06-21T00:00:00.000000000",
          "2024-06-24T00:00:00.000000000",
          "2024-06-25T00:00:00.000000000",
          "2024-06-26T00:00:00.000000000",
          "2024-06-27T00:00:00.000000000",
          "2024-06-28T00:00:00.000000000",
          "2024-07-01T00:00:00.000000000",
          "2024-07-02T00:00:00.000000000",
          "2024-07-03T00:00:00.000000000",
          "2024-07-05T00:00:00.000000000",
          "2024-07-08T00:00:00.000000000",
          "2024-07-09T00:00:00.000000000",
          "2024-07-10T00:00:00.000000000",
          "2024-07-11T00:00:00.000000000",
          "2024-07-12T00:00:00.000000000",
          "2024-07-15T00:00:00.000000000",
          "2024-07-16T00:00:00.000000000",
          "2024-07-17T00:00:00.000000000",
          "2024-07-18T00:00:00.000000000",
          "2024-07-19T00:00:00.000000000",
          "2024-07-22T00:00:00.000000000",
          "2024-07-23T00:00:00.000000000",
          "2024-07-24T00:00:00.000000000",
          "2024-07-25T00:00:00.000000000",
          "2024-07-26T00:00:00.000000000",
          "2024-07-29T00:00:00.000000000",
          "2024-07-30T00:00:00.000000000",
          "2024-07-31T00:00:00.000000000",
          "2024-08-01T00:00:00.000000000",
          "2024-08-02T00:00:00.000000000",
          "2024-08-05T00:00:00.000000000",
          "2024-08-06T00:00:00.000000000",
          "2024-08-07T00:00:00.000000000",
          "2024-08-08T00:00:00.000000000",
          "2024-08-09T00:00:00.000000000",
          "2024-08-12T00:00:00.000000000",
          "2024-08-13T00:00:00.000000000",
          "2024-08-14T00:00:00.000000000",
          "2024-08-15T00:00:00.000000000",
          "2024-08-16T00:00:00.000000000",
          "2024-08-19T00:00:00.000000000",
          "2024-08-20T00:00:00.000000000",
          "2024-08-21T00:00:00.000000000",
          "2024-08-22T00:00:00.000000000",
          "2024-08-23T00:00:00.000000000",
          "2024-08-26T00:00:00.000000000",
          "2024-08-27T00:00:00.000000000",
          "2024-08-28T00:00:00.000000000",
          "2024-08-29T00:00:00.000000000",
          "2024-08-30T00:00:00.000000000",
          "2024-09-03T00:00:00.000000000",
          "2024-09-04T00:00:00.000000000",
          "2024-09-05T00:00:00.000000000",
          "2024-09-06T00:00:00.000000000",
          "2024-09-09T00:00:00.000000000",
          "2024-09-10T00:00:00.000000000",
          "2024-09-11T00:00:00.000000000",
          "2024-09-12T00:00:00.000000000",
          "2024-09-13T00:00:00.000000000",
          "2024-09-16T00:00:00.000000000",
          "2024-09-17T00:00:00.000000000",
          "2024-09-18T00:00:00.000000000",
          "2024-09-19T00:00:00.000000000",
          "2024-09-20T00:00:00.000000000",
          "2024-09-23T00:00:00.000000000",
          "2024-09-24T00:00:00.000000000",
          "2024-09-25T00:00:00.000000000",
          "2024-09-26T00:00:00.000000000",
          "2024-09-27T00:00:00.000000000",
          "2024-09-30T00:00:00.000000000",
          "2024-10-01T00:00:00.000000000",
          "2024-10-02T00:00:00.000000000",
          "2024-10-03T00:00:00.000000000",
          "2024-10-04T00:00:00.000000000",
          "2024-10-07T00:00:00.000000000",
          "2024-10-08T00:00:00.000000000",
          "2024-10-09T00:00:00.000000000",
          "2024-10-10T00:00:00.000000000",
          "2024-10-11T00:00:00.000000000",
          "2024-10-14T00:00:00.000000000",
          "2024-10-15T00:00:00.000000000",
          "2024-10-16T00:00:00.000000000",
          "2024-10-17T00:00:00.000000000",
          "2024-10-18T00:00:00.000000000",
          "2024-10-21T00:00:00.000000000",
          "2024-10-22T00:00:00.000000000",
          "2024-10-23T00:00:00.000000000",
          "2024-10-24T00:00:00.000000000",
          "2024-10-25T00:00:00.000000000",
          "2024-10-28T00:00:00.000000000",
          "2024-10-29T00:00:00.000000000",
          "2024-10-30T00:00:00.000000000",
          "2024-10-31T00:00:00.000000000",
          "2024-11-01T00:00:00.000000000",
          "2024-11-04T00:00:00.000000000",
          "2024-11-05T00:00:00.000000000",
          "2024-11-06T00:00:00.000000000",
          "2024-11-07T00:00:00.000000000",
          "2024-11-08T00:00:00.000000000",
          "2024-11-11T00:00:00.000000000",
          "2024-11-12T00:00:00.000000000",
          "2024-11-13T00:00:00.000000000",
          "2024-11-14T00:00:00.000000000",
          "2024-11-15T00:00:00.000000000",
          "2024-11-18T00:00:00.000000000",
          "2024-11-19T00:00:00.000000000",
          "2024-11-20T00:00:00.000000000",
          "2024-11-21T00:00:00.000000000",
          "2024-11-22T00:00:00.000000000",
          "2024-11-25T00:00:00.000000000",
          "2024-11-26T00:00:00.000000000",
          "2024-11-27T00:00:00.000000000",
          "2024-11-29T00:00:00.000000000",
          "2024-12-02T00:00:00.000000000",
          "2024-12-03T00:00:00.000000000",
          "2024-12-04T00:00:00.000000000",
          "2024-12-05T00:00:00.000000000",
          "2024-12-06T00:00:00.000000000",
          "2024-12-09T00:00:00.000000000",
          "2024-12-10T00:00:00.000000000",
          "2024-12-11T00:00:00.000000000",
          "2024-12-12T00:00:00.000000000",
          "2024-12-13T00:00:00.000000000",
          "2024-12-16T00:00:00.000000000",
          "2024-12-17T00:00:00.000000000",
          "2024-12-18T00:00:00.000000000",
          "2024-12-19T00:00:00.000000000",
          "2024-12-20T00:00:00.000000000",
          "2024-12-23T00:00:00.000000000",
          "2024-12-24T00:00:00.000000000",
          "2024-12-26T00:00:00.000000000",
          "2024-12-27T00:00:00.000000000",
          "2024-12-30T00:00:00.000000000",
          "2024-12-31T00:00:00.000000000",
          "2025-01-02T00:00:00.000000000",
          "2025-01-03T00:00:00.000000000",
          "2025-01-06T00:00:00.000000000",
          "2025-01-07T00:00:00.000000000",
          "2025-01-08T00:00:00.000000000",
          "2025-01-10T00:00:00.000000000",
          "2025-01-13T00:00:00.000000000",
          "2025-01-14T00:00:00.000000000",
          "2025-01-15T00:00:00.000000000",
          "2025-01-16T00:00:00.000000000",
          "2025-01-17T00:00:00.000000000",
          "2025-01-21T00:00:00.000000000",
          "2025-01-22T00:00:00.000000000",
          "2025-01-23T00:00:00.000000000",
          "2025-01-24T00:00:00.000000000"
         ],
         "y": {
          "bdata": "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",
          "dtype": "f8"
         }
        },
        {
         "line": {
          "color": "black",
          "dash": "dot",
          "width": 1
         },
         "name": "adx (scaled)",
         "type": "scatter",
         "x": [
          "2020-09-16T00:00:00.000000000",
          "2020-09-17T00:00:00.000000000",
          "2020-09-18T00:00:00.000000000",
          "2020-09-21T00:00:00.000000000",
          "2020-09-22T00:00:00.000000000",
          "2020-09-23T00:00:00.000000000",
          "2020-09-24T00:00:00.000000000",
          "2020-09-25T00:00:00.000000000",
          "2020-09-28T00:00:00.000000000",
          "2020-09-29T00:00:00.000000000",
          "2020-09-30T00:00:00.000000000",
          "2020-10-01T00:00:00.000000000",
          "2020-10-02T00:00:00.000000000",
          "2020-10-05T00:00:00.000000000",
          "2020-10-06T00:00:00.000000000",
          "2020-10-07T00:00:00.000000000",
          "2020-10-08T00:00:00.000000000",
          "2020-10-09T00:00:00.000000000",
          "2020-10-12T00:00:00.000000000",
          "2020-10-13T00:00:00.000000000",
          "2020-10-14T00:00:00.000000000",
          "2020-10-15T00:00:00.000000000",
          "2020-10-16T00:00:00.000000000",
          "2020-10-19T00:00:00.000000000",
          "2020-10-20T00:00:00.000000000",
          "2020-10-21T00:00:00.000000000",
          "2020-10-22T00:00:00.000000000",
          "2020-10-23T00:00:00.000000000",
          "2020-10-26T00:00:00.000000000",
          "2020-10-27T00:00:00.000000000",
          "2020-10-28T00:00:00.000000000",
          "2020-10-29T00:00:00.000000000",
          "2020-10-30T00:00:00.000000000",
          "2020-11-02T00:00:00.000000000",
          "2020-11-03T00:00:00.000000000",
          "2020-11-04T00:00:00.000000000",
          "2020-11-05T00:00:00.000000000",
          "2020-11-06T00:00:00.000000000",
          "2020-11-09T00:00:00.000000000",
          "2020-11-10T00:00:00.000000000",
          "2020-11-11T00:00:00.000000000",
          "2020-11-12T00:00:00.000000000",
          "2020-11-13T00:00:00.000000000",
          "2020-11-16T00:00:00.000000000",
          "2020-11-17T00:00:00.000000000",
          "2020-11-18T00:00:00.000000000",
          "2020-11-19T00:00:00.000000000",
          "2020-11-20T00:00:00.000000000",
          "2020-11-23T00:00:00.000000000",
          "2020-11-24T00:00:00.000000000",
          "2020-11-25T00:00:00.000000000",
          "2020-11-27T00:00:00.000000000",
          "2020-11-30T00:00:00.000000000",
          "2020-12-01T00:00:00.000000000",
          "2020-12-02T00:00:00.000000000",
          "2020-12-03T00:00:00.000000000",
          "2020-12-04T00:00:00.000000000",
          "2020-12-07T00:00:00.000000000",
          "2020-12-08T00:00:00.000000000",
          "2020-12-09T00:00:00.000000000",
          "2020-12-10T00:00:00.000000000",
          "2020-12-11T00:00:00.000000000",
          "2020-12-14T00:00:00.000000000",
          "2020-12-15T00:00:00.000000000",
          "2020-12-16T00:00:00.000000000",
          "2020-12-17T00:00:00.000000000",
          "2020-12-18T00:00:00.000000000",
          "2020-12-21T00:00:00.000000000",
          "2020-12-22T00:00:00.000000000",
          "2020-12-23T00:00:00.000000000",
          "2020-12-24T00:00:00.000000000",
          "2020-12-28T00:00:00.000000000",
          "2020-12-29T00:00:00.000000000",
          "2020-12-30T00:00:00.000000000",
          "2020-12-31T00:00:00.000000000",
          "2021-01-04T00:00:00.000000000",
          "2021-01-05T00:00:00.000000000",
          "2021-01-06T00:00:00.000000000",
          "2021-01-07T00:00:00.000000000",
          "2021-01-08T00:00:00.000000000",
          "2021-01-11T00:00:00.000000000",
          "2021-01-12T00:00:00.000000000",
          "2021-01-13T00:00:00.000000000",
          "2021-01-14T00:00:00.000000000",
          "2021-01-15T00:00:00.000000000",
          "2021-01-19T00:00:00.000000000",
          "2021-01-20T00:00:00.000000000",
          "2021-01-21T00:00:00.000000000",
          "2021-01-22T00:00:00.000000000",
          "2021-01-25T00:00:00.000000000",
          "2021-01-26T00:00:00.000000000",
          "2021-01-27T00:00:00.000000000",
          "2021-01-28T00:00:00.000000000",
          "2021-01-29T00:00:00.000000000",
          "2021-02-01T00:00:00.000000000",
          "2021-02-02T00:00:00.000000000",
          "2021-02-03T00:00:00.000000000",
          "2021-02-04T00:00:00.000000000",
          "2021-02-05T00:00:00.000000000",
          "2021-02-08T00:00:00.000000000",
          "2021-02-09T00:00:00.000000000",
          "2021-02-10T00:00:00.000000000",
          "2021-02-11T00:00:00.000000000",
          "2021-02-12T00:00:00.000000000",
          "2021-02-16T00:00:00.000000000",
          "2021-02-17T00:00:00.000000000",
          "2021-02-18T00:00:00.000000000",
          "2021-02-19T00:00:00.000000000",
          "2021-02-22T00:00:00.000000000",
          "2021-02-23T00:00:00.000000000",
          "2021-02-24T00:00:00.000000000",
          "2021-02-25T00:00:00.000000000",
          "2021-02-26T00:00:00.000000000",
          "2021-03-01T00:00:00.000000000",
          "2021-03-02T00:00:00.000000000",
          "2021-03-03T00:00:00.000000000",
          "2021-03-04T00:00:00.000000000",
          "2021-03-05T00:00:00.000000000",
          "2021-03-08T00:00:00.000000000",
          "2021-03-09T00:00:00.000000000",
          "2021-03-10T00:00:00.000000000",
          "2021-03-11T00:00:00.000000000",
          "2021-03-12T00:00:00.000000000",
          "2021-03-15T00:00:00.000000000",
          "2021-03-16T00:00:00.000000000",
          "2021-03-17T00:00:00.000000000",
          "2021-03-18T00:00:00.000000000",
          "2021-03-19T00:00:00.000000000",
          "2021-03-22T00:00:00.000000000",
          "2021-03-23T00:00:00.000000000",
          "2021-03-24T00:00:00.000000000",
          "2021-03-25T00:00:00.000000000",
          "2021-03-26T00:00:00.000000000",
          "2021-03-29T00:00:00.000000000",
          "2021-03-30T00:00:00.000000000",
          "2021-03-31T00:00:00.000000000",
          "2021-04-01T00:00:00.000000000",
          "2021-04-05T00:00:00.000000000",
          "2021-04-06T00:00:00.000000000",
          "2021-04-07T00:00:00.000000000",
          "2021-04-08T00:00:00.000000000",
          "2021-04-09T00:00:00.000000000",
          "2021-04-12T00:00:00.000000000",
          "2021-04-13T00:00:00.000000000",
          "2021-04-14T00:00:00.000000000",
          "2021-04-15T00:00:00.000000000",
          "2021-04-16T00:00:00.000000000",
          "2021-04-19T00:00:00.000000000",
          "2021-04-20T00:00:00.000000000",
          "2021-04-21T00:00:00.000000000",
          "2021-04-22T00:00:00.000000000",
          "2021-04-23T00:00:00.000000000",
          "2021-04-26T00:00:00.000000000",
          "2021-04-27T00:00:00.000000000",
          "2021-04-28T00:00:00.000000000",
          "2021-04-29T00:00:00.000000000",
          "2021-04-30T00:00:00.000000000",
          "2021-05-03T00:00:00.000000000",
          "2021-05-04T00:00:00.000000000",
          "2021-05-05T00:00:00.000000000",
          "2021-05-06T00:00:00.000000000",
          "2021-05-07T00:00:00.000000000",
          "2021-05-10T00:00:00.000000000",
          "2021-05-11T00:00:00.000000000",
          "2021-05-12T00:00:00.000000000",
          "2021-05-13T00:00:00.000000000",
          "2021-05-14T00:00:00.000000000",
          "2021-05-17T00:00:00.000000000",
          "2021-05-18T00:00:00.000000000",
          "2021-05-19T00:00:00.000000000",
          "2021-05-20T00:00:00.000000000",
          "2021-05-21T00:00:00.000000000",
          "2021-05-24T00:00:00.000000000",
          "2021-05-25T00:00:00.000000000",
          "2021-05-26T00:00:00.000000000",
          "2021-05-27T00:00:00.000000000",
          "2021-05-28T00:00:00.000000000",
          "2021-06-01T00:00:00.000000000",
          "2021-06-02T00:00:00.000000000",
          "2021-06-03T00:00:00.000000000",
          "2021-06-04T00:00:00.000000000",
          "2021-06-07T00:00:00.000000000",
          "2021-06-08T00:00:00.000000000",
          "2021-06-09T00:00:00.000000000",
          "2021-06-10T00:00:00.000000000",
          "2021-06-11T00:00:00.000000000",
          "2021-06-14T00:00:00.000000000",
          "2021-06-15T00:00:00.000000000",
          "2021-06-16T00:00:00.000000000",
          "2021-06-17T00:00:00.000000000",
          "2021-06-18T00:00:00.000000000",
          "2021-06-21T00:00:00.000000000",
          "2021-06-22T00:00:00.000000000",
          "2021-06-23T00:00:00.000000000",
          "2021-06-24T00:00:00.000000000",
          "2021-06-25T00:00:00.000000000",
          "2021-06-28T00:00:00.000000000",
          "2021-06-29T00:00:00.000000000",
          "2021-06-30T00:00:00.000000000",
          "2021-07-01T00:00:00.000000000",
          "2021-07-02T00:00:00.000000000",
          "2021-07-06T00:00:00.000000000",
          "2021-07-07T00:00:00.000000000",
          "2021-07-08T00:00:00.000000000",
          "2021-07-09T00:00:00.000000000",
          "2021-07-12T00:00:00.000000000",
          "2021-07-13T00:00:00.000000000",
          "2021-07-14T00:00:00.000000000",
          "2021-07-15T00:00:00.000000000",
          "2021-07-16T00:00:00.000000000",
          "2021-07-19T00:00:00.000000000",
          "2021-07-20T00:00:00.000000000",
          "2021-07-21T00:00:00.000000000",
          "2021-07-22T00:00:00.000000000",
          "2021-07-23T00:00:00.000000000",
          "2021-07-26T00:00:00.000000000",
          "2021-07-27T00:00:00.000000000",
          "2021-07-28T00:00:00.000000000",
          "2021-07-29T00:00:00.000000000",
          "2021-07-30T00:00:00.000000000",
          "2021-08-02T00:00:00.000000000",
          "2021-08-03T00:00:00.000000000",
          "2021-08-04T00:00:00.000000000",
          "2021-08-05T00:00:00.000000000",
          "2021-08-06T00:00:00.000000000",
          "2021-08-09T00:00:00.000000000",
          "2021-08-10T00:00:00.000000000",
          "2021-08-11T00:00:00.000000000",
          "2021-08-12T00:00:00.000000000",
          "2021-08-13T00:00:00.000000000",
          "2021-08-16T00:00:00.000000000",
          "2021-08-17T00:00:00.000000000",
          "2021-08-18T00:00:00.000000000",
          "2021-08-19T00:00:00.000000000",
          "2021-08-20T00:00:00.000000000",
          "2021-08-23T00:00:00.000000000",
          "2021-08-24T00:00:00.000000000",
          "2021-08-25T00:00:00.000000000",
          "2021-08-26T00:00:00.000000000",
          "2021-08-27T00:00:00.000000000",
          "2021-08-30T00:00:00.000000000",
          "2021-08-31T00:00:00.000000000",
          "2021-09-01T00:00:00.000000000",
          "2021-09-02T00:00:00.000000000",
          "2021-09-03T00:00:00.000000000",
          "2021-09-07T00:00:00.000000000",
          "2021-09-08T00:00:00.000000000",
          "2021-09-09T00:00:00.000000000",
          "2021-09-10T00:00:00.000000000",
          "2021-09-13T00:00:00.000000000",
          "2021-09-14T00:00:00.000000000",
          "2021-09-15T00:00:00.000000000",
          "2021-09-16T00:00:00.000000000",
          "2021-09-17T00:00:00.000000000",
          "2021-09-20T00:00:00.000000000",
          "2021-09-21T00:00:00.000000000",
          "2021-09-22T00:00:00.000000000",
          "2021-09-23T00:00:00.000000000",
          "2021-09-24T00:00:00.000000000",
          "2021-09-27T00:00:00.000000000",
          "2021-09-28T00:00:00.000000000",
          "2021-09-29T00:00:00.000000000",
          "2021-09-30T00:00:00.000000000",
          "2021-10-01T00:00:00.000000000",
          "2021-10-04T00:00:00.000000000",
          "2021-10-05T00:00:00.000000000",
          "2021-10-06T00:00:00.000000000",
          "2021-10-07T00:00:00.000000000",
          "2021-10-08T00:00:00.000000000",
          "2021-10-11T00:00:00.000000000",
          "2021-10-12T00:00:00.000000000",
          "2021-10-13T00:00:00.000000000",
          "2021-10-14T00:00:00.000000000",
          "2021-10-15T00:00:00.000000000",
          "2021-10-18T00:00:00.000000000",
          "2021-10-19T00:00:00.000000000",
          "2021-10-20T00:00:00.000000000",
          "2021-10-21T00:00:00.000000000",
          "2021-10-22T00:00:00.000000000",
          "2021-10-25T00:00:00.000000000",
          "2021-10-26T00:00:00.000000000",
          "2021-10-27T00:00:00.000000000",
          "2021-10-28T00:00:00.000000000",
          "2021-10-29T00:00:00.000000000",
          "2021-11-01T00:00:00.000000000",
          "2021-11-02T00:00:00.000000000",
          "2021-11-03T00:00:00.000000000",
          "2021-11-04T00:00:00.000000000",
          "2021-11-05T00:00:00.000000000",
          "2021-11-08T00:00:00.000000000",
          "2021-11-09T00:00:00.000000000",
          "2021-11-10T00:00:00.000000000",
          "2021-11-11T00:00:00.000000000",
          "2021-11-12T00:00:00.000000000",
          "2021-11-15T00:00:00.000000000",
          "2021-11-16T00:00:00.000000000",
          "2021-11-17T00:00:00.000000000",
          "2021-11-18T00:00:00.000000000",
          "2021-11-19T00:00:00.000000000",
          "2021-11-22T00:00:00.000000000",
          "2021-11-23T00:00:00.000000000",
          "2021-11-24T00:00:00.000000000",
          "2021-11-26T00:00:00.000000000",
          "2021-11-29T00:00:00.000000000",
          "2021-11-30T00:00:00.000000000",
          "2021-12-01T00:00:00.000000000",
          "2021-12-02T00:00:00.000000000",
          "2021-12-03T00:00:00.000000000",
          "2021-12-06T00:00:00.000000000",
          "2021-12-07T00:00:00.000000000",
          "2021-12-08T00:00:00.000000000",
          "2021-12-09T00:00:00.000000000",
          "2021-12-10T00:00:00.000000000",
          "2021-12-13T00:00:00.000000000",
          "2021-12-14T00:00:00.000000000",
          "2021-12-15T00:00:00.000000000",
          "2021-12-16T00:00:00.000000000",
          "2021-12-17T00:00:00.000000000",
          "2021-12-20T00:00:00.000000000",
          "2021-12-21T00:00:00.000000000",
          "2021-12-22T00:00:00.000000000",
          "2021-12-23T00:00:00.000000000",
          "2021-12-27T00:00:00.000000000",
          "2021-12-28T00:00:00.000000000",
          "2021-12-29T00:00:00.000000000",
          "2021-12-30T00:00:00.000000000",
          "2021-12-31T00:00:00.000000000",
          "2022-01-03T00:00:00.000000000",
          "2022-01-04T00:00:00.000000000",
          "2022-01-05T00:00:00.000000000",
          "2022-01-06T00:00:00.000000000",
          "2022-01-07T00:00:00.000000000",
          "2022-01-10T00:00:00.000000000",
          "2022-01-11T00:00:00.000000000",
          "2022-01-12T00:00:00.000000000",
          "2022-01-13T00:00:00.000000000",
          "2022-01-14T00:00:00.000000000",
          "2022-01-18T00:00:00.000000000",
          "2022-01-19T00:00:00.000000000",
          "2022-01-20T00:00:00.000000000",
          "2022-01-21T00:00:00.000000000",
          "2022-01-24T00:00:00.000000000",
          "2022-01-25T00:00:00.000000000",
          "2022-01-26T00:00:00.000000000",
          "2022-01-27T00:00:00.000000000",
          "2022-01-28T00:00:00.000000000",
          "2022-01-31T00:00:00.000000000",
          "2022-02-01T00:00:00.000000000",
          "2022-02-02T00:00:00.000000000",
          "2022-02-03T00:00:00.000000000",
          "2022-02-04T00:00:00.000000000",
          "2022-02-07T00:00:00.000000000",
          "2022-02-08T00:00:00.000000000",
          "2022-02-09T00:00:00.000000000",
          "2022-02-10T00:00:00.000000000",
          "2022-02-11T00:00:00.000000000",
          "2022-02-14T00:00:00.000000000",
          "2022-02-15T00:00:00.000000000",
          "2022-02-16T00:00:00.000000000",
          "2022-02-17T00:00:00.000000000",
          "2022-02-18T00:00:00.000000000",
          "2022-02-22T00:00:00.000000000",
          "2022-02-23T00:00:00.000000000",
          "2022-02-24T00:00:00.000000000",
          "2022-02-25T00:00:00.000000000",
          "2022-02-28T00:00:00.000000000",
          "2022-03-01T00:00:00.000000000",
          "2022-03-02T00:00:00.000000000",
          "2022-03-03T00:00:00.000000000",
          "2022-03-04T00:00:00.000000000",
          "2022-03-07T00:00:00.000000000",
          "2022-03-08T00:00:00.000000000",
          "2022-03-09T00:00:00.000000000",
          "2022-03-10T00:00:00.000000000",
          "2022-03-11T00:00:00.000000000",
          "2022-03-14T00:00:00.000000000",
          "2022-03-15T00:00:00.000000000",
          "2022-03-16T00:00:00.000000000",
          "2022-03-17T00:00:00.000000000",
          "2022-03-18T00:00:00.000000000",
          "2022-03-21T00:00:00.000000000",
          "2022-03-22T00:00:00.000000000",
          "2022-03-23T00:00:00.000000000",
          "2022-03-24T00:00:00.000000000",
          "2022-03-25T00:00:00.000000000",
          "2022-03-28T00:00:00.000000000",
          "2022-03-29T00:00:00.000000000",
          "2022-03-30T00:00:00.000000000",
          "2022-03-31T00:00:00.000000000",
          "2022-04-01T00:00:00.000000000",
          "2022-04-04T00:00:00.000000000",
          "2022-04-05T00:00:00.000000000",
          "2022-04-06T00:00:00.000000000",
          "2022-04-07T00:00:00.000000000",
          "2022-04-08T00:00:00.000000000",
          "2022-04-11T00:00:00.000000000",
          "2022-04-12T00:00:00.000000000",
          "2022-04-13T00:00:00.000000000",
          "2022-04-14T00:00:00.000000000",
          "2022-04-18T00:00:00.000000000",
          "2022-04-19T00:00:00.000000000",
          "2022-04-20T00:00:00.000000000",
          "2022-04-21T00:00:00.000000000",
          "2022-04-22T00:00:00.000000000",
          "2022-04-25T00:00:00.000000000",
          "2022-04-26T00:00:00.000000000",
          "2022-04-27T00:00:00.000000000",
          "2022-04-28T00:00:00.000000000",
          "2022-04-29T00:00:00.000000000",
          "2022-05-02T00:00:00.000000000",
          "2022-05-03T00:00:00.000000000",
          "2022-05-04T00:00:00.000000000",
          "2022-05-05T00:00:00.000000000",
          "2022-05-06T00:00:00.000000000",
          "2022-05-09T00:00:00.000000000",
          "2022-05-10T00:00:00.000000000",
          "2022-05-11T00:00:00.000000000",
          "2022-05-12T00:00:00.000000000",
          "2022-05-13T00:00:00.000000000",
          "2022-05-16T00:00:00.000000000",
          "2022-05-17T00:00:00.000000000",
          "2022-05-18T00:00:00.000000000",
          "2022-05-19T00:00:00.000000000",
          "2022-05-20T00:00:00.000000000",
          "2022-05-23T00:00:00.000000000",
          "2022-05-24T00:00:00.000000000",
          "2022-05-25T00:00:00.000000000",
          "2022-05-26T00:00:00.000000000",
          "2022-05-27T00:00:00.000000000",
          "2022-05-31T00:00:00.000000000",
          "2022-06-01T00:00:00.000000000",
          "2022-06-02T00:00:00.000000000",
          "2022-06-03T00:00:00.000000000",
          "2022-06-06T00:00:00.000000000",
          "2022-06-07T00:00:00.000000000",
          "2022-06-08T00:00:00.000000000",
          "2022-06-09T00:00:00.000000000",
          "2022-06-10T00:00:00.000000000",
          "2022-06-13T00:00:00.000000000",
          "2022-06-14T00:00:00.000000000",
          "2022-06-15T00:00:00.000000000",
          "2022-06-16T00:00:00.000000000",
          "2022-06-17T00:00:00.000000000",
          "2022-06-21T00:00:00.000000000",
          "2022-06-22T00:00:00.000000000",
          "2022-06-23T00:00:00.000000000",
          "2022-06-24T00:00:00.000000000",
          "2022-06-27T00:00:00.000000000",
          "2022-06-28T00:00:00.000000000",
          "2022-06-29T00:00:00.000000000",
          "2022-06-30T00:00:00.000000000",
          "2022-07-01T00:00:00.000000000",
          "2022-07-05T00:00:00.000000000",
          "2022-07-06T00:00:00.000000000",
          "2022-07-07T00:00:00.000000000",
          "2022-07-08T00:00:00.000000000",
          "2022-07-11T00:00:00.000000000",
          "2022-07-12T00:00:00.000000000",
          "2022-07-13T00:00:00.000000000",
          "2022-07-14T00:00:00.000000000",
          "2022-07-15T00:00:00.000000000",
          "2022-07-18T00:00:00.000000000",
          "2022-07-19T00:00:00.000000000",
          "2022-07-20T00:00:00.000000000",
          "2022-07-21T00:00:00.000000000",
          "2022-07-22T00:00:00.000000000",
          "2022-07-25T00:00:00.000000000",
          "2022-07-26T00:00:00.000000000",
          "2022-07-27T00:00:00.000000000",
          "2022-07-28T00:00:00.000000000",
          "2022-07-29T00:00:00.000000000",
          "2022-08-01T00:00:00.000000000",
          "2022-08-02T00:00:00.000000000",
          "2022-08-03T00:00:00.000000000",
          "2022-08-04T00:00:00.000000000",
          "2022-08-05T00:00:00.000000000",
          "2022-08-08T00:00:00.000000000",
          "2022-08-09T00:00:00.000000000",
          "2022-08-10T00:00:00.000000000",
          "2022-08-11T00:00:00.000000000",
          "2022-08-12T00:00:00.000000000",
          "2022-08-15T00:00:00.000000000",
          "2022-08-16T00:00:00.000000000",
          "2022-08-17T00:00:00.000000000",
          "2022-08-18T00:00:00.000000000",
          "2022-08-19T00:00:00.000000000",
          "2022-08-22T00:00:00.000000000",
          "2022-08-23T00:00:00.000000000",
          "2022-08-24T00:00:00.000000000",
          "2022-08-25T00:00:00.000000000",
          "2022-08-26T00:00:00.000000000",
          "2022-08-29T00:00:00.000000000",
          "2022-08-30T00:00:00.000000000",
          "2022-08-31T00:00:00.000000000",
          "2022-09-01T00:00:00.000000000",
          "2022-09-02T00:00:00.000000000",
          "2022-09-06T00:00:00.000000000",
          "2022-09-07T00:00:00.000000000",
          "2022-09-08T00:00:00.000000000",
          "2022-09-09T00:00:00.000000000",
          "2022-09-12T00:00:00.000000000",
          "2022-09-13T00:00:00.000000000",
          "2022-09-14T00:00:00.000000000",
          "2022-09-15T00:00:00.000000000",
          "2022-09-16T00:00:00.000000000",
          "2022-09-19T00:00:00.000000000",
          "2022-09-20T00:00:00.000000000",
          "2022-09-21T00:00:00.000000000",
          "2022-09-22T00:00:00.000000000",
          "2022-09-23T00:00:00.000000000",
          "2022-09-26T00:00:00.000000000",
          "2022-09-27T00:00:00.000000000",
          "2022-09-28T00:00:00.000000000",
          "2022-09-29T00:00:00.000000000",
          "2022-09-30T00:00:00.000000000",
          "2022-10-03T00:00:00.000000000",
          "2022-10-04T00:00:00.000000000",
          "2022-10-05T00:00:00.000000000",
          "2022-10-06T00:00:00.000000000",
          "2022-10-07T00:00:00.000000000",
          "2022-10-10T00:00:00.000000000",
          "2022-10-11T00:00:00.000000000",
          "2022-10-12T00:00:00.000000000",
          "2022-10-13T00:00:00.000000000",
          "2022-10-14T00:00:00.000000000",
          "2022-10-17T00:00:00.000000000",
          "2022-10-18T00:00:00.000000000",
          "2022-10-19T00:00:00.000000000",
          "2022-10-20T00:00:00.000000000",
          "2022-10-21T00:00:00.000000000",
          "2022-10-24T00:00:00.000000000",
          "2022-10-25T00:00:00.000000000",
          "2022-10-26T00:00:00.000000000",
          "2022-10-27T00:00:00.000000000",
          "2022-10-28T00:00:00.000000000",
          "2022-10-31T00:00:00.000000000",
          "2022-11-01T00:00:00.000000000",
          "2022-11-02T00:00:00.000000000",
          "2022-11-03T00:00:00.000000000",
          "2022-11-04T00:00:00.000000000",
          "2022-11-07T00:00:00.000000000",
          "2022-11-08T00:00:00.000000000",
          "2022-11-09T00:00:00.000000000",
          "2022-11-10T00:00:00.000000000",
          "2022-11-11T00:00:00.000000000",
          "2022-11-14T00:00:00.000000000",
          "2022-11-15T00:00:00.000000000",
          "2022-11-16T00:00:00.000000000",
          "2022-11-17T00:00:00.000000000",
          "2022-11-18T00:00:00.000000000",
          "2022-11-21T00:00:00.000000000",
          "2022-11-22T00:00:00.000000000",
          "2022-11-23T00:00:00.000000000",
          "2022-11-25T00:00:00.000000000",
          "2022-11-28T00:00:00.000000000",
          "2022-11-29T00:00:00.000000000",
          "2022-11-30T00:00:00.000000000",
          "2022-12-01T00:00:00.000000000",
          "2022-12-02T00:00:00.000000000",
          "2022-12-05T00:00:00.000000000",
          "2022-12-06T00:00:00.000000000",
          "2022-12-07T00:00:00.000000000",
          "2022-12-08T00:00:00.000000000",
          "2022-12-09T00:00:00.000000000",
          "2022-12-12T00:00:00.000000000",
          "2022-12-13T00:00:00.000000000",
          "2022-12-14T00:00:00.000000000",
          "2022-12-15T00:00:00.000000000",
          "2022-12-16T00:00:00.000000000",
          "2022-12-19T00:00:00.000000000",
          "2022-12-20T00:00:00.000000000",
          "2022-12-21T00:00:00.000000000",
          "2022-12-22T00:00:00.000000000",
          "2022-12-23T00:00:00.000000000",
          "2022-12-27T00:00:00.000000000",
          "2022-12-28T00:00:00.000000000",
          "2022-12-29T00:00:00.000000000",
          "2022-12-30T00:00:00.000000000",
          "2023-01-03T00:00:00.000000000",
          "2023-01-04T00:00:00.000000000",
          "2023-01-05T00:00:00.000000000",
          "2023-01-06T00:00:00.000000000",
          "2023-01-09T00:00:00.000000000",
          "2023-01-10T00:00:00.000000000",
          "2023-01-11T00:00:00.000000000",
          "2023-01-12T00:00:00.000000000",
          "2023-01-13T00:00:00.000000000",
          "2023-01-17T00:00:00.000000000",
          "2023-01-18T00:00:00.000000000",
          "2023-01-19T00:00:00.000000000",
          "2023-01-20T00:00:00.000000000",
          "2023-01-23T00:00:00.000000000",
          "2023-01-24T00:00:00.000000000",
          "2023-01-25T00:00:00.000000000",
          "2023-01-26T00:00:00.000000000",
          "2023-01-27T00:00:00.000000000",
          "2023-01-30T00:00:00.000000000",
          "2023-01-31T00:00:00.000000000",
          "2023-02-01T00:00:00.000000000",
          "2023-02-02T00:00:00.000000000",
          "2023-02-03T00:00:00.000000000",
          "2023-02-06T00:00:00.000000000",
          "2023-02-07T00:00:00.000000000",
          "2023-02-08T00:00:00.000000000",
          "2023-02-09T00:00:00.000000000",
          "2023-02-10T00:00:00.000000000",
          "2023-02-13T00:00:00.000000000",
          "2023-02-14T00:00:00.000000000",
          "2023-02-15T00:00:00.000000000",
          "2023-02-16T00:00:00.000000000",
          "2023-02-17T00:00:00.000000000",
          "2023-02-21T00:00:00.000000000",
          "2023-02-22T00:00:00.000000000",
          "2023-02-23T00:00:00.000000000",
          "2023-02-24T00:00:00.000000000",
          "2023-02-27T00:00:00.000000000",
          "2023-02-28T00:00:00.000000000",
          "2023-03-01T00:00:00.000000000",
          "2023-03-02T00:00:00.000000000",
          "2023-03-03T00:00:00.000000000",
          "2023-03-06T00:00:00.000000000",
          "2023-03-07T00:00:00.000000000",
          "2023-03-08T00:00:00.000000000",
          "2023-03-09T00:00:00.000000000",
          "2023-03-10T00:00:00.000000000",
          "2023-03-13T00:00:00.000000000",
          "2023-03-14T00:00:00.000000000",
          "2023-03-15T00:00:00.000000000",
          "2023-03-16T00:00:00.000000000",
          "2023-03-17T00:00:00.000000000",
          "2023-03-20T00:00:00.000000000",
          "2023-03-21T00:00:00.000000000",
          "2023-03-22T00:00:00.000000000",
          "2023-03-23T00:00:00.000000000",
          "2023-03-24T00:00:00.000000000",
          "2023-03-27T00:00:00.000000000",
          "2023-03-28T00:00:00.000000000",
          "2023-03-29T00:00:00.000000000",
          "2023-03-30T00:00:00.000000000",
          "2023-03-31T00:00:00.000000000",
          "2023-04-03T00:00:00.000000000",
          "2023-04-04T00:00:00.000000000",
          "2023-04-05T00:00:00.000000000",
          "2023-04-06T00:00:00.000000000",
          "2023-04-10T00:00:00.000000000",
          "2023-04-11T00:00:00.000000000",
          "2023-04-12T00:00:00.000000000",
          "2023-04-13T00:00:00.000000000",
          "2023-04-14T00:00:00.000000000",
          "2023-04-17T00:00:00.000000000",
          "2023-04-18T00:00:00.000000000",
          "2023-04-19T00:00:00.000000000",
          "2023-04-20T00:00:00.000000000",
          "2023-04-21T00:00:00.000000000",
          "2023-04-24T00:00:00.000000000",
          "2023-04-25T00:00:00.000000000",
          "2023-04-26T00:00:00.000000000",
          "2023-04-27T00:00:00.000000000",
          "2023-04-28T00:00:00.000000000",
          "2023-05-01T00:00:00.000000000",
          "2023-05-02T00:00:00.000000000",
          "2023-05-03T00:00:00.000000000",
          "2023-05-04T00:00:00.000000000",
          "2023-05-05T00:00:00.000000000",
          "2023-05-08T00:00:00.000000000",
          "2023-05-09T00:00:00.000000000",
          "2023-05-10T00:00:00.000000000",
          "2023-05-11T00:00:00.000000000",
          "2023-05-12T00:00:00.000000000",
          "2023-05-15T00:00:00.000000000",
          "2023-05-16T00:00:00.000000000",
          "2023-05-17T00:00:00.000000000",
          "2023-05-18T00:00:00.000000000",
          "2023-05-19T00:00:00.000000000",
          "2023-05-22T00:00:00.000000000",
          "2023-05-23T00:00:00.000000000",
          "2023-05-24T00:00:00.000000000",
          "2023-05-25T00:00:00.000000000",
          "2023-05-26T00:00:00.000000000",
          "2023-05-30T00:00:00.000000000",
          "2023-05-31T00:00:00.000000000",
          "2023-06-01T00:00:00.000000000",
          "2023-06-02T00:00:00.000000000",
          "2023-06-05T00:00:00.000000000",
          "2023-06-06T00:00:00.000000000",
          "2023-06-07T00:00:00.000000000",
          "2023-06-08T00:00:00.000000000",
          "2023-06-09T00:00:00.000000000",
          "2023-06-12T00:00:00.000000000",
          "2023-06-13T00:00:00.000000000",
          "2023-06-14T00:00:00.000000000",
          "2023-06-15T00:00:00.000000000",
          "2023-06-16T00:00:00.000000000",
          "2023-06-20T00:00:00.000000000",
          "2023-06-21T00:00:00.000000000",
          "2023-06-22T00:00:00.000000000",
          "2023-06-23T00:00:00.000000000",
          "2023-06-26T00:00:00.000000000",
          "2023-06-27T00:00:00.000000000",
          "2023-06-28T00:00:00.000000000",
          "2023-06-29T00:00:00.000000000",
          "2023-06-30T00:00:00.000000000",
          "2023-07-03T00:00:00.000000000",
          "2023-07-05T00:00:00.000000000",
          "2023-07-06T00:00:00.000000000",
          "2023-07-07T00:00:00.000000000",
          "2023-07-10T00:00:00.000000000",
          "2023-07-11T00:00:00.000000000",
          "2023-07-12T00:00:00.000000000",
          "2023-07-13T00:00:00.000000000",
          "2023-07-14T00:00:00.000000000",
          "2023-07-17T00:00:00.000000000",
          "2023-07-18T00:00:00.000000000",
          "2023-07-19T00:00:00.000000000",
          "2023-07-20T00:00:00.000000000",
          "2023-07-21T00:00:00.000000000",
          "2023-07-24T00:00:00.000000000",
          "2023-07-25T00:00:00.000000000",
          "2023-07-26T00:00:00.000000000",
          "2023-07-27T00:00:00.000000000",
          "2023-07-28T00:00:00.000000000",
          "2023-07-31T00:00:00.000000000",
          "2023-08-01T00:00:00.000000000",
          "2023-08-02T00:00:00.000000000",
          "2023-08-03T00:00:00.000000000",
          "2023-08-04T00:00:00.000000000",
          "2023-08-07T00:00:00.000000000",
          "2023-08-08T00:00:00.000000000",
          "2023-08-09T00:00:00.000000000",
          "2023-08-10T00:00:00.000000000",
          "2023-08-11T00:00:00.000000000",
          "2023-08-14T00:00:00.000000000",
          "2023-08-15T00:00:00.000000000",
          "2023-08-16T00:00:00.000000000",
          "2023-08-17T00:00:00.000000000",
          "2023-08-18T00:00:00.000000000",
          "2023-08-21T00:00:00.000000000",
          "2023-08-22T00:00:00.000000000",
          "2023-08-23T00:00:00.000000000",
          "2023-08-24T00:00:00.000000000",
          "2023-08-25T00:00:00.000000000",
          "2023-08-28T00:00:00.000000000",
          "2023-08-29T00:00:00.000000000",
          "2023-08-30T00:00:00.000000000",
          "2023-08-31T00:00:00.000000000",
          "2023-09-01T00:00:00.000000000",
          "2023-09-05T00:00:00.000000000",
          "2023-09-06T00:00:00.000000000",
          "2023-09-07T00:00:00.000000000",
          "2023-09-08T00:00:00.000000000",
          "2023-09-11T00:00:00.000000000",
          "2023-09-12T00:00:00.000000000",
          "2023-09-13T00:00:00.000000000",
          "2023-09-14T00:00:00.000000000",
          "2023-09-15T00:00:00.000000000",
          "2023-09-18T00:00:00.000000000",
          "2023-09-19T00:00:00.000000000",
          "2023-09-20T00:00:00.000000000",
          "2023-09-21T00:00:00.000000000",
          "2023-09-22T00:00:00.000000000",
          "2023-09-25T00:00:00.000000000",
          "2023-09-26T00:00:00.000000000",
          "2023-09-27T00:00:00.000000000",
          "2023-09-28T00:00:00.000000000",
          "2023-09-29T00:00:00.000000000",
          "2023-10-02T00:00:00.000000000",
          "2023-10-03T00:00:00.000000000",
          "2023-10-04T00:00:00.000000000",
          "2023-10-05T00:00:00.000000000",
          "2023-10-06T00:00:00.000000000",
          "2023-10-09T00:00:00.000000000",
          "2023-10-10T00:00:00.000000000",
          "2023-10-11T00:00:00.000000000",
          "2023-10-12T00:00:00.000000000",
          "2023-10-13T00:00:00.000000000",
          "2023-10-16T00:00:00.000000000",
          "2023-10-17T00:00:00.000000000",
          "2023-10-18T00:00:00.000000000",
          "2023-10-19T00:00:00.000000000",
          "2023-10-20T00:00:00.000000000",
          "2023-10-23T00:00:00.000000000",
          "2023-10-24T00:00:00.000000000",
          "2023-10-25T00:00:00.000000000",
          "2023-10-26T00:00:00.000000000",
          "2023-10-27T00:00:00.000000000",
          "2023-10-30T00:00:00.000000000",
          "2023-10-31T00:00:00.000000000",
          "2023-11-01T00:00:00.000000000",
          "2023-11-02T00:00:00.000000000",
          "2023-11-03T00:00:00.000000000",
          "2023-11-06T00:00:00.000000000",
          "2023-11-07T00:00:00.000000000",
          "2023-11-08T00:00:00.000000000",
          "2023-11-09T00:00:00.000000000",
          "2023-11-10T00:00:00.000000000",
          "2023-11-13T00:00:00.000000000",
          "2023-11-14T00:00:00.000000000",
          "2023-11-15T00:00:00.000000000",
          "2023-11-16T00:00:00.000000000",
          "2023-11-17T00:00:00.000000000",
          "2023-11-20T00:00:00.000000000",
          "2023-11-21T00:00:00.000000000",
          "2023-11-22T00:00:00.000000000",
          "2023-11-24T00:00:00.000000000",
          "2023-11-27T00:00:00.000000000",
          "2023-11-28T00:00:00.000000000",
          "2023-11-29T00:00:00.000000000",
          "2023-11-30T00:00:00.000000000",
          "2023-12-01T00:00:00.000000000",
          "2023-12-04T00:00:00.000000000",
          "2023-12-05T00:00:00.000000000",
          "2023-12-06T00:00:00.000000000",
          "2023-12-07T00:00:00.000000000",
          "2023-12-08T00:00:00.000000000",
          "2023-12-11T00:00:00.000000000",
          "2023-12-12T00:00:00.000000000",
          "2023-12-13T00:00:00.000000000",
          "2023-12-14T00:00:00.000000000",
          "2023-12-15T00:00:00.000000000",
          "2023-12-18T00:00:00.000000000",
          "2023-12-19T00:00:00.000000000",
          "2023-12-20T00:00:00.000000000",
          "2023-12-21T00:00:00.000000000",
          "2023-12-22T00:00:00.000000000",
          "2023-12-26T00:00:00.000000000",
          "2023-12-27T00:00:00.000000000",
          "2023-12-28T00:00:00.000000000",
          "2023-12-29T00:00:00.000000000",
          "2024-01-02T00:00:00.000000000",
          "2024-01-03T00:00:00.000000000",
          "2024-01-04T00:00:00.000000000",
          "2024-01-05T00:00:00.000000000",
          "2024-01-08T00:00:00.000000000",
          "2024-01-09T00:00:00.000000000",
          "2024-01-10T00:00:00.000000000",
          "2024-01-11T00:00:00.000000000",
          "2024-01-12T00:00:00.000000000",
          "2024-01-16T00:00:00.000000000",
          "2024-01-17T00:00:00.000000000",
          "2024-01-18T00:00:00.000000000",
          "2024-01-19T00:00:00.000000000",
          "2024-01-22T00:00:00.000000000",
          "2024-01-23T00:00:00.000000000",
          "2024-01-24T00:00:00.000000000",
          "2024-01-25T00:00:00.000000000",
          "2024-01-26T00:00:00.000000000",
          "2024-01-29T00:00:00.000000000",
          "2024-01-30T00:00:00.000000000",
          "2024-01-31T00:00:00.000000000",
          "2024-02-01T00:00:00.000000000",
          "2024-02-02T00:00:00.000000000",
          "2024-02-05T00:00:00.000000000",
          "2024-02-06T00:00:00.000000000",
          "2024-02-07T00:00:00.000000000",
          "2024-02-08T00:00:00.000000000",
          "2024-02-09T00:00:00.000000000",
          "2024-02-12T00:00:00.000000000",
          "2024-02-13T00:00:00.000000000",
          "2024-02-14T00:00:00.000000000",
          "2024-02-15T00:00:00.000000000",
          "2024-02-16T00:00:00.000000000",
          "2024-02-20T00:00:00.000000000",
          "2024-02-21T00:00:00.000000000",
          "2024-02-22T00:00:00.000000000",
          "2024-02-23T00:00:00.000000000",
          "2024-02-26T00:00:00.000000000",
          "2024-02-27T00:00:00.000000000",
          "2024-02-28T00:00:00.000000000",
          "2024-02-29T00:00:00.000000000",
          "2024-03-01T00:00:00.000000000",
          "2024-03-04T00:00:00.000000000",
          "2024-03-05T00:00:00.000000000",
          "2024-03-06T00:00:00.000000000",
          "2024-03-07T00:00:00.000000000",
          "2024-03-08T00:00:00.000000000",
          "2024-03-11T00:00:00.000000000",
          "2024-03-12T00:00:00.000000000",
          "2024-03-13T00:00:00.000000000",
          "2024-03-14T00:00:00.000000000",
          "2024-03-15T00:00:00.000000000",
          "2024-03-18T00:00:00.000000000",
          "2024-03-19T00:00:00.000000000",
          "2024-03-20T00:00:00.000000000",
          "2024-03-21T00:00:00.000000000",
          "2024-03-22T00:00:00.000000000",
          "2024-03-25T00:00:00.000000000",
          "2024-03-26T00:00:00.000000000",
          "2024-03-27T00:00:00.000000000",
          "2024-03-28T00:00:00.000000000",
          "2024-04-01T00:00:00.000000000",
          "2024-04-02T00:00:00.000000000",
          "2024-04-03T00:00:00.000000000",
          "2024-04-04T00:00:00.000000000",
          "2024-04-05T00:00:00.000000000",
          "2024-04-08T00:00:00.000000000",
          "2024-04-09T00:00:00.000000000",
          "2024-04-10T00:00:00.000000000",
          "2024-04-11T00:00:00.000000000",
          "2024-04-12T00:00:00.000000000",
          "2024-04-15T00:00:00.000000000",
          "2024-04-16T00:00:00.000000000",
          "2024-04-17T00:00:00.000000000",
          "2024-04-18T00:00:00.000000000",
          "2024-04-19T00:00:00.000000000",
          "2024-04-22T00:00:00.000000000",
          "2024-04-23T00:00:00.000000000",
          "2024-04-24T00:00:00.000000000",
          "2024-04-25T00:00:00.000000000",
          "2024-04-26T00:00:00.000000000",
          "2024-04-29T00:00:00.000000000",
          "2024-04-30T00:00:00.000000000",
          "2024-05-01T00:00:00.000000000",
          "2024-05-02T00:00:00.000000000",
          "2024-05-03T00:00:00.000000000",
          "2024-05-06T00:00:00.000000000",
          "2024-05-07T00:00:00.000000000",
          "2024-05-08T00:00:00.000000000",
          "2024-05-09T00:00:00.000000000",
          "2024-05-10T00:00:00.000000000",
          "2024-05-13T00:00:00.000000000",
          "2024-05-14T00:00:00.000000000",
          "2024-05-15T00:00:00.000000000",
          "2024-05-16T00:00:00.000000000",
          "2024-05-17T00:00:00.000000000",
          "2024-05-20T00:00:00.000000000",
          "2024-05-21T00:00:00.000000000",
          "2024-05-22T00:00:00.000000000",
          "2024-05-23T00:00:00.000000000",
          "2024-05-24T00:00:00.000000000",
          "2024-05-28T00:00:00.000000000",
          "2024-05-29T00:00:00.000000000",
          "2024-05-30T00:00:00.000000000",
          "2024-05-31T00:00:00.000000000",
          "2024-06-03T00:00:00.000000000",
          "2024-06-04T00:00:00.000000000",
          "2024-06-05T00:00:00.000000000",
          "2024-06-06T00:00:00.000000000",
          "2024-06-07T00:00:00.000000000",
          "2024-06-10T00:00:00.000000000",
          "2024-06-11T00:00:00.000000000",
          "2024-06-12T00:00:00.000000000",
          "2024-06-13T00:00:00.000000000",
          "2024-06-14T00:00:00.000000000",
          "2024-06-17T00:00:00.000000000",
          "2024-06-18T00:00:00.000000000",
          "2024-06-20T00:00:00.000000000",
          "2024-06-21T00:00:00.000000000",
          "2024-06-24T00:00:00.000000000",
          "2024-06-25T00:00:00.000000000",
          "2024-06-26T00:00:00.000000000",
          "2024-06-27T00:00:00.000000000",
          "2024-06-28T00:00:00.000000000",
          "2024-07-01T00:00:00.000000000",
          "2024-07-02T00:00:00.000000000",
          "2024-07-03T00:00:00.000000000",
          "2024-07-05T00:00:00.000000000",
          "2024-07-08T00:00:00.000000000",
          "2024-07-09T00:00:00.000000000",
          "2024-07-10T00:00:00.000000000",
          "2024-07-11T00:00:00.000000000",
          "2024-07-12T00:00:00.000000000",
          "2024-07-15T00:00:00.000000000",
          "2024-07-16T00:00:00.000000000",
          "2024-07-17T00:00:00.000000000",
          "2024-07-18T00:00:00.000000000",
          "2024-07-19T00:00:00.000000000",
          "2024-07-22T00:00:00.000000000",
          "2024-07-23T00:00:00.000000000",
          "2024-07-24T00:00:00.000000000",
          "2024-07-25T00:00:00.000000000",
          "2024-07-26T00:00:00.000000000",
          "2024-07-29T00:00:00.000000000",
          "2024-07-30T00:00:00.000000000",
          "2024-07-31T00:00:00.000000000",
          "2024-08-01T00:00:00.000000000",
          "2024-08-02T00:00:00.000000000",
          "2024-08-05T00:00:00.000000000",
          "2024-08-06T00:00:00.000000000",
          "2024-08-07T00:00:00.000000000",
          "2024-08-08T00:00:00.000000000",
          "2024-08-09T00:00:00.000000000",
          "2024-08-12T00:00:00.000000000",
          "2024-08-13T00:00:00.000000000",
          "2024-08-14T00:00:00.000000000",
          "2024-08-15T00:00:00.000000000",
          "2024-08-16T00:00:00.000000000",
          "2024-08-19T00:00:00.000000000",
          "2024-08-20T00:00:00.000000000",
          "2024-08-21T00:00:00.000000000",
          "2024-08-22T00:00:00.000000000",
          "2024-08-23T00:00:00.000000000",
          "2024-08-26T00:00:00.000000000",
          "2024-08-27T00:00:00.000000000",
          "2024-08-28T00:00:00.000000000",
          "2024-08-29T00:00:00.000000000",
          "2024-08-30T00:00:00.000000000",
          "2024-09-03T00:00:00.000000000",
          "2024-09-04T00:00:00.000000000",
          "2024-09-05T00:00:00.000000000",
          "2024-09-06T00:00:00.000000000",
          "2024-09-09T00:00:00.000000000",
          "2024-09-10T00:00:00.000000000",
          "2024-09-11T00:00:00.000000000",
          "2024-09-12T00:00:00.000000000",
          "2024-09-13T00:00:00.000000000",
          "2024-09-16T00:00:00.000000000",
          "2024-09-17T00:00:00.000000000",
          "2024-09-18T00:00:00.000000000",
          "2024-09-19T00:00:00.000000000",
          "2024-09-20T00:00:00.000000000",
          "2024-09-23T00:00:00.000000000",
          "2024-09-24T00:00:00.000000000",
          "2024-09-25T00:00:00.000000000",
          "2024-09-26T00:00:00.000000000",
          "2024-09-27T00:00:00.000000000",
          "2024-09-30T00:00:00.000000000",
          "2024-10-01T00:00:00.000000000",
          "2024-10-02T00:00:00.000000000",
          "2024-10-03T00:00:00.000000000",
          "2024-10-04T00:00:00.000000000",
          "2024-10-07T00:00:00.000000000",
          "2024-10-08T00:00:00.000000000",
          "2024-10-09T00:00:00.000000000",
          "2024-10-10T00:00:00.000000000",
          "2024-10-11T00:00:00.000000000",
          "2024-10-14T00:00:00.000000000",
          "2024-10-15T00:00:00.000000000",
          "2024-10-16T00:00:00.000000000",
          "2024-10-17T00:00:00.000000000",
          "2024-10-18T00:00:00.000000000",
          "2024-10-21T00:00:00.000000000",
          "2024-10-22T00:00:00.000000000",
          "2024-10-23T00:00:00.000000000",
          "2024-10-24T00:00:00.000000000",
          "2024-10-25T00:00:00.000000000",
          "2024-10-28T00:00:00.000000000",
          "2024-10-29T00:00:00.000000000",
          "2024-10-30T00:00:00.000000000",
          "2024-10-31T00:00:00.000000000",
          "2024-11-01T00:00:00.000000000",
          "2024-11-04T00:00:00.000000000",
          "2024-11-05T00:00:00.000000000",
          "2024-11-06T00:00:00.000000000",
          "2024-11-07T00:00:00.000000000",
          "2024-11-08T00:00:00.000000000",
          "2024-11-11T00:00:00.000000000",
          "2024-11-12T00:00:00.000000000",
          "2024-11-13T00:00:00.000000000",
          "2024-11-14T00:00:00.000000000",
          "2024-11-15T00:00:00.000000000",
          "2024-11-18T00:00:00.000000000",
          "2024-11-19T00:00:00.000000000",
          "2024-11-20T00:00:00.000000000",
          "2024-11-21T00:00:00.000000000",
          "2024-11-22T00:00:00.000000000",
          "2024-11-25T00:00:00.000000000",
          "2024-11-26T00:00:00.000000000",
          "2024-11-27T00:00:00.000000000",
          "2024-11-29T00:00:00.000000000",
          "2024-12-02T00:00:00.000000000",
          "2024-12-03T00:00:00.000000000",
          "2024-12-04T00:00:00.000000000",
          "2024-12-05T00:00:00.000000000",
          "2024-12-06T00:00:00.000000000",
          "2024-12-09T00:00:00.000000000",
          "2024-12-10T00:00:00.000000000",
          "2024-12-11T00:00:00.000000000",
          "2024-12-12T00:00:00.000000000",
          "2024-12-13T00:00:00.000000000",
          "2024-12-16T00:00:00.000000000",
          "2024-12-17T00:00:00.000000000",
          "2024-12-18T00:00:00.000000000",
          "2024-12-19T00:00:00.000000000",
          "2024-12-20T00:00:00.000000000",
          "2024-12-23T00:00:00.000000000",
          "2024-12-24T00:00:00.000000000",
          "2024-12-26T00:00:00.000000000",
          "2024-12-27T00:00:00.000000000",
          "2024-12-30T00:00:00.000000000",
          "2024-12-31T00:00:00.000000000",
          "2025-01-02T00:00:00.000000000",
          "2025-01-03T00:00:00.000000000",
          "2025-01-06T00:00:00.000000000",
          "2025-01-07T00:00:00.000000000",
          "2025-01-08T00:00:00.000000000",
          "2025-01-10T00:00:00.000000000",
          "2025-01-13T00:00:00.000000000",
          "2025-01-14T00:00:00.000000000",
          "2025-01-15T00:00:00.000000000",
          "2025-01-16T00:00:00.000000000",
          "2025-01-17T00:00:00.000000000",
          "2025-01-21T00:00:00.000000000",
          "2025-01-22T00:00:00.000000000",
          "2025-01-23T00:00:00.000000000",
          "2025-01-24T00:00:00.000000000"
         ],
         "y": {
          "bdata": "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",
          "dtype": "f8"
         }
        },
        {
         "line": {
          "color": "red",
          "width": 2
         },
         "marker": {
          "color": "red",
          "size": 8
         },
         "mode": "lines+markers",
         "name": "Price bullish_divergence",
         "showlegend": true,
         "type": "scatter",
         "x": [
          "2020-10-13T00:00:00",
          "2020-11-09T00:00:00"
         ],
         "y": [
          122.26763193691325,
          119.15750989185466
         ]
        },
        {
         "line": {
          "color": "black",
          "dash": "dash",
          "width": 2
         },
         "marker": {
          "color": "black",
          "size": 8
         },
         "mode": "lines+markers",
         "name": "adx bullish_divergence",
         "showlegend": true,
         "type": "scatter",
         "x": [
          "2020-10-16T00:00:00",
          "2020-11-03T00:00:00"
         ],
         "y": [
          140.8813264973793,
          148.3972905075527
         ]
        },
        {
         "line": {
          "color": "green",
          "width": 2
         },
         "marker": {
          "color": "green",
          "size": 8
         },
         "mode": "lines+markers",
         "name": "Price convergence",
         "showlegend": false,
         "type": "scatter",
         "x": [
          "2020-11-09T00:00:00",
          "2020-12-29T00:00:00"
         ],
         "y": [
          119.15750989185466,
          135.56742883965345
         ]
        },
        {
         "line": {
          "color": "black",
          "dash": "dash",
          "width": 2
         },
         "marker": {
          "color": "black",
          "size": 8
         },
         "mode": "lines+markers",
         "name": "adx convergence",
         "showlegend": false,
         "type": "scatter",
         "x": [
          "2020-11-03T00:00:00",
          "2020-12-30T00:00:00"
         ],
         "y": [
          148.3972905075527,
          163.0818906272368
         ]
        },
        {
         "line": {
          "color": "green",
          "width": 2
         },
         "marker": {
          "color": "green",
          "size": 8
         },
         "mode": "lines+markers",
         "name": "Price bearish_divergence",
         "showlegend": false,
         "type": "scatter",
         "x": [
          "2020-12-29T00:00:00",
          "2021-01-25T00:00:00"
         ],
         "y": [
          135.56742883965345,
          141.72114486140973
         ]
        },
        {
         "line": {
          "color": "black",
          "dash": "dash",
          "width": 2
         },
         "marker": {
          "color": "black",
          "size": 8
         },
         "mode": "lines+markers",
         "name": "adx bearish_divergence",
         "showlegend": false,
         "type": "scatter",
         "x": [
          "2020-12-30T00:00:00",
          "2021-01-27T00:00:00"
         ],
         "y": [
          163.0818906272368,
          162.26680585688376
         ]
        },
        {
         "line": {
          "color": "red",
          "width": 2
         },
         "marker": {
          "color": "red",
          "size": 8
         },
         "mode": "lines+markers",
         "name": "Price neutral",
         "showlegend": false,
         "type": "scatter",
         "x": [
          "2021-01-25T00:00:00",
          "2021-02-09T00:00:00"
         ],
         "y": [
          141.72114486140973,
          134.8798267734332
         ]
        },
        {
         "line": {
          "color": "black",
          "dash": "dash",
          "width": 2
         },
         "marker": {
          "color": "black",
          "size": 8
         },
         "mode": "lines+markers",
         "name": "adx neutral",
         "showlegend": false,
         "type": "scatter",
         "x": [
          "2021-01-27T00:00:00",
          "2021-01-27T00:00:00"
         ],
         "y": [
          162.26680585688376,
          162.26680585688376
         ]
        },
        {
         "line": {
          "color": "red",
          "width": 2
         },
         "marker": {
          "color": "red",
          "size": 8
         },
         "mode": "lines+markers",
         "name": "Price bullish_divergence",
         "showlegend": false,
         "type": "scatter",
         "x": [
          "2021-02-09T00:00:00",
          "2021-03-16T00:00:00"
         ],
         "y": [
          134.8798267734332,
          124.45178328205833
         ]
        },
        {
         "line": {
          "color": "black",
          "dash": "dash",
          "width": 2
         },
         "marker": {
          "color": "black",
          "size": 8
         },
         "mode": "lines+markers",
         "name": "adx bullish_divergence",
         "showlegend": false,
         "type": "scatter",
         "x": [
          "2021-01-27T00:00:00",
          "2021-02-26T00:00:00"
         ],
         "y": [
          162.26680585688376,
          191.66145702007003
         ]
        },
        {
         "line": {
          "color": "green",
          "width": 2
         },
         "marker": {
          "color": "green",
          "size": 8
         },
         "mode": "lines+markers",
         "name": "Price bearish_divergence",
         "showlegend": false,
         "type": "scatter",
         "x": [
          "2021-03-16T00:00:00",
          "2021-04-29T00:00:00"
         ],
         "y": [
          124.45178328205833,
          134.08745690189525
         ]
        },
        {
         "line": {
          "color": "black",
          "dash": "dash",
          "width": 2
         },
         "marker": {
          "color": "black",
          "size": 8
         },
         "mode": "lines+markers",
         "name": "adx bearish_divergence",
         "showlegend": false,
         "type": "scatter",
         "x": [
          "2021-02-26T00:00:00",
          "2021-04-19T00:00:00"
         ],
         "y": [
          191.66145702007003,
          185.83808858024352
         ]
        },
        {
         "line": {
          "color": "red",
          "width": 2
         },
         "marker": {
          "color": "red",
          "size": 8
         },
         "mode": "lines+markers",
         "name": "Price convergence",
         "showlegend": false,
         "type": "scatter",
         "x": [
          "2021-04-29T00:00:00",
          "2021-05-25T00:00:00"
         ],
         "y": [
          134.08745690189525,
          125.74106096052154
         ]
        },
        {
         "line": {
          "color": "black",
          "dash": "dash",
          "width": 2
         },
         "marker": {
          "color": "black",
          "size": 8
         },
         "mode": "lines+markers",
         "name": "adx convergence",
         "showlegend": false,
         "type": "scatter",
         "x": [
          "2021-04-19T00:00:00",
          "2021-06-03T00:00:00"
         ],
         "y": [
          185.83808858024352,
          132.1328649139163
         ]
        },
        {
         "line": {
          "color": "green",
          "width": 2
         },
         "marker": {
          "color": "green",
          "size": 8
         },
         "mode": "lines+markers",
         "name": "Price convergence",
         "showlegend": false,
         "type": "scatter",
         "x": [
          "2021-05-25T00:00:00",
          "2021-07-15T00:00:00"
         ],
         "y": [
          125.74106096052154,
          146.98535113045864
         ]
        },
        {
         "line": {
          "color": "black",
          "dash": "dash",
          "width": 2
         },
         "marker": {
          "color": "black",
          "size": 8
         },
         "mode": "lines+markers",
         "name": "adx convergence",
         "showlegend": false,
         "type": "scatter",
         "x": [
          "2021-06-03T00:00:00",
          "2021-07-15T00:00:00"
         ],
         "y": [
          132.1328649139163,
          209.27853613806076
         ]
        },
        {
         "line": {
          "color": "green",
          "width": 2
         },
         "marker": {
          "color": "green",
          "size": 8
         },
         "mode": "lines+markers",
         "name": "Price bearish_divergence",
         "showlegend": false,
         "type": "scatter",
         "x": [
          "2021-07-15T00:00:00",
          "2021-08-17T00:00:00"
         ],
         "y": [
          146.98535113045864,
          148.85424577061949
         ]
        },
        {
         "line": {
          "color": "black",
          "dash": "dash",
          "width": 2
         },
         "marker": {
          "color": "black",
          "size": 8
         },
         "mode": "lines+markers",
         "name": "adx bearish_divergence",
         "showlegend": false,
         "type": "scatter",
         "x": [
          "2021-07-15T00:00:00",
          "2021-08-20T00:00:00"
         ],
         "y": [
          209.27853613806076,
          130.75410779483317
         ]
        },
        {
         "line": {
          "color": "green",
          "width": 2
         },
         "marker": {
          "color": "green",
          "size": 8
         },
         "mode": "lines+markers",
         "name": "Price neutral",
         "showlegend": false,
         "type": "scatter",
         "x": [
          "2021-08-17T00:00:00",
          "2021-09-07T00:00:00"
         ],
         "y": [
          148.85424577061949,
          154.33029310259397
         ]
        },
        {
         "line": {
          "color": "black",
          "dash": "dash",
          "width": 2
         },
         "marker": {
          "color": "black",
          "size": 8
         },
         "mode": "lines+markers",
         "name": "adx neutral",
         "showlegend": false,
         "type": "scatter",
         "x": [
          "2021-08-20T00:00:00",
          "2021-08-20T00:00:00"
         ],
         "y": [
          130.75410779483317,
          130.75410779483317
         ]
        },
        {
         "line": {
          "color": "red",
          "width": 2
         },
         "marker": {
          "color": "red",
          "size": 8
         },
         "mode": "lines+markers",
         "name": "Price bullish_divergence",
         "showlegend": false,
         "type": "scatter",
         "x": [
          "2021-09-07T00:00:00",
          "2021-10-28T00:00:00"
         ],
         "y": [
          154.33029310259397,
          150.31648959684864
         ]
        },
        {
         "line": {
          "color": "black",
          "dash": "dash",
          "width": 2
         },
         "marker": {
          "color": "black",
          "size": 8
         },
         "mode": "lines+markers",
         "name": "adx bullish_divergence",
         "showlegend": false,
         "type": "scatter",
         "x": [
          "2021-08-20T00:00:00",
          "2021-10-06T00:00:00"
         ],
         "y": [
          130.75410779483317,
          192.0768154990763
         ]
        },
        {
         "line": {
          "color": "green",
          "width": 2
         },
         "marker": {
          "color": "green",
          "size": 8
         },
         "mode": "lines+markers",
         "name": "Price bearish_divergence",
         "showlegend": false,
         "type": "scatter",
         "x": [
          "2021-10-28T00:00:00",
          "2021-12-13T00:00:00"
         ],
         "y": [
          150.31648959684864,
          178.99789868748653
         ]
        },
        {
         "line": {
          "color": "black",
          "dash": "dash",
          "width": 2
         },
         "marker": {
          "color": "black",
          "size": 8
         },
         "mode": "lines+markers",
         "name": "adx bearish_divergence",
         "showlegend": false,
         "type": "scatter",
         "x": [
          "2021-10-06T00:00:00",
          "2021-12-13T00:00:00"
         ],
         "y": [
          192.0768154990763,
          177.25710986672976
         ]
        },
        {
         "line": {
          "color": "green",
          "width": 2
         },
         "marker": {
          "color": "green",
          "size": 8
         },
         "mode": "lines+markers",
         "name": "Price convergence",
         "showlegend": false,
         "type": "scatter",
         "x": [
          "2021-12-13T00:00:00",
          "2022-01-04T00:00:00"
         ],
         "y": [
          178.99789868748653,
          179.79388933782005
         ]
        },
        {
         "line": {
          "color": "black",
          "dash": "dash",
          "width": 2
         },
         "marker": {
          "color": "black",
          "size": 8
         },
         "mode": "lines+markers",
         "name": "adx convergence",
         "showlegend": false,
         "type": "scatter",
         "x": [
          "2021-12-13T00:00:00",
          "2022-01-04T00:00:00"
         ],
         "y": [
          177.25710986672976,
          185.9803432526677
         ]
        },
        {
         "line": {
          "color": "red",
          "width": 2
         },
         "marker": {
          "color": "red",
          "size": 8
         },
         "mode": "lines+markers",
         "name": "Price convergence",
         "showlegend": false,
         "type": "scatter",
         "x": [
          "2022-01-04T00:00:00",
          "2022-02-09T00:00:00"
         ],
         "y": [
          179.79388933782005,
          173.83327271357754
         ]
        },
        {
         "line": {
          "color": "black",
          "dash": "dash",
          "width": 2
         },
         "marker": {
          "color": "black",
          "size": 8
         },
         "mode": "lines+markers",
         "name": "adx convergence",
         "showlegend": false,
         "type": "scatter",
         "x": [
          "2022-01-04T00:00:00",
          "2022-01-27T00:00:00"
         ],
         "y": [
          185.9803432526677,
          174.10324310538095
         ]
        },
        {
         "line": {
          "color": "red",
          "width": 2
         },
         "marker": {
          "color": "red",
          "size": 8
         },
         "mode": "lines+markers",
         "name": "Price bullish_divergence",
         "showlegend": false,
         "type": "scatter",
         "x": [
          "2022-02-09T00:00:00",
          "2022-03-03T00:00:00"
         ],
         "y": [
          173.83327271357754,
          166.21672762708047
         ]
        },
        {
         "line": {
          "color": "black",
          "dash": "dash",
          "width": 2
         },
         "marker": {
          "color": "black",
          "size": 8
         },
         "mode": "lines+markers",
         "name": "adx bullish_divergence",
         "showlegend": false,
         "type": "scatter",
         "x": [
          "2022-01-27T00:00:00",
          "2022-03-15T00:00:00"
         ],
         "y": [
          174.10324310538095,
          185.85205396137474
         ]
        },
        {
         "line": {
          "color": "green",
          "width": 2
         },
         "marker": {
          "color": "green",
          "size": 8
         },
         "mode": "lines+markers",
         "name": "Price bearish_divergence",
         "showlegend": false,
         "type": "scatter",
         "x": [
          "2022-03-03T00:00:00",
          "2022-03-30T00:00:00"
         ],
         "y": [
          166.21672762708047,
          176.74609743731983
         ]
        },
        {
         "line": {
          "color": "black",
          "dash": "dash",
          "width": 2
         },
         "marker": {
          "color": "black",
          "size": 8
         },
         "mode": "lines+markers",
         "name": "adx bearish_divergence",
         "showlegend": false,
         "type": "scatter",
         "x": [
          "2022-03-15T00:00:00",
          "2022-03-30T00:00:00"
         ],
         "y": [
          185.85205396137474,
          168.017700271774
         ]
        },
        {
         "line": {
          "color": "red",
          "width": 2
         },
         "marker": {
          "color": "red",
          "size": 8
         },
         "mode": "lines+markers",
         "name": "Price convergence",
         "showlegend": false,
         "type": "scatter",
         "x": [
          "2022-03-30T00:00:00",
          "2022-04-21T00:00:00"
         ],
         "y": [
          176.74609743731983,
          168.79493971335873
         ]
        },
        {
         "line": {
          "color": "black",
          "dash": "dash",
          "width": 2
         },
         "marker": {
          "color": "black",
          "size": 8
         },
         "mode": "lines+markers",
         "name": "adx convergence",
         "showlegend": false,
         "type": "scatter",
         "x": [
          "2022-03-30T00:00:00",
          "2022-04-27T00:00:00"
         ],
         "y": [
          168.017700271774,
          139.14865268681473
         ]
        },
        {
         "line": {
          "color": "red",
          "width": 2
         },
         "marker": {
          "color": "red",
          "size": 8
         },
         "mode": "lines+markers",
         "name": "Price neutral",
         "showlegend": false,
         "type": "scatter",
         "x": [
          "2022-04-21T00:00:00",
          "2022-05-04T00:00:00"
         ],
         "y": [
          168.79493971335873,
          163.82544428980776
         ]
        },
        {
         "line": {
          "color": "black",
          "dash": "dash",
          "width": 2
         },
         "marker": {
          "color": "black",
          "size": 8
         },
         "mode": "lines+markers",
         "name": "adx neutral",
         "showlegend": false,
         "type": "scatter",
         "x": [
          "2022-04-27T00:00:00",
          "2022-04-27T00:00:00"
         ],
         "y": [
          139.14865268681473,
          139.14865268681473
         ]
        },
        {
         "line": {
          "color": "red",
          "width": 2
         },
         "marker": {
          "color": "red",
          "size": 8
         },
         "mode": "lines+markers",
         "name": "Price bullish_divergence",
         "showlegend": false,
         "type": "scatter",
         "x": [
          "2022-05-04T00:00:00",
          "2022-06-01T00:00:00"
         ],
         "y": [
          163.82544428980776,
          149.53986813880326
         ]
        },
        {
         "line": {
          "color": "black",
          "dash": "dash",
          "width": 2
         },
         "marker": {
          "color": "black",
          "size": 8
         },
         "mode": "lines+markers",
         "name": "adx bullish_divergence",
         "showlegend": false,
         "type": "scatter",
         "x": [
          "2022-04-27T00:00:00",
          "2022-05-25T00:00:00"
         ],
         "y": [
          139.14865268681473,
          168.02098172895992
         ]
        },
        {
         "line": {
          "color": "green",
          "width": 2
         },
         "marker": {
          "color": "green",
          "size": 8
         },
         "mode": "lines+markers",
         "name": "Price convergence",
         "showlegend": false,
         "type": "scatter",
         "x": [
          "2022-06-01T00:00:00",
          "2022-08-17T00:00:00"
         ],
         "y": [
          149.53986813880326,
          173.83706944158646
         ]
        },
        {
         "line": {
          "color": "black",
          "dash": "dash",
          "width": 2
         },
         "marker": {
          "color": "black",
          "size": 8
         },
         "mode": "lines+markers",
         "name": "adx convergence",
         "showlegend": false,
         "type": "scatter",
         "x": [
          "2022-05-25T00:00:00",
          "2022-08-18T00:00:00"
         ],
         "y": [
          168.02098172895992,
          206.90961674249704
         ]
        },
        {
         "line": {
          "color": "red",
          "width": 2
         },
         "marker": {
          "color": "red",
          "size": 8
         },
         "mode": "lines+markers",
         "name": "Price convergence",
         "showlegend": false,
         "type": "scatter",
         "x": [
          "2022-08-17T00:00:00",
          "2022-09-12T00:00:00"
         ],
         "y": [
          173.83706944158646,
          162.10319169268726
         ]
        },
        {
         "line": {
          "color": "black",
          "dash": "dash",
          "width": 2
         },
         "marker": {
          "color": "black",
          "size": 8
         },
         "mode": "lines+markers",
         "name": "adx convergence",
         "showlegend": false,
         "type": "scatter",
         "x": [
          "2022-08-18T00:00:00",
          "2022-09-08T00:00:00"
         ],
         "y": [
          206.90961674249704,
          168.8025912491234
         ]
        },
        {
         "line": {
          "color": "red",
          "width": 2
         },
         "marker": {
          "color": "red",
          "size": 8
         },
         "mode": "lines+markers",
         "name": "Price convergence",
         "showlegend": false,
         "type": "scatter",
         "x": [
          "2022-09-12T00:00:00",
          "2022-10-28T00:00:00"
         ],
         "y": [
          162.10319169268726,
          155.4319533375391
         ]
        },
        {
         "line": {
          "color": "black",
          "dash": "dash",
          "width": 2
         },
         "marker": {
          "color": "black",
          "size": 8
         },
         "mode": "lines+markers",
         "name": "adx convergence",
         "showlegend": false,
         "type": "scatter",
         "x": [
          "2022-09-08T00:00:00",
          "2022-11-09T00:00:00"
         ],
         "y": [
          168.8025912491234,
          145.98835036877142
         ]
        },
        {
         "line": {
          "color": "red",
          "width": 2
         },
         "marker": {
          "color": "red",
          "size": 8
         },
         "mode": "lines+markers",
         "name": "Price neutral",
         "showlegend": false,
         "type": "scatter",
         "x": [
          "2022-10-28T00:00:00",
          "2022-11-15T00:00:00"
         ],
         "y": [
          155.4319533375391,
          151.82473825025608
         ]
        },
        {
         "line": {
          "color": "black",
          "dash": "dash",
          "width": 2
         },
         "marker": {
          "color": "black",
          "size": 8
         },
         "mode": "lines+markers",
         "name": "adx neutral",
         "showlegend": false,
         "type": "scatter",
         "x": [
          "2022-11-09T00:00:00",
          "2022-11-09T00:00:00"
         ],
         "y": [
          145.98835036877142,
          145.98835036877142
         ]
        },
        {
         "line": {
          "color": "green",
          "width": 2
         },
         "marker": {
          "color": "green",
          "size": 8
         },
         "mode": "lines+markers",
         "name": "Price convergence",
         "showlegend": false,
         "type": "scatter",
         "x": [
          "2022-11-15T00:00:00",
          "2023-02-03T00:00:00"
         ],
         "y": [
          151.82473825025608,
          155.57120867700445
         ]
        },
        {
         "line": {
          "color": "black",
          "dash": "dash",
          "width": 2
         },
         "marker": {
          "color": "black",
          "size": 8
         },
         "mode": "lines+markers",
         "name": "adx convergence",
         "showlegend": false,
         "type": "scatter",
         "x": [
          "2022-11-09T00:00:00",
          "2023-02-16T00:00:00"
         ],
         "y": [
          145.98835036877142,
          217.57667062722675
         ]
        },
        {
         "line": {
          "color": "red",
          "width": 2
         },
         "marker": {
          "color": "red",
          "size": 8
         },
         "mode": "lines+markers",
         "name": "Price neutral",
         "showlegend": false,
         "type": "scatter",
         "x": [
          "2023-02-03T00:00:00",
          "2023-02-16T00:00:00"
         ],
         "y": [
          155.57120867700445,
          154.76917536637725
         ]
        },
        {
         "line": {
          "color": "black",
          "dash": "dash",
          "width": 2
         },
         "marker": {
          "color": "black",
          "size": 8
         },
         "mode": "lines+markers",
         "name": "adx neutral",
         "showlegend": false,
         "type": "scatter",
         "x": [
          "2023-02-16T00:00:00",
          "2023-02-16T00:00:00"
         ],
         "y": [
          217.57667062722675,
          217.57667062722675
         ]
        },
        {
         "line": {
          "color": "red",
          "width": 2
         },
         "marker": {
          "color": "red",
          "size": 8
         },
         "mode": "lines+markers",
         "name": "Price neutral",
         "showlegend": false,
         "type": "scatter",
         "x": [
          "2023-02-16T00:00:00",
          "2023-03-06T00:00:00"
         ],
         "y": [
          154.76917536637725,
          154.73951510110595
         ]
        },
        {
         "line": {
          "color": "black",
          "dash": "dash",
          "width": 2
         },
         "marker": {
          "color": "black",
          "size": 8
         },
         "mode": "lines+markers",
         "name": "adx neutral",
         "showlegend": false,
         "type": "scatter",
         "x": [
          "2023-02-16T00:00:00",
          "2023-02-16T00:00:00"
         ],
         "y": [
          217.57667062722675,
          217.57667062722675
         ]
        },
        {
         "line": {
          "color": "green",
          "width": 2
         },
         "marker": {
          "color": "green",
          "size": 8
         },
         "mode": "lines+markers",
         "name": "Price bearish_divergence",
         "showlegend": false,
         "type": "scatter",
         "x": [
          "2023-03-06T00:00:00",
          "2023-04-04T00:00:00"
         ],
         "y": [
          154.73951510110595,
          165.17425973324032
         ]
        },
        {
         "line": {
          "color": "black",
          "dash": "dash",
          "width": 2
         },
         "marker": {
          "color": "black",
          "size": 8
         },
         "mode": "lines+markers",
         "name": "adx bearish_divergence",
         "showlegend": false,
         "type": "scatter",
         "x": [
          "2023-02-16T00:00:00",
          "2023-04-04T00:00:00"
         ],
         "y": [
          217.57667062722675,
          182.0134307993853
         ]
        },
        {
         "line": {
          "color": "green",
          "width": 2
         },
         "marker": {
          "color": "green",
          "size": 8
         },
         "mode": "lines+markers",
         "name": "Price convergence",
         "showlegend": false,
         "type": "scatter",
         "x": [
          "2023-04-04T00:00:00",
          "2023-06-05T00:00:00"
         ],
         "y": [
          165.17425973324032,
          183.35670847100744
         ]
        },
        {
         "line": {
          "color": "black",
          "dash": "dash",
          "width": 2
         },
         "marker": {
          "color": "black",
          "size": 8
         },
         "mode": "lines+markers",
         "name": "adx convergence",
         "showlegend": false,
         "type": "scatter",
         "x": [
          "2023-04-04T00:00:00",
          "2023-06-20T00:00:00"
         ],
         "y": [
          182.0134307993853,
          210.12318614183863
         ]
        },
        {
         "line": {
          "color": "green",
          "width": 2
         },
         "marker": {
          "color": "green",
          "size": 8
         },
         "mode": "lines+markers",
         "name": "Price convergence",
         "showlegend": false,
         "type": "scatter",
         "x": [
          "2023-06-05T00:00:00",
          "2023-06-30T00:00:00"
         ],
         "y": [
          183.35670847100744,
          192.80462759541973
         ]
        },
        {
         "line": {
          "color": "black",
          "dash": "dash",
          "width": 2
         },
         "marker": {
          "color": "black",
          "size": 8
         },
         "mode": "lines+markers",
         "name": "adx convergence",
         "showlegend": false,
         "type": "scatter",
         "x": [
          "2023-06-20T00:00:00",
          "2023-07-03T00:00:00"
         ],
         "y": [
          210.12318614183863,
          213.44485646840747
         ]
        },
        {
         "line": {
          "color": "green",
          "width": 2
         },
         "marker": {
          "color": "green",
          "size": 8
         },
         "mode": "lines+markers",
         "name": "Price neutral",
         "showlegend": false,
         "type": "scatter",
         "x": [
          "2023-06-30T00:00:00",
          "2023-07-19T00:00:00"
         ],
         "y": [
          192.80462759541973,
          196.52230675519328
         ]
        },
        {
         "line": {
          "color": "black",
          "dash": "dash",
          "width": 2
         },
         "marker": {
          "color": "black",
          "size": 8
         },
         "mode": "lines+markers",
         "name": "adx neutral",
         "showlegend": false,
         "type": "scatter",
         "x": [
          "2023-07-03T00:00:00",
          "2023-07-03T00:00:00"
         ],
         "y": [
          213.44485646840747,
          213.44485646840747
         ]
        },
        {
         "line": {
          "color": "red",
          "width": 2
         },
         "marker": {
          "color": "red",
          "size": 8
         },
         "mode": "lines+markers",
         "name": "Price convergence",
         "showlegend": false,
         "type": "scatter",
         "x": [
          "2023-07-19T00:00:00",
          "2023-09-05T00:00:00"
         ],
         "y": [
          196.52230675519328,
          188.59772472633045
         ]
        },
        {
         "line": {
          "color": "black",
          "dash": "dash",
          "width": 2
         },
         "marker": {
          "color": "black",
          "size": 8
         },
         "mode": "lines+markers",
         "name": "adx convergence",
         "showlegend": false,
         "type": "scatter",
         "x": [
          "2023-07-03T00:00:00",
          "2023-09-15T00:00:00"
         ],
         "y": [
          213.44485646840747,
          158.4101885331724
         ]
        },
        {
         "line": {
          "color": "red",
          "width": 2
         },
         "marker": {
          "color": "red",
          "size": 8
         },
         "mode": "lines+markers",
         "name": "Price convergence",
         "showlegend": false,
         "type": "scatter",
         "x": [
          "2023-09-05T00:00:00",
          "2023-10-12T00:00:00"
         ],
         "y": [
          188.59772472633045,
          181.01330204161414
         ]
        },
        {
         "line": {
          "color": "black",
          "dash": "dash",
          "width": 2
         },
         "marker": {
          "color": "black",
          "size": 8
         },
         "mode": "lines+markers",
         "name": "adx convergence",
         "showlegend": false,
         "type": "scatter",
         "x": [
          "2023-09-15T00:00:00",
          "2023-09-29T00:00:00"
         ],
         "y": [
          158.4101885331724,
          158.1953150735457
         ]
        },
        {
         "line": {
          "color": "green",
          "width": 2
         },
         "marker": {
          "color": "green",
          "size": 8
         },
         "mode": "lines+markers",
         "name": "Price convergence",
         "showlegend": false,
         "type": "scatter",
         "x": [
          "2023-10-12T00:00:00",
          "2023-11-22T00:00:00"
         ],
         "y": [
          181.01330204161414,
          191.77857025832532
         ]
        },
        {
         "line": {
          "color": "black",
          "dash": "dash",
          "width": 2
         },
         "marker": {
          "color": "black",
          "size": 8
         },
         "mode": "lines+markers",
         "name": "adx convergence",
         "showlegend": false,
         "type": "scatter",
         "x": [
          "2023-09-29T00:00:00",
          "2023-11-22T00:00:00"
         ],
         "y": [
          158.1953150735457,
          197.97146849393437
         ]
        },
        {
         "line": {
          "color": "green",
          "width": 2
         },
         "marker": {
          "color": "green",
          "size": 8
         },
         "mode": "lines+markers",
         "name": "Price bearish_divergence",
         "showlegend": false,
         "type": "scatter",
         "x": [
          "2023-11-22T00:00:00",
          "2023-12-14T00:00:00"
         ],
         "y": [
          191.77857025832532,
          198.42867152282497
         ]
        },
        {
         "line": {
          "color": "black",
          "dash": "dash",
          "width": 2
         },
         "marker": {
          "color": "black",
          "size": 8
         },
         "mode": "lines+markers",
         "name": "adx bearish_divergence",
         "showlegend": false,
         "type": "scatter",
         "x": [
          "2023-11-22T00:00:00",
          "2024-01-05T00:00:00"
         ],
         "y": [
          197.97146849393437,
          171.95082395154236
         ]
        },
        {
         "line": {
          "color": "red",
          "width": 2
         },
         "marker": {
          "color": "red",
          "size": 8
         },
         "mode": "lines+markers",
         "name": "Price neutral",
         "showlegend": false,
         "type": "scatter",
         "x": [
          "2023-12-14T00:00:00",
          "2024-01-24T00:00:00"
         ],
         "y": [
          198.42867152282497,
          195.20800309667513
         ]
        },
        {
         "line": {
          "color": "black",
          "dash": "dash",
          "width": 2
         },
         "marker": {
          "color": "black",
          "size": 8
         },
         "mode": "lines+markers",
         "name": "adx neutral",
         "showlegend": false,
         "type": "scatter",
         "x": [
          "2024-01-05T00:00:00",
          "2024-01-05T00:00:00"
         ],
         "y": [
          171.95082395154236,
          171.95082395154236
         ]
        },
        {
         "line": {
          "color": "red",
          "width": 2
         },
         "marker": {
          "color": "red",
          "size": 8
         },
         "mode": "lines+markers",
         "name": "Price bullish_divergence",
         "showlegend": false,
         "type": "scatter",
         "x": [
          "2024-01-24T00:00:00",
          "2024-03-20T00:00:00"
         ],
         "y": [
          195.20800309667513,
          177.83030700683594
         ]
        },
        {
         "line": {
          "color": "black",
          "dash": "dash",
          "width": 2
         },
         "marker": {
          "color": "black",
          "size": 8
         },
         "mode": "lines+markers",
         "name": "adx bullish_divergence",
         "showlegend": false,
         "type": "scatter",
         "x": [
          "2024-01-05T00:00:00",
          "2024-03-07T00:00:00"
         ],
         "y": [
          171.95082395154236,
          184.06465708710738
         ]
        },
        {
         "line": {
          "color": "red",
          "width": 2
         },
         "marker": {
          "color": "red",
          "size": 8
         },
         "mode": "lines+markers",
         "name": "Price convergence",
         "showlegend": false,
         "type": "scatter",
         "x": [
          "2024-03-20T00:00:00",
          "2024-04-12T00:00:00"
         ],
         "y": [
          177.83030700683594,
          177.52176704196785
         ]
        },
        {
         "line": {
          "color": "black",
          "dash": "dash",
          "width": 2
         },
         "marker": {
          "color": "black",
          "size": 8
         },
         "mode": "lines+markers",
         "name": "adx convergence",
         "showlegend": false,
         "type": "scatter",
         "x": [
          "2024-03-07T00:00:00",
          "2024-04-15T00:00:00"
         ],
         "y": [
          184.06465708710738,
          131.2421311003603
         ]
        },
        {
         "line": {
          "color": "green",
          "width": 2
         },
         "marker": {
          "color": "green",
          "size": 8
         },
         "mode": "lines+markers",
         "name": "Price convergence",
         "showlegend": false,
         "type": "scatter",
         "x": [
          "2024-04-12T00:00:00",
          "2024-06-12T00:00:00"
         ],
         "y": [
          177.52176704196785,
          219.46239922329934
         ]
        },
        {
         "line": {
          "color": "black",
          "dash": "dash",
          "width": 2
         },
         "marker": {
          "color": "black",
          "size": 8
         },
         "mode": "lines+markers",
         "name": "adx convergence",
         "showlegend": false,
         "type": "scatter",
         "x": [
          "2024-04-15T00:00:00",
          "2024-06-18T00:00:00"
         ],
         "y": [
          131.2421311003603,
          204.54309060750853
         ]
        },
        {
         "line": {
          "color": "green",
          "width": 2
         },
         "marker": {
          "color": "green",
          "size": 8
         },
         "mode": "lines+markers",
         "name": "Price bearish_divergence",
         "showlegend": false,
         "type": "scatter",
         "x": [
          "2024-06-12T00:00:00",
          "2024-07-15T00:00:00"
         ],
         "y": [
          219.46239922329934,
          236.43535998230433
         ]
        },
        {
         "line": {
          "color": "black",
          "dash": "dash",
          "width": 2
         },
         "marker": {
          "color": "black",
          "size": 8
         },
         "mode": "lines+markers",
         "name": "adx bearish_divergence",
         "showlegend": false,
         "type": "scatter",
         "x": [
          "2024-06-18T00:00:00",
          "2024-07-10T00:00:00"
         ],
         "y": [
          204.54309060750853,
          200.95806823900438
         ]
        },
        {
         "line": {
          "color": "red",
          "width": 2
         },
         "marker": {
          "color": "red",
          "size": 8
         },
         "mode": "lines+markers",
         "name": "Price convergence",
         "showlegend": false,
         "type": "scatter",
         "x": [
          "2024-07-15T00:00:00",
          "2024-08-02T00:00:00"
         ],
         "y": [
          236.43535998230433,
          224.84431334230803
         ]
        },
        {
         "line": {
          "color": "black",
          "dash": "dash",
          "width": 2
         },
         "marker": {
          "color": "black",
          "size": 8
         },
         "mode": "lines+markers",
         "name": "adx convergence",
         "showlegend": false,
         "type": "scatter",
         "x": [
          "2024-07-10T00:00:00",
          "2024-08-08T00:00:00"
         ],
         "y": [
          200.95806823900438,
          164.34261140902652
         ]
        },
        {
         "line": {
          "color": "green",
          "width": 2
         },
         "marker": {
          "color": "green",
          "size": 8
         },
         "mode": "lines+markers",
         "name": "Price bearish_divergence",
         "showlegend": false,
         "type": "scatter",
         "x": [
          "2024-08-02T00:00:00",
          "2024-08-29T00:00:00"
         ],
         "y": [
          224.84431334230803,
          232.4085012026452
         ]
        },
        {
         "line": {
          "color": "black",
          "dash": "dash",
          "width": 2
         },
         "marker": {
          "color": "black",
          "size": 8
         },
         "mode": "lines+markers",
         "name": "adx bearish_divergence",
         "showlegend": false,
         "type": "scatter",
         "x": [
          "2024-08-08T00:00:00",
          "2024-09-04T00:00:00"
         ],
         "y": [
          164.34261140902652,
          136.8118772789516
         ]
        },
        {
         "line": {
          "color": "green",
          "width": 2
         },
         "marker": {
          "color": "green",
          "size": 8
         },
         "mode": "lines+markers",
         "name": "Price convergence",
         "showlegend": false,
         "type": "scatter",
         "x": [
          "2024-08-29T00:00:00",
          "2024-09-20T00:00:00"
         ],
         "y": [
          232.4085012026452,
          232.57811312113958
         ]
        },
        {
         "line": {
          "color": "black",
          "dash": "dash",
          "width": 2
         },
         "marker": {
          "color": "black",
          "size": 8
         },
         "mode": "lines+markers",
         "name": "adx convergence",
         "showlegend": false,
         "type": "scatter",
         "x": [
          "2024-09-04T00:00:00",
          "2024-09-17T00:00:00"
         ],
         "y": [
          136.8118772789516,
          138.24381870766598
         ]
        },
        {
         "line": {
          "color": "green",
          "width": 2
         },
         "marker": {
          "color": "green",
          "size": 8
         },
         "mode": "lines+markers",
         "name": "Price convergence",
         "showlegend": false,
         "type": "scatter",
         "x": [
          "2024-09-20T00:00:00",
          "2024-10-15T00:00:00"
         ],
         "y": [
          232.57811312113958,
          236.9684620133565
         ]
        },
        {
         "line": {
          "color": "black",
          "dash": "dash",
          "width": 2
         },
         "marker": {
          "color": "black",
          "size": 8
         },
         "mode": "lines+markers",
         "name": "adx convergence",
         "showlegend": false,
         "type": "scatter",
         "x": [
          "2024-09-17T00:00:00",
          "2024-10-22T00:00:00"
         ],
         "y": [
          138.24381870766598,
          146.23634919963501
         ]
        },
        {
         "line": {
          "color": "green",
          "width": 2
         },
         "marker": {
          "color": "green",
          "size": 8
         },
         "mode": "lines+markers",
         "name": "Price convergence",
         "showlegend": false,
         "type": "scatter",
         "x": [
          "2024-10-15T00:00:00",
          "2024-12-26T00:00:00"
         ],
         "y": [
          236.9684620133565,
          259.81433504408284
         ]
        },
        {
         "line": {
          "color": "black",
          "dash": "dash",
          "width": 2
         },
         "marker": {
          "color": "black",
          "size": 8
         },
         "mode": "lines+markers",
         "name": "adx convergence",
         "showlegend": false,
         "type": "scatter",
         "x": [
          "2024-10-22T00:00:00",
          "2024-12-17T00:00:00"
         ],
         "y": [
          146.23634919963501,
          229.34069376329802
         ]
        }
       ],
       "layout": {
        "annotations": [
         {
          "arrowcolor": "green",
          "arrowhead": 1,
          "arrowsize": 1,
          "arrowwidth": 2,
          "bgcolor": "rgba(255,255,255,0.8)",
          "font": {
           "color": "green"
          },
          "showarrow": true,
          "text": "Bullish Divergence",
          "x": "2020-10-26T00:00:00",
          "y": 120.71257091438395
         },
         {
          "arrowcolor": "red",
          "arrowhead": 1,
          "arrowsize": 1,
          "arrowwidth": 2,
          "bgcolor": "rgba(255,255,255,0.8)",
          "font": {
           "color": "red"
          },
          "showarrow": true,
          "text": "Bearish Divergence",
          "x": "2021-01-11T00:00:00",
          "y": 138.64428685053159
         },
         {
          "arrowcolor": "green",
          "arrowhead": 1,
          "arrowsize": 1,
          "arrowwidth": 2,
          "bgcolor": "rgba(255,255,255,0.8)",
          "font": {
           "color": "green"
          },
          "showarrow": true,
          "text": "Bullish Divergence",
          "x": "2021-02-26T00:00:00",
          "y": 129.66580502774576
         },
         {
          "arrowcolor": "red",
          "arrowhead": 1,
          "arrowsize": 1,
          "arrowwidth": 2,
          "bgcolor": "rgba(255,255,255,0.8)",
          "font": {
           "color": "red"
          },
          "showarrow": true,
          "text": "Bearish Divergence",
          "x": "2021-04-07T00:00:00",
          "y": 129.26962009197678
         },
         {
          "arrowcolor": "red",
          "arrowhead": 1,
          "arrowsize": 1,
          "arrowwidth": 2,
          "bgcolor": "rgba(255,255,255,0.8)",
          "font": {
           "color": "red"
          },
          "showarrow": true,
          "text": "Bearish Divergence",
          "x": "2021-07-30T00:00:00",
          "y": 147.91979845053908
         },
         {
          "arrowcolor": "green",
          "arrowhead": 1,
          "arrowsize": 1,
          "arrowwidth": 2,
          "bgcolor": "rgba(255,255,255,0.8)",
          "font": {
           "color": "green"
          },
          "showarrow": true,
          "text": "Bullish Divergence",
          "x": "2021-10-01T00:00:00",
          "y": 152.3233913497213
         },
         {
          "arrowcolor": "red",
          "arrowhead": 1,
          "arrowsize": 1,
          "arrowwidth": 2,
          "bgcolor": "rgba(255,255,255,0.8)",
          "font": {
           "color": "red"
          },
          "showarrow": true,
          "text": "Bearish Divergence",
          "x": "2021-11-18T00:00:00",
          "y": 164.65719414216758
         },
         {
          "arrowcolor": "green",
          "arrowhead": 1,
          "arrowsize": 1,
          "arrowwidth": 2,
          "bgcolor": "rgba(255,255,255,0.8)",
          "font": {
           "color": "green"
          },
          "showarrow": true,
          "text": "Bullish Divergence",
          "x": "2022-02-18T00:00:00",
          "y": 170.025000170329
         },
         {
          "arrowcolor": "red",
          "arrowhead": 1,
          "arrowsize": 1,
          "arrowwidth": 2,
          "bgcolor": "rgba(255,255,255,0.8)",
          "font": {
           "color": "red"
          },
          "showarrow": true,
          "text": "Bearish Divergence",
          "x": "2022-03-16T00:00:00",
          "y": 171.48141253220015
         },
         {
          "arrowcolor": "green",
          "arrowhead": 1,
          "arrowsize": 1,
          "arrowwidth": 2,
          "bgcolor": "rgba(255,255,255,0.8)",
          "font": {
           "color": "green"
          },
          "showarrow": true,
          "text": "Bullish Divergence",
          "x": "2022-05-17T00:00:00",
          "y": 156.6826562143055
         },
         {
          "arrowcolor": "red",
          "arrowhead": 1,
          "arrowsize": 1,
          "arrowwidth": 2,
          "bgcolor": "rgba(255,255,255,0.8)",
          "font": {
           "color": "red"
          },
          "showarrow": true,
          "text": "Bearish Divergence",
          "x": "2023-03-20T00:00:00",
          "y": 159.95688741717314
         },
         {
          "arrowcolor": "red",
          "arrowhead": 1,
          "arrowsize": 1,
          "arrowwidth": 2,
          "bgcolor": "rgba(255,255,255,0.8)",
          "font": {
           "color": "red"
          },
          "showarrow": true,
          "text": "Bearish Divergence",
          "x": "2023-12-04T00:00:00",
          "y": 195.10362089057514
         },
         {
          "arrowcolor": "green",
          "arrowhead": 1,
          "arrowsize": 1,
          "arrowwidth": 2,
          "bgcolor": "rgba(255,255,255,0.8)",
          "font": {
           "color": "green"
          },
          "showarrow": true,
          "text": "Bullish Divergence",
          "x": "2024-02-21T00:00:00",
          "y": 186.51915505175555
         },
         {
          "arrowcolor": "red",
          "arrowhead": 1,
          "arrowsize": 1,
          "arrowwidth": 2,
          "bgcolor": "rgba(255,255,255,0.8)",
          "font": {
           "color": "red"
          },
          "showarrow": true,
          "text": "Bearish Divergence",
          "x": "2024-06-27T00:00:00",
          "y": 227.94887960280184
         },
         {
          "arrowcolor": "red",
          "arrowhead": 1,
          "arrowsize": 1,
          "arrowwidth": 2,
          "bgcolor": "rgba(255,255,255,0.8)",
          "font": {
           "color": "red"
          },
          "showarrow": true,
          "text": "Bearish Divergence",
          "x": "2024-08-15T00:00:00",
          "y": 228.62640727247663
         },
         {
          "bgcolor": "rgba(255,255,255,0.8)",
          "font": {
           "size": 10
          },
          "showarrow": false,
          "text": "Note: adx is scaled to match price range for visualization",
          "x": 0.01,
          "xref": "paper",
          "y": 0.99,
          "yref": "paper"
         }
        ],
        "height": 800,
        "hovermode": "x unified",
        "legend": {
         "orientation": "h",
         "x": 1,
         "xanchor": "right",
         "y": 1.02
        },
        "template": {
         "data": {
          "bar": [
           {
            "error_x": {
             "color": "#2a3f5f"
            },
            "error_y": {
             "color": "#2a3f5f"
            },
            "marker": {
             "line": {
              "color": "#E5ECF6",
              "width": 0.5
             },
             "pattern": {
              "fillmode": "overlay",
              "size": 10,
              "solidity": 0.2
             }
            },
            "type": "bar"
           }
          ],
          "barpolar": [
           {
            "marker": {
             "line": {
              "color": "#E5ECF6",
              "width": 0.5
             },
             "pattern": {
              "fillmode": "overlay",
              "size": 10,
              "solidity": 0.2
             }
            },
            "type": "barpolar"
           }
          ],
          "carpet": [
           {
            "aaxis": {
             "endlinecolor": "#2a3f5f",
             "gridcolor": "white",
             "linecolor": "white",
             "minorgridcolor": "white",
             "startlinecolor": "#2a3f5f"
            },
            "baxis": {
             "endlinecolor": "#2a3f5f",
             "gridcolor": "white",
             "linecolor": "white",
             "minorgridcolor": "white",
             "startlinecolor": "#2a3f5f"
            },
            "type": "carpet"
           }
          ],
          "choropleth": [
           {
            "colorbar": {
             "outlinewidth": 0,
             "ticks": ""
            },
            "type": "choropleth"
           }
          ],
          "contour": [
           {
            "colorbar": {
             "outlinewidth": 0,
             "ticks": ""
            },
            "colorscale": [
             [
              0,
              "#0d0887"
             ],
             [
              0.1111111111111111,
              "#46039f"
             ],
             [
              0.2222222222222222,
              "#7201a8"
             ],
             [
              0.3333333333333333,
              "#9c179e"
             ],
             [
              0.4444444444444444,
              "#bd3786"
             ],
             [
              0.5555555555555556,
              "#d8576b"
             ],
             [
              0.6666666666666666,
              "#ed7953"
             ],
             [
              0.7777777777777778,
              "#fb9f3a"
             ],
             [
              0.8888888888888888,
              "#fdca26"
             ],
             [
              1,
              "#f0f921"
             ]
            ],
            "type": "contour"
           }
          ],
          "contourcarpet": [
           {
            "colorbar": {
             "outlinewidth": 0,
             "ticks": ""
            },
            "type": "contourcarpet"
           }
          ],
          "heatmap": [
           {
            "colorbar": {
             "outlinewidth": 0,
             "ticks": ""
            },
            "colorscale": [
             [
              0,
              "#0d0887"
             ],
             [
              0.1111111111111111,
              "#46039f"
             ],
             [
              0.2222222222222222,
              "#7201a8"
             ],
             [
              0.3333333333333333,
              "#9c179e"
             ],
             [
              0.4444444444444444,
              "#bd3786"
             ],
             [
              0.5555555555555556,
              "#d8576b"
             ],
             [
              0.6666666666666666,
              "#ed7953"
             ],
             [
              0.7777777777777778,
              "#fb9f3a"
             ],
             [
              0.8888888888888888,
              "#fdca26"
             ],
             [
              1,
              "#f0f921"
             ]
            ],
            "type": "heatmap"
           }
          ],
          "histogram": [
           {
            "marker": {
             "pattern": {
              "fillmode": "overlay",
              "size": 10,
              "solidity": 0.2
             }
            },
            "type": "histogram"
           }
          ],
          "histogram2d": [
           {
            "colorbar": {
             "outlinewidth": 0,
             "ticks": ""
            },
            "colorscale": [
             [
              0,
              "#0d0887"
             ],
             [
              0.1111111111111111,
              "#46039f"
             ],
             [
              0.2222222222222222,
              "#7201a8"
             ],
             [
              0.3333333333333333,
              "#9c179e"
             ],
             [
              0.4444444444444444,
              "#bd3786"
             ],
             [
              0.5555555555555556,
              "#d8576b"
             ],
             [
              0.6666666666666666,
              "#ed7953"
             ],
             [
              0.7777777777777778,
              "#fb9f3a"
             ],
             [
              0.8888888888888888,
              "#fdca26"
             ],
             [
              1,
              "#f0f921"
             ]
            ],
            "type": "histogram2d"
           }
          ],
          "histogram2dcontour": [
           {
            "colorbar": {
             "outlinewidth": 0,
             "ticks": ""
            },
            "colorscale": [
             [
              0,
              "#0d0887"
             ],
             [
              0.1111111111111111,
              "#46039f"
             ],
             [
              0.2222222222222222,
              "#7201a8"
             ],
             [
              0.3333333333333333,
              "#9c179e"
             ],
             [
              0.4444444444444444,
              "#bd3786"
             ],
             [
              0.5555555555555556,
              "#d8576b"
             ],
             [
              0.6666666666666666,
              "#ed7953"
             ],
             [
              0.7777777777777778,
              "#fb9f3a"
             ],
             [
              0.8888888888888888,
              "#fdca26"
             ],
             [
              1,
              "#f0f921"
             ]
            ],
            "type": "histogram2dcontour"
           }
          ],
          "mesh3d": [
           {
            "colorbar": {
             "outlinewidth": 0,
             "ticks": ""
            },
            "type": "mesh3d"
           }
          ],
          "parcoords": [
           {
            "line": {
             "colorbar": {
              "outlinewidth": 0,
              "ticks": ""
             }
            },
            "type": "parcoords"
           }
          ],
          "pie": [
           {
            "automargin": true,
            "type": "pie"
           }
          ],
          "scatter": [
           {
            "fillpattern": {
             "fillmode": "overlay",
             "size": 10,
             "solidity": 0.2
            },
            "type": "scatter"
           }
          ],
          "scatter3d": [
           {
            "line": {
             "colorbar": {
              "outlinewidth": 0,
              "ticks": ""
             }
            },
            "marker": {
             "colorbar": {
              "outlinewidth": 0,
              "ticks": ""
             }
            },
            "type": "scatter3d"
           }
          ],
          "scattercarpet": [
           {
            "marker": {
             "colorbar": {
              "outlinewidth": 0,
              "ticks": ""
             }
            },
            "type": "scattercarpet"
           }
          ],
          "scattergeo": [
           {
            "marker": {
             "colorbar": {
              "outlinewidth": 0,
              "ticks": ""
             }
            },
            "type": "scattergeo"
           }
          ],
          "scattergl": [
           {
            "marker": {
             "colorbar": {
              "outlinewidth": 0,
              "ticks": ""
             }
            },
            "type": "scattergl"
           }
          ],
          "scattermap": [
           {
            "marker": {
             "colorbar": {
              "outlinewidth": 0,
              "ticks": ""
             }
            },
            "type": "scattermap"
           }
          ],
          "scattermapbox": [
           {
            "marker": {
             "colorbar": {
              "outlinewidth": 0,
              "ticks": ""
             }
            },
            "type": "scattermapbox"
           }
          ],
          "scatterpolar": [
           {
            "marker": {
             "colorbar": {
              "outlinewidth": 0,
              "ticks": ""
             }
            },
            "type": "scatterpolar"
           }
          ],
          "scatterpolargl": [
           {
            "marker": {
             "colorbar": {
              "outlinewidth": 0,
              "ticks": ""
             }
            },
            "type": "scatterpolargl"
           }
          ],
          "scatterternary": [
           {
            "marker": {
             "colorbar": {
              "outlinewidth": 0,
              "ticks": ""
             }
            },
            "type": "scatterternary"
           }
          ],
          "surface": [
           {
            "colorbar": {
             "outlinewidth": 0,
             "ticks": ""
            },
            "colorscale": [
             [
              0,
              "#0d0887"
             ],
             [
              0.1111111111111111,
              "#46039f"
             ],
             [
              0.2222222222222222,
              "#7201a8"
             ],
             [
              0.3333333333333333,
              "#9c179e"
             ],
             [
              0.4444444444444444,
              "#bd3786"
             ],
             [
              0.5555555555555556,
              "#d8576b"
             ],
             [
              0.6666666666666666,
              "#ed7953"
             ],
             [
              0.7777777777777778,
              "#fb9f3a"
             ],
             [
              0.8888888888888888,
              "#fdca26"
             ],
             [
              1,
              "#f0f921"
             ]
            ],
            "type": "surface"
           }
          ],
          "table": [
           {
            "cells": {
             "fill": {
              "color": "#EBF0F8"
             },
             "line": {
              "color": "white"
             }
            },
            "header": {
             "fill": {
              "color": "#C8D4E3"
             },
             "line": {
              "color": "white"
             }
            },
            "type": "table"
           }
          ]
         },
         "layout": {
          "annotationdefaults": {
           "arrowcolor": "#2a3f5f",
           "arrowhead": 0,
           "arrowwidth": 1
          },
          "autotypenumbers": "strict",
          "coloraxis": {
           "colorbar": {
            "outlinewidth": 0,
            "ticks": ""
           }
          },
          "colorscale": {
           "diverging": [
            [
             0,
             "#8e0152"
            ],
            [
             0.1,
             "#c51b7d"
            ],
            [
             0.2,
             "#de77ae"
            ],
            [
             0.3,
             "#f1b6da"
            ],
            [
             0.4,
             "#fde0ef"
            ],
            [
             0.5,
             "#f7f7f7"
            ],
            [
             0.6,
             "#e6f5d0"
            ],
            [
             0.7,
             "#b8e186"
            ],
            [
             0.8,
             "#7fbc41"
            ],
            [
             0.9,
             "#4d9221"
            ],
            [
             1,
             "#276419"
            ]
           ],
           "sequential": [
            [
             0,
             "#0d0887"
            ],
            [
             0.1111111111111111,
             "#46039f"
            ],
            [
             0.2222222222222222,
             "#7201a8"
            ],
            [
             0.3333333333333333,
             "#9c179e"
            ],
            [
             0.4444444444444444,
             "#bd3786"
            ],
            [
             0.5555555555555556,
             "#d8576b"
            ],
            [
             0.6666666666666666,
             "#ed7953"
            ],
            [
             0.7777777777777778,
             "#fb9f3a"
            ],
            [
             0.8888888888888888,
             "#fdca26"
            ],
            [
             1,
             "#f0f921"
            ]
           ],
           "sequentialminus": [
            [
             0,
             "#0d0887"
            ],
            [
             0.1111111111111111,
             "#46039f"
            ],
            [
             0.2222222222222222,
             "#7201a8"
            ],
            [
             0.3333333333333333,
             "#9c179e"
            ],
            [
             0.4444444444444444,
             "#bd3786"
            ],
            [
             0.5555555555555556,
             "#d8576b"
            ],
            [
             0.6666666666666666,
             "#ed7953"
            ],
            [
             0.7777777777777778,
             "#fb9f3a"
            ],
            [
             0.8888888888888888,
             "#fdca26"
            ],
            [
             1,
             "#f0f921"
            ]
           ]
          },
          "colorway": [
           "#636efa",
           "#EF553B",
           "#00cc96",
           "#ab63fa",
           "#FFA15A",
           "#19d3f3",
           "#FF6692",
           "#B6E880",
           "#FF97FF",
           "#FECB52"
          ],
          "font": {
           "color": "#2a3f5f"
          },
          "geo": {
           "bgcolor": "white",
           "lakecolor": "white",
           "landcolor": "#E5ECF6",
           "showlakes": true,
           "showland": true,
           "subunitcolor": "white"
          },
          "hoverlabel": {
           "align": "left"
          },
          "hovermode": "closest",
          "mapbox": {
           "style": "light"
          },
          "paper_bgcolor": "white",
          "plot_bgcolor": "#E5ECF6",
          "polar": {
           "angularaxis": {
            "gridcolor": "white",
            "linecolor": "white",
            "ticks": ""
           },
           "bgcolor": "#E5ECF6",
           "radialaxis": {
            "gridcolor": "white",
            "linecolor": "white",
            "ticks": ""
           }
          },
          "scene": {
           "xaxis": {
            "backgroundcolor": "#E5ECF6",
            "gridcolor": "white",
            "gridwidth": 2,
            "linecolor": "white",
            "showbackground": true,
            "ticks": "",
            "zerolinecolor": "white"
           },
           "yaxis": {
            "backgroundcolor": "#E5ECF6",
            "gridcolor": "white",
            "gridwidth": 2,
            "linecolor": "white",
            "showbackground": true,
            "ticks": "",
            "zerolinecolor": "white"
           },
           "zaxis": {
            "backgroundcolor": "#E5ECF6",
            "gridcolor": "white",
            "gridwidth": 2,
            "linecolor": "white",
            "showbackground": true,
            "ticks": "",
            "zerolinecolor": "white"
           }
          },
          "shapedefaults": {
           "line": {
            "color": "#2a3f5f"
           }
          },
          "ternary": {
           "aaxis": {
            "gridcolor": "white",
            "linecolor": "white",
            "ticks": ""
           },
           "baxis": {
            "gridcolor": "white",
            "linecolor": "white",
            "ticks": ""
           },
           "bgcolor": "#E5ECF6",
           "caxis": {
            "gridcolor": "white",
            "linecolor": "white",
            "ticks": ""
           }
          },
          "title": {
           "x": 0.05
          },
          "xaxis": {
           "automargin": true,
           "gridcolor": "white",
           "linecolor": "white",
           "ticks": "",
           "title": {
            "standoff": 15
           },
           "zerolinecolor": "white",
           "zerolinewidth": 2
          },
          "yaxis": {
           "automargin": true,
           "gridcolor": "white",
           "linecolor": "white",
           "ticks": "",
           "title": {
            "standoff": 15
           },
           "zerolinecolor": "white",
           "zerolinewidth": 2
          }
         }
        },
        "title": {
         "text": "Highs Trendline Analysis: high vs adx"
        },
        "width": 1200,
        "xaxis": {
         "title": {
          "text": "Date"
         }
        },
        "yaxis": {
         "title": {
          "text": "Price"
         }
        },
        "yaxis2": {
         "overlaying": "y",
         "range": [
          11.454094044015298,
          72.15824385169289
         ],
         "showgrid": false,
         "side": "right",
         "title": {
          "text": "adx Value"
         }
        }
       }
      }
     },
     "metadata": {},
     "output_type": "display_data"
    },
    {
     "data": {
      "application/vnd.plotly.v1+json": {
       "config": {
        "plotlyServerURL": "https://plot.ly"
       },
       "data": [
        {
         "line": {
          "color": "blue",
          "width": 1
         },
         "name": "low",
         "type": "scatter",
         "x": [
          "2020-09-16T00:00:00.000000000",
          "2020-09-17T00:00:00.000000000",
          "2020-09-18T00:00:00.000000000",
          "2020-09-21T00:00:00.000000000",
          "2020-09-22T00:00:00.000000000",
          "2020-09-23T00:00:00.000000000",
          "2020-09-24T00:00:00.000000000",
          "2020-09-25T00:00:00.000000000",
          "2020-09-28T00:00:00.000000000",
          "2020-09-29T00:00:00.000000000",
          "2020-09-30T00:00:00.000000000",
          "2020-10-01T00:00:00.000000000",
          "2020-10-02T00:00:00.000000000",
          "2020-10-05T00:00:00.000000000",
          "2020-10-06T00:00:00.000000000",
          "2020-10-07T00:00:00.000000000",
          "2020-10-08T00:00:00.000000000",
          "2020-10-09T00:00:00.000000000",
          "2020-10-12T00:00:00.000000000",
          "2020-10-13T00:00:00.000000000",
          "2020-10-14T00:00:00.000000000",
          "2020-10-15T00:00:00.000000000",
          "2020-10-16T00:00:00.000000000",
          "2020-10-19T00:00:00.000000000",
          "2020-10-20T00:00:00.000000000",
          "2020-10-21T00:00:00.000000000",
          "2020-10-22T00:00:00.000000000",
          "2020-10-23T00:00:00.000000000",
          "2020-10-26T00:00:00.000000000",
          "2020-10-27T00:00:00.000000000",
          "2020-10-28T00:00:00.000000000",
          "2020-10-29T00:00:00.000000000",
          "2020-10-30T00:00:00.000000000",
          "2020-11-02T00:00:00.000000000",
          "2020-11-03T00:00:00.000000000",
          "2020-11-04T00:00:00.000000000",
          "2020-11-05T00:00:00.000000000",
          "2020-11-06T00:00:00.000000000",
          "2020-11-09T00:00:00.000000000",
          "2020-11-10T00:00:00.000000000",
          "2020-11-11T00:00:00.000000000",
          "2020-11-12T00:00:00.000000000",
          "2020-11-13T00:00:00.000000000",
          "2020-11-16T00:00:00.000000000",
          "2020-11-17T00:00:00.000000000",
          "2020-11-18T00:00:00.000000000",
          "2020-11-19T00:00:00.000000000",
          "2020-11-20T00:00:00.000000000",
          "2020-11-23T00:00:00.000000000",
          "2020-11-24T00:00:00.000000000",
          "2020-11-25T00:00:00.000000000",
          "2020-11-27T00:00:00.000000000",
          "2020-11-30T00:00:00.000000000",
          "2020-12-01T00:00:00.000000000",
          "2020-12-02T00:00:00.000000000",
          "2020-12-03T00:00:00.000000000",
          "2020-12-04T00:00:00.000000000",
          "2020-12-07T00:00:00.000000000",
          "2020-12-08T00:00:00.000000000",
          "2020-12-09T00:00:00.000000000",
          "2020-12-10T00:00:00.000000000",
          "2020-12-11T00:00:00.000000000",
          "2020-12-14T00:00:00.000000000",
          "2020-12-15T00:00:00.000000000",
          "2020-12-16T00:00:00.000000000",
          "2020-12-17T00:00:00.000000000",
          "2020-12-18T00:00:00.000000000",
          "2020-12-21T00:00:00.000000000",
          "2020-12-22T00:00:00.000000000",
          "2020-12-23T00:00:00.000000000",
          "2020-12-24T00:00:00.000000000",
          "2020-12-28T00:00:00.000000000",
          "2020-12-29T00:00:00.000000000",
          "2020-12-30T00:00:00.000000000",
          "2020-12-31T00:00:00.000000000",
          "2021-01-04T00:00:00.000000000",
          "2021-01-05T00:00:00.000000000",
          "2021-01-06T00:00:00.000000000",
          "2021-01-07T00:00:00.000000000",
          "2021-01-08T00:00:00.000000000",
          "2021-01-11T00:00:00.000000000",
          "2021-01-12T00:00:00.000000000",
          "2021-01-13T00:00:00.000000000",
          "2021-01-14T00:00:00.000000000",
          "2021-01-15T00:00:00.000000000",
          "2021-01-19T00:00:00.000000000",
          "2021-01-20T00:00:00.000000000",
          "2021-01-21T00:00:00.000000000",
          "2021-01-22T00:00:00.000000000",
          "2021-01-25T00:00:00.000000000",
          "2021-01-26T00:00:00.000000000",
          "2021-01-27T00:00:00.000000000",
          "2021-01-28T00:00:00.000000000",
          "2021-01-29T00:00:00.000000000",
          "2021-02-01T00:00:00.000000000",
          "2021-02-02T00:00:00.000000000",
          "2021-02-03T00:00:00.000000000",
          "2021-02-04T00:00:00.000000000",
          "2021-02-05T00:00:00.000000000",
          "2021-02-08T00:00:00.000000000",
          "2021-02-09T00:00:00.000000000",
          "2021-02-10T00:00:00.000000000",
          "2021-02-11T00:00:00.000000000",
          "2021-02-12T00:00:00.000000000",
          "2021-02-16T00:00:00.000000000",
          "2021-02-17T00:00:00.000000000",
          "2021-02-18T00:00:00.000000000",
          "2021-02-19T00:00:00.000000000",
          "2021-02-22T00:00:00.000000000",
          "2021-02-23T00:00:00.000000000",
          "2021-02-24T00:00:00.000000000",
          "2021-02-25T00:00:00.000000000",
          "2021-02-26T00:00:00.000000000",
          "2021-03-01T00:00:00.000000000",
          "2021-03-02T00:00:00.000000000",
          "2021-03-03T00:00:00.000000000",
          "2021-03-04T00:00:00.000000000",
          "2021-03-05T00:00:00.000000000",
          "2021-03-08T00:00:00.000000000",
          "2021-03-09T00:00:00.000000000",
          "2021-03-10T00:00:00.000000000",
          "2021-03-11T00:00:00.000000000",
          "2021-03-12T00:00:00.000000000",
          "2021-03-15T00:00:00.000000000",
          "2021-03-16T00:00:00.000000000",
          "2021-03-17T00:00:00.000000000",
          "2021-03-18T00:00:00.000000000",
          "2021-03-19T00:00:00.000000000",
          "2021-03-22T00:00:00.000000000",
          "2021-03-23T00:00:00.000000000",
          "2021-03-24T00:00:00.000000000",
          "2021-03-25T00:00:00.000000000",
          "2021-03-26T00:00:00.000000000",
          "2021-03-29T00:00:00.000000000",
          "2021-03-30T00:00:00.000000000",
          "2021-03-31T00:00:00.000000000",
          "2021-04-01T00:00:00.000000000",
          "2021-04-05T00:00:00.000000000",
          "2021-04-06T00:00:00.000000000",
          "2021-04-07T00:00:00.000000000",
          "2021-04-08T00:00:00.000000000",
          "2021-04-09T00:00:00.000000000",
          "2021-04-12T00:00:00.000000000",
          "2021-04-13T00:00:00.000000000",
          "2021-04-14T00:00:00.000000000",
          "2021-04-15T00:00:00.000000000",
          "2021-04-16T00:00:00.000000000",
          "2021-04-19T00:00:00.000000000",
          "2021-04-20T00:00:00.000000000",
          "2021-04-21T00:00:00.000000000",
          "2021-04-22T00:00:00.000000000",
          "2021-04-23T00:00:00.000000000",
          "2021-04-26T00:00:00.000000000",
          "2021-04-27T00:00:00.000000000",
          "2021-04-28T00:00:00.000000000",
          "2021-04-29T00:00:00.000000000",
          "2021-04-30T00:00:00.000000000",
          "2021-05-03T00:00:00.000000000",
          "2021-05-04T00:00:00.000000000",
          "2021-05-05T00:00:00.000000000",
          "2021-05-06T00:00:00.000000000",
          "2021-05-07T00:00:00.000000000",
          "2021-05-10T00:00:00.000000000",
          "2021-05-11T00:00:00.000000000",
          "2021-05-12T00:00:00.000000000",
          "2021-05-13T00:00:00.000000000",
          "2021-05-14T00:00:00.000000000",
          "2021-05-17T00:00:00.000000000",
          "2021-05-18T00:00:00.000000000",
          "2021-05-19T00:00:00.000000000",
          "2021-05-20T00:00:00.000000000",
          "2021-05-21T00:00:00.000000000",
          "2021-05-24T00:00:00.000000000",
          "2021-05-25T00:00:00.000000000",
          "2021-05-26T00:00:00.000000000",
          "2021-05-27T00:00:00.000000000",
          "2021-05-28T00:00:00.000000000",
          "2021-06-01T00:00:00.000000000",
          "2021-06-02T00:00:00.000000000",
          "2021-06-03T00:00:00.000000000",
          "2021-06-04T00:00:00.000000000",
          "2021-06-07T00:00:00.000000000",
          "2021-06-08T00:00:00.000000000",
          "2021-06-09T00:00:00.000000000",
          "2021-06-10T00:00:00.000000000",
          "2021-06-11T00:00:00.000000000",
          "2021-06-14T00:00:00.000000000",
          "2021-06-15T00:00:00.000000000",
          "2021-06-16T00:00:00.000000000",
          "2021-06-17T00:00:00.000000000",
          "2021-06-18T00:00:00.000000000",
          "2021-06-21T00:00:00.000000000",
          "2021-06-22T00:00:00.000000000",
          "2021-06-23T00:00:00.000000000",
          "2021-06-24T00:00:00.000000000",
          "2021-06-25T00:00:00.000000000",
          "2021-06-28T00:00:00.000000000",
          "2021-06-29T00:00:00.000000000",
          "2021-06-30T00:00:00.000000000",
          "2021-07-01T00:00:00.000000000",
          "2021-07-02T00:00:00.000000000",
          "2021-07-06T00:00:00.000000000",
          "2021-07-07T00:00:00.000000000",
          "2021-07-08T00:00:00.000000000",
          "2021-07-09T00:00:00.000000000",
          "2021-07-12T00:00:00.000000000",
          "2021-07-13T00:00:00.000000000",
          "2021-07-14T00:00:00.000000000",
          "2021-07-15T00:00:00.000000000",
          "2021-07-16T00:00:00.000000000",
          "2021-07-19T00:00:00.000000000",
          "2021-07-20T00:00:00.000000000",
          "2021-07-21T00:00:00.000000000",
          "2021-07-22T00:00:00.000000000",
          "2021-07-23T00:00:00.000000000",
          "2021-07-26T00:00:00.000000000",
          "2021-07-27T00:00:00.000000000",
          "2021-07-28T00:00:00.000000000",
          "2021-07-29T00:00:00.000000000",
          "2021-07-30T00:00:00.000000000",
          "2021-08-02T00:00:00.000000000",
          "2021-08-03T00:00:00.000000000",
          "2021-08-04T00:00:00.000000000",
          "2021-08-05T00:00:00.000000000",
          "2021-08-06T00:00:00.000000000",
          "2021-08-09T00:00:00.000000000",
          "2021-08-10T00:00:00.000000000",
          "2021-08-11T00:00:00.000000000",
          "2021-08-12T00:00:00.000000000",
          "2021-08-13T00:00:00.000000000",
          "2021-08-16T00:00:00.000000000",
          "2021-08-17T00:00:00.000000000",
          "2021-08-18T00:00:00.000000000",
          "2021-08-19T00:00:00.000000000",
          "2021-08-20T00:00:00.000000000",
          "2021-08-23T00:00:00.000000000",
          "2021-08-24T00:00:00.000000000",
          "2021-08-25T00:00:00.000000000",
          "2021-08-26T00:00:00.000000000",
          "2021-08-27T00:00:00.000000000",
          "2021-08-30T00:00:00.000000000",
          "2021-08-31T00:00:00.000000000",
          "2021-09-01T00:00:00.000000000",
          "2021-09-02T00:00:00.000000000",
          "2021-09-03T00:00:00.000000000",
          "2021-09-07T00:00:00.000000000",
          "2021-09-08T00:00:00.000000000",
          "2021-09-09T00:00:00.000000000",
          "2021-09-10T00:00:00.000000000",
          "2021-09-13T00:00:00.000000000",
          "2021-09-14T00:00:00.000000000",
          "2021-09-15T00:00:00.000000000",
          "2021-09-16T00:00:00.000000000",
          "2021-09-17T00:00:00.000000000",
          "2021-09-20T00:00:00.000000000",
          "2021-09-21T00:00:00.000000000",
          "2021-09-22T00:00:00.000000000",
          "2021-09-23T00:00:00.000000000",
          "2021-09-24T00:00:00.000000000",
          "2021-09-27T00:00:00.000000000",
          "2021-09-28T00:00:00.000000000",
          "2021-09-29T00:00:00.000000000",
          "2021-09-30T00:00:00.000000000",
          "2021-10-01T00:00:00.000000000",
          "2021-10-04T00:00:00.000000000",
          "2021-10-05T00:00:00.000000000",
          "2021-10-06T00:00:00.000000000",
          "2021-10-07T00:00:00.000000000",
          "2021-10-08T00:00:00.000000000",
          "2021-10-11T00:00:00.000000000",
          "2021-10-12T00:00:00.000000000",
          "2021-10-13T00:00:00.000000000",
          "2021-10-14T00:00:00.000000000",
          "2021-10-15T00:00:00.000000000",
          "2021-10-18T00:00:00.000000000",
          "2021-10-19T00:00:00.000000000",
          "2021-10-20T00:00:00.000000000",
          "2021-10-21T00:00:00.000000000",
          "2021-10-22T00:00:00.000000000",
          "2021-10-25T00:00:00.000000000",
          "2021-10-26T00:00:00.000000000",
          "2021-10-27T00:00:00.000000000",
          "2021-10-28T00:00:00.000000000",
          "2021-10-29T00:00:00.000000000",
          "2021-11-01T00:00:00.000000000",
          "2021-11-02T00:00:00.000000000",
          "2021-11-03T00:00:00.000000000",
          "2021-11-04T00:00:00.000000000",
          "2021-11-05T00:00:00.000000000",
          "2021-11-08T00:00:00.000000000",
          "2021-11-09T00:00:00.000000000",
          "2021-11-10T00:00:00.000000000",
          "2021-11-11T00:00:00.000000000",
          "2021-11-12T00:00:00.000000000",
          "2021-11-15T00:00:00.000000000",
          "2021-11-16T00:00:00.000000000",
          "2021-11-17T00:00:00.000000000",
          "2021-11-18T00:00:00.000000000",
          "2021-11-19T00:00:00.000000000",
          "2021-11-22T00:00:00.000000000",
          "2021-11-23T00:00:00.000000000",
          "2021-11-24T00:00:00.000000000",
          "2021-11-26T00:00:00.000000000",
          "2021-11-29T00:00:00.000000000",
          "2021-11-30T00:00:00.000000000",
          "2021-12-01T00:00:00.000000000",
          "2021-12-02T00:00:00.000000000",
          "2021-12-03T00:00:00.000000000",
          "2021-12-06T00:00:00.000000000",
          "2021-12-07T00:00:00.000000000",
          "2021-12-08T00:00:00.000000000",
          "2021-12-09T00:00:00.000000000",
          "2021-12-10T00:00:00.000000000",
          "2021-12-13T00:00:00.000000000",
          "2021-12-14T00:00:00.000000000",
          "2021-12-15T00:00:00.000000000",
          "2021-12-16T00:00:00.000000000",
          "2021-12-17T00:00:00.000000000",
          "2021-12-20T00:00:00.000000000",
          "2021-12-21T00:00:00.000000000",
          "2021-12-22T00:00:00.000000000",
          "2021-12-23T00:00:00.000000000",
          "2021-12-27T00:00:00.000000000",
          "2021-12-28T00:00:00.000000000",
          "2021-12-29T00:00:00.000000000",
          "2021-12-30T00:00:00.000000000",
          "2021-12-31T00:00:00.000000000",
          "2022-01-03T00:00:00.000000000",
          "2022-01-04T00:00:00.000000000",
          "2022-01-05T00:00:00.000000000",
          "2022-01-06T00:00:00.000000000",
          "2022-01-07T00:00:00.000000000",
          "2022-01-10T00:00:00.000000000",
          "2022-01-11T00:00:00.000000000",
          "2022-01-12T00:00:00.000000000",
          "2022-01-13T00:00:00.000000000",
          "2022-01-14T00:00:00.000000000",
          "2022-01-18T00:00:00.000000000",
          "2022-01-19T00:00:00.000000000",
          "2022-01-20T00:00:00.000000000",
          "2022-01-21T00:00:00.000000000",
          "2022-01-24T00:00:00.000000000",
          "2022-01-25T00:00:00.000000000",
          "2022-01-26T00:00:00.000000000",
          "2022-01-27T00:00:00.000000000",
          "2022-01-28T00:00:00.000000000",
          "2022-01-31T00:00:00.000000000",
          "2022-02-01T00:00:00.000000000",
          "2022-02-02T00:00:00.000000000",
          "2022-02-03T00:00:00.000000000",
          "2022-02-04T00:00:00.000000000",
          "2022-02-07T00:00:00.000000000",
          "2022-02-08T00:00:00.000000000",
          "2022-02-09T00:00:00.000000000",
          "2022-02-10T00:00:00.000000000",
          "2022-02-11T00:00:00.000000000",
          "2022-02-14T00:00:00.000000000",
          "2022-02-15T00:00:00.000000000",
          "2022-02-16T00:00:00.000000000",
          "2022-02-17T00:00:00.000000000",
          "2022-02-18T00:00:00.000000000",
          "2022-02-22T00:00:00.000000000",
          "2022-02-23T00:00:00.000000000",
          "2022-02-24T00:00:00.000000000",
          "2022-02-25T00:00:00.000000000",
          "2022-02-28T00:00:00.000000000",
          "2022-03-01T00:00:00.000000000",
          "2022-03-02T00:00:00.000000000",
          "2022-03-03T00:00:00.000000000",
          "2022-03-04T00:00:00.000000000",
          "2022-03-07T00:00:00.000000000",
          "2022-03-08T00:00:00.000000000",
          "2022-03-09T00:00:00.000000000",
          "2022-03-10T00:00:00.000000000",
          "2022-03-11T00:00:00.000000000",
          "2022-03-14T00:00:00.000000000",
          "2022-03-15T00:00:00.000000000",
          "2022-03-16T00:00:00.000000000",
          "2022-03-17T00:00:00.000000000",
          "2022-03-18T00:00:00.000000000",
          "2022-03-21T00:00:00.000000000",
          "2022-03-22T00:00:00.000000000",
          "2022-03-23T00:00:00.000000000",
          "2022-03-24T00:00:00.000000000",
          "2022-03-25T00:00:00.000000000",
          "2022-03-28T00:00:00.000000000",
          "2022-03-29T00:00:00.000000000",
          "2022-03-30T00:00:00.000000000",
          "2022-03-31T00:00:00.000000000",
          "2022-04-01T00:00:00.000000000",
          "2022-04-04T00:00:00.000000000",
          "2022-04-05T00:00:00.000000000",
          "2022-04-06T00:00:00.000000000",
          "2022-04-07T00:00:00.000000000",
          "2022-04-08T00:00:00.000000000",
          "2022-04-11T00:00:00.000000000",
          "2022-04-12T00:00:00.000000000",
          "2022-04-13T00:00:00.000000000",
          "2022-04-14T00:00:00.000000000",
          "2022-04-18T00:00:00.000000000",
          "2022-04-19T00:00:00.000000000",
          "2022-04-20T00:00:00.000000000",
          "2022-04-21T00:00:00.000000000",
          "2022-04-22T00:00:00.000000000",
          "2022-04-25T00:00:00.000000000",
          "2022-04-26T00:00:00.000000000",
          "2022-04-27T00:00:00.000000000",
          "2022-04-28T00:00:00.000000000",
          "2022-04-29T00:00:00.000000000",
          "2022-05-02T00:00:00.000000000",
          "2022-05-03T00:00:00.000000000",
          "2022-05-04T00:00:00.000000000",
          "2022-05-05T00:00:00.000000000",
          "2022-05-06T00:00:00.000000000",
          "2022-05-09T00:00:00.000000000",
          "2022-05-10T00:00:00.000000000",
          "2022-05-11T00:00:00.000000000",
          "2022-05-12T00:00:00.000000000",
          "2022-05-13T00:00:00.000000000",
          "2022-05-16T00:00:00.000000000",
          "2022-05-17T00:00:00.000000000",
          "2022-05-18T00:00:00.000000000",
          "2022-05-19T00:00:00.000000000",
          "2022-05-20T00:00:00.000000000",
          "2022-05-23T00:00:00.000000000",
          "2022-05-24T00:00:00.000000000",
          "2022-05-25T00:00:00.000000000",
          "2022-05-26T00:00:00.000000000",
          "2022-05-27T00:00:00.000000000",
          "2022-05-31T00:00:00.000000000",
          "2022-06-01T00:00:00.000000000",
          "2022-06-02T00:00:00.000000000",
          "2022-06-03T00:00:00.000000000",
          "2022-06-06T00:00:00.000000000",
          "2022-06-07T00:00:00.000000000",
          "2022-06-08T00:00:00.000000000",
          "2022-06-09T00:00:00.000000000",
          "2022-06-10T00:00:00.000000000",
          "2022-06-13T00:00:00.000000000",
          "2022-06-14T00:00:00.000000000",
          "2022-06-15T00:00:00.000000000",
          "2022-06-16T00:00:00.000000000",
          "2022-06-17T00:00:00.000000000",
          "2022-06-21T00:00:00.000000000",
          "2022-06-22T00:00:00.000000000",
          "2022-06-23T00:00:00.000000000",
          "2022-06-24T00:00:00.000000000",
          "2022-06-27T00:00:00.000000000",
          "2022-06-28T00:00:00.000000000",
          "2022-06-29T00:00:00.000000000",
          "2022-06-30T00:00:00.000000000",
          "2022-07-01T00:00:00.000000000",
          "2022-07-05T00:00:00.000000000",
          "2022-07-06T00:00:00.000000000",
          "2022-07-07T00:00:00.000000000",
          "2022-07-08T00:00:00.000000000",
          "2022-07-11T00:00:00.000000000",
          "2022-07-12T00:00:00.000000000",
          "2022-07-13T00:00:00.000000000",
          "2022-07-14T00:00:00.000000000",
          "2022-07-15T00:00:00.000000000",
          "2022-07-18T00:00:00.000000000",
          "2022-07-19T00:00:00.000000000",
          "2022-07-20T00:00:00.000000000",
          "2022-07-21T00:00:00.000000000",
          "2022-07-22T00:00:00.000000000",
          "2022-07-25T00:00:00.000000000",
          "2022-07-26T00:00:00.000000000",
          "2022-07-27T00:00:00.000000000",
          "2022-07-28T00:00:00.000000000",
          "2022-07-29T00:00:00.000000000",
          "2022-08-01T00:00:00.000000000",
          "2022-08-02T00:00:00.000000000",
          "2022-08-03T00:00:00.000000000",
          "2022-08-04T00:00:00.000000000",
          "2022-08-05T00:00:00.000000000",
          "2022-08-08T00:00:00.000000000",
          "2022-08-09T00:00:00.000000000",
          "2022-08-10T00:00:00.000000000",
          "2022-08-11T00:00:00.000000000",
          "2022-08-12T00:00:00.000000000",
          "2022-08-15T00:00:00.000000000",
          "2022-08-16T00:00:00.000000000",
          "2022-08-17T00:00:00.000000000",
          "2022-08-18T00:00:00.000000000",
          "2022-08-19T00:00:00.000000000",
          "2022-08-22T00:00:00.000000000",
          "2022-08-23T00:00:00.000000000",
          "2022-08-24T00:00:00.000000000",
          "2022-08-25T00:00:00.000000000",
          "2022-08-26T00:00:00.000000000",
          "2022-08-29T00:00:00.000000000",
          "2022-08-30T00:00:00.000000000",
          "2022-08-31T00:00:00.000000000",
          "2022-09-01T00:00:00.000000000",
          "2022-09-02T00:00:00.000000000",
          "2022-09-06T00:00:00.000000000",
          "2022-09-07T00:00:00.000000000",
          "2022-09-08T00:00:00.000000000",
          "2022-09-09T00:00:00.000000000",
          "2022-09-12T00:00:00.000000000",
          "2022-09-13T00:00:00.000000000",
          "2022-09-14T00:00:00.000000000",
          "2022-09-15T00:00:00.000000000",
          "2022-09-16T00:00:00.000000000",
          "2022-09-19T00:00:00.000000000",
          "2022-09-20T00:00:00.000000000",
          "2022-09-21T00:00:00.000000000",
          "2022-09-22T00:00:00.000000000",
          "2022-09-23T00:00:00.000000000",
          "2022-09-26T00:00:00.000000000",
          "2022-09-27T00:00:00.000000000",
          "2022-09-28T00:00:00.000000000",
          "2022-09-29T00:00:00.000000000",
          "2022-09-30T00:00:00.000000000",
          "2022-10-03T00:00:00.000000000",
          "2022-10-04T00:00:00.000000000",
          "2022-10-05T00:00:00.000000000",
          "2022-10-06T00:00:00.000000000",
          "2022-10-07T00:00:00.000000000",
          "2022-10-10T00:00:00.000000000",
          "2022-10-11T00:00:00.000000000",
          "2022-10-12T00:00:00.000000000",
          "2022-10-13T00:00:00.000000000",
          "2022-10-14T00:00:00.000000000",
          "2022-10-17T00:00:00.000000000",
          "2022-10-18T00:00:00.000000000",
          "2022-10-19T00:00:00.000000000",
          "2022-10-20T00:00:00.000000000",
          "2022-10-21T00:00:00.000000000",
          "2022-10-24T00:00:00.000000000",
          "2022-10-25T00:00:00.000000000",
          "2022-10-26T00:00:00.000000000",
          "2022-10-27T00:00:00.000000000",
          "2022-10-28T00:00:00.000000000",
          "2022-10-31T00:00:00.000000000",
          "2022-11-01T00:00:00.000000000",
          "2022-11-02T00:00:00.000000000",
          "2022-11-03T00:00:00.000000000",
          "2022-11-04T00:00:00.000000000",
          "2022-11-07T00:00:00.000000000",
          "2022-11-08T00:00:00.000000000",
          "2022-11-09T00:00:00.000000000",
          "2022-11-10T00:00:00.000000000",
          "2022-11-11T00:00:00.000000000",
          "2022-11-14T00:00:00.000000000",
          "2022-11-15T00:00:00.000000000",
          "2022-11-16T00:00:00.000000000",
          "2022-11-17T00:00:00.000000000",
          "2022-11-18T00:00:00.000000000",
          "2022-11-21T00:00:00.000000000",
          "2022-11-22T00:00:00.000000000",
          "2022-11-23T00:00:00.000000000",
          "2022-11-25T00:00:00.000000000",
          "2022-11-28T00:00:00.000000000",
          "2022-11-29T00:00:00.000000000",
          "2022-11-30T00:00:00.000000000",
          "2022-12-01T00:00:00.000000000",
          "2022-12-02T00:00:00.000000000",
          "2022-12-05T00:00:00.000000000",
          "2022-12-06T00:00:00.000000000",
          "2022-12-07T00:00:00.000000000",
          "2022-12-08T00:00:00.000000000",
          "2022-12-09T00:00:00.000000000",
          "2022-12-12T00:00:00.000000000",
          "2022-12-13T00:00:00.000000000",
          "2022-12-14T00:00:00.000000000",
          "2022-12-15T00:00:00.000000000",
          "2022-12-16T00:00:00.000000000",
          "2022-12-19T00:00:00.000000000",
          "2022-12-20T00:00:00.000000000",
          "2022-12-21T00:00:00.000000000",
          "2022-12-22T00:00:00.000000000",
          "2022-12-23T00:00:00.000000000",
          "2022-12-27T00:00:00.000000000",
          "2022-12-28T00:00:00.000000000",
          "2022-12-29T00:00:00.000000000",
          "2022-12-30T00:00:00.000000000",
          "2023-01-03T00:00:00.000000000",
          "2023-01-04T00:00:00.000000000",
          "2023-01-05T00:00:00.000000000",
          "2023-01-06T00:00:00.000000000",
          "2023-01-09T00:00:00.000000000",
          "2023-01-10T00:00:00.000000000",
          "2023-01-11T00:00:00.000000000",
          "2023-01-12T00:00:00.000000000",
          "2023-01-13T00:00:00.000000000",
          "2023-01-17T00:00:00.000000000",
          "2023-01-18T00:00:00.000000000",
          "2023-01-19T00:00:00.000000000",
          "2023-01-20T00:00:00.000000000",
          "2023-01-23T00:00:00.000000000",
          "2023-01-24T00:00:00.000000000",
          "2023-01-25T00:00:00.000000000",
          "2023-01-26T00:00:00.000000000",
          "2023-01-27T00:00:00.000000000",
          "2023-01-30T00:00:00.000000000",
          "2023-01-31T00:00:00.000000000",
          "2023-02-01T00:00:00.000000000",
          "2023-02-02T00:00:00.000000000",
          "2023-02-03T00:00:00.000000000",
          "2023-02-06T00:00:00.000000000",
          "2023-02-07T00:00:00.000000000",
          "2023-02-08T00:00:00.000000000",
          "2023-02-09T00:00:00.000000000",
          "2023-02-10T00:00:00.000000000",
          "2023-02-13T00:00:00.000000000",
          "2023-02-14T00:00:00.000000000",
          "2023-02-15T00:00:00.000000000",
          "2023-02-16T00:00:00.000000000",
          "2023-02-17T00:00:00.000000000",
          "2023-02-21T00:00:00.000000000",
          "2023-02-22T00:00:00.000000000",
          "2023-02-23T00:00:00.000000000",
          "2023-02-24T00:00:00.000000000",
          "2023-02-27T00:00:00.000000000",
          "2023-02-28T00:00:00.000000000",
          "2023-03-01T00:00:00.000000000",
          "2023-03-02T00:00:00.000000000",
          "2023-03-03T00:00:00.000000000",
          "2023-03-06T00:00:00.000000000",
          "2023-03-07T00:00:00.000000000",
          "2023-03-08T00:00:00.000000000",
          "2023-03-09T00:00:00.000000000",
          "2023-03-10T00:00:00.000000000",
          "2023-03-13T00:00:00.000000000",
          "2023-03-14T00:00:00.000000000",
          "2023-03-15T00:00:00.000000000",
          "2023-03-16T00:00:00.000000000",
          "2023-03-17T00:00:00.000000000",
          "2023-03-20T00:00:00.000000000",
          "2023-03-21T00:00:00.000000000",
          "2023-03-22T00:00:00.000000000",
          "2023-03-23T00:00:00.000000000",
          "2023-03-24T00:00:00.000000000",
          "2023-03-27T00:00:00.000000000",
          "2023-03-28T00:00:00.000000000",
          "2023-03-29T00:00:00.000000000",
          "2023-03-30T00:00:00.000000000",
          "2023-03-31T00:00:00.000000000",
          "2023-04-03T00:00:00.000000000",
          "2023-04-04T00:00:00.000000000",
          "2023-04-05T00:00:00.000000000",
          "2023-04-06T00:00:00.000000000",
          "2023-04-10T00:00:00.000000000",
          "2023-04-11T00:00:00.000000000",
          "2023-04-12T00:00:00.000000000",
          "2023-04-13T00:00:00.000000000",
          "2023-04-14T00:00:00.000000000",
          "2023-04-17T00:00:00.000000000",
          "2023-04-18T00:00:00.000000000",
          "2023-04-19T00:00:00.000000000",
          "2023-04-20T00:00:00.000000000",
          "2023-04-21T00:00:00.000000000",
          "2023-04-24T00:00:00.000000000",
          "2023-04-25T00:00:00.000000000",
          "2023-04-26T00:00:00.000000000",
          "2023-04-27T00:00:00.000000000",
          "2023-04-28T00:00:00.000000000",
          "2023-05-01T00:00:00.000000000",
          "2023-05-02T00:00:00.000000000",
          "2023-05-03T00:00:00.000000000",
          "2023-05-04T00:00:00.000000000",
          "2023-05-05T00:00:00.000000000",
          "2023-05-08T00:00:00.000000000",
          "2023-05-09T00:00:00.000000000",
          "2023-05-10T00:00:00.000000000",
          "2023-05-11T00:00:00.000000000",
          "2023-05-12T00:00:00.000000000",
          "2023-05-15T00:00:00.000000000",
          "2023-05-16T00:00:00.000000000",
          "2023-05-17T00:00:00.000000000",
          "2023-05-18T00:00:00.000000000",
          "2023-05-19T00:00:00.000000000",
          "2023-05-22T00:00:00.000000000",
          "2023-05-23T00:00:00.000000000",
          "2023-05-24T00:00:00.000000000",
          "2023-05-25T00:00:00.000000000",
          "2023-05-26T00:00:00.000000000",
          "2023-05-30T00:00:00.000000000",
          "2023-05-31T00:00:00.000000000",
          "2023-06-01T00:00:00.000000000",
          "2023-06-02T00:00:00.000000000",
          "2023-06-05T00:00:00.000000000",
          "2023-06-06T00:00:00.000000000",
          "2023-06-07T00:00:00.000000000",
          "2023-06-08T00:00:00.000000000",
          "2023-06-09T00:00:00.000000000",
          "2023-06-12T00:00:00.000000000",
          "2023-06-13T00:00:00.000000000",
          "2023-06-14T00:00:00.000000000",
          "2023-06-15T00:00:00.000000000",
          "2023-06-16T00:00:00.000000000",
          "2023-06-20T00:00:00.000000000",
          "2023-06-21T00:00:00.000000000",
          "2023-06-22T00:00:00.000000000",
          "2023-06-23T00:00:00.000000000",
          "2023-06-26T00:00:00.000000000",
          "2023-06-27T00:00:00.000000000",
          "2023-06-28T00:00:00.000000000",
          "2023-06-29T00:00:00.000000000",
          "2023-06-30T00:00:00.000000000",
          "2023-07-03T00:00:00.000000000",
          "2023-07-05T00:00:00.000000000",
          "2023-07-06T00:00:00.000000000",
          "2023-07-07T00:00:00.000000000",
          "2023-07-10T00:00:00.000000000",
          "2023-07-11T00:00:00.000000000",
          "2023-07-12T00:00:00.000000000",
          "2023-07-13T00:00:00.000000000",
          "2023-07-14T00:00:00.000000000",
          "2023-07-17T00:00:00.000000000",
          "2023-07-18T00:00:00.000000000",
          "2023-07-19T00:00:00.000000000",
          "2023-07-20T00:00:00.000000000",
          "2023-07-21T00:00:00.000000000",
          "2023-07-24T00:00:00.000000000",
          "2023-07-25T00:00:00.000000000",
          "2023-07-26T00:00:00.000000000",
          "2023-07-27T00:00:00.000000000",
          "2023-07-28T00:00:00.000000000",
          "2023-07-31T00:00:00.000000000",
          "2023-08-01T00:00:00.000000000",
          "2023-08-02T00:00:00.000000000",
          "2023-08-03T00:00:00.000000000",
          "2023-08-04T00:00:00.000000000",
          "2023-08-07T00:00:00.000000000",
          "2023-08-08T00:00:00.000000000",
          "2023-08-09T00:00:00.000000000",
          "2023-08-10T00:00:00.000000000",
          "2023-08-11T00:00:00.000000000",
          "2023-08-14T00:00:00.000000000",
          "2023-08-15T00:00:00.000000000",
          "2023-08-16T00:00:00.000000000",
          "2023-08-17T00:00:00.000000000",
          "2023-08-18T00:00:00.000000000",
          "2023-08-21T00:00:00.000000000",
          "2023-08-22T00:00:00.000000000",
          "2023-08-23T00:00:00.000000000",
          "2023-08-24T00:00:00.000000000",
          "2023-08-25T00:00:00.000000000",
          "2023-08-28T00:00:00.000000000",
          "2023-08-29T00:00:00.000000000",
          "2023-08-30T00:00:00.000000000",
          "2023-08-31T00:00:00.000000000",
          "2023-09-01T00:00:00.000000000",
          "2023-09-05T00:00:00.000000000",
          "2023-09-06T00:00:00.000000000",
          "2023-09-07T00:00:00.000000000",
          "2023-09-08T00:00:00.000000000",
          "2023-09-11T00:00:00.000000000",
          "2023-09-12T00:00:00.000000000",
          "2023-09-13T00:00:00.000000000",
          "2023-09-14T00:00:00.000000000",
          "2023-09-15T00:00:00.000000000",
          "2023-09-18T00:00:00.000000000",
          "2023-09-19T00:00:00.000000000",
          "2023-09-20T00:00:00.000000000",
          "2023-09-21T00:00:00.000000000",
          "2023-09-22T00:00:00.000000000",
          "2023-09-25T00:00:00.000000000",
          "2023-09-26T00:00:00.000000000",
          "2023-09-27T00:00:00.000000000",
          "2023-09-28T00:00:00.000000000",
          "2023-09-29T00:00:00.000000000",
          "2023-10-02T00:00:00.000000000",
          "2023-10-03T00:00:00.000000000",
          "2023-10-04T00:00:00.000000000",
          "2023-10-05T00:00:00.000000000",
          "2023-10-06T00:00:00.000000000",
          "2023-10-09T00:00:00.000000000",
          "2023-10-10T00:00:00.000000000",
          "2023-10-11T00:00:00.000000000",
          "2023-10-12T00:00:00.000000000",
          "2023-10-13T00:00:00.000000000",
          "2023-10-16T00:00:00.000000000",
          "2023-10-17T00:00:00.000000000",
          "2023-10-18T00:00:00.000000000",
          "2023-10-19T00:00:00.000000000",
          "2023-10-20T00:00:00.000000000",
          "2023-10-23T00:00:00.000000000",
          "2023-10-24T00:00:00.000000000",
          "2023-10-25T00:00:00.000000000",
          "2023-10-26T00:00:00.000000000",
          "2023-10-27T00:00:00.000000000",
          "2023-10-30T00:00:00.000000000",
          "2023-10-31T00:00:00.000000000",
          "2023-11-01T00:00:00.000000000",
          "2023-11-02T00:00:00.000000000",
          "2023-11-03T00:00:00.000000000",
          "2023-11-06T00:00:00.000000000",
          "2023-11-07T00:00:00.000000000",
          "2023-11-08T00:00:00.000000000",
          "2023-11-09T00:00:00.000000000",
          "2023-11-10T00:00:00.000000000",
          "2023-11-13T00:00:00.000000000",
          "2023-11-14T00:00:00.000000000",
          "2023-11-15T00:00:00.000000000",
          "2023-11-16T00:00:00.000000000",
          "2023-11-17T00:00:00.000000000",
          "2023-11-20T00:00:00.000000000",
          "2023-11-21T00:00:00.000000000",
          "2023-11-22T00:00:00.000000000",
          "2023-11-24T00:00:00.000000000",
          "2023-11-27T00:00:00.000000000",
          "2023-11-28T00:00:00.000000000",
          "2023-11-29T00:00:00.000000000",
          "2023-11-30T00:00:00.000000000",
          "2023-12-01T00:00:00.000000000",
          "2023-12-04T00:00:00.000000000",
          "2023-12-05T00:00:00.000000000",
          "2023-12-06T00:00:00.000000000",
          "2023-12-07T00:00:00.000000000",
          "2023-12-08T00:00:00.000000000",
          "2023-12-11T00:00:00.000000000",
          "2023-12-12T00:00:00.000000000",
          "2023-12-13T00:00:00.000000000",
          "2023-12-14T00:00:00.000000000",
          "2023-12-15T00:00:00.000000000",
          "2023-12-18T00:00:00.000000000",
          "2023-12-19T00:00:00.000000000",
          "2023-12-20T00:00:00.000000000",
          "2023-12-21T00:00:00.000000000",
          "2023-12-22T00:00:00.000000000",
          "2023-12-26T00:00:00.000000000",
          "2023-12-27T00:00:00.000000000",
          "2023-12-28T00:00:00.000000000",
          "2023-12-29T00:00:00.000000000",
          "2024-01-02T00:00:00.000000000",
          "2024-01-03T00:00:00.000000000",
          "2024-01-04T00:00:00.000000000",
          "2024-01-05T00:00:00.000000000",
          "2024-01-08T00:00:00.000000000",
          "2024-01-09T00:00:00.000000000",
          "2024-01-10T00:00:00.000000000",
          "2024-01-11T00:00:00.000000000",
          "2024-01-12T00:00:00.000000000",
          "2024-01-16T00:00:00.000000000",
          "2024-01-17T00:00:00.000000000",
          "2024-01-18T00:00:00.000000000",
          "2024-01-19T00:00:00.000000000",
          "2024-01-22T00:00:00.000000000",
          "2024-01-23T00:00:00.000000000",
          "2024-01-24T00:00:00.000000000",
          "2024-01-25T00:00:00.000000000",
          "2024-01-26T00:00:00.000000000",
          "2024-01-29T00:00:00.000000000",
          "2024-01-30T00:00:00.000000000",
          "2024-01-31T00:00:00.000000000",
          "2024-02-01T00:00:00.000000000",
          "2024-02-02T00:00:00.000000000",
          "2024-02-05T00:00:00.000000000",
          "2024-02-06T00:00:00.000000000",
          "2024-02-07T00:00:00.000000000",
          "2024-02-08T00:00:00.000000000",
          "2024-02-09T00:00:00.000000000",
          "2024-02-12T00:00:00.000000000",
          "2024-02-13T00:00:00.000000000",
          "2024-02-14T00:00:00.000000000",
          "2024-02-15T00:00:00.000000000",
          "2024-02-16T00:00:00.000000000",
          "2024-02-20T00:00:00.000000000",
          "2024-02-21T00:00:00.000000000",
          "2024-02-22T00:00:00.000000000",
          "2024-02-23T00:00:00.000000000",
          "2024-02-26T00:00:00.000000000",
          "2024-02-27T00:00:00.000000000",
          "2024-02-28T00:00:00.000000000",
          "2024-02-29T00:00:00.000000000",
          "2024-03-01T00:00:00.000000000",
          "2024-03-04T00:00:00.000000000",
          "2024-03-05T00:00:00.000000000",
          "2024-03-06T00:00:00.000000000",
          "2024-03-07T00:00:00.000000000",
          "2024-03-08T00:00:00.000000000",
          "2024-03-11T00:00:00.000000000",
          "2024-03-12T00:00:00.000000000",
          "2024-03-13T00:00:00.000000000",
          "2024-03-14T00:00:00.000000000",
          "2024-03-15T00:00:00.000000000",
          "2024-03-18T00:00:00.000000000",
          "2024-03-19T00:00:00.000000000",
          "2024-03-20T00:00:00.000000000",
          "2024-03-21T00:00:00.000000000",
          "2024-03-22T00:00:00.000000000",
          "2024-03-25T00:00:00.000000000",
          "2024-03-26T00:00:00.000000000",
          "2024-03-27T00:00:00.000000000",
          "2024-03-28T00:00:00.000000000",
          "2024-04-01T00:00:00.000000000",
          "2024-04-02T00:00:00.000000000",
          "2024-04-03T00:00:00.000000000",
          "2024-04-04T00:00:00.000000000",
          "2024-04-05T00:00:00.000000000",
          "2024-04-08T00:00:00.000000000",
          "2024-04-09T00:00:00.000000000",
          "2024-04-10T00:00:00.000000000",
          "2024-04-11T00:00:00.000000000",
          "2024-04-12T00:00:00.000000000",
          "2024-04-15T00:00:00.000000000",
          "2024-04-16T00:00:00.000000000",
          "2024-04-17T00:00:00.000000000",
          "2024-04-18T00:00:00.000000000",
          "2024-04-19T00:00:00.000000000",
          "2024-04-22T00:00:00.000000000",
          "2024-04-23T00:00:00.000000000",
          "2024-04-24T00:00:00.000000000",
          "2024-04-25T00:00:00.000000000",
          "2024-04-26T00:00:00.000000000",
          "2024-04-29T00:00:00.000000000",
          "2024-04-30T00:00:00.000000000",
          "2024-05-01T00:00:00.000000000",
          "2024-05-02T00:00:00.000000000",
          "2024-05-03T00:00:00.000000000",
          "2024-05-06T00:00:00.000000000",
          "2024-05-07T00:00:00.000000000",
          "2024-05-08T00:00:00.000000000",
          "2024-05-09T00:00:00.000000000",
          "2024-05-10T00:00:00.000000000",
          "2024-05-13T00:00:00.000000000",
          "2024-05-14T00:00:00.000000000",
          "2024-05-15T00:00:00.000000000",
          "2024-05-16T00:00:00.000000000",
          "2024-05-17T00:00:00.000000000",
          "2024-05-20T00:00:00.000000000",
          "2024-05-21T00:00:00.000000000",
          "2024-05-22T00:00:00.000000000",
          "2024-05-23T00:00:00.000000000",
          "2024-05-24T00:00:00.000000000",
          "2024-05-28T00:00:00.000000000",
          "2024-05-29T00:00:00.000000000",
          "2024-05-30T00:00:00.000000000",
          "2024-05-31T00:00:00.000000000",
          "2024-06-03T00:00:00.000000000",
          "2024-06-04T00:00:00.000000000",
          "2024-06-05T00:00:00.000000000",
          "2024-06-06T00:00:00.000000000",
          "2024-06-07T00:00:00.000000000",
          "2024-06-10T00:00:00.000000000",
          "2024-06-11T00:00:00.000000000",
          "2024-06-12T00:00:00.000000000",
          "2024-06-13T00:00:00.000000000",
          "2024-06-14T00:00:00.000000000",
          "2024-06-17T00:00:00.000000000",
          "2024-06-18T00:00:00.000000000",
          "2024-06-20T00:00:00.000000000",
          "2024-06-21T00:00:00.000000000",
          "2024-06-24T00:00:00.000000000",
          "2024-06-25T00:00:00.000000000",
          "2024-06-26T00:00:00.000000000",
          "2024-06-27T00:00:00.000000000",
          "2024-06-28T00:00:00.000000000",
          "2024-07-01T00:00:00.000000000",
          "2024-07-02T00:00:00.000000000",
          "2024-07-03T00:00:00.000000000",
          "2024-07-05T00:00:00.000000000",
          "2024-07-08T00:00:00.000000000",
          "2024-07-09T00:00:00.000000000",
          "2024-07-10T00:00:00.000000000",
          "2024-07-11T00:00:00.000000000",
          "2024-07-12T00:00:00.000000000",
          "2024-07-15T00:00:00.000000000",
          "2024-07-16T00:00:00.000000000",
          "2024-07-17T00:00:00.000000000",
          "2024-07-18T00:00:00.000000000",
          "2024-07-19T00:00:00.000000000",
          "2024-07-22T00:00:00.000000000",
          "2024-07-23T00:00:00.000000000",
          "2024-07-24T00:00:00.000000000",
          "2024-07-25T00:00:00.000000000",
          "2024-07-26T00:00:00.000000000",
          "2024-07-29T00:00:00.000000000",
          "2024-07-30T00:00:00.000000000",
          "2024-07-31T00:00:00.000000000",
          "2024-08-01T00:00:00.000000000",
          "2024-08-02T00:00:00.000000000",
          "2024-08-05T00:00:00.000000000",
          "2024-08-06T00:00:00.000000000",
          "2024-08-07T00:00:00.000000000",
          "2024-08-08T00:00:00.000000000",
          "2024-08-09T00:00:00.000000000",
          "2024-08-12T00:00:00.000000000",
          "2024-08-13T00:00:00.000000000",
          "2024-08-14T00:00:00.000000000",
          "2024-08-15T00:00:00.000000000",
          "2024-08-16T00:00:00.000000000",
          "2024-08-19T00:00:00.000000000",
          "2024-08-20T00:00:00.000000000",
          "2024-08-21T00:00:00.000000000",
          "2024-08-22T00:00:00.000000000",
          "2024-08-23T00:00:00.000000000",
          "2024-08-26T00:00:00.000000000",
          "2024-08-27T00:00:00.000000000",
          "2024-08-28T00:00:00.000000000",
          "2024-08-29T00:00:00.000000000",
          "2024-08-30T00:00:00.000000000",
          "2024-09-03T00:00:00.000000000",
          "2024-09-04T00:00:00.000000000",
          "2024-09-05T00:00:00.000000000",
          "2024-09-06T00:00:00.000000000",
          "2024-09-09T00:00:00.000000000",
          "2024-09-10T00:00:00.000000000",
          "2024-09-11T00:00:00.000000000",
          "2024-09-12T00:00:00.000000000",
          "2024-09-13T00:00:00.000000000",
          "2024-09-16T00:00:00.000000000",
          "2024-09-17T00:00:00.000000000",
          "2024-09-18T00:00:00.000000000",
          "2024-09-19T00:00:00.000000000",
          "2024-09-20T00:00:00.000000000",
          "2024-09-23T00:00:00.000000000",
          "2024-09-24T00:00:00.000000000",
          "2024-09-25T00:00:00.000000000",
          "2024-09-26T00:00:00.000000000",
          "2024-09-27T00:00:00.000000000",
          "2024-09-30T00:00:00.000000000",
          "2024-10-01T00:00:00.000000000",
          "2024-10-02T00:00:00.000000000",
          "2024-10-03T00:00:00.000000000",
          "2024-10-04T00:00:00.000000000",
          "2024-10-07T00:00:00.000000000",
          "2024-10-08T00:00:00.000000000",
          "2024-10-09T00:00:00.000000000",
          "2024-10-10T00:00:00.000000000",
          "2024-10-11T00:00:00.000000000",
          "2024-10-14T00:00:00.000000000",
          "2024-10-15T00:00:00.000000000",
          "2024-10-16T00:00:00.000000000",
          "2024-10-17T00:00:00.000000000",
          "2024-10-18T00:00:00.000000000",
          "2024-10-21T00:00:00.000000000",
          "2024-10-22T00:00:00.000000000",
          "2024-10-23T00:00:00.000000000",
          "2024-10-24T00:00:00.000000000",
          "2024-10-25T00:00:00.000000000",
          "2024-10-28T00:00:00.000000000",
          "2024-10-29T00:00:00.000000000",
          "2024-10-30T00:00:00.000000000",
          "2024-10-31T00:00:00.000000000",
          "2024-11-01T00:00:00.000000000",
          "2024-11-04T00:00:00.000000000",
          "2024-11-05T00:00:00.000000000",
          "2024-11-06T00:00:00.000000000",
          "2024-11-07T00:00:00.000000000",
          "2024-11-08T00:00:00.000000000",
          "2024-11-11T00:00:00.000000000",
          "2024-11-12T00:00:00.000000000",
          "2024-11-13T00:00:00.000000000",
          "2024-11-14T00:00:00.000000000",
          "2024-11-15T00:00:00.000000000",
          "2024-11-18T00:00:00.000000000",
          "2024-11-19T00:00:00.000000000",
          "2024-11-20T00:00:00.000000000",
          "2024-11-21T00:00:00.000000000",
          "2024-11-22T00:00:00.000000000",
          "2024-11-25T00:00:00.000000000",
          "2024-11-26T00:00:00.000000000",
          "2024-11-27T00:00:00.000000000",
          "2024-11-29T00:00:00.000000000",
          "2024-12-02T00:00:00.000000000",
          "2024-12-03T00:00:00.000000000",
          "2024-12-04T00:00:00.000000000",
          "2024-12-05T00:00:00.000000000",
          "2024-12-06T00:00:00.000000000",
          "2024-12-09T00:00:00.000000000",
          "2024-12-10T00:00:00.000000000",
          "2024-12-11T00:00:00.000000000",
          "2024-12-12T00:00:00.000000000",
          "2024-12-13T00:00:00.000000000",
          "2024-12-16T00:00:00.000000000",
          "2024-12-17T00:00:00.000000000",
          "2024-12-18T00:00:00.000000000",
          "2024-12-19T00:00:00.000000000",
          "2024-12-20T00:00:00.000000000",
          "2024-12-23T00:00:00.000000000",
          "2024-12-24T00:00:00.000000000",
          "2024-12-26T00:00:00.000000000",
          "2024-12-27T00:00:00.000000000",
          "2024-12-30T00:00:00.000000000",
          "2024-12-31T00:00:00.000000000",
          "2025-01-02T00:00:00.000000000",
          "2025-01-03T00:00:00.000000000",
          "2025-01-06T00:00:00.000000000",
          "2025-01-07T00:00:00.000000000",
          "2025-01-08T00:00:00.000000000",
          "2025-01-10T00:00:00.000000000",
          "2025-01-13T00:00:00.000000000",
          "2025-01-14T00:00:00.000000000",
          "2025-01-15T00:00:00.000000000",
          "2025-01-16T00:00:00.000000000",
          "2025-01-17T00:00:00.000000000",
          "2025-01-21T00:00:00.000000000",
          "2025-01-22T00:00:00.000000000",
          "2025-01-23T00:00:00.000000000",
          "2025-01-24T00:00:00.000000000"
         ],
         "y": {
          "bdata": "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",
          "dtype": "f8"
         }
        },
        {
         "line": {
          "color": "black",
          "dash": "dot",
          "width": 1
         },
         "name": "adx (scaled)",
         "type": "scatter",
         "x": [
          "2020-09-16T00:00:00.000000000",
          "2020-09-17T00:00:00.000000000",
          "2020-09-18T00:00:00.000000000",
          "2020-09-21T00:00:00.000000000",
          "2020-09-22T00:00:00.000000000",
          "2020-09-23T00:00:00.000000000",
          "2020-09-24T00:00:00.000000000",
          "2020-09-25T00:00:00.000000000",
          "2020-09-28T00:00:00.000000000",
          "2020-09-29T00:00:00.000000000",
          "2020-09-30T00:00:00.000000000",
          "2020-10-01T00:00:00.000000000",
          "2020-10-02T00:00:00.000000000",
          "2020-10-05T00:00:00.000000000",
          "2020-10-06T00:00:00.000000000",
          "2020-10-07T00:00:00.000000000",
          "2020-10-08T00:00:00.000000000",
          "2020-10-09T00:00:00.000000000",
          "2020-10-12T00:00:00.000000000",
          "2020-10-13T00:00:00.000000000",
          "2020-10-14T00:00:00.000000000",
          "2020-10-15T00:00:00.000000000",
          "2020-10-16T00:00:00.000000000",
          "2020-10-19T00:00:00.000000000",
          "2020-10-20T00:00:00.000000000",
          "2020-10-21T00:00:00.000000000",
          "2020-10-22T00:00:00.000000000",
          "2020-10-23T00:00:00.000000000",
          "2020-10-26T00:00:00.000000000",
          "2020-10-27T00:00:00.000000000",
          "2020-10-28T00:00:00.000000000",
          "2020-10-29T00:00:00.000000000",
          "2020-10-30T00:00:00.000000000",
          "2020-11-02T00:00:00.000000000",
          "2020-11-03T00:00:00.000000000",
          "2020-11-04T00:00:00.000000000",
          "2020-11-05T00:00:00.000000000",
          "2020-11-06T00:00:00.000000000",
          "2020-11-09T00:00:00.000000000",
          "2020-11-10T00:00:00.000000000",
          "2020-11-11T00:00:00.000000000",
          "2020-11-12T00:00:00.000000000",
          "2020-11-13T00:00:00.000000000",
          "2020-11-16T00:00:00.000000000",
          "2020-11-17T00:00:00.000000000",
          "2020-11-18T00:00:00.000000000",
          "2020-11-19T00:00:00.000000000",
          "2020-11-20T00:00:00.000000000",
          "2020-11-23T00:00:00.000000000",
          "2020-11-24T00:00:00.000000000",
          "2020-11-25T00:00:00.000000000",
          "2020-11-27T00:00:00.000000000",
          "2020-11-30T00:00:00.000000000",
          "2020-12-01T00:00:00.000000000",
          "2020-12-02T00:00:00.000000000",
          "2020-12-03T00:00:00.000000000",
          "2020-12-04T00:00:00.000000000",
          "2020-12-07T00:00:00.000000000",
          "2020-12-08T00:00:00.000000000",
          "2020-12-09T00:00:00.000000000",
          "2020-12-10T00:00:00.000000000",
          "2020-12-11T00:00:00.000000000",
          "2020-12-14T00:00:00.000000000",
          "2020-12-15T00:00:00.000000000",
          "2020-12-16T00:00:00.000000000",
          "2020-12-17T00:00:00.000000000",
          "2020-12-18T00:00:00.000000000",
          "2020-12-21T00:00:00.000000000",
          "2020-12-22T00:00:00.000000000",
          "2020-12-23T00:00:00.000000000",
          "2020-12-24T00:00:00.000000000",
          "2020-12-28T00:00:00.000000000",
          "2020-12-29T00:00:00.000000000",
          "2020-12-30T00:00:00.000000000",
          "2020-12-31T00:00:00.000000000",
          "2021-01-04T00:00:00.000000000",
          "2021-01-05T00:00:00.000000000",
          "2021-01-06T00:00:00.000000000",
          "2021-01-07T00:00:00.000000000",
          "2021-01-08T00:00:00.000000000",
          "2021-01-11T00:00:00.000000000",
          "2021-01-12T00:00:00.000000000",
          "2021-01-13T00:00:00.000000000",
          "2021-01-14T00:00:00.000000000",
          "2021-01-15T00:00:00.000000000",
          "2021-01-19T00:00:00.000000000",
          "2021-01-20T00:00:00.000000000",
          "2021-01-21T00:00:00.000000000",
          "2021-01-22T00:00:00.000000000",
          "2021-01-25T00:00:00.000000000",
          "2021-01-26T00:00:00.000000000",
          "2021-01-27T00:00:00.000000000",
          "2021-01-28T00:00:00.000000000",
          "2021-01-29T00:00:00.000000000",
          "2021-02-01T00:00:00.000000000",
          "2021-02-02T00:00:00.000000000",
          "2021-02-03T00:00:00.000000000",
          "2021-02-04T00:00:00.000000000",
          "2021-02-05T00:00:00.000000000",
          "2021-02-08T00:00:00.000000000",
          "2021-02-09T00:00:00.000000000",
          "2021-02-10T00:00:00.000000000",
          "2021-02-11T00:00:00.000000000",
          "2021-02-12T00:00:00.000000000",
          "2021-02-16T00:00:00.000000000",
          "2021-02-17T00:00:00.000000000",
          "2021-02-18T00:00:00.000000000",
          "2021-02-19T00:00:00.000000000",
          "2021-02-22T00:00:00.000000000",
          "2021-02-23T00:00:00.000000000",
          "2021-02-24T00:00:00.000000000",
          "2021-02-25T00:00:00.000000000",
          "2021-02-26T00:00:00.000000000",
          "2021-03-01T00:00:00.000000000",
          "2021-03-02T00:00:00.000000000",
          "2021-03-03T00:00:00.000000000",
          "2021-03-04T00:00:00.000000000",
          "2021-03-05T00:00:00.000000000",
          "2021-03-08T00:00:00.000000000",
          "2021-03-09T00:00:00.000000000",
          "2021-03-10T00:00:00.000000000",
          "2021-03-11T00:00:00.000000000",
          "2021-03-12T00:00:00.000000000",
          "2021-03-15T00:00:00.000000000",
          "2021-03-16T00:00:00.000000000",
          "2021-03-17T00:00:00.000000000",
          "2021-03-18T00:00:00.000000000",
          "2021-03-19T00:00:00.000000000",
          "2021-03-22T00:00:00.000000000",
          "2021-03-23T00:00:00.000000000",
          "2021-03-24T00:00:00.000000000",
          "2021-03-25T00:00:00.000000000",
          "2021-03-26T00:00:00.000000000",
          "2021-03-29T00:00:00.000000000",
          "2021-03-30T00:00:00.000000000",
          "2021-03-31T00:00:00.000000000",
          "2021-04-01T00:00:00.000000000",
          "2021-04-05T00:00:00.000000000",
          "2021-04-06T00:00:00.000000000",
          "2021-04-07T00:00:00.000000000",
          "2021-04-08T00:00:00.000000000",
          "2021-04-09T00:00:00.000000000",
          "2021-04-12T00:00:00.000000000",
          "2021-04-13T00:00:00.000000000",
          "2021-04-14T00:00:00.000000000",
          "2021-04-15T00:00:00.000000000",
          "2021-04-16T00:00:00.000000000",
          "2021-04-19T00:00:00.000000000",
          "2021-04-20T00:00:00.000000000",
          "2021-04-21T00:00:00.000000000",
          "2021-04-22T00:00:00.000000000",
          "2021-04-23T00:00:00.000000000",
          "2021-04-26T00:00:00.000000000",
          "2021-04-27T00:00:00.000000000",
          "2021-04-28T00:00:00.000000000",
          "2021-04-29T00:00:00.000000000",
          "2021-04-30T00:00:00.000000000",
          "2021-05-03T00:00:00.000000000",
          "2021-05-04T00:00:00.000000000",
          "2021-05-05T00:00:00.000000000",
          "2021-05-06T00:00:00.000000000",
          "2021-05-07T00:00:00.000000000",
          "2021-05-10T00:00:00.000000000",
          "2021-05-11T00:00:00.000000000",
          "2021-05-12T00:00:00.000000000",
          "2021-05-13T00:00:00.000000000",
          "2021-05-14T00:00:00.000000000",
          "2021-05-17T00:00:00.000000000",
          "2021-05-18T00:00:00.000000000",
          "2021-05-19T00:00:00.000000000",
          "2021-05-20T00:00:00.000000000",
          "2021-05-21T00:00:00.000000000",
          "2021-05-24T00:00:00.000000000",
          "2021-05-25T00:00:00.000000000",
          "2021-05-26T00:00:00.000000000",
          "2021-05-27T00:00:00.000000000",
          "2021-05-28T00:00:00.000000000",
          "2021-06-01T00:00:00.000000000",
          "2021-06-02T00:00:00.000000000",
          "2021-06-03T00:00:00.000000000",
          "2021-06-04T00:00:00.000000000",
          "2021-06-07T00:00:00.000000000",
          "2021-06-08T00:00:00.000000000",
          "2021-06-09T00:00:00.000000000",
          "2021-06-10T00:00:00.000000000",
          "2021-06-11T00:00:00.000000000",
          "2021-06-14T00:00:00.000000000",
          "2021-06-15T00:00:00.000000000",
          "2021-06-16T00:00:00.000000000",
          "2021-06-17T00:00:00.000000000",
          "2021-06-18T00:00:00.000000000",
          "2021-06-21T00:00:00.000000000",
          "2021-06-22T00:00:00.000000000",
          "2021-06-23T00:00:00.000000000",
          "2021-06-24T00:00:00.000000000",
          "2021-06-25T00:00:00.000000000",
          "2021-06-28T00:00:00.000000000",
          "2021-06-29T00:00:00.000000000",
          "2021-06-30T00:00:00.000000000",
          "2021-07-01T00:00:00.000000000",
          "2021-07-02T00:00:00.000000000",
          "2021-07-06T00:00:00.000000000",
          "2021-07-07T00:00:00.000000000",
          "2021-07-08T00:00:00.000000000",
          "2021-07-09T00:00:00.000000000",
          "2021-07-12T00:00:00.000000000",
          "2021-07-13T00:00:00.000000000",
          "2021-07-14T00:00:00.000000000",
          "2021-07-15T00:00:00.000000000",
          "2021-07-16T00:00:00.000000000",
          "2021-07-19T00:00:00.000000000",
          "2021-07-20T00:00:00.000000000",
          "2021-07-21T00:00:00.000000000",
          "2021-07-22T00:00:00.000000000",
          "2021-07-23T00:00:00.000000000",
          "2021-07-26T00:00:00.000000000",
          "2021-07-27T00:00:00.000000000",
          "2021-07-28T00:00:00.000000000",
          "2021-07-29T00:00:00.000000000",
          "2021-07-30T00:00:00.000000000",
          "2021-08-02T00:00:00.000000000",
          "2021-08-03T00:00:00.000000000",
          "2021-08-04T00:00:00.000000000",
          "2021-08-05T00:00:00.000000000",
          "2021-08-06T00:00:00.000000000",
          "2021-08-09T00:00:00.000000000",
          "2021-08-10T00:00:00.000000000",
          "2021-08-11T00:00:00.000000000",
          "2021-08-12T00:00:00.000000000",
          "2021-08-13T00:00:00.000000000",
          "2021-08-16T00:00:00.000000000",
          "2021-08-17T00:00:00.000000000",
          "2021-08-18T00:00:00.000000000",
          "2021-08-19T00:00:00.000000000",
          "2021-08-20T00:00:00.000000000",
          "2021-08-23T00:00:00.000000000",
          "2021-08-24T00:00:00.000000000",
          "2021-08-25T00:00:00.000000000",
          "2021-08-26T00:00:00.000000000",
          "2021-08-27T00:00:00.000000000",
          "2021-08-30T00:00:00.000000000",
          "2021-08-31T00:00:00.000000000",
          "2021-09-01T00:00:00.000000000",
          "2021-09-02T00:00:00.000000000",
          "2021-09-03T00:00:00.000000000",
          "2021-09-07T00:00:00.000000000",
          "2021-09-08T00:00:00.000000000",
          "2021-09-09T00:00:00.000000000",
          "2021-09-10T00:00:00.000000000",
          "2021-09-13T00:00:00.000000000",
          "2021-09-14T00:00:00.000000000",
          "2021-09-15T00:00:00.000000000",
          "2021-09-16T00:00:00.000000000",
          "2021-09-17T00:00:00.000000000",
          "2021-09-20T00:00:00.000000000",
          "2021-09-21T00:00:00.000000000",
          "2021-09-22T00:00:00.000000000",
          "2021-09-23T00:00:00.000000000",
          "2021-09-24T00:00:00.000000000",
          "2021-09-27T00:00:00.000000000",
          "2021-09-28T00:00:00.000000000",
          "2021-09-29T00:00:00.000000000",
          "2021-09-30T00:00:00.000000000",
          "2021-10-01T00:00:00.000000000",
          "2021-10-04T00:00:00.000000000",
          "2021-10-05T00:00:00.000000000",
          "2021-10-06T00:00:00.000000000",
          "2021-10-07T00:00:00.000000000",
          "2021-10-08T00:00:00.000000000",
          "2021-10-11T00:00:00.000000000",
          "2021-10-12T00:00:00.000000000",
          "2021-10-13T00:00:00.000000000",
          "2021-10-14T00:00:00.000000000",
          "2021-10-15T00:00:00.000000000",
          "2021-10-18T00:00:00.000000000",
          "2021-10-19T00:00:00.000000000",
          "2021-10-20T00:00:00.000000000",
          "2021-10-21T00:00:00.000000000",
          "2021-10-22T00:00:00.000000000",
          "2021-10-25T00:00:00.000000000",
          "2021-10-26T00:00:00.000000000",
          "2021-10-27T00:00:00.000000000",
          "2021-10-28T00:00:00.000000000",
          "2021-10-29T00:00:00.000000000",
          "2021-11-01T00:00:00.000000000",
          "2021-11-02T00:00:00.000000000",
          "2021-11-03T00:00:00.000000000",
          "2021-11-04T00:00:00.000000000",
          "2021-11-05T00:00:00.000000000",
          "2021-11-08T00:00:00.000000000",
          "2021-11-09T00:00:00.000000000",
          "2021-11-10T00:00:00.000000000",
          "2021-11-11T00:00:00.000000000",
          "2021-11-12T00:00:00.000000000",
          "2021-11-15T00:00:00.000000000",
          "2021-11-16T00:00:00.000000000",
          "2021-11-17T00:00:00.000000000",
          "2021-11-18T00:00:00.000000000",
          "2021-11-19T00:00:00.000000000",
          "2021-11-22T00:00:00.000000000",
          "2021-11-23T00:00:00.000000000",
          "2021-11-24T00:00:00.000000000",
          "2021-11-26T00:00:00.000000000",
          "2021-11-29T00:00:00.000000000",
          "2021-11-30T00:00:00.000000000",
          "2021-12-01T00:00:00.000000000",
          "2021-12-02T00:00:00.000000000",
          "2021-12-03T00:00:00.000000000",
          "2021-12-06T00:00:00.000000000",
          "2021-12-07T00:00:00.000000000",
          "2021-12-08T00:00:00.000000000",
          "2021-12-09T00:00:00.000000000",
          "2021-12-10T00:00:00.000000000",
          "2021-12-13T00:00:00.000000000",
          "2021-12-14T00:00:00.000000000",
          "2021-12-15T00:00:00.000000000",
          "2021-12-16T00:00:00.000000000",
          "2021-12-17T00:00:00.000000000",
          "2021-12-20T00:00:00.000000000",
          "2021-12-21T00:00:00.000000000",
          "2021-12-22T00:00:00.000000000",
          "2021-12-23T00:00:00.000000000",
          "2021-12-27T00:00:00.000000000",
          "2021-12-28T00:00:00.000000000",
          "2021-12-29T00:00:00.000000000",
          "2021-12-30T00:00:00.000000000",
          "2021-12-31T00:00:00.000000000",
          "2022-01-03T00:00:00.000000000",
          "2022-01-04T00:00:00.000000000",
          "2022-01-05T00:00:00.000000000",
          "2022-01-06T00:00:00.000000000",
          "2022-01-07T00:00:00.000000000",
          "2022-01-10T00:00:00.000000000",
          "2022-01-11T00:00:00.000000000",
          "2022-01-12T00:00:00.000000000",
          "2022-01-13T00:00:00.000000000",
          "2022-01-14T00:00:00.000000000",
          "2022-01-18T00:00:00.000000000",
          "2022-01-19T00:00:00.000000000",
          "2022-01-20T00:00:00.000000000",
          "2022-01-21T00:00:00.000000000",
          "2022-01-24T00:00:00.000000000",
          "2022-01-25T00:00:00.000000000",
          "2022-01-26T00:00:00.000000000",
          "2022-01-27T00:00:00.000000000",
          "2022-01-28T00:00:00.000000000",
          "2022-01-31T00:00:00.000000000",
          "2022-02-01T00:00:00.000000000",
          "2022-02-02T00:00:00.000000000",
          "2022-02-03T00:00:00.000000000",
          "2022-02-04T00:00:00.000000000",
          "2022-02-07T00:00:00.000000000",
          "2022-02-08T00:00:00.000000000",
          "2022-02-09T00:00:00.000000000",
          "2022-02-10T00:00:00.000000000",
          "2022-02-11T00:00:00.000000000",
          "2022-02-14T00:00:00.000000000",
          "2022-02-15T00:00:00.000000000",
          "2022-02-16T00:00:00.000000000",
          "2022-02-17T00:00:00.000000000",
          "2022-02-18T00:00:00.000000000",
          "2022-02-22T00:00:00.000000000",
          "2022-02-23T00:00:00.000000000",
          "2022-02-24T00:00:00.000000000",
          "2022-02-25T00:00:00.000000000",
          "2022-02-28T00:00:00.000000000",
          "2022-03-01T00:00:00.000000000",
          "2022-03-02T00:00:00.000000000",
          "2022-03-03T00:00:00.000000000",
          "2022-03-04T00:00:00.000000000",
          "2022-03-07T00:00:00.000000000",
          "2022-03-08T00:00:00.000000000",
          "2022-03-09T00:00:00.000000000",
          "2022-03-10T00:00:00.000000000",
          "2022-03-11T00:00:00.000000000",
          "2022-03-14T00:00:00.000000000",
          "2022-03-15T00:00:00.000000000",
          "2022-03-16T00:00:00.000000000",
          "2022-03-17T00:00:00.000000000",
          "2022-03-18T00:00:00.000000000",
          "2022-03-21T00:00:00.000000000",
          "2022-03-22T00:00:00.000000000",
          "2022-03-23T00:00:00.000000000",
          "2022-03-24T00:00:00.000000000",
          "2022-03-25T00:00:00.000000000",
          "2022-03-28T00:00:00.000000000",
          "2022-03-29T00:00:00.000000000",
          "2022-03-30T00:00:00.000000000",
          "2022-03-31T00:00:00.000000000",
          "2022-04-01T00:00:00.000000000",
          "2022-04-04T00:00:00.000000000",
          "2022-04-05T00:00:00.000000000",
          "2022-04-06T00:00:00.000000000",
          "2022-04-07T00:00:00.000000000",
          "2022-04-08T00:00:00.000000000",
          "2022-04-11T00:00:00.000000000",
          "2022-04-12T00:00:00.000000000",
          "2022-04-13T00:00:00.000000000",
          "2022-04-14T00:00:00.000000000",
          "2022-04-18T00:00:00.000000000",
          "2022-04-19T00:00:00.000000000",
          "2022-04-20T00:00:00.000000000",
          "2022-04-21T00:00:00.000000000",
          "2022-04-22T00:00:00.000000000",
          "2022-04-25T00:00:00.000000000",
          "2022-04-26T00:00:00.000000000",
          "2022-04-27T00:00:00.000000000",
          "2022-04-28T00:00:00.000000000",
          "2022-04-29T00:00:00.000000000",
          "2022-05-02T00:00:00.000000000",
          "2022-05-03T00:00:00.000000000",
          "2022-05-04T00:00:00.000000000",
          "2022-05-05T00:00:00.000000000",
          "2022-05-06T00:00:00.000000000",
          "2022-05-09T00:00:00.000000000",
          "2022-05-10T00:00:00.000000000",
          "2022-05-11T00:00:00.000000000",
          "2022-05-12T00:00:00.000000000",
          "2022-05-13T00:00:00.000000000",
          "2022-05-16T00:00:00.000000000",
          "2022-05-17T00:00:00.000000000",
          "2022-05-18T00:00:00.000000000",
          "2022-05-19T00:00:00.000000000",
          "2022-05-20T00:00:00.000000000",
          "2022-05-23T00:00:00.000000000",
          "2022-05-24T00:00:00.000000000",
          "2022-05-25T00:00:00.000000000",
          "2022-05-26T00:00:00.000000000",
          "2022-05-27T00:00:00.000000000",
          "2022-05-31T00:00:00.000000000",
          "2022-06-01T00:00:00.000000000",
          "2022-06-02T00:00:00.000000000",
          "2022-06-03T00:00:00.000000000",
          "2022-06-06T00:00:00.000000000",
          "2022-06-07T00:00:00.000000000",
          "2022-06-08T00:00:00.000000000",
          "2022-06-09T00:00:00.000000000",
          "2022-06-10T00:00:00.000000000",
          "2022-06-13T00:00:00.000000000",
          "2022-06-14T00:00:00.000000000",
          "2022-06-15T00:00:00.000000000",
          "2022-06-16T00:00:00.000000000",
          "2022-06-17T00:00:00.000000000",
          "2022-06-21T00:00:00.000000000",
          "2022-06-22T00:00:00.000000000",
          "2022-06-23T00:00:00.000000000",
          "2022-06-24T00:00:00.000000000",
          "2022-06-27T00:00:00.000000000",
          "2022-06-28T00:00:00.000000000",
          "2022-06-29T00:00:00.000000000",
          "2022-06-30T00:00:00.000000000",
          "2022-07-01T00:00:00.000000000",
          "2022-07-05T00:00:00.000000000",
          "2022-07-06T00:00:00.000000000",
          "2022-07-07T00:00:00.000000000",
          "2022-07-08T00:00:00.000000000",
          "2022-07-11T00:00:00.000000000",
          "2022-07-12T00:00:00.000000000",
          "2022-07-13T00:00:00.000000000",
          "2022-07-14T00:00:00.000000000",
          "2022-07-15T00:00:00.000000000",
          "2022-07-18T00:00:00.000000000",
          "2022-07-19T00:00:00.000000000",
          "2022-07-20T00:00:00.000000000",
          "2022-07-21T00:00:00.000000000",
          "2022-07-22T00:00:00.000000000",
          "2022-07-25T00:00:00.000000000",
          "2022-07-26T00:00:00.000000000",
          "2022-07-27T00:00:00.000000000",
          "2022-07-28T00:00:00.000000000",
          "2022-07-29T00:00:00.000000000",
          "2022-08-01T00:00:00.000000000",
          "2022-08-02T00:00:00.000000000",
          "2022-08-03T00:00:00.000000000",
          "2022-08-04T00:00:00.000000000",
          "2022-08-05T00:00:00.000000000",
          "2022-08-08T00:00:00.000000000",
          "2022-08-09T00:00:00.000000000",
          "2022-08-10T00:00:00.000000000",
          "2022-08-11T00:00:00.000000000",
          "2022-08-12T00:00:00.000000000",
          "2022-08-15T00:00:00.000000000",
          "2022-08-16T00:00:00.000000000",
          "2022-08-17T00:00:00.000000000",
          "2022-08-18T00:00:00.000000000",
          "2022-08-19T00:00:00.000000000",
          "2022-08-22T00:00:00.000000000",
          "2022-08-23T00:00:00.000000000",
          "2022-08-24T00:00:00.000000000",
          "2022-08-25T00:00:00.000000000",
          "2022-08-26T00:00:00.000000000",
          "2022-08-29T00:00:00.000000000",
          "2022-08-30T00:00:00.000000000",
          "2022-08-31T00:00:00.000000000",
          "2022-09-01T00:00:00.000000000",
          "2022-09-02T00:00:00.000000000",
          "2022-09-06T00:00:00.000000000",
          "2022-09-07T00:00:00.000000000",
          "2022-09-08T00:00:00.000000000",
          "2022-09-09T00:00:00.000000000",
          "2022-09-12T00:00:00.000000000",
          "2022-09-13T00:00:00.000000000",
          "2022-09-14T00:00:00.000000000",
          "2022-09-15T00:00:00.000000000",
          "2022-09-16T00:00:00.000000000",
          "2022-09-19T00:00:00.000000000",
          "2022-09-20T00:00:00.000000000",
          "2022-09-21T00:00:00.000000000",
          "2022-09-22T00:00:00.000000000",
          "2022-09-23T00:00:00.000000000",
          "2022-09-26T00:00:00.000000000",
          "2022-09-27T00:00:00.000000000",
          "2022-09-28T00:00:00.000000000",
          "2022-09-29T00:00:00.000000000",
          "2022-09-30T00:00:00.000000000",
          "2022-10-03T00:00:00.000000000",
          "2022-10-04T00:00:00.000000000",
          "2022-10-05T00:00:00.000000000",
          "2022-10-06T00:00:00.000000000",
          "2022-10-07T00:00:00.000000000",
          "2022-10-10T00:00:00.000000000",
          "2022-10-11T00:00:00.000000000",
          "2022-10-12T00:00:00.000000000",
          "2022-10-13T00:00:00.000000000",
          "2022-10-14T00:00:00.000000000",
          "2022-10-17T00:00:00.000000000",
          "2022-10-18T00:00:00.000000000",
          "2022-10-19T00:00:00.000000000",
          "2022-10-20T00:00:00.000000000",
          "2022-10-21T00:00:00.000000000",
          "2022-10-24T00:00:00.000000000",
          "2022-10-25T00:00:00.000000000",
          "2022-10-26T00:00:00.000000000",
          "2022-10-27T00:00:00.000000000",
          "2022-10-28T00:00:00.000000000",
          "2022-10-31T00:00:00.000000000",
          "2022-11-01T00:00:00.000000000",
          "2022-11-02T00:00:00.000000000",
          "2022-11-03T00:00:00.000000000",
          "2022-11-04T00:00:00.000000000",
          "2022-11-07T00:00:00.000000000",
          "2022-11-08T00:00:00.000000000",
          "2022-11-09T00:00:00.000000000",
          "2022-11-10T00:00:00.000000000",
          "2022-11-11T00:00:00.000000000",
          "2022-11-14T00:00:00.000000000",
          "2022-11-15T00:00:00.000000000",
          "2022-11-16T00:00:00.000000000",
          "2022-11-17T00:00:00.000000000",
          "2022-11-18T00:00:00.000000000",
          "2022-11-21T00:00:00.000000000",
          "2022-11-22T00:00:00.000000000",
          "2022-11-23T00:00:00.000000000",
          "2022-11-25T00:00:00.000000000",
          "2022-11-28T00:00:00.000000000",
          "2022-11-29T00:00:00.000000000",
          "2022-11-30T00:00:00.000000000",
          "2022-12-01T00:00:00.000000000",
          "2022-12-02T00:00:00.000000000",
          "2022-12-05T00:00:00.000000000",
          "2022-12-06T00:00:00.000000000",
          "2022-12-07T00:00:00.000000000",
          "2022-12-08T00:00:00.000000000",
          "2022-12-09T00:00:00.000000000",
          "2022-12-12T00:00:00.000000000",
          "2022-12-13T00:00:00.000000000",
          "2022-12-14T00:00:00.000000000",
          "2022-12-15T00:00:00.000000000",
          "2022-12-16T00:00:00.000000000",
          "2022-12-19T00:00:00.000000000",
          "2022-12-20T00:00:00.000000000",
          "2022-12-21T00:00:00.000000000",
          "2022-12-22T00:00:00.000000000",
          "2022-12-23T00:00:00.000000000",
          "2022-12-27T00:00:00.000000000",
          "2022-12-28T00:00:00.000000000",
          "2022-12-29T00:00:00.000000000",
          "2022-12-30T00:00:00.000000000",
          "2023-01-03T00:00:00.000000000",
          "2023-01-04T00:00:00.000000000",
          "2023-01-05T00:00:00.000000000",
          "2023-01-06T00:00:00.000000000",
          "2023-01-09T00:00:00.000000000",
          "2023-01-10T00:00:00.000000000",
          "2023-01-11T00:00:00.000000000",
          "2023-01-12T00:00:00.000000000",
          "2023-01-13T00:00:00.000000000",
          "2023-01-17T00:00:00.000000000",
          "2023-01-18T00:00:00.000000000",
          "2023-01-19T00:00:00.000000000",
          "2023-01-20T00:00:00.000000000",
          "2023-01-23T00:00:00.000000000",
          "2023-01-24T00:00:00.000000000",
          "2023-01-25T00:00:00.000000000",
          "2023-01-26T00:00:00.000000000",
          "2023-01-27T00:00:00.000000000",
          "2023-01-30T00:00:00.000000000",
          "2023-01-31T00:00:00.000000000",
          "2023-02-01T00:00:00.000000000",
          "2023-02-02T00:00:00.000000000",
          "2023-02-03T00:00:00.000000000",
          "2023-02-06T00:00:00.000000000",
          "2023-02-07T00:00:00.000000000",
          "2023-02-08T00:00:00.000000000",
          "2023-02-09T00:00:00.000000000",
          "2023-02-10T00:00:00.000000000",
          "2023-02-13T00:00:00.000000000",
          "2023-02-14T00:00:00.000000000",
          "2023-02-15T00:00:00.000000000",
          "2023-02-16T00:00:00.000000000",
          "2023-02-17T00:00:00.000000000",
          "2023-02-21T00:00:00.000000000",
          "2023-02-22T00:00:00.000000000",
          "2023-02-23T00:00:00.000000000",
          "2023-02-24T00:00:00.000000000",
          "2023-02-27T00:00:00.000000000",
          "2023-02-28T00:00:00.000000000",
          "2023-03-01T00:00:00.000000000",
          "2023-03-02T00:00:00.000000000",
          "2023-03-03T00:00:00.000000000",
          "2023-03-06T00:00:00.000000000",
          "2023-03-07T00:00:00.000000000",
          "2023-03-08T00:00:00.000000000",
          "2023-03-09T00:00:00.000000000",
          "2023-03-10T00:00:00.000000000",
          "2023-03-13T00:00:00.000000000",
          "2023-03-14T00:00:00.000000000",
          "2023-03-15T00:00:00.000000000",
          "2023-03-16T00:00:00.000000000",
          "2023-03-17T00:00:00.000000000",
          "2023-03-20T00:00:00.000000000",
          "2023-03-21T00:00:00.000000000",
          "2023-03-22T00:00:00.000000000",
          "2023-03-23T00:00:00.000000000",
          "2023-03-24T00:00:00.000000000",
          "2023-03-27T00:00:00.000000000",
          "2023-03-28T00:00:00.000000000",
          "2023-03-29T00:00:00.000000000",
          "2023-03-30T00:00:00.000000000",
          "2023-03-31T00:00:00.000000000",
          "2023-04-03T00:00:00.000000000",
          "2023-04-04T00:00:00.000000000",
          "2023-04-05T00:00:00.000000000",
          "2023-04-06T00:00:00.000000000",
          "2023-04-10T00:00:00.000000000",
          "2023-04-11T00:00:00.000000000",
          "2023-04-12T00:00:00.000000000",
          "2023-04-13T00:00:00.000000000",
          "2023-04-14T00:00:00.000000000",
          "2023-04-17T00:00:00.000000000",
          "2023-04-18T00:00:00.000000000",
          "2023-04-19T00:00:00.000000000",
          "2023-04-20T00:00:00.000000000",
          "2023-04-21T00:00:00.000000000",
          "2023-04-24T00:00:00.000000000",
          "2023-04-25T00:00:00.000000000",
          "2023-04-26T00:00:00.000000000",
          "2023-04-27T00:00:00.000000000",
          "2023-04-28T00:00:00.000000000",
          "2023-05-01T00:00:00.000000000",
          "2023-05-02T00:00:00.000000000",
          "2023-05-03T00:00:00.000000000",
          "2023-05-04T00:00:00.000000000",
          "2023-05-05T00:00:00.000000000",
          "2023-05-08T00:00:00.000000000",
          "2023-05-09T00:00:00.000000000",
          "2023-05-10T00:00:00.000000000",
          "2023-05-11T00:00:00.000000000",
          "2023-05-12T00:00:00.000000000",
          "2023-05-15T00:00:00.000000000",
          "2023-05-16T00:00:00.000000000",
          "2023-05-17T00:00:00.000000000",
          "2023-05-18T00:00:00.000000000",
          "2023-05-19T00:00:00.000000000",
          "2023-05-22T00:00:00.000000000",
          "2023-05-23T00:00:00.000000000",
          "2023-05-24T00:00:00.000000000",
          "2023-05-25T00:00:00.000000000",
          "2023-05-26T00:00:00.000000000",
          "2023-05-30T00:00:00.000000000",
          "2023-05-31T00:00:00.000000000",
          "2023-06-01T00:00:00.000000000",
          "2023-06-02T00:00:00.000000000",
          "2023-06-05T00:00:00.000000000",
          "2023-06-06T00:00:00.000000000",
          "2023-06-07T00:00:00.000000000",
          "2023-06-08T00:00:00.000000000",
          "2023-06-09T00:00:00.000000000",
          "2023-06-12T00:00:00.000000000",
          "2023-06-13T00:00:00.000000000",
          "2023-06-14T00:00:00.000000000",
          "2023-06-15T00:00:00.000000000",
          "2023-06-16T00:00:00.000000000",
          "2023-06-20T00:00:00.000000000",
          "2023-06-21T00:00:00.000000000",
          "2023-06-22T00:00:00.000000000",
          "2023-06-23T00:00:00.000000000",
          "2023-06-26T00:00:00.000000000",
          "2023-06-27T00:00:00.000000000",
          "2023-06-28T00:00:00.000000000",
          "2023-06-29T00:00:00.000000000",
          "2023-06-30T00:00:00.000000000",
          "2023-07-03T00:00:00.000000000",
          "2023-07-05T00:00:00.000000000",
          "2023-07-06T00:00:00.000000000",
          "2023-07-07T00:00:00.000000000",
          "2023-07-10T00:00:00.000000000",
          "2023-07-11T00:00:00.000000000",
          "2023-07-12T00:00:00.000000000",
          "2023-07-13T00:00:00.000000000",
          "2023-07-14T00:00:00.000000000",
          "2023-07-17T00:00:00.000000000",
          "2023-07-18T00:00:00.000000000",
          "2023-07-19T00:00:00.000000000",
          "2023-07-20T00:00:00.000000000",
          "2023-07-21T00:00:00.000000000",
          "2023-07-24T00:00:00.000000000",
          "2023-07-25T00:00:00.000000000",
          "2023-07-26T00:00:00.000000000",
          "2023-07-27T00:00:00.000000000",
          "2023-07-28T00:00:00.000000000",
          "2023-07-31T00:00:00.000000000",
          "2023-08-01T00:00:00.000000000",
          "2023-08-02T00:00:00.000000000",
          "2023-08-03T00:00:00.000000000",
          "2023-08-04T00:00:00.000000000",
          "2023-08-07T00:00:00.000000000",
          "2023-08-08T00:00:00.000000000",
          "2023-08-09T00:00:00.000000000",
          "2023-08-10T00:00:00.000000000",
          "2023-08-11T00:00:00.000000000",
          "2023-08-14T00:00:00.000000000",
          "2023-08-15T00:00:00.000000000",
          "2023-08-16T00:00:00.000000000",
          "2023-08-17T00:00:00.000000000",
          "2023-08-18T00:00:00.000000000",
          "2023-08-21T00:00:00.000000000",
          "2023-08-22T00:00:00.000000000",
          "2023-08-23T00:00:00.000000000",
          "2023-08-24T00:00:00.000000000",
          "2023-08-25T00:00:00.000000000",
          "2023-08-28T00:00:00.000000000",
          "2023-08-29T00:00:00.000000000",
          "2023-08-30T00:00:00.000000000",
          "2023-08-31T00:00:00.000000000",
          "2023-09-01T00:00:00.000000000",
          "2023-09-05T00:00:00.000000000",
          "2023-09-06T00:00:00.000000000",
          "2023-09-07T00:00:00.000000000",
          "2023-09-08T00:00:00.000000000",
          "2023-09-11T00:00:00.000000000",
          "2023-09-12T00:00:00.000000000",
          "2023-09-13T00:00:00.000000000",
          "2023-09-14T00:00:00.000000000",
          "2023-09-15T00:00:00.000000000",
          "2023-09-18T00:00:00.000000000",
          "2023-09-19T00:00:00.000000000",
          "2023-09-20T00:00:00.000000000",
          "2023-09-21T00:00:00.000000000",
          "2023-09-22T00:00:00.000000000",
          "2023-09-25T00:00:00.000000000",
          "2023-09-26T00:00:00.000000000",
          "2023-09-27T00:00:00.000000000",
          "2023-09-28T00:00:00.000000000",
          "2023-09-29T00:00:00.000000000",
          "2023-10-02T00:00:00.000000000",
          "2023-10-03T00:00:00.000000000",
          "2023-10-04T00:00:00.000000000",
          "2023-10-05T00:00:00.000000000",
          "2023-10-06T00:00:00.000000000",
          "2023-10-09T00:00:00.000000000",
          "2023-10-10T00:00:00.000000000",
          "2023-10-11T00:00:00.000000000",
          "2023-10-12T00:00:00.000000000",
          "2023-10-13T00:00:00.000000000",
          "2023-10-16T00:00:00.000000000",
          "2023-10-17T00:00:00.000000000",
          "2023-10-18T00:00:00.000000000",
          "2023-10-19T00:00:00.000000000",
          "2023-10-20T00:00:00.000000000",
          "2023-10-23T00:00:00.000000000",
          "2023-10-24T00:00:00.000000000",
          "2023-10-25T00:00:00.000000000",
          "2023-10-26T00:00:00.000000000",
          "2023-10-27T00:00:00.000000000",
          "2023-10-30T00:00:00.000000000",
          "2023-10-31T00:00:00.000000000",
          "2023-11-01T00:00:00.000000000",
          "2023-11-02T00:00:00.000000000",
          "2023-11-03T00:00:00.000000000",
          "2023-11-06T00:00:00.000000000",
          "2023-11-07T00:00:00.000000000",
          "2023-11-08T00:00:00.000000000",
          "2023-11-09T00:00:00.000000000",
          "2023-11-10T00:00:00.000000000",
          "2023-11-13T00:00:00.000000000",
          "2023-11-14T00:00:00.000000000",
          "2023-11-15T00:00:00.000000000",
          "2023-11-16T00:00:00.000000000",
          "2023-11-17T00:00:00.000000000",
          "2023-11-20T00:00:00.000000000",
          "2023-11-21T00:00:00.000000000",
          "2023-11-22T00:00:00.000000000",
          "2023-11-24T00:00:00.000000000",
          "2023-11-27T00:00:00.000000000",
          "2023-11-28T00:00:00.000000000",
          "2023-11-29T00:00:00.000000000",
          "2023-11-30T00:00:00.000000000",
          "2023-12-01T00:00:00.000000000",
          "2023-12-04T00:00:00.000000000",
          "2023-12-05T00:00:00.000000000",
          "2023-12-06T00:00:00.000000000",
          "2023-12-07T00:00:00.000000000",
          "2023-12-08T00:00:00.000000000",
          "2023-12-11T00:00:00.000000000",
          "2023-12-12T00:00:00.000000000",
          "2023-12-13T00:00:00.000000000",
          "2023-12-14T00:00:00.000000000",
          "2023-12-15T00:00:00.000000000",
          "2023-12-18T00:00:00.000000000",
          "2023-12-19T00:00:00.000000000",
          "2023-12-20T00:00:00.000000000",
          "2023-12-21T00:00:00.000000000",
          "2023-12-22T00:00:00.000000000",
          "2023-12-26T00:00:00.000000000",
          "2023-12-27T00:00:00.000000000",
          "2023-12-28T00:00:00.000000000",
          "2023-12-29T00:00:00.000000000",
          "2024-01-02T00:00:00.000000000",
          "2024-01-03T00:00:00.000000000",
          "2024-01-04T00:00:00.000000000",
          "2024-01-05T00:00:00.000000000",
          "2024-01-08T00:00:00.000000000",
          "2024-01-09T00:00:00.000000000",
          "2024-01-10T00:00:00.000000000",
          "2024-01-11T00:00:00.000000000",
          "2024-01-12T00:00:00.000000000",
          "2024-01-16T00:00:00.000000000",
          "2024-01-17T00:00:00.000000000",
          "2024-01-18T00:00:00.000000000",
          "2024-01-19T00:00:00.000000000",
          "2024-01-22T00:00:00.000000000",
          "2024-01-23T00:00:00.000000000",
          "2024-01-24T00:00:00.000000000",
          "2024-01-25T00:00:00.000000000",
          "2024-01-26T00:00:00.000000000",
          "2024-01-29T00:00:00.000000000",
          "2024-01-30T00:00:00.000000000",
          "2024-01-31T00:00:00.000000000",
          "2024-02-01T00:00:00.000000000",
          "2024-02-02T00:00:00.000000000",
          "2024-02-05T00:00:00.000000000",
          "2024-02-06T00:00:00.000000000",
          "2024-02-07T00:00:00.000000000",
          "2024-02-08T00:00:00.000000000",
          "2024-02-09T00:00:00.000000000",
          "2024-02-12T00:00:00.000000000",
          "2024-02-13T00:00:00.000000000",
          "2024-02-14T00:00:00.000000000",
          "2024-02-15T00:00:00.000000000",
          "2024-02-16T00:00:00.000000000",
          "2024-02-20T00:00:00.000000000",
          "2024-02-21T00:00:00.000000000",
          "2024-02-22T00:00:00.000000000",
          "2024-02-23T00:00:00.000000000",
          "2024-02-26T00:00:00.000000000",
          "2024-02-27T00:00:00.000000000",
          "2024-02-28T00:00:00.000000000",
          "2024-02-29T00:00:00.000000000",
          "2024-03-01T00:00:00.000000000",
          "2024-03-04T00:00:00.000000000",
          "2024-03-05T00:00:00.000000000",
          "2024-03-06T00:00:00.000000000",
          "2024-03-07T00:00:00.000000000",
          "2024-03-08T00:00:00.000000000",
          "2024-03-11T00:00:00.000000000",
          "2024-03-12T00:00:00.000000000",
          "2024-03-13T00:00:00.000000000",
          "2024-03-14T00:00:00.000000000",
          "2024-03-15T00:00:00.000000000",
          "2024-03-18T00:00:00.000000000",
          "2024-03-19T00:00:00.000000000",
          "2024-03-20T00:00:00.000000000",
          "2024-03-21T00:00:00.000000000",
          "2024-03-22T00:00:00.000000000",
          "2024-03-25T00:00:00.000000000",
          "2024-03-26T00:00:00.000000000",
          "2024-03-27T00:00:00.000000000",
          "2024-03-28T00:00:00.000000000",
          "2024-04-01T00:00:00.000000000",
          "2024-04-02T00:00:00.000000000",
          "2024-04-03T00:00:00.000000000",
          "2024-04-04T00:00:00.000000000",
          "2024-04-05T00:00:00.000000000",
          "2024-04-08T00:00:00.000000000",
          "2024-04-09T00:00:00.000000000",
          "2024-04-10T00:00:00.000000000",
          "2024-04-11T00:00:00.000000000",
          "2024-04-12T00:00:00.000000000",
          "2024-04-15T00:00:00.000000000",
          "2024-04-16T00:00:00.000000000",
          "2024-04-17T00:00:00.000000000",
          "2024-04-18T00:00:00.000000000",
          "2024-04-19T00:00:00.000000000",
          "2024-04-22T00:00:00.000000000",
          "2024-04-23T00:00:00.000000000",
          "2024-04-24T00:00:00.000000000",
          "2024-04-25T00:00:00.000000000",
          "2024-04-26T00:00:00.000000000",
          "2024-04-29T00:00:00.000000000",
          "2024-04-30T00:00:00.000000000",
          "2024-05-01T00:00:00.000000000",
          "2024-05-02T00:00:00.000000000",
          "2024-05-03T00:00:00.000000000",
          "2024-05-06T00:00:00.000000000",
          "2024-05-07T00:00:00.000000000",
          "2024-05-08T00:00:00.000000000",
          "2024-05-09T00:00:00.000000000",
          "2024-05-10T00:00:00.000000000",
          "2024-05-13T00:00:00.000000000",
          "2024-05-14T00:00:00.000000000",
          "2024-05-15T00:00:00.000000000",
          "2024-05-16T00:00:00.000000000",
          "2024-05-17T00:00:00.000000000",
          "2024-05-20T00:00:00.000000000",
          "2024-05-21T00:00:00.000000000",
          "2024-05-22T00:00:00.000000000",
          "2024-05-23T00:00:00.000000000",
          "2024-05-24T00:00:00.000000000",
          "2024-05-28T00:00:00.000000000",
          "2024-05-29T00:00:00.000000000",
          "2024-05-30T00:00:00.000000000",
          "2024-05-31T00:00:00.000000000",
          "2024-06-03T00:00:00.000000000",
          "2024-06-04T00:00:00.000000000",
          "2024-06-05T00:00:00.000000000",
          "2024-06-06T00:00:00.000000000",
          "2024-06-07T00:00:00.000000000",
          "2024-06-10T00:00:00.000000000",
          "2024-06-11T00:00:00.000000000",
          "2024-06-12T00:00:00.000000000",
          "2024-06-13T00:00:00.000000000",
          "2024-06-14T00:00:00.000000000",
          "2024-06-17T00:00:00.000000000",
          "2024-06-18T00:00:00.000000000",
          "2024-06-20T00:00:00.000000000",
          "2024-06-21T00:00:00.000000000",
          "2024-06-24T00:00:00.000000000",
          "2024-06-25T00:00:00.000000000",
          "2024-06-26T00:00:00.000000000",
          "2024-06-27T00:00:00.000000000",
          "2024-06-28T00:00:00.000000000",
          "2024-07-01T00:00:00.000000000",
          "2024-07-02T00:00:00.000000000",
          "2024-07-03T00:00:00.000000000",
          "2024-07-05T00:00:00.000000000",
          "2024-07-08T00:00:00.000000000",
          "2024-07-09T00:00:00.000000000",
          "2024-07-10T00:00:00.000000000",
          "2024-07-11T00:00:00.000000000",
          "2024-07-12T00:00:00.000000000",
          "2024-07-15T00:00:00.000000000",
          "2024-07-16T00:00:00.000000000",
          "2024-07-17T00:00:00.000000000",
          "2024-07-18T00:00:00.000000000",
          "2024-07-19T00:00:00.000000000",
          "2024-07-22T00:00:00.000000000",
          "2024-07-23T00:00:00.000000000",
          "2024-07-24T00:00:00.000000000",
          "2024-07-25T00:00:00.000000000",
          "2024-07-26T00:00:00.000000000",
          "2024-07-29T00:00:00.000000000",
          "2024-07-30T00:00:00.000000000",
          "2024-07-31T00:00:00.000000000",
          "2024-08-01T00:00:00.000000000",
          "2024-08-02T00:00:00.000000000",
          "2024-08-05T00:00:00.000000000",
          "2024-08-06T00:00:00.000000000",
          "2024-08-07T00:00:00.000000000",
          "2024-08-08T00:00:00.000000000",
          "2024-08-09T00:00:00.000000000",
          "2024-08-12T00:00:00.000000000",
          "2024-08-13T00:00:00.000000000",
          "2024-08-14T00:00:00.000000000",
          "2024-08-15T00:00:00.000000000",
          "2024-08-16T00:00:00.000000000",
          "2024-08-19T00:00:00.000000000",
          "2024-08-20T00:00:00.000000000",
          "2024-08-21T00:00:00.000000000",
          "2024-08-22T00:00:00.000000000",
          "2024-08-23T00:00:00.000000000",
          "2024-08-26T00:00:00.000000000",
          "2024-08-27T00:00:00.000000000",
          "2024-08-28T00:00:00.000000000",
          "2024-08-29T00:00:00.000000000",
          "2024-08-30T00:00:00.000000000",
          "2024-09-03T00:00:00.000000000",
          "2024-09-04T00:00:00.000000000",
          "2024-09-05T00:00:00.000000000",
          "2024-09-06T00:00:00.000000000",
          "2024-09-09T00:00:00.000000000",
          "2024-09-10T00:00:00.000000000",
          "2024-09-11T00:00:00.000000000",
          "2024-09-12T00:00:00.000000000",
          "2024-09-13T00:00:00.000000000",
          "2024-09-16T00:00:00.000000000",
          "2024-09-17T00:00:00.000000000",
          "2024-09-18T00:00:00.000000000",
          "2024-09-19T00:00:00.000000000",
          "2024-09-20T00:00:00.000000000",
          "2024-09-23T00:00:00.000000000",
          "2024-09-24T00:00:00.000000000",
          "2024-09-25T00:00:00.000000000",
          "2024-09-26T00:00:00.000000000",
          "2024-09-27T00:00:00.000000000",
          "2024-09-30T00:00:00.000000000",
          "2024-10-01T00:00:00.000000000",
          "2024-10-02T00:00:00.000000000",
          "2024-10-03T00:00:00.000000000",
          "2024-10-04T00:00:00.000000000",
          "2024-10-07T00:00:00.000000000",
          "2024-10-08T00:00:00.000000000",
          "2024-10-09T00:00:00.000000000",
          "2024-10-10T00:00:00.000000000",
          "2024-10-11T00:00:00.000000000",
          "2024-10-14T00:00:00.000000000",
          "2024-10-15T00:00:00.000000000",
          "2024-10-16T00:00:00.000000000",
          "2024-10-17T00:00:00.000000000",
          "2024-10-18T00:00:00.000000000",
          "2024-10-21T00:00:00.000000000",
          "2024-10-22T00:00:00.000000000",
          "2024-10-23T00:00:00.000000000",
          "2024-10-24T00:00:00.000000000",
          "2024-10-25T00:00:00.000000000",
          "2024-10-28T00:00:00.000000000",
          "2024-10-29T00:00:00.000000000",
          "2024-10-30T00:00:00.000000000",
          "2024-10-31T00:00:00.000000000",
          "2024-11-01T00:00:00.000000000",
          "2024-11-04T00:00:00.000000000",
          "2024-11-05T00:00:00.000000000",
          "2024-11-06T00:00:00.000000000",
          "2024-11-07T00:00:00.000000000",
          "2024-11-08T00:00:00.000000000",
          "2024-11-11T00:00:00.000000000",
          "2024-11-12T00:00:00.000000000",
          "2024-11-13T00:00:00.000000000",
          "2024-11-14T00:00:00.000000000",
          "2024-11-15T00:00:00.000000000",
          "2024-11-18T00:00:00.000000000",
          "2024-11-19T00:00:00.000000000",
          "2024-11-20T00:00:00.000000000",
          "2024-11-21T00:00:00.000000000",
          "2024-11-22T00:00:00.000000000",
          "2024-11-25T00:00:00.000000000",
          "2024-11-26T00:00:00.000000000",
          "2024-11-27T00:00:00.000000000",
          "2024-11-29T00:00:00.000000000",
          "2024-12-02T00:00:00.000000000",
          "2024-12-03T00:00:00.000000000",
          "2024-12-04T00:00:00.000000000",
          "2024-12-05T00:00:00.000000000",
          "2024-12-06T00:00:00.000000000",
          "2024-12-09T00:00:00.000000000",
          "2024-12-10T00:00:00.000000000",
          "2024-12-11T00:00:00.000000000",
          "2024-12-12T00:00:00.000000000",
          "2024-12-13T00:00:00.000000000",
          "2024-12-16T00:00:00.000000000",
          "2024-12-17T00:00:00.000000000",
          "2024-12-18T00:00:00.000000000",
          "2024-12-19T00:00:00.000000000",
          "2024-12-20T00:00:00.000000000",
          "2024-12-23T00:00:00.000000000",
          "2024-12-24T00:00:00.000000000",
          "2024-12-26T00:00:00.000000000",
          "2024-12-27T00:00:00.000000000",
          "2024-12-30T00:00:00.000000000",
          "2024-12-31T00:00:00.000000000",
          "2025-01-02T00:00:00.000000000",
          "2025-01-03T00:00:00.000000000",
          "2025-01-06T00:00:00.000000000",
          "2025-01-07T00:00:00.000000000",
          "2025-01-08T00:00:00.000000000",
          "2025-01-10T00:00:00.000000000",
          "2025-01-13T00:00:00.000000000",
          "2025-01-14T00:00:00.000000000",
          "2025-01-15T00:00:00.000000000",
          "2025-01-16T00:00:00.000000000",
          "2025-01-17T00:00:00.000000000",
          "2025-01-21T00:00:00.000000000",
          "2025-01-22T00:00:00.000000000",
          "2025-01-23T00:00:00.000000000",
          "2025-01-24T00:00:00.000000000"
         ],
         "y": {
          "bdata": "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",
          "dtype": "f8"
         }
        },
        {
         "line": {
          "color": "green",
          "width": 2
         },
         "marker": {
          "color": "green",
          "size": 8
         },
         "mode": "lines+markers",
         "name": "Price convergence",
         "showlegend": true,
         "type": "scatter",
         "x": [
          "2020-11-02T00:00:00",
          "2020-11-24T00:00:00"
         ],
         "y": [
          104.64759511176818,
          109.97576812456435
         ]
        },
        {
         "line": {
          "color": "black",
          "dash": "dash",
          "width": 2
         },
         "marker": {
          "color": "black",
          "size": 8
         },
         "mode": "lines+markers",
         "name": "adx convergence",
         "showlegend": true,
         "type": "scatter",
         "x": [
          "2020-10-22T00:00:00",
          "2020-11-30T00:00:00"
         ],
         "y": [
          114.65587784731531,
          123.21658773651274
         ]
        },
        {
         "line": {
          "color": "green",
          "width": 2
         },
         "marker": {
          "color": "green",
          "size": 8
         },
         "mode": "lines+markers",
         "name": "Price bearish_divergence",
         "showlegend": false,
         "type": "scatter",
         "x": [
          "2020-11-24T00:00:00",
          "2021-01-06T00:00:00"
         ],
         "y": [
          109.97576812456435,
          123.44559128213457
         ]
        },
        {
         "line": {
          "color": "black",
          "dash": "dash",
          "width": 2
         },
         "marker": {
          "color": "black",
          "size": 8
         },
         "mode": "lines+markers",
         "name": "adx bearish_divergence",
         "showlegend": false,
         "type": "scatter",
         "x": [
          "2020-11-30T00:00:00",
          "2021-01-20T00:00:00"
         ],
         "y": [
          123.21658773651274,
          120.59400632736029
         ]
        },
        {
         "line": {
          "color": "red",
          "width": 2
         },
         "marker": {
          "color": "red",
          "size": 8
         },
         "mode": "lines+markers",
         "name": "Price convergence",
         "showlegend": false,
         "type": "scatter",
         "x": [
          "2021-01-06T00:00:00",
          "2021-02-23T00:00:00"
         ],
         "y": [
          123.44559128213457,
          115.81391675875304
         ]
        },
        {
         "line": {
          "color": "black",
          "dash": "dash",
          "width": 2
         },
         "marker": {
          "color": "black",
          "size": 8
         },
         "mode": "lines+markers",
         "name": "adx convergence",
         "showlegend": false,
         "type": "scatter",
         "x": [
          "2021-01-20T00:00:00",
          "2021-02-10T00:00:00"
         ],
         "y": [
          120.59400632736029,
          111.72845156237928
         ]
        },
        {
         "line": {
          "color": "red",
          "width": 2
         },
         "marker": {
          "color": "red",
          "size": 8
         },
         "mode": "lines+markers",
         "name": "Price neutral",
         "showlegend": false,
         "type": "scatter",
         "x": [
          "2021-02-23T00:00:00",
          "2021-03-08T00:00:00"
         ],
         "y": [
          115.81391675875304,
          113.68137211608605
         ]
        },
        {
         "line": {
          "color": "black",
          "dash": "dash",
          "width": 2
         },
         "marker": {
          "color": "black",
          "size": 8
         },
         "mode": "lines+markers",
         "name": "adx neutral",
         "showlegend": false,
         "type": "scatter",
         "x": [
          "2021-02-10T00:00:00",
          "2021-02-10T00:00:00"
         ],
         "y": [
          111.72845156237928,
          111.72845156237928
         ]
        },
        {
         "line": {
          "color": "green",
          "width": 2
         },
         "marker": {
          "color": "green",
          "size": 8
         },
         "mode": "lines+markers",
         "name": "Price convergence",
         "showlegend": false,
         "type": "scatter",
         "x": [
          "2021-03-08T00:00:00",
          "2021-03-30T00:00:00"
         ],
         "y": [
          113.68137211608605,
          116.27369017794591
         ]
        },
        {
         "line": {
          "color": "black",
          "dash": "dash",
          "width": 2
         },
         "marker": {
          "color": "black",
          "size": 8
         },
         "mode": "lines+markers",
         "name": "adx convergence",
         "showlegend": false,
         "type": "scatter",
         "x": [
          "2021-02-10T00:00:00",
          "2021-04-01T00:00:00"
         ],
         "y": [
          111.72845156237928,
          115.72979510898624
         ]
        },
        {
         "line": {
          "color": "green",
          "width": 2
         },
         "marker": {
          "color": "green",
          "size": 8
         },
         "mode": "lines+markers",
         "name": "Price convergence",
         "showlegend": false,
         "type": "scatter",
         "x": [
          "2021-03-30T00:00:00",
          "2021-05-12T00:00:00"
         ],
         "y": [
          116.27369017794591,
          119.79306635485392
         ]
        },
        {
         "line": {
          "color": "black",
          "dash": "dash",
          "width": 2
         },
         "marker": {
          "color": "black",
          "size": 8
         },
         "mode": "lines+markers",
         "name": "adx convergence",
         "showlegend": false,
         "type": "scatter",
         "x": [
          "2021-04-01T00:00:00",
          "2021-05-07T00:00:00"
         ],
         "y": [
          115.72979510898624,
          143.23858183929056
         ]
        },
        {
         "line": {
          "color": "green",
          "width": 2
         },
         "marker": {
          "color": "green",
          "size": 8
         },
         "mode": "lines+markers",
         "name": "Price bearish_divergence",
         "showlegend": false,
         "type": "scatter",
         "x": [
          "2021-05-12T00:00:00",
          "2021-06-03T00:00:00"
         ],
         "y": [
          119.79306635485392,
          120.65537298589332
         ]
        },
        {
         "line": {
          "color": "black",
          "dash": "dash",
          "width": 2
         },
         "marker": {
          "color": "black",
          "size": 8
         },
         "mode": "lines+markers",
         "name": "adx bearish_divergence",
         "showlegend": false,
         "type": "scatter",
         "x": [
          "2021-05-07T00:00:00",
          "2021-05-27T00:00:00"
         ],
         "y": [
          143.23858183929056,
          113.28891935268503
         ]
        },
        {
         "line": {
          "color": "green",
          "width": 2
         },
         "marker": {
          "color": "green",
          "size": 8
         },
         "mode": "lines+markers",
         "name": "Price bearish_divergence",
         "showlegend": false,
         "type": "scatter",
         "x": [
          "2021-06-03T00:00:00",
          "2021-08-19T00:00:00"
         ],
         "y": [
          120.65537298589332,
          141.808014005634
         ]
        },
        {
         "line": {
          "color": "black",
          "dash": "dash",
          "width": 2
         },
         "marker": {
          "color": "black",
          "size": 8
         },
         "mode": "lines+markers",
         "name": "adx bearish_divergence",
         "showlegend": false,
         "type": "scatter",
         "x": [
          "2021-05-27T00:00:00",
          "2021-08-26T00:00:00"
         ],
         "y": [
          113.28891935268503,
          112.41808478531114
         ]
        },
        {
         "line": {
          "color": "red",
          "width": 2
         },
         "marker": {
          "color": "red",
          "size": 8
         },
         "mode": "lines+markers",
         "name": "Price neutral",
         "showlegend": false,
         "type": "scatter",
         "x": [
          "2021-08-19T00:00:00",
          "2021-09-20T00:00:00"
         ],
         "y": [
          141.808014005634,
          138.63818253431032
         ]
        },
        {
         "line": {
          "color": "black",
          "dash": "dash",
          "width": 2
         },
         "marker": {
          "color": "black",
          "size": 8
         },
         "mode": "lines+markers",
         "name": "adx neutral",
         "showlegend": false,
         "type": "scatter",
         "x": [
          "2021-08-26T00:00:00",
          "2021-08-26T00:00:00"
         ],
         "y": [
          112.41808478531114,
          112.41808478531114
         ]
        },
        {
         "line": {
          "color": "red",
          "width": 2
         },
         "marker": {
          "color": "red",
          "size": 8
         },
         "mode": "lines+markers",
         "name": "Price neutral",
         "showlegend": false,
         "type": "scatter",
         "x": [
          "2021-09-20T00:00:00",
          "2021-10-04T00:00:00"
         ],
         "y": [
          138.63818253431032,
          135.6941400814109
         ]
        },
        {
         "line": {
          "color": "black",
          "dash": "dash",
          "width": 2
         },
         "marker": {
          "color": "black",
          "size": 8
         },
         "mode": "lines+markers",
         "name": "adx neutral",
         "showlegend": false,
         "type": "scatter",
         "x": [
          "2021-08-26T00:00:00",
          "2021-08-26T00:00:00"
         ],
         "y": [
          112.41808478531114,
          112.41808478531114
         ]
        },
        {
         "line": {
          "color": "green",
          "width": 2
         },
         "marker": {
          "color": "green",
          "size": 8
         },
         "mode": "lines+markers",
         "name": "Price convergence",
         "showlegend": false,
         "type": "scatter",
         "x": [
          "2021-10-04T00:00:00",
          "2021-10-29T00:00:00"
         ],
         "y": [
          135.6941400814109,
          143.68241763510807
         ]
        },
        {
         "line": {
          "color": "black",
          "dash": "dash",
          "width": 2
         },
         "marker": {
          "color": "black",
          "size": 8
         },
         "mode": "lines+markers",
         "name": "adx convergence",
         "showlegend": false,
         "type": "scatter",
         "x": [
          "2021-08-26T00:00:00",
          "2021-11-16T00:00:00"
         ],
         "y": [
          112.41808478531114,
          119.98612582160342
         ]
        },
        {
         "line": {
          "color": "green",
          "width": 2
         },
         "marker": {
          "color": "green",
          "size": 8
         },
         "mode": "lines+markers",
         "name": "Price neutral",
         "showlegend": false,
         "type": "scatter",
         "x": [
          "2021-10-29T00:00:00",
          "2021-11-12T00:00:00"
         ],
         "y": [
          143.68241763510807,
          144.94372409915425
         ]
        },
        {
         "line": {
          "color": "black",
          "dash": "dash",
          "width": 2
         },
         "marker": {
          "color": "black",
          "size": 8
         },
         "mode": "lines+markers",
         "name": "adx neutral",
         "showlegend": false,
         "type": "scatter",
         "x": [
          "2021-11-16T00:00:00",
          "2021-11-16T00:00:00"
         ],
         "y": [
          119.98612582160342,
          119.98612582160342
         ]
        },
        {
         "line": {
          "color": "green",
          "width": 2
         },
         "marker": {
          "color": "green",
          "size": 8
         },
         "mode": "lines+markers",
         "name": "Price convergence",
         "showlegend": false,
         "type": "scatter",
         "x": [
          "2021-11-12T00:00:00",
          "2021-12-20T00:00:00"
         ],
         "y": [
          144.94372409915425,
          164.58012299307805
         ]
        },
        {
         "line": {
          "color": "black",
          "dash": "dash",
          "width": 2
         },
         "marker": {
          "color": "black",
          "size": 8
         },
         "mode": "lines+markers",
         "name": "adx convergence",
         "showlegend": false,
         "type": "scatter",
         "x": [
          "2021-11-16T00:00:00",
          "2021-12-21T00:00:00"
         ],
         "y": [
          119.98612582160342,
          161.36035179745176
         ]
        },
        {
         "line": {
          "color": "red",
          "width": 2
         },
         "marker": {
          "color": "red",
          "size": 8
         },
         "mode": "lines+markers",
         "name": "Price convergence",
         "showlegend": false,
         "type": "scatter",
         "x": [
          "2021-12-20T00:00:00",
          "2022-01-24T00:00:00"
         ],
         "y": [
          164.58012299307805,
          152.03959752482095
         ]
        },
        {
         "line": {
          "color": "black",
          "dash": "dash",
          "width": 2
         },
         "marker": {
          "color": "black",
          "size": 8
         },
         "mode": "lines+markers",
         "name": "adx convergence",
         "showlegend": false,
         "type": "scatter",
         "x": [
          "2021-12-21T00:00:00",
          "2022-01-14T00:00:00"
         ],
         "y": [
          161.36035179745176,
          129.15102134138954
         ]
        },
        {
         "line": {
          "color": "red",
          "width": 2
         },
         "marker": {
          "color": "red",
          "size": 8
         },
         "mode": "lines+markers",
         "name": "Price convergence",
         "showlegend": false,
         "type": "scatter",
         "x": [
          "2022-01-24T00:00:00",
          "2022-02-24T00:00:00"
         ],
         "y": [
          152.03959752482095,
          149.57636956159533
         ]
        },
        {
         "line": {
          "color": "black",
          "dash": "dash",
          "width": 2
         },
         "marker": {
          "color": "black",
          "size": 8
         },
         "mode": "lines+markers",
         "name": "adx convergence",
         "showlegend": false,
         "type": "scatter",
         "x": [
          "2022-01-14T00:00:00",
          "2022-02-17T00:00:00"
         ],
         "y": [
          129.15102134138954,
          113.65290103016679
         ]
        },
        {
         "line": {
          "color": "red",
          "width": 2
         },
         "marker": {
          "color": "red",
          "size": 8
         },
         "mode": "lines+markers",
         "name": "Price bullish_divergence",
         "showlegend": false,
         "type": "scatter",
         "x": [
          "2022-02-24T00:00:00",
          "2022-03-14T00:00:00"
         ],
         "y": [
          149.57636956159533,
          147.70664029732
         ]
        },
        {
         "line": {
          "color": "black",
          "dash": "dash",
          "width": 2
         },
         "marker": {
          "color": "black",
          "size": 8
         },
         "mode": "lines+markers",
         "name": "adx bullish_divergence",
         "showlegend": false,
         "type": "scatter",
         "x": [
          "2022-02-17T00:00:00",
          "2022-03-22T00:00:00"
         ],
         "y": [
          113.65290103016679,
          146.31483463422097
         ]
        },
        {
         "line": {
          "color": "red",
          "width": 2
         },
         "marker": {
          "color": "red",
          "size": 8
         },
         "mode": "lines+markers",
         "name": "Price convergence",
         "showlegend": false,
         "type": "scatter",
         "x": [
          "2022-03-14T00:00:00",
          "2022-05-20T00:00:00"
         ],
         "y": [
          147.70664029732,
          130.68724267872005
         ]
        },
        {
         "line": {
          "color": "black",
          "dash": "dash",
          "width": 2
         },
         "marker": {
          "color": "black",
          "size": 8
         },
         "mode": "lines+markers",
         "name": "adx convergence",
         "showlegend": false,
         "type": "scatter",
         "x": [
          "2022-03-22T00:00:00",
          "2022-05-10T00:00:00"
         ],
         "y": [
          146.31483463422097,
          115.49794051478054
         ]
        },
        {
         "line": {
          "color": "red",
          "width": 2
         },
         "marker": {
          "color": "red",
          "size": 8
         },
         "mode": "lines+markers",
         "name": "Price convergence",
         "showlegend": false,
         "type": "scatter",
         "x": [
          "2022-05-20T00:00:00",
          "2022-06-16T00:00:00"
         ],
         "y": [
          130.68724267872005,
          127.16902501936201
         ]
        },
        {
         "line": {
          "color": "black",
          "dash": "dash",
          "width": 2
         },
         "marker": {
          "color": "black",
          "size": 8
         },
         "mode": "lines+markers",
         "name": "adx convergence",
         "showlegend": false,
         "type": "scatter",
         "x": [
          "2022-05-10T00:00:00",
          "2022-06-08T00:00:00"
         ],
         "y": [
          115.49794051478054,
          111.57187640912277
         ]
        },
        {
         "line": {
          "color": "green",
          "width": 2
         },
         "marker": {
          "color": "green",
          "size": 8
         },
         "mode": "lines+markers",
         "name": "Price convergence",
         "showlegend": false,
         "type": "scatter",
         "x": [
          "2022-06-16T00:00:00",
          "2022-09-16T00:00:00"
         ],
         "y": [
          127.16902501936201,
          146.4218293394224
         ]
        },
        {
         "line": {
          "color": "black",
          "dash": "dash",
          "width": 2
         },
         "marker": {
          "color": "black",
          "size": 8
         },
         "mode": "lines+markers",
         "name": "adx convergence",
         "showlegend": false,
         "type": "scatter",
         "x": [
          "2022-06-08T00:00:00",
          "2022-09-27T00:00:00"
         ],
         "y": [
          111.57187640912277,
          111.65913929039537
         ]
        },
        {
         "line": {
          "color": "red",
          "width": 2
         },
         "marker": {
          "color": "red",
          "size": 8
         },
         "mode": "lines+markers",
         "name": "Price neutral",
         "showlegend": false,
         "type": "scatter",
         "x": [
          "2022-09-16T00:00:00",
          "2022-10-03T00:00:00"
         ],
         "y": [
          146.4218293394224,
          135.88206585827712
         ]
        },
        {
         "line": {
          "color": "black",
          "dash": "dash",
          "width": 2
         },
         "marker": {
          "color": "black",
          "size": 8
         },
         "mode": "lines+markers",
         "name": "adx neutral",
         "showlegend": false,
         "type": "scatter",
         "x": [
          "2022-09-27T00:00:00",
          "2022-09-27T00:00:00"
         ],
         "y": [
          111.65913929039537,
          111.65913929039537
         ]
        },
        {
         "line": {
          "color": "red",
          "width": 2
         },
         "marker": {
          "color": "red",
          "size": 8
         },
         "mode": "lines+markers",
         "name": "Price neutral",
         "showlegend": false,
         "type": "scatter",
         "x": [
          "2022-10-03T00:00:00",
          "2022-10-13T00:00:00"
         ],
         "y": [
          135.88206585827712,
          132.60567604457702
         ]
        },
        {
         "line": {
          "color": "black",
          "dash": "dash",
          "width": 2
         },
         "marker": {
          "color": "black",
          "size": 8
         },
         "mode": "lines+markers",
         "name": "adx neutral",
         "showlegend": false,
         "type": "scatter",
         "x": [
          "2022-09-27T00:00:00",
          "2022-09-27T00:00:00"
         ],
         "y": [
          111.65913929039537,
          111.65913929039537
         ]
        },
        {
         "line": {
          "color": "green",
          "width": 2
         },
         "marker": {
          "color": "green",
          "size": 8
         },
         "mode": "lines+markers",
         "name": "Price convergence",
         "showlegend": false,
         "type": "scatter",
         "x": [
          "2022-10-13T00:00:00",
          "2022-11-04T00:00:00"
         ],
         "y": [
          132.60567604457702,
          132.83552430474884
         ]
        },
        {
         "line": {
          "color": "black",
          "dash": "dash",
          "width": 2
         },
         "marker": {
          "color": "black",
          "size": 8
         },
         "mode": "lines+markers",
         "name": "adx convergence",
         "showlegend": false,
         "type": "scatter",
         "x": [
          "2022-09-27T00:00:00",
          "2022-11-02T00:00:00"
         ],
         "y": [
          111.65913929039537,
          127.86372419045523
         ]
        },
        {
         "line": {
          "color": "red",
          "width": 2
         },
         "marker": {
          "color": "red",
          "size": 8
         },
         "mode": "lines+markers",
         "name": "Price bullish_divergence",
         "showlegend": false,
         "type": "scatter",
         "x": [
          "2022-11-04T00:00:00",
          "2023-01-03T00:00:00"
         ],
         "y": [
          132.83552430474884,
          122.74286511723291
         ]
        },
        {
         "line": {
          "color": "black",
          "dash": "dash",
          "width": 2
         },
         "marker": {
          "color": "black",
          "size": 8
         },
         "mode": "lines+markers",
         "name": "adx bullish_divergence",
         "showlegend": false,
         "type": "scatter",
         "x": [
          "2022-11-02T00:00:00",
          "2023-01-13T00:00:00"
         ],
         "y": [
          127.86372419045523,
          128.01144464203242
         ]
        },
        {
         "line": {
          "color": "green",
          "width": 2
         },
         "marker": {
          "color": "green",
          "size": 8
         },
         "mode": "lines+markers",
         "name": "Price bearish_divergence",
         "showlegend": false,
         "type": "scatter",
         "x": [
          "2023-01-03T00:00:00",
          "2023-03-02T00:00:00"
         ],
         "y": [
          122.74286511723291,
          142.46327502261613
         ]
        },
        {
         "line": {
          "color": "black",
          "dash": "dash",
          "width": 2
         },
         "marker": {
          "color": "black",
          "size": 8
         },
         "mode": "lines+markers",
         "name": "adx bearish_divergence",
         "showlegend": false,
         "type": "scatter",
         "x": [
          "2023-01-13T00:00:00",
          "2023-03-15T00:00:00"
         ],
         "y": [
          128.01144464203242,
          111.69824533852453
         ]
        },
        {
         "line": {
          "color": "green",
          "width": 2
         },
         "marker": {
          "color": "green",
          "size": 8
         },
         "mode": "lines+markers",
         "name": "Price convergence",
         "showlegend": false,
         "type": "scatter",
         "x": [
          "2023-03-02T00:00:00",
          "2023-04-12T00:00:00"
         ],
         "y": [
          142.46327502261613,
          158.18475927615913
         ]
        },
        {
         "line": {
          "color": "black",
          "dash": "dash",
          "width": 2
         },
         "marker": {
          "color": "black",
          "size": 8
         },
         "mode": "lines+markers",
         "name": "adx convergence",
         "showlegend": false,
         "type": "scatter",
         "x": [
          "2023-03-15T00:00:00",
          "2023-04-12T00:00:00"
         ],
         "y": [
          111.69824533852453,
          136.20932780523773
         ]
        },
        {
         "line": {
          "color": "green",
          "width": 2
         },
         "marker": {
          "color": "green",
          "size": 8
         },
         "mode": "lines+markers",
         "name": "Price neutral",
         "showlegend": false,
         "type": "scatter",
         "x": [
          "2023-04-12T00:00:00",
          "2023-04-26T00:00:00"
         ],
         "y": [
          158.18475927615913,
          161.1746083552498
         ]
        },
        {
         "line": {
          "color": "black",
          "dash": "dash",
          "width": 2
         },
         "marker": {
          "color": "black",
          "size": 8
         },
         "mode": "lines+markers",
         "name": "adx neutral",
         "showlegend": false,
         "type": "scatter",
         "x": [
          "2023-04-12T00:00:00",
          "2023-04-12T00:00:00"
         ],
         "y": [
          136.20932780523773,
          136.20932780523773
         ]
        },
        {
         "line": {
          "color": "green",
          "width": 2
         },
         "marker": {
          "color": "green",
          "size": 8
         },
         "mode": "lines+markers",
         "name": "Price bearish_divergence",
         "showlegend": false,
         "type": "scatter",
         "x": [
          "2023-04-26T00:00:00",
          "2023-05-17T00:00:00"
         ],
         "y": [
          161.1746083552498,
          168.9518675962068
         ]
        },
        {
         "line": {
          "color": "black",
          "dash": "dash",
          "width": 2
         },
         "marker": {
          "color": "black",
          "size": 8
         },
         "mode": "lines+markers",
         "name": "adx bearish_divergence",
         "showlegend": false,
         "type": "scatter",
         "x": [
          "2023-04-12T00:00:00",
          "2023-05-26T00:00:00"
         ],
         "y": [
          136.20932780523773,
          123.36443488147123
         ]
        },
        {
         "line": {
          "color": "green",
          "width": 2
         },
         "marker": {
          "color": "green",
          "size": 8
         },
         "mode": "lines+markers",
         "name": "Price convergence",
         "showlegend": false,
         "type": "scatter",
         "x": [
          "2023-05-17T00:00:00",
          "2023-07-11T00:00:00"
         ],
         "y": [
          168.9518675962068,
          184.99251645839882
         ]
        },
        {
         "line": {
          "color": "black",
          "dash": "dash",
          "width": 2
         },
         "marker": {
          "color": "black",
          "size": 8
         },
         "mode": "lines+markers",
         "name": "adx convergence",
         "showlegend": false,
         "type": "scatter",
         "x": [
          "2023-05-26T00:00:00",
          "2023-07-14T00:00:00"
         ],
         "y": [
          123.36443488147123,
          146.81218569062864
         ]
        },
        {
         "line": {
          "color": "red",
          "width": 2
         },
         "marker": {
          "color": "red",
          "size": 8
         },
         "mode": "lines+markers",
         "name": "Price convergence",
         "showlegend": false,
         "type": "scatter",
         "x": [
          "2023-07-11T00:00:00",
          "2023-08-18T00:00:00"
         ],
         "y": [
          184.99251645839882,
          170.70885281849434
         ]
        },
        {
         "line": {
          "color": "black",
          "dash": "dash",
          "width": 2
         },
         "marker": {
          "color": "black",
          "size": 8
         },
         "mode": "lines+markers",
         "name": "adx convergence",
         "showlegend": false,
         "type": "scatter",
         "x": [
          "2023-07-14T00:00:00",
          "2023-08-29T00:00:00"
         ],
         "y": [
          146.81218569062864,
          146.31774758439036
         ]
        },
        {
         "line": {
          "color": "green",
          "width": 2
         },
         "marker": {
          "color": "green",
          "size": 8
         },
         "mode": "lines+markers",
         "name": "Price neutral",
         "showlegend": false,
         "type": "scatter",
         "x": [
          "2023-08-18T00:00:00",
          "2023-09-07T00:00:00"
         ],
         "y": [
          170.70885281849434,
          172.27732670257566
         ]
        },
        {
         "line": {
          "color": "black",
          "dash": "dash",
          "width": 2
         },
         "marker": {
          "color": "black",
          "size": 8
         },
         "mode": "lines+markers",
         "name": "adx neutral",
         "showlegend": false,
         "type": "scatter",
         "x": [
          "2023-08-29T00:00:00",
          "2023-08-29T00:00:00"
         ],
         "y": [
          146.31774758439036,
          146.31774758439036
         ]
        },
        {
         "line": {
          "color": "red",
          "width": 2
         },
         "marker": {
          "color": "red",
          "size": 8
         },
         "mode": "lines+markers",
         "name": "Price convergence",
         "showlegend": false,
         "type": "scatter",
         "x": [
          "2023-09-07T00:00:00",
          "2023-09-28T00:00:00"
         ],
         "y": [
          172.27732670257566,
          166.40040416763804
         ]
        },
        {
         "line": {
          "color": "black",
          "dash": "dash",
          "width": 2
         },
         "marker": {
          "color": "black",
          "size": 8
         },
         "mode": "lines+markers",
         "name": "adx convergence",
         "showlegend": false,
         "type": "scatter",
         "x": [
          "2023-08-29T00:00:00",
          "2023-09-25T00:00:00"
         ],
         "y": [
          146.31774758439036,
          134.2193909359127
         ]
        },
        {
         "line": {
          "color": "red",
          "width": 2
         },
         "marker": {
          "color": "red",
          "size": 8
         },
         "mode": "lines+markers",
         "name": "Price convergence",
         "showlegend": false,
         "type": "scatter",
         "x": [
          "2023-09-28T00:00:00",
          "2023-10-26T00:00:00"
         ],
         "y": [
          166.40040416763804,
          164.4645956319317
         ]
        },
        {
         "line": {
          "color": "black",
          "dash": "dash",
          "width": 2
         },
         "marker": {
          "color": "black",
          "size": 8
         },
         "mode": "lines+markers",
         "name": "adx convergence",
         "showlegend": false,
         "type": "scatter",
         "x": [
          "2023-09-25T00:00:00",
          "2023-10-19T00:00:00"
         ],
         "y": [
          134.2193909359127,
          119.9273436055179
         ]
        },
        {
         "line": {
          "color": "green",
          "width": 2
         },
         "marker": {
          "color": "green",
          "size": 8
         },
         "mode": "lines+markers",
         "name": "Price convergence",
         "showlegend": false,
         "type": "scatter",
         "x": [
          "2023-10-26T00:00:00",
          "2023-12-04T00:00:00"
         ],
         "y": [
          164.4645956319317,
          186.33127483914026
         ]
        },
        {
         "line": {
          "color": "black",
          "dash": "dash",
          "width": 2
         },
         "marker": {
          "color": "black",
          "size": 8
         },
         "mode": "lines+markers",
         "name": "adx convergence",
         "showlegend": false,
         "type": "scatter",
         "x": [
          "2023-10-19T00:00:00",
          "2023-12-28T00:00:00"
         ],
         "y": [
          119.9273436055179,
          128.1330237212586
         ]
        },
        {
         "line": {
          "color": "red",
          "width": 2
         },
         "marker": {
          "color": "red",
          "size": 8
         },
         "mode": "lines+markers",
         "name": "Price neutral",
         "showlegend": false,
         "type": "scatter",
         "x": [
          "2023-12-04T00:00:00",
          "2024-01-05T00:00:00"
         ],
         "y": [
          186.33127483914026,
          179.09472708075188
         ]
        },
        {
         "line": {
          "color": "black",
          "dash": "dash",
          "width": 2
         },
         "marker": {
          "color": "black",
          "size": 8
         },
         "mode": "lines+markers",
         "name": "adx neutral",
         "showlegend": false,
         "type": "scatter",
         "x": [
          "2023-12-28T00:00:00",
          "2023-12-28T00:00:00"
         ],
         "y": [
          128.1330237212586,
          128.1330237212586
         ]
        },
        {
         "line": {
          "color": "red",
          "width": 2
         },
         "marker": {
          "color": "red",
          "size": 8
         },
         "mode": "lines+markers",
         "name": "Price bullish_divergence",
         "showlegend": false,
         "type": "scatter",
         "x": [
          "2024-01-05T00:00:00",
          "2024-02-02T00:00:00"
         ],
         "y": [
          179.09472708075188,
          178.1802130458578
         ]
        },
        {
         "line": {
          "color": "black",
          "dash": "dash",
          "width": 2
         },
         "marker": {
          "color": "black",
          "size": 8
         },
         "mode": "lines+markers",
         "name": "adx bullish_divergence",
         "showlegend": false,
         "type": "scatter",
         "x": [
          "2023-12-28T00:00:00",
          "2024-01-30T00:00:00"
         ],
         "y": [
          128.1330237212586,
          131.79433827556826
         ]
        },
        {
         "line": {
          "color": "red",
          "width": 2
         },
         "marker": {
          "color": "red",
          "size": 8
         },
         "mode": "lines+markers",
         "name": "Price bullish_divergence",
         "showlegend": false,
         "type": "scatter",
         "x": [
          "2024-02-02T00:00:00",
          "2024-03-07T00:00:00"
         ],
         "y": [
          178.1802130458578,
          167.6981518296525
         ]
        },
        {
         "line": {
          "color": "black",
          "dash": "dash",
          "width": 2
         },
         "marker": {
          "color": "black",
          "size": 8
         },
         "mode": "lines+markers",
         "name": "adx bullish_divergence",
         "showlegend": false,
         "type": "scatter",
         "x": [
          "2024-01-30T00:00:00",
          "2024-02-29T00:00:00"
         ],
         "y": [
          131.79433827556826,
          141.2340205546398
         ]
        },
        {
         "line": {
          "color": "red",
          "width": 2
         },
         "marker": {
          "color": "red",
          "size": 8
         },
         "mode": "lines+markers",
         "name": "Price convergence",
         "showlegend": false,
         "type": "scatter",
         "x": [
          "2024-03-07T00:00:00",
          "2024-04-19T00:00:00"
         ],
         "y": [
          167.6981518296525,
          163.30887389276177
         ]
        },
        {
         "line": {
          "color": "black",
          "dash": "dash",
          "width": 2
         },
         "marker": {
          "color": "black",
          "size": 8
         },
         "mode": "lines+markers",
         "name": "adx convergence",
         "showlegend": false,
         "type": "scatter",
         "x": [
          "2024-02-29T00:00:00",
          "2024-04-25T00:00:00"
         ],
         "y": [
          141.2340205546398,
          109.20685963049061
         ]
        },
        {
         "line": {
          "color": "green",
          "width": 2
         },
         "marker": {
          "color": "green",
          "size": 8
         },
         "mode": "lines+markers",
         "name": "Price convergence",
         "showlegend": false,
         "type": "scatter",
         "x": [
          "2024-04-19T00:00:00",
          "2024-06-24T00:00:00"
         ],
         "y": [
          163.30887389276177,
          205.89799892378585
         ]
        },
        {
         "line": {
          "color": "black",
          "dash": "dash",
          "width": 2
         },
         "marker": {
          "color": "black",
          "size": 8
         },
         "mode": "lines+markers",
         "name": "adx convergence",
         "showlegend": false,
         "type": "scatter",
         "x": [
          "2024-04-25T00:00:00",
          "2024-07-01T00:00:00"
         ],
         "y": [
          109.20685963049061,
          171.96569948868768
         ]
        },
        {
         "line": {
          "color": "red",
          "width": 2
         },
         "marker": {
          "color": "red",
          "size": 8
         },
         "mode": "lines+markers",
         "name": "Price convergence",
         "showlegend": false,
         "type": "scatter",
         "x": [
          "2024-06-24T00:00:00",
          "2024-08-05T00:00:00"
         ],
         "y": [
          205.89799892378585,
          195.34346157584417
         ]
        },
        {
         "line": {
          "color": "black",
          "dash": "dash",
          "width": 2
         },
         "marker": {
          "color": "black",
          "size": 8
         },
         "mode": "lines+markers",
         "name": "adx convergence",
         "showlegend": false,
         "type": "scatter",
         "x": [
          "2024-07-01T00:00:00",
          "2024-08-02T00:00:00"
         ],
         "y": [
          171.96569948868768,
          135.32250457473918
         ]
        },
        {
         "line": {
          "color": "green",
          "width": 2
         },
         "marker": {
          "color": "green",
          "size": 8
         },
         "mode": "lines+markers",
         "name": "Price bearish_divergence",
         "showlegend": false,
         "type": "scatter",
         "x": [
          "2024-08-05T00:00:00",
          "2024-09-16T00:00:00"
         ],
         "y": [
          195.34346157584417,
          213.4502168549942
         ]
        },
        {
         "line": {
          "color": "black",
          "dash": "dash",
          "width": 2
         },
         "marker": {
          "color": "black",
          "size": 8
         },
         "mode": "lines+markers",
         "name": "adx bearish_divergence",
         "showlegend": false,
         "type": "scatter",
         "x": [
          "2024-08-02T00:00:00",
          "2024-09-13T00:00:00"
         ],
         "y": [
          135.32250457473918,
          118.89893347672071
         ]
        },
        {
         "line": {
          "color": "green",
          "width": 2
         },
         "marker": {
          "color": "green",
          "size": 8
         },
         "mode": "lines+markers",
         "name": "Price bearish_divergence",
         "showlegend": false,
         "type": "scatter",
         "x": [
          "2024-09-16T00:00:00",
          "2024-10-07T00:00:00"
         ],
         "y": [
          213.4502168549942,
          220.84396072803747
         ]
        },
        {
         "line": {
          "color": "black",
          "dash": "dash",
          "width": 2
         },
         "marker": {
          "color": "black",
          "size": 8
         },
         "mode": "lines+markers",
         "name": "adx bearish_divergence",
         "showlegend": false,
         "type": "scatter",
         "x": [
          "2024-09-13T00:00:00",
          "2024-10-11T00:00:00"
         ],
         "y": [
          118.89893347672071,
          107.29542605982577
         ]
        },
        {
         "line": {
          "color": "red",
          "width": 2
         },
         "marker": {
          "color": "red",
          "size": 8
         },
         "mode": "lines+markers",
         "name": "Price bullish_divergence",
         "showlegend": false,
         "type": "scatter",
         "x": [
          "2024-10-07T00:00:00",
          "2024-11-04T00:00:00"
         ],
         "y": [
          220.84396072803747,
          219.2275088130919
         ]
        },
        {
         "line": {
          "color": "black",
          "dash": "dash",
          "width": 2
         },
         "marker": {
          "color": "black",
          "size": 8
         },
         "mode": "lines+markers",
         "name": "adx bullish_divergence",
         "showlegend": false,
         "type": "scatter",
         "x": [
          "2024-10-11T00:00:00",
          "2024-10-30T00:00:00"
         ],
         "y": [
          107.29542605982577,
          116.91421686942317
         ]
        }
       ],
       "layout": {
        "annotations": [
         {
          "arrowcolor": "red",
          "arrowhead": 1,
          "arrowsize": 1,
          "arrowwidth": 2,
          "bgcolor": "rgba(255,255,255,0.8)",
          "font": {
           "color": "red"
          },
          "showarrow": true,
          "text": "Bearish Divergence",
          "x": "2020-12-15T00:00:00",
          "y": 116.71067970334946
         },
         {
          "arrowcolor": "red",
          "arrowhead": 1,
          "arrowsize": 1,
          "arrowwidth": 2,
          "bgcolor": "rgba(255,255,255,0.8)",
          "font": {
           "color": "red"
          },
          "showarrow": true,
          "text": "Bearish Divergence",
          "x": "2021-05-21T00:00:00",
          "y": 120.22421967037363
         },
         {
          "arrowcolor": "red",
          "arrowhead": 1,
          "arrowsize": 1,
          "arrowwidth": 2,
          "bgcolor": "rgba(255,255,255,0.8)",
          "font": {
           "color": "red"
          },
          "showarrow": true,
          "text": "Bearish Divergence",
          "x": "2021-07-13T00:00:00",
          "y": 131.23169349576366
         },
         {
          "arrowcolor": "green",
          "arrowhead": 1,
          "arrowsize": 1,
          "arrowwidth": 2,
          "bgcolor": "rgba(255,255,255,0.8)",
          "font": {
           "color": "green"
          },
          "showarrow": true,
          "text": "Bullish Divergence",
          "x": "2022-03-04T00:00:00",
          "y": 148.64150492945765
         },
         {
          "arrowcolor": "green",
          "arrowhead": 1,
          "arrowsize": 1,
          "arrowwidth": 2,
          "bgcolor": "rgba(255,255,255,0.8)",
          "font": {
           "color": "green"
          },
          "showarrow": true,
          "text": "Bullish Divergence",
          "x": "2022-12-02T00:00:00",
          "y": 127.78919471099087
         },
         {
          "arrowcolor": "red",
          "arrowhead": 1,
          "arrowsize": 1,
          "arrowwidth": 2,
          "bgcolor": "rgba(255,255,255,0.8)",
          "font": {
           "color": "red"
          },
          "showarrow": true,
          "text": "Bearish Divergence",
          "x": "2023-02-01T00:00:00",
          "y": 132.6030700699245
         },
         {
          "arrowcolor": "red",
          "arrowhead": 1,
          "arrowsize": 1,
          "arrowwidth": 2,
          "bgcolor": "rgba(255,255,255,0.8)",
          "font": {
           "color": "red"
          },
          "showarrow": true,
          "text": "Bearish Divergence",
          "x": "2023-05-05T00:00:00",
          "y": 165.0632379757283
         },
         {
          "arrowcolor": "green",
          "arrowhead": 1,
          "arrowsize": 1,
          "arrowwidth": 2,
          "bgcolor": "rgba(255,255,255,0.8)",
          "font": {
           "color": "green"
          },
          "showarrow": true,
          "text": "Bullish Divergence",
          "x": "2024-01-19T00:00:00",
          "y": 178.63747006330485
         },
         {
          "arrowcolor": "green",
          "arrowhead": 1,
          "arrowsize": 1,
          "arrowwidth": 2,
          "bgcolor": "rgba(255,255,255,0.8)",
          "font": {
           "color": "green"
          },
          "showarrow": true,
          "text": "Bullish Divergence",
          "x": "2024-02-20T00:00:00",
          "y": 172.93918243775516
         },
         {
          "arrowcolor": "red",
          "arrowhead": 1,
          "arrowsize": 1,
          "arrowwidth": 2,
          "bgcolor": "rgba(255,255,255,0.8)",
          "font": {
           "color": "red"
          },
          "showarrow": true,
          "text": "Bearish Divergence",
          "x": "2024-08-23T00:00:00",
          "y": 204.3968392154192
         },
         {
          "arrowcolor": "red",
          "arrowhead": 1,
          "arrowsize": 1,
          "arrowwidth": 2,
          "bgcolor": "rgba(255,255,255,0.8)",
          "font": {
           "color": "red"
          },
          "showarrow": true,
          "text": "Bearish Divergence",
          "x": "2024-09-25T00:00:00",
          "y": 217.14708879151584
         },
         {
          "arrowcolor": "green",
          "arrowhead": 1,
          "arrowsize": 1,
          "arrowwidth": 2,
          "bgcolor": "rgba(255,255,255,0.8)",
          "font": {
           "color": "green"
          },
          "showarrow": true,
          "text": "Bullish Divergence",
          "x": "2024-10-21T00:00:00",
          "y": 220.0357347705647
         },
         {
          "bgcolor": "rgba(255,255,255,0.8)",
          "font": {
           "size": 10
          },
          "showarrow": false,
          "text": "Note: adx is scaled to match price range for visualization",
          "x": 0.01,
          "xref": "paper",
          "y": 0.99,
          "yref": "paper"
         }
        ],
        "height": 800,
        "hovermode": "x unified",
        "legend": {
         "orientation": "h",
         "x": 1,
         "xanchor": "right",
         "y": 1.02
        },
        "template": {
         "data": {
          "bar": [
           {
            "error_x": {
             "color": "#2a3f5f"
            },
            "error_y": {
             "color": "#2a3f5f"
            },
            "marker": {
             "line": {
              "color": "#E5ECF6",
              "width": 0.5
             },
             "pattern": {
              "fillmode": "overlay",
              "size": 10,
              "solidity": 0.2
             }
            },
            "type": "bar"
           }
          ],
          "barpolar": [
           {
            "marker": {
             "line": {
              "color": "#E5ECF6",
              "width": 0.5
             },
             "pattern": {
              "fillmode": "overlay",
              "size": 10,
              "solidity": 0.2
             }
            },
            "type": "barpolar"
           }
          ],
          "carpet": [
           {
            "aaxis": {
             "endlinecolor": "#2a3f5f",
             "gridcolor": "white",
             "linecolor": "white",
             "minorgridcolor": "white",
             "startlinecolor": "#2a3f5f"
            },
            "baxis": {
             "endlinecolor": "#2a3f5f",
             "gridcolor": "white",
             "linecolor": "white",
             "minorgridcolor": "white",
             "startlinecolor": "#2a3f5f"
            },
            "type": "carpet"
           }
          ],
          "choropleth": [
           {
            "colorbar": {
             "outlinewidth": 0,
             "ticks": ""
            },
            "type": "choropleth"
           }
          ],
          "contour": [
           {
            "colorbar": {
             "outlinewidth": 0,
             "ticks": ""
            },
            "colorscale": [
             [
              0,
              "#0d0887"
             ],
             [
              0.1111111111111111,
              "#46039f"
             ],
             [
              0.2222222222222222,
              "#7201a8"
             ],
             [
              0.3333333333333333,
              "#9c179e"
             ],
             [
              0.4444444444444444,
              "#bd3786"
             ],
             [
              0.5555555555555556,
              "#d8576b"
             ],
             [
              0.6666666666666666,
              "#ed7953"
             ],
             [
              0.7777777777777778,
              "#fb9f3a"
             ],
             [
              0.8888888888888888,
              "#fdca26"
             ],
             [
              1,
              "#f0f921"
             ]
            ],
            "type": "contour"
           }
          ],
          "contourcarpet": [
           {
            "colorbar": {
             "outlinewidth": 0,
             "ticks": ""
            },
            "type": "contourcarpet"
           }
          ],
          "heatmap": [
           {
            "colorbar": {
             "outlinewidth": 0,
             "ticks": ""
            },
            "colorscale": [
             [
              0,
              "#0d0887"
             ],
             [
              0.1111111111111111,
              "#46039f"
             ],
             [
              0.2222222222222222,
              "#7201a8"
             ],
             [
              0.3333333333333333,
              "#9c179e"
             ],
             [
              0.4444444444444444,
              "#bd3786"
             ],
             [
              0.5555555555555556,
              "#d8576b"
             ],
             [
              0.6666666666666666,
              "#ed7953"
             ],
             [
              0.7777777777777778,
              "#fb9f3a"
             ],
             [
              0.8888888888888888,
              "#fdca26"
             ],
             [
              1,
              "#f0f921"
             ]
            ],
            "type": "heatmap"
           }
          ],
          "histogram": [
           {
            "marker": {
             "pattern": {
              "fillmode": "overlay",
              "size": 10,
              "solidity": 0.2
             }
            },
            "type": "histogram"
           }
          ],
          "histogram2d": [
           {
            "colorbar": {
             "outlinewidth": 0,
             "ticks": ""
            },
            "colorscale": [
             [
              0,
              "#0d0887"
             ],
             [
              0.1111111111111111,
              "#46039f"
             ],
             [
              0.2222222222222222,
              "#7201a8"
             ],
             [
              0.3333333333333333,
              "#9c179e"
             ],
             [
              0.4444444444444444,
              "#bd3786"
             ],
             [
              0.5555555555555556,
              "#d8576b"
             ],
             [
              0.6666666666666666,
              "#ed7953"
             ],
             [
              0.7777777777777778,
              "#fb9f3a"
             ],
             [
              0.8888888888888888,
              "#fdca26"
             ],
             [
              1,
              "#f0f921"
             ]
            ],
            "type": "histogram2d"
           }
          ],
          "histogram2dcontour": [
           {
            "colorbar": {
             "outlinewidth": 0,
             "ticks": ""
            },
            "colorscale": [
             [
              0,
              "#0d0887"
             ],
             [
              0.1111111111111111,
              "#46039f"
             ],
             [
              0.2222222222222222,
              "#7201a8"
             ],
             [
              0.3333333333333333,
              "#9c179e"
             ],
             [
              0.4444444444444444,
              "#bd3786"
             ],
             [
              0.5555555555555556,
              "#d8576b"
             ],
             [
              0.6666666666666666,
              "#ed7953"
             ],
             [
              0.7777777777777778,
              "#fb9f3a"
             ],
             [
              0.8888888888888888,
              "#fdca26"
             ],
             [
              1,
              "#f0f921"
             ]
            ],
            "type": "histogram2dcontour"
           }
          ],
          "mesh3d": [
           {
            "colorbar": {
             "outlinewidth": 0,
             "ticks": ""
            },
            "type": "mesh3d"
           }
          ],
          "parcoords": [
           {
            "line": {
             "colorbar": {
              "outlinewidth": 0,
              "ticks": ""
             }
            },
            "type": "parcoords"
           }
          ],
          "pie": [
           {
            "automargin": true,
            "type": "pie"
           }
          ],
          "scatter": [
           {
            "fillpattern": {
             "fillmode": "overlay",
             "size": 10,
             "solidity": 0.2
            },
            "type": "scatter"
           }
          ],
          "scatter3d": [
           {
            "line": {
             "colorbar": {
              "outlinewidth": 0,
              "ticks": ""
             }
            },
            "marker": {
             "colorbar": {
              "outlinewidth": 0,
              "ticks": ""
             }
            },
            "type": "scatter3d"
           }
          ],
          "scattercarpet": [
           {
            "marker": {
             "colorbar": {
              "outlinewidth": 0,
              "ticks": ""
             }
            },
            "type": "scattercarpet"
           }
          ],
          "scattergeo": [
           {
            "marker": {
             "colorbar": {
              "outlinewidth": 0,
              "ticks": ""
             }
            },
            "type": "scattergeo"
           }
          ],
          "scattergl": [
           {
            "marker": {
             "colorbar": {
              "outlinewidth": 0,
              "ticks": ""
             }
            },
            "type": "scattergl"
           }
          ],
          "scattermap": [
           {
            "marker": {
             "colorbar": {
              "outlinewidth": 0,
              "ticks": ""
             }
            },
            "type": "scattermap"
           }
          ],
          "scattermapbox": [
           {
            "marker": {
             "colorbar": {
              "outlinewidth": 0,
              "ticks": ""
             }
            },
            "type": "scattermapbox"
           }
          ],
          "scatterpolar": [
           {
            "marker": {
             "colorbar": {
              "outlinewidth": 0,
              "ticks": ""
             }
            },
            "type": "scatterpolar"
           }
          ],
          "scatterpolargl": [
           {
            "marker": {
             "colorbar": {
              "outlinewidth": 0,
              "ticks": ""
             }
            },
            "type": "scatterpolargl"
           }
          ],
          "scatterternary": [
           {
            "marker": {
             "colorbar": {
              "outlinewidth": 0,
              "ticks": ""
             }
            },
            "type": "scatterternary"
           }
          ],
          "surface": [
           {
            "colorbar": {
             "outlinewidth": 0,
             "ticks": ""
            },
            "colorscale": [
             [
              0,
              "#0d0887"
             ],
             [
              0.1111111111111111,
              "#46039f"
             ],
             [
              0.2222222222222222,
              "#7201a8"
             ],
             [
              0.3333333333333333,
              "#9c179e"
             ],
             [
              0.4444444444444444,
              "#bd3786"
             ],
             [
              0.5555555555555556,
              "#d8576b"
             ],
             [
              0.6666666666666666,
              "#ed7953"
             ],
             [
              0.7777777777777778,
              "#fb9f3a"
             ],
             [
              0.8888888888888888,
              "#fdca26"
             ],
             [
              1,
              "#f0f921"
             ]
            ],
            "type": "surface"
           }
          ],
          "table": [
           {
            "cells": {
             "fill": {
              "color": "#EBF0F8"
             },
             "line": {
              "color": "white"
             }
            },
            "header": {
             "fill": {
              "color": "#C8D4E3"
             },
             "line": {
              "color": "white"
             }
            },
            "type": "table"
           }
          ]
         },
         "layout": {
          "annotationdefaults": {
           "arrowcolor": "#2a3f5f",
           "arrowhead": 0,
           "arrowwidth": 1
          },
          "autotypenumbers": "strict",
          "coloraxis": {
           "colorbar": {
            "outlinewidth": 0,
            "ticks": ""
           }
          },
          "colorscale": {
           "diverging": [
            [
             0,
             "#8e0152"
            ],
            [
             0.1,
             "#c51b7d"
            ],
            [
             0.2,
             "#de77ae"
            ],
            [
             0.3,
             "#f1b6da"
            ],
            [
             0.4,
             "#fde0ef"
            ],
            [
             0.5,
             "#f7f7f7"
            ],
            [
             0.6,
             "#e6f5d0"
            ],
            [
             0.7,
             "#b8e186"
            ],
            [
             0.8,
             "#7fbc41"
            ],
            [
             0.9,
             "#4d9221"
            ],
            [
             1,
             "#276419"
            ]
           ],
           "sequential": [
            [
             0,
             "#0d0887"
            ],
            [
             0.1111111111111111,
             "#46039f"
            ],
            [
             0.2222222222222222,
             "#7201a8"
            ],
            [
             0.3333333333333333,
             "#9c179e"
            ],
            [
             0.4444444444444444,
             "#bd3786"
            ],
            [
             0.5555555555555556,
             "#d8576b"
            ],
            [
             0.6666666666666666,
             "#ed7953"
            ],
            [
             0.7777777777777778,
             "#fb9f3a"
            ],
            [
             0.8888888888888888,
             "#fdca26"
            ],
            [
             1,
             "#f0f921"
            ]
           ],
           "sequentialminus": [
            [
             0,
             "#0d0887"
            ],
            [
             0.1111111111111111,
             "#46039f"
            ],
            [
             0.2222222222222222,
             "#7201a8"
            ],
            [
             0.3333333333333333,
             "#9c179e"
            ],
            [
             0.4444444444444444,
             "#bd3786"
            ],
            [
             0.5555555555555556,
             "#d8576b"
            ],
            [
             0.6666666666666666,
             "#ed7953"
            ],
            [
             0.7777777777777778,
             "#fb9f3a"
            ],
            [
             0.8888888888888888,
             "#fdca26"
            ],
            [
             1,
             "#f0f921"
            ]
           ]
          },
          "colorway": [
           "#636efa",
           "#EF553B",
           "#00cc96",
           "#ab63fa",
           "#FFA15A",
           "#19d3f3",
           "#FF6692",
           "#B6E880",
           "#FF97FF",
           "#FECB52"
          ],
          "font": {
           "color": "#2a3f5f"
          },
          "geo": {
           "bgcolor": "white",
           "lakecolor": "white",
           "landcolor": "#E5ECF6",
           "showlakes": true,
           "showland": true,
           "subunitcolor": "white"
          },
          "hoverlabel": {
           "align": "left"
          },
          "hovermode": "closest",
          "mapbox": {
           "style": "light"
          },
          "paper_bgcolor": "white",
          "plot_bgcolor": "#E5ECF6",
          "polar": {
           "angularaxis": {
            "gridcolor": "white",
            "linecolor": "white",
            "ticks": ""
           },
           "bgcolor": "#E5ECF6",
           "radialaxis": {
            "gridcolor": "white",
            "linecolor": "white",
            "ticks": ""
           }
          },
          "scene": {
           "xaxis": {
            "backgroundcolor": "#E5ECF6",
            "gridcolor": "white",
            "gridwidth": 2,
            "linecolor": "white",
            "showbackground": true,
            "ticks": "",
            "zerolinecolor": "white"
           },
           "yaxis": {
            "backgroundcolor": "#E5ECF6",
            "gridcolor": "white",
            "gridwidth": 2,
            "linecolor": "white",
            "showbackground": true,
            "ticks": "",
            "zerolinecolor": "white"
           },
           "zaxis": {
            "backgroundcolor": "#E5ECF6",
            "gridcolor": "white",
            "gridwidth": 2,
            "linecolor": "white",
            "showbackground": true,
            "ticks": "",
            "zerolinecolor": "white"
           }
          },
          "shapedefaults": {
           "line": {
            "color": "#2a3f5f"
           }
          },
          "ternary": {
           "aaxis": {
            "gridcolor": "white",
            "linecolor": "white",
            "ticks": ""
           },
           "baxis": {
            "gridcolor": "white",
            "linecolor": "white",
            "ticks": ""
           },
           "bgcolor": "#E5ECF6",
           "caxis": {
            "gridcolor": "white",
            "linecolor": "white",
            "ticks": ""
           }
          },
          "title": {
           "x": 0.05
          },
          "xaxis": {
           "automargin": true,
           "gridcolor": "white",
           "linecolor": "white",
           "ticks": "",
           "title": {
            "standoff": 15
           },
           "zerolinecolor": "white",
           "zerolinewidth": 2
          },
          "yaxis": {
           "automargin": true,
           "gridcolor": "white",
           "linecolor": "white",
           "ticks": "",
           "title": {
            "standoff": 15
           },
           "zerolinecolor": "white",
           "zerolinewidth": 2
          }
         }
        },
        "title": {
         "text": "Lows Trendline Analysis: low vs adx"
        },
        "width": 1200,
        "xaxis": {
         "title": {
          "text": "Date"
         }
        },
        "yaxis": {
         "title": {
          "text": "Price"
         }
        },
        "yaxis2": {
         "overlaying": "y",
         "range": [
          11.454094044015298,
          72.15824385169289
         ],
         "showgrid": false,
         "side": "right",
         "title": {
          "text": "adx Value"
         }
        }
       }
      }
     },
     "metadata": {},
     "output_type": "display_data"
    }
   ],
   "source": [
    "# Filter data to a reasonable time period for clearer visualization\n",
    "# Last year of data from the dataset using iloc to avoid index issues\n",
    "recent_df = df.iloc[-1095:].copy()  # Last 3 years of data\n",
    "\n",
    "# Analyze ADX trendlines\n",
    "adx_high_results = analyze_indicator_trendlines(\n",
    "    recent_df, 'high', 'adx', extrema_window=7, time_gap=90, mode='high'\n",
    ")\n",
    "\n",
    "adx_low_results = analyze_indicator_trendlines(\n",
    "    recent_df, 'low', 'adx', extrema_window=7, time_gap=90, mode='low'\n",
    ")"
   ]
  },
  {
   "cell_type": "code",
   "execution_count": 46,
   "metadata": {},
   "outputs": [
    {
     "name": "stderr",
     "output_type": "stream",
     "text": [
      "C:\\Users\\josep\\AppData\\Local\\Temp\\ipykernel_46280\\2823576645.py:27: RuntimeWarning:\n",
      "\n",
      "invalid value encountered in scalar divide\n",
      "\n"
     ]
    },
    {
     "data": {
      "application/vnd.plotly.v1+json": {
       "config": {
        "plotlyServerURL": "https://plot.ly"
       },
       "data": [
        {
         "line": {
          "color": "blue",
          "width": 1
         },
         "name": "high",
         "type": "scatter",
         "x": [
          "2020-09-16T00:00:00.000000000",
          "2020-09-17T00:00:00.000000000",
          "2020-09-18T00:00:00.000000000",
          "2020-09-21T00:00:00.000000000",
          "2020-09-22T00:00:00.000000000",
          "2020-09-23T00:00:00.000000000",
          "2020-09-24T00:00:00.000000000",
          "2020-09-25T00:00:00.000000000",
          "2020-09-28T00:00:00.000000000",
          "2020-09-29T00:00:00.000000000",
          "2020-09-30T00:00:00.000000000",
          "2020-10-01T00:00:00.000000000",
          "2020-10-02T00:00:00.000000000",
          "2020-10-05T00:00:00.000000000",
          "2020-10-06T00:00:00.000000000",
          "2020-10-07T00:00:00.000000000",
          "2020-10-08T00:00:00.000000000",
          "2020-10-09T00:00:00.000000000",
          "2020-10-12T00:00:00.000000000",
          "2020-10-13T00:00:00.000000000",
          "2020-10-14T00:00:00.000000000",
          "2020-10-15T00:00:00.000000000",
          "2020-10-16T00:00:00.000000000",
          "2020-10-19T00:00:00.000000000",
          "2020-10-20T00:00:00.000000000",
          "2020-10-21T00:00:00.000000000",
          "2020-10-22T00:00:00.000000000",
          "2020-10-23T00:00:00.000000000",
          "2020-10-26T00:00:00.000000000",
          "2020-10-27T00:00:00.000000000",
          "2020-10-28T00:00:00.000000000",
          "2020-10-29T00:00:00.000000000",
          "2020-10-30T00:00:00.000000000",
          "2020-11-02T00:00:00.000000000",
          "2020-11-03T00:00:00.000000000",
          "2020-11-04T00:00:00.000000000",
          "2020-11-05T00:00:00.000000000",
          "2020-11-06T00:00:00.000000000",
          "2020-11-09T00:00:00.000000000",
          "2020-11-10T00:00:00.000000000",
          "2020-11-11T00:00:00.000000000",
          "2020-11-12T00:00:00.000000000",
          "2020-11-13T00:00:00.000000000",
          "2020-11-16T00:00:00.000000000",
          "2020-11-17T00:00:00.000000000",
          "2020-11-18T00:00:00.000000000",
          "2020-11-19T00:00:00.000000000",
          "2020-11-20T00:00:00.000000000",
          "2020-11-23T00:00:00.000000000",
          "2020-11-24T00:00:00.000000000",
          "2020-11-25T00:00:00.000000000",
          "2020-11-27T00:00:00.000000000",
          "2020-11-30T00:00:00.000000000",
          "2020-12-01T00:00:00.000000000",
          "2020-12-02T00:00:00.000000000",
          "2020-12-03T00:00:00.000000000",
          "2020-12-04T00:00:00.000000000",
          "2020-12-07T00:00:00.000000000",
          "2020-12-08T00:00:00.000000000",
          "2020-12-09T00:00:00.000000000",
          "2020-12-10T00:00:00.000000000",
          "2020-12-11T00:00:00.000000000",
          "2020-12-14T00:00:00.000000000",
          "2020-12-15T00:00:00.000000000",
          "2020-12-16T00:00:00.000000000",
          "2020-12-17T00:00:00.000000000",
          "2020-12-18T00:00:00.000000000",
          "2020-12-21T00:00:00.000000000",
          "2020-12-22T00:00:00.000000000",
          "2020-12-23T00:00:00.000000000",
          "2020-12-24T00:00:00.000000000",
          "2020-12-28T00:00:00.000000000",
          "2020-12-29T00:00:00.000000000",
          "2020-12-30T00:00:00.000000000",
          "2020-12-31T00:00:00.000000000",
          "2021-01-04T00:00:00.000000000",
          "2021-01-05T00:00:00.000000000",
          "2021-01-06T00:00:00.000000000",
          "2021-01-07T00:00:00.000000000",
          "2021-01-08T00:00:00.000000000",
          "2021-01-11T00:00:00.000000000",
          "2021-01-12T00:00:00.000000000",
          "2021-01-13T00:00:00.000000000",
          "2021-01-14T00:00:00.000000000",
          "2021-01-15T00:00:00.000000000",
          "2021-01-19T00:00:00.000000000",
          "2021-01-20T00:00:00.000000000",
          "2021-01-21T00:00:00.000000000",
          "2021-01-22T00:00:00.000000000",
          "2021-01-25T00:00:00.000000000",
          "2021-01-26T00:00:00.000000000",
          "2021-01-27T00:00:00.000000000",
          "2021-01-28T00:00:00.000000000",
          "2021-01-29T00:00:00.000000000",
          "2021-02-01T00:00:00.000000000",
          "2021-02-02T00:00:00.000000000",
          "2021-02-03T00:00:00.000000000",
          "2021-02-04T00:00:00.000000000",
          "2021-02-05T00:00:00.000000000",
          "2021-02-08T00:00:00.000000000",
          "2021-02-09T00:00:00.000000000",
          "2021-02-10T00:00:00.000000000",
          "2021-02-11T00:00:00.000000000",
          "2021-02-12T00:00:00.000000000",
          "2021-02-16T00:00:00.000000000",
          "2021-02-17T00:00:00.000000000",
          "2021-02-18T00:00:00.000000000",
          "2021-02-19T00:00:00.000000000",
          "2021-02-22T00:00:00.000000000",
          "2021-02-23T00:00:00.000000000",
          "2021-02-24T00:00:00.000000000",
          "2021-02-25T00:00:00.000000000",
          "2021-02-26T00:00:00.000000000",
          "2021-03-01T00:00:00.000000000",
          "2021-03-02T00:00:00.000000000",
          "2021-03-03T00:00:00.000000000",
          "2021-03-04T00:00:00.000000000",
          "2021-03-05T00:00:00.000000000",
          "2021-03-08T00:00:00.000000000",
          "2021-03-09T00:00:00.000000000",
          "2021-03-10T00:00:00.000000000",
          "2021-03-11T00:00:00.000000000",
          "2021-03-12T00:00:00.000000000",
          "2021-03-15T00:00:00.000000000",
          "2021-03-16T00:00:00.000000000",
          "2021-03-17T00:00:00.000000000",
          "2021-03-18T00:00:00.000000000",
          "2021-03-19T00:00:00.000000000",
          "2021-03-22T00:00:00.000000000",
          "2021-03-23T00:00:00.000000000",
          "2021-03-24T00:00:00.000000000",
          "2021-03-25T00:00:00.000000000",
          "2021-03-26T00:00:00.000000000",
          "2021-03-29T00:00:00.000000000",
          "2021-03-30T00:00:00.000000000",
          "2021-03-31T00:00:00.000000000",
          "2021-04-01T00:00:00.000000000",
          "2021-04-05T00:00:00.000000000",
          "2021-04-06T00:00:00.000000000",
          "2021-04-07T00:00:00.000000000",
          "2021-04-08T00:00:00.000000000",
          "2021-04-09T00:00:00.000000000",
          "2021-04-12T00:00:00.000000000",
          "2021-04-13T00:00:00.000000000",
          "2021-04-14T00:00:00.000000000",
          "2021-04-15T00:00:00.000000000",
          "2021-04-16T00:00:00.000000000",
          "2021-04-19T00:00:00.000000000",
          "2021-04-20T00:00:00.000000000",
          "2021-04-21T00:00:00.000000000",
          "2021-04-22T00:00:00.000000000",
          "2021-04-23T00:00:00.000000000",
          "2021-04-26T00:00:00.000000000",
          "2021-04-27T00:00:00.000000000",
          "2021-04-28T00:00:00.000000000",
          "2021-04-29T00:00:00.000000000",
          "2021-04-30T00:00:00.000000000",
          "2021-05-03T00:00:00.000000000",
          "2021-05-04T00:00:00.000000000",
          "2021-05-05T00:00:00.000000000",
          "2021-05-06T00:00:00.000000000",
          "2021-05-07T00:00:00.000000000",
          "2021-05-10T00:00:00.000000000",
          "2021-05-11T00:00:00.000000000",
          "2021-05-12T00:00:00.000000000",
          "2021-05-13T00:00:00.000000000",
          "2021-05-14T00:00:00.000000000",
          "2021-05-17T00:00:00.000000000",
          "2021-05-18T00:00:00.000000000",
          "2021-05-19T00:00:00.000000000",
          "2021-05-20T00:00:00.000000000",
          "2021-05-21T00:00:00.000000000",
          "2021-05-24T00:00:00.000000000",
          "2021-05-25T00:00:00.000000000",
          "2021-05-26T00:00:00.000000000",
          "2021-05-27T00:00:00.000000000",
          "2021-05-28T00:00:00.000000000",
          "2021-06-01T00:00:00.000000000",
          "2021-06-02T00:00:00.000000000",
          "2021-06-03T00:00:00.000000000",
          "2021-06-04T00:00:00.000000000",
          "2021-06-07T00:00:00.000000000",
          "2021-06-08T00:00:00.000000000",
          "2021-06-09T00:00:00.000000000",
          "2021-06-10T00:00:00.000000000",
          "2021-06-11T00:00:00.000000000",
          "2021-06-14T00:00:00.000000000",
          "2021-06-15T00:00:00.000000000",
          "2021-06-16T00:00:00.000000000",
          "2021-06-17T00:00:00.000000000",
          "2021-06-18T00:00:00.000000000",
          "2021-06-21T00:00:00.000000000",
          "2021-06-22T00:00:00.000000000",
          "2021-06-23T00:00:00.000000000",
          "2021-06-24T00:00:00.000000000",
          "2021-06-25T00:00:00.000000000",
          "2021-06-28T00:00:00.000000000",
          "2021-06-29T00:00:00.000000000",
          "2021-06-30T00:00:00.000000000",
          "2021-07-01T00:00:00.000000000",
          "2021-07-02T00:00:00.000000000",
          "2021-07-06T00:00:00.000000000",
          "2021-07-07T00:00:00.000000000",
          "2021-07-08T00:00:00.000000000",
          "2021-07-09T00:00:00.000000000",
          "2021-07-12T00:00:00.000000000",
          "2021-07-13T00:00:00.000000000",
          "2021-07-14T00:00:00.000000000",
          "2021-07-15T00:00:00.000000000",
          "2021-07-16T00:00:00.000000000",
          "2021-07-19T00:00:00.000000000",
          "2021-07-20T00:00:00.000000000",
          "2021-07-21T00:00:00.000000000",
          "2021-07-22T00:00:00.000000000",
          "2021-07-23T00:00:00.000000000",
          "2021-07-26T00:00:00.000000000",
          "2021-07-27T00:00:00.000000000",
          "2021-07-28T00:00:00.000000000",
          "2021-07-29T00:00:00.000000000",
          "2021-07-30T00:00:00.000000000",
          "2021-08-02T00:00:00.000000000",
          "2021-08-03T00:00:00.000000000",
          "2021-08-04T00:00:00.000000000",
          "2021-08-05T00:00:00.000000000",
          "2021-08-06T00:00:00.000000000",
          "2021-08-09T00:00:00.000000000",
          "2021-08-10T00:00:00.000000000",
          "2021-08-11T00:00:00.000000000",
          "2021-08-12T00:00:00.000000000",
          "2021-08-13T00:00:00.000000000",
          "2021-08-16T00:00:00.000000000",
          "2021-08-17T00:00:00.000000000",
          "2021-08-18T00:00:00.000000000",
          "2021-08-19T00:00:00.000000000",
          "2021-08-20T00:00:00.000000000",
          "2021-08-23T00:00:00.000000000",
          "2021-08-24T00:00:00.000000000",
          "2021-08-25T00:00:00.000000000",
          "2021-08-26T00:00:00.000000000",
          "2021-08-27T00:00:00.000000000",
          "2021-08-30T00:00:00.000000000",
          "2021-08-31T00:00:00.000000000",
          "2021-09-01T00:00:00.000000000",
          "2021-09-02T00:00:00.000000000",
          "2021-09-03T00:00:00.000000000",
          "2021-09-07T00:00:00.000000000",
          "2021-09-08T00:00:00.000000000",
          "2021-09-09T00:00:00.000000000",
          "2021-09-10T00:00:00.000000000",
          "2021-09-13T00:00:00.000000000",
          "2021-09-14T00:00:00.000000000",
          "2021-09-15T00:00:00.000000000",
          "2021-09-16T00:00:00.000000000",
          "2021-09-17T00:00:00.000000000",
          "2021-09-20T00:00:00.000000000",
          "2021-09-21T00:00:00.000000000",
          "2021-09-22T00:00:00.000000000",
          "2021-09-23T00:00:00.000000000",
          "2021-09-24T00:00:00.000000000",
          "2021-09-27T00:00:00.000000000",
          "2021-09-28T00:00:00.000000000",
          "2021-09-29T00:00:00.000000000",
          "2021-09-30T00:00:00.000000000",
          "2021-10-01T00:00:00.000000000",
          "2021-10-04T00:00:00.000000000",
          "2021-10-05T00:00:00.000000000",
          "2021-10-06T00:00:00.000000000",
          "2021-10-07T00:00:00.000000000",
          "2021-10-08T00:00:00.000000000",
          "2021-10-11T00:00:00.000000000",
          "2021-10-12T00:00:00.000000000",
          "2021-10-13T00:00:00.000000000",
          "2021-10-14T00:00:00.000000000",
          "2021-10-15T00:00:00.000000000",
          "2021-10-18T00:00:00.000000000",
          "2021-10-19T00:00:00.000000000",
          "2021-10-20T00:00:00.000000000",
          "2021-10-21T00:00:00.000000000",
          "2021-10-22T00:00:00.000000000",
          "2021-10-25T00:00:00.000000000",
          "2021-10-26T00:00:00.000000000",
          "2021-10-27T00:00:00.000000000",
          "2021-10-28T00:00:00.000000000",
          "2021-10-29T00:00:00.000000000",
          "2021-11-01T00:00:00.000000000",
          "2021-11-02T00:00:00.000000000",
          "2021-11-03T00:00:00.000000000",
          "2021-11-04T00:00:00.000000000",
          "2021-11-05T00:00:00.000000000",
          "2021-11-08T00:00:00.000000000",
          "2021-11-09T00:00:00.000000000",
          "2021-11-10T00:00:00.000000000",
          "2021-11-11T00:00:00.000000000",
          "2021-11-12T00:00:00.000000000",
          "2021-11-15T00:00:00.000000000",
          "2021-11-16T00:00:00.000000000",
          "2021-11-17T00:00:00.000000000",
          "2021-11-18T00:00:00.000000000",
          "2021-11-19T00:00:00.000000000",
          "2021-11-22T00:00:00.000000000",
          "2021-11-23T00:00:00.000000000",
          "2021-11-24T00:00:00.000000000",
          "2021-11-26T00:00:00.000000000",
          "2021-11-29T00:00:00.000000000",
          "2021-11-30T00:00:00.000000000",
          "2021-12-01T00:00:00.000000000",
          "2021-12-02T00:00:00.000000000",
          "2021-12-03T00:00:00.000000000",
          "2021-12-06T00:00:00.000000000",
          "2021-12-07T00:00:00.000000000",
          "2021-12-08T00:00:00.000000000",
          "2021-12-09T00:00:00.000000000",
          "2021-12-10T00:00:00.000000000",
          "2021-12-13T00:00:00.000000000",
          "2021-12-14T00:00:00.000000000",
          "2021-12-15T00:00:00.000000000",
          "2021-12-16T00:00:00.000000000",
          "2021-12-17T00:00:00.000000000",
          "2021-12-20T00:00:00.000000000",
          "2021-12-21T00:00:00.000000000",
          "2021-12-22T00:00:00.000000000",
          "2021-12-23T00:00:00.000000000",
          "2021-12-27T00:00:00.000000000",
          "2021-12-28T00:00:00.000000000",
          "2021-12-29T00:00:00.000000000",
          "2021-12-30T00:00:00.000000000",
          "2021-12-31T00:00:00.000000000",
          "2022-01-03T00:00:00.000000000",
          "2022-01-04T00:00:00.000000000",
          "2022-01-05T00:00:00.000000000",
          "2022-01-06T00:00:00.000000000",
          "2022-01-07T00:00:00.000000000",
          "2022-01-10T00:00:00.000000000",
          "2022-01-11T00:00:00.000000000",
          "2022-01-12T00:00:00.000000000",
          "2022-01-13T00:00:00.000000000",
          "2022-01-14T00:00:00.000000000",
          "2022-01-18T00:00:00.000000000",
          "2022-01-19T00:00:00.000000000",
          "2022-01-20T00:00:00.000000000",
          "2022-01-21T00:00:00.000000000",
          "2022-01-24T00:00:00.000000000",
          "2022-01-25T00:00:00.000000000",
          "2022-01-26T00:00:00.000000000",
          "2022-01-27T00:00:00.000000000",
          "2022-01-28T00:00:00.000000000",
          "2022-01-31T00:00:00.000000000",
          "2022-02-01T00:00:00.000000000",
          "2022-02-02T00:00:00.000000000",
          "2022-02-03T00:00:00.000000000",
          "2022-02-04T00:00:00.000000000",
          "2022-02-07T00:00:00.000000000",
          "2022-02-08T00:00:00.000000000",
          "2022-02-09T00:00:00.000000000",
          "2022-02-10T00:00:00.000000000",
          "2022-02-11T00:00:00.000000000",
          "2022-02-14T00:00:00.000000000",
          "2022-02-15T00:00:00.000000000",
          "2022-02-16T00:00:00.000000000",
          "2022-02-17T00:00:00.000000000",
          "2022-02-18T00:00:00.000000000",
          "2022-02-22T00:00:00.000000000",
          "2022-02-23T00:00:00.000000000",
          "2022-02-24T00:00:00.000000000",
          "2022-02-25T00:00:00.000000000",
          "2022-02-28T00:00:00.000000000",
          "2022-03-01T00:00:00.000000000",
          "2022-03-02T00:00:00.000000000",
          "2022-03-03T00:00:00.000000000",
          "2022-03-04T00:00:00.000000000",
          "2022-03-07T00:00:00.000000000",
          "2022-03-08T00:00:00.000000000",
          "2022-03-09T00:00:00.000000000",
          "2022-03-10T00:00:00.000000000",
          "2022-03-11T00:00:00.000000000",
          "2022-03-14T00:00:00.000000000",
          "2022-03-15T00:00:00.000000000",
          "2022-03-16T00:00:00.000000000",
          "2022-03-17T00:00:00.000000000",
          "2022-03-18T00:00:00.000000000",
          "2022-03-21T00:00:00.000000000",
          "2022-03-22T00:00:00.000000000",
          "2022-03-23T00:00:00.000000000",
          "2022-03-24T00:00:00.000000000",
          "2022-03-25T00:00:00.000000000",
          "2022-03-28T00:00:00.000000000",
          "2022-03-29T00:00:00.000000000",
          "2022-03-30T00:00:00.000000000",
          "2022-03-31T00:00:00.000000000",
          "2022-04-01T00:00:00.000000000",
          "2022-04-04T00:00:00.000000000",
          "2022-04-05T00:00:00.000000000",
          "2022-04-06T00:00:00.000000000",
          "2022-04-07T00:00:00.000000000",
          "2022-04-08T00:00:00.000000000",
          "2022-04-11T00:00:00.000000000",
          "2022-04-12T00:00:00.000000000",
          "2022-04-13T00:00:00.000000000",
          "2022-04-14T00:00:00.000000000",
          "2022-04-18T00:00:00.000000000",
          "2022-04-19T00:00:00.000000000",
          "2022-04-20T00:00:00.000000000",
          "2022-04-21T00:00:00.000000000",
          "2022-04-22T00:00:00.000000000",
          "2022-04-25T00:00:00.000000000",
          "2022-04-26T00:00:00.000000000",
          "2022-04-27T00:00:00.000000000",
          "2022-04-28T00:00:00.000000000",
          "2022-04-29T00:00:00.000000000",
          "2022-05-02T00:00:00.000000000",
          "2022-05-03T00:00:00.000000000",
          "2022-05-04T00:00:00.000000000",
          "2022-05-05T00:00:00.000000000",
          "2022-05-06T00:00:00.000000000",
          "2022-05-09T00:00:00.000000000",
          "2022-05-10T00:00:00.000000000",
          "2022-05-11T00:00:00.000000000",
          "2022-05-12T00:00:00.000000000",
          "2022-05-13T00:00:00.000000000",
          "2022-05-16T00:00:00.000000000",
          "2022-05-17T00:00:00.000000000",
          "2022-05-18T00:00:00.000000000",
          "2022-05-19T00:00:00.000000000",
          "2022-05-20T00:00:00.000000000",
          "2022-05-23T00:00:00.000000000",
          "2022-05-24T00:00:00.000000000",
          "2022-05-25T00:00:00.000000000",
          "2022-05-26T00:00:00.000000000",
          "2022-05-27T00:00:00.000000000",
          "2022-05-31T00:00:00.000000000",
          "2022-06-01T00:00:00.000000000",
          "2022-06-02T00:00:00.000000000",
          "2022-06-03T00:00:00.000000000",
          "2022-06-06T00:00:00.000000000",
          "2022-06-07T00:00:00.000000000",
          "2022-06-08T00:00:00.000000000",
          "2022-06-09T00:00:00.000000000",
          "2022-06-10T00:00:00.000000000",
          "2022-06-13T00:00:00.000000000",
          "2022-06-14T00:00:00.000000000",
          "2022-06-15T00:00:00.000000000",
          "2022-06-16T00:00:00.000000000",
          "2022-06-17T00:00:00.000000000",
          "2022-06-21T00:00:00.000000000",
          "2022-06-22T00:00:00.000000000",
          "2022-06-23T00:00:00.000000000",
          "2022-06-24T00:00:00.000000000",
          "2022-06-27T00:00:00.000000000",
          "2022-06-28T00:00:00.000000000",
          "2022-06-29T00:00:00.000000000",
          "2022-06-30T00:00:00.000000000",
          "2022-07-01T00:00:00.000000000",
          "2022-07-05T00:00:00.000000000",
          "2022-07-06T00:00:00.000000000",
          "2022-07-07T00:00:00.000000000",
          "2022-07-08T00:00:00.000000000",
          "2022-07-11T00:00:00.000000000",
          "2022-07-12T00:00:00.000000000",
          "2022-07-13T00:00:00.000000000",
          "2022-07-14T00:00:00.000000000",
          "2022-07-15T00:00:00.000000000",
          "2022-07-18T00:00:00.000000000",
          "2022-07-19T00:00:00.000000000",
          "2022-07-20T00:00:00.000000000",
          "2022-07-21T00:00:00.000000000",
          "2022-07-22T00:00:00.000000000",
          "2022-07-25T00:00:00.000000000",
          "2022-07-26T00:00:00.000000000",
          "2022-07-27T00:00:00.000000000",
          "2022-07-28T00:00:00.000000000",
          "2022-07-29T00:00:00.000000000",
          "2022-08-01T00:00:00.000000000",
          "2022-08-02T00:00:00.000000000",
          "2022-08-03T00:00:00.000000000",
          "2022-08-04T00:00:00.000000000",
          "2022-08-05T00:00:00.000000000",
          "2022-08-08T00:00:00.000000000",
          "2022-08-09T00:00:00.000000000",
          "2022-08-10T00:00:00.000000000",
          "2022-08-11T00:00:00.000000000",
          "2022-08-12T00:00:00.000000000",
          "2022-08-15T00:00:00.000000000",
          "2022-08-16T00:00:00.000000000",
          "2022-08-17T00:00:00.000000000",
          "2022-08-18T00:00:00.000000000",
          "2022-08-19T00:00:00.000000000",
          "2022-08-22T00:00:00.000000000",
          "2022-08-23T00:00:00.000000000",
          "2022-08-24T00:00:00.000000000",
          "2022-08-25T00:00:00.000000000",
          "2022-08-26T00:00:00.000000000",
          "2022-08-29T00:00:00.000000000",
          "2022-08-30T00:00:00.000000000",
          "2022-08-31T00:00:00.000000000",
          "2022-09-01T00:00:00.000000000",
          "2022-09-02T00:00:00.000000000",
          "2022-09-06T00:00:00.000000000",
          "2022-09-07T00:00:00.000000000",
          "2022-09-08T00:00:00.000000000",
          "2022-09-09T00:00:00.000000000",
          "2022-09-12T00:00:00.000000000",
          "2022-09-13T00:00:00.000000000",
          "2022-09-14T00:00:00.000000000",
          "2022-09-15T00:00:00.000000000",
          "2022-09-16T00:00:00.000000000",
          "2022-09-19T00:00:00.000000000",
          "2022-09-20T00:00:00.000000000",
          "2022-09-21T00:00:00.000000000",
          "2022-09-22T00:00:00.000000000",
          "2022-09-23T00:00:00.000000000",
          "2022-09-26T00:00:00.000000000",
          "2022-09-27T00:00:00.000000000",
          "2022-09-28T00:00:00.000000000",
          "2022-09-29T00:00:00.000000000",
          "2022-09-30T00:00:00.000000000",
          "2022-10-03T00:00:00.000000000",
          "2022-10-04T00:00:00.000000000",
          "2022-10-05T00:00:00.000000000",
          "2022-10-06T00:00:00.000000000",
          "2022-10-07T00:00:00.000000000",
          "2022-10-10T00:00:00.000000000",
          "2022-10-11T00:00:00.000000000",
          "2022-10-12T00:00:00.000000000",
          "2022-10-13T00:00:00.000000000",
          "2022-10-14T00:00:00.000000000",
          "2022-10-17T00:00:00.000000000",
          "2022-10-18T00:00:00.000000000",
          "2022-10-19T00:00:00.000000000",
          "2022-10-20T00:00:00.000000000",
          "2022-10-21T00:00:00.000000000",
          "2022-10-24T00:00:00.000000000",
          "2022-10-25T00:00:00.000000000",
          "2022-10-26T00:00:00.000000000",
          "2022-10-27T00:00:00.000000000",
          "2022-10-28T00:00:00.000000000",
          "2022-10-31T00:00:00.000000000",
          "2022-11-01T00:00:00.000000000",
          "2022-11-02T00:00:00.000000000",
          "2022-11-03T00:00:00.000000000",
          "2022-11-04T00:00:00.000000000",
          "2022-11-07T00:00:00.000000000",
          "2022-11-08T00:00:00.000000000",
          "2022-11-09T00:00:00.000000000",
          "2022-11-10T00:00:00.000000000",
          "2022-11-11T00:00:00.000000000",
          "2022-11-14T00:00:00.000000000",
          "2022-11-15T00:00:00.000000000",
          "2022-11-16T00:00:00.000000000",
          "2022-11-17T00:00:00.000000000",
          "2022-11-18T00:00:00.000000000",
          "2022-11-21T00:00:00.000000000",
          "2022-11-22T00:00:00.000000000",
          "2022-11-23T00:00:00.000000000",
          "2022-11-25T00:00:00.000000000",
          "2022-11-28T00:00:00.000000000",
          "2022-11-29T00:00:00.000000000",
          "2022-11-30T00:00:00.000000000",
          "2022-12-01T00:00:00.000000000",
          "2022-12-02T00:00:00.000000000",
          "2022-12-05T00:00:00.000000000",
          "2022-12-06T00:00:00.000000000",
          "2022-12-07T00:00:00.000000000",
          "2022-12-08T00:00:00.000000000",
          "2022-12-09T00:00:00.000000000",
          "2022-12-12T00:00:00.000000000",
          "2022-12-13T00:00:00.000000000",
          "2022-12-14T00:00:00.000000000",
          "2022-12-15T00:00:00.000000000",
          "2022-12-16T00:00:00.000000000",
          "2022-12-19T00:00:00.000000000",
          "2022-12-20T00:00:00.000000000",
          "2022-12-21T00:00:00.000000000",
          "2022-12-22T00:00:00.000000000",
          "2022-12-23T00:00:00.000000000",
          "2022-12-27T00:00:00.000000000",
          "2022-12-28T00:00:00.000000000",
          "2022-12-29T00:00:00.000000000",
          "2022-12-30T00:00:00.000000000",
          "2023-01-03T00:00:00.000000000",
          "2023-01-04T00:00:00.000000000",
          "2023-01-05T00:00:00.000000000",
          "2023-01-06T00:00:00.000000000",
          "2023-01-09T00:00:00.000000000",
          "2023-01-10T00:00:00.000000000",
          "2023-01-11T00:00:00.000000000",
          "2023-01-12T00:00:00.000000000",
          "2023-01-13T00:00:00.000000000",
          "2023-01-17T00:00:00.000000000",
          "2023-01-18T00:00:00.000000000",
          "2023-01-19T00:00:00.000000000",
          "2023-01-20T00:00:00.000000000",
          "2023-01-23T00:00:00.000000000",
          "2023-01-24T00:00:00.000000000",
          "2023-01-25T00:00:00.000000000",
          "2023-01-26T00:00:00.000000000",
          "2023-01-27T00:00:00.000000000",
          "2023-01-30T00:00:00.000000000",
          "2023-01-31T00:00:00.000000000",
          "2023-02-01T00:00:00.000000000",
          "2023-02-02T00:00:00.000000000",
          "2023-02-03T00:00:00.000000000",
          "2023-02-06T00:00:00.000000000",
          "2023-02-07T00:00:00.000000000",
          "2023-02-08T00:00:00.000000000",
          "2023-02-09T00:00:00.000000000",
          "2023-02-10T00:00:00.000000000",
          "2023-02-13T00:00:00.000000000",
          "2023-02-14T00:00:00.000000000",
          "2023-02-15T00:00:00.000000000",
          "2023-02-16T00:00:00.000000000",
          "2023-02-17T00:00:00.000000000",
          "2023-02-21T00:00:00.000000000",
          "2023-02-22T00:00:00.000000000",
          "2023-02-23T00:00:00.000000000",
          "2023-02-24T00:00:00.000000000",
          "2023-02-27T00:00:00.000000000",
          "2023-02-28T00:00:00.000000000",
          "2023-03-01T00:00:00.000000000",
          "2023-03-02T00:00:00.000000000",
          "2023-03-03T00:00:00.000000000",
          "2023-03-06T00:00:00.000000000",
          "2023-03-07T00:00:00.000000000",
          "2023-03-08T00:00:00.000000000",
          "2023-03-09T00:00:00.000000000",
          "2023-03-10T00:00:00.000000000",
          "2023-03-13T00:00:00.000000000",
          "2023-03-14T00:00:00.000000000",
          "2023-03-15T00:00:00.000000000",
          "2023-03-16T00:00:00.000000000",
          "2023-03-17T00:00:00.000000000",
          "2023-03-20T00:00:00.000000000",
          "2023-03-21T00:00:00.000000000",
          "2023-03-22T00:00:00.000000000",
          "2023-03-23T00:00:00.000000000",
          "2023-03-24T00:00:00.000000000",
          "2023-03-27T00:00:00.000000000",
          "2023-03-28T00:00:00.000000000",
          "2023-03-29T00:00:00.000000000",
          "2023-03-30T00:00:00.000000000",
          "2023-03-31T00:00:00.000000000",
          "2023-04-03T00:00:00.000000000",
          "2023-04-04T00:00:00.000000000",
          "2023-04-05T00:00:00.000000000",
          "2023-04-06T00:00:00.000000000",
          "2023-04-10T00:00:00.000000000",
          "2023-04-11T00:00:00.000000000",
          "2023-04-12T00:00:00.000000000",
          "2023-04-13T00:00:00.000000000",
          "2023-04-14T00:00:00.000000000",
          "2023-04-17T00:00:00.000000000",
          "2023-04-18T00:00:00.000000000",
          "2023-04-19T00:00:00.000000000",
          "2023-04-20T00:00:00.000000000",
          "2023-04-21T00:00:00.000000000",
          "2023-04-24T00:00:00.000000000",
          "2023-04-25T00:00:00.000000000",
          "2023-04-26T00:00:00.000000000",
          "2023-04-27T00:00:00.000000000",
          "2023-04-28T00:00:00.000000000",
          "2023-05-01T00:00:00.000000000",
          "2023-05-02T00:00:00.000000000",
          "2023-05-03T00:00:00.000000000",
          "2023-05-04T00:00:00.000000000",
          "2023-05-05T00:00:00.000000000",
          "2023-05-08T00:00:00.000000000",
          "2023-05-09T00:00:00.000000000",
          "2023-05-10T00:00:00.000000000",
          "2023-05-11T00:00:00.000000000",
          "2023-05-12T00:00:00.000000000",
          "2023-05-15T00:00:00.000000000",
          "2023-05-16T00:00:00.000000000",
          "2023-05-17T00:00:00.000000000",
          "2023-05-18T00:00:00.000000000",
          "2023-05-19T00:00:00.000000000",
          "2023-05-22T00:00:00.000000000",
          "2023-05-23T00:00:00.000000000",
          "2023-05-24T00:00:00.000000000",
          "2023-05-25T00:00:00.000000000",
          "2023-05-26T00:00:00.000000000",
          "2023-05-30T00:00:00.000000000",
          "2023-05-31T00:00:00.000000000",
          "2023-06-01T00:00:00.000000000",
          "2023-06-02T00:00:00.000000000",
          "2023-06-05T00:00:00.000000000",
          "2023-06-06T00:00:00.000000000",
          "2023-06-07T00:00:00.000000000",
          "2023-06-08T00:00:00.000000000",
          "2023-06-09T00:00:00.000000000",
          "2023-06-12T00:00:00.000000000",
          "2023-06-13T00:00:00.000000000",
          "2023-06-14T00:00:00.000000000",
          "2023-06-15T00:00:00.000000000",
          "2023-06-16T00:00:00.000000000",
          "2023-06-20T00:00:00.000000000",
          "2023-06-21T00:00:00.000000000",
          "2023-06-22T00:00:00.000000000",
          "2023-06-23T00:00:00.000000000",
          "2023-06-26T00:00:00.000000000",
          "2023-06-27T00:00:00.000000000",
          "2023-06-28T00:00:00.000000000",
          "2023-06-29T00:00:00.000000000",
          "2023-06-30T00:00:00.000000000",
          "2023-07-03T00:00:00.000000000",
          "2023-07-05T00:00:00.000000000",
          "2023-07-06T00:00:00.000000000",
          "2023-07-07T00:00:00.000000000",
          "2023-07-10T00:00:00.000000000",
          "2023-07-11T00:00:00.000000000",
          "2023-07-12T00:00:00.000000000",
          "2023-07-13T00:00:00.000000000",
          "2023-07-14T00:00:00.000000000",
          "2023-07-17T00:00:00.000000000",
          "2023-07-18T00:00:00.000000000",
          "2023-07-19T00:00:00.000000000",
          "2023-07-20T00:00:00.000000000",
          "2023-07-21T00:00:00.000000000",
          "2023-07-24T00:00:00.000000000",
          "2023-07-25T00:00:00.000000000",
          "2023-07-26T00:00:00.000000000",
          "2023-07-27T00:00:00.000000000",
          "2023-07-28T00:00:00.000000000",
          "2023-07-31T00:00:00.000000000",
          "2023-08-01T00:00:00.000000000",
          "2023-08-02T00:00:00.000000000",
          "2023-08-03T00:00:00.000000000",
          "2023-08-04T00:00:00.000000000",
          "2023-08-07T00:00:00.000000000",
          "2023-08-08T00:00:00.000000000",
          "2023-08-09T00:00:00.000000000",
          "2023-08-10T00:00:00.000000000",
          "2023-08-11T00:00:00.000000000",
          "2023-08-14T00:00:00.000000000",
          "2023-08-15T00:00:00.000000000",
          "2023-08-16T00:00:00.000000000",
          "2023-08-17T00:00:00.000000000",
          "2023-08-18T00:00:00.000000000",
          "2023-08-21T00:00:00.000000000",
          "2023-08-22T00:00:00.000000000",
          "2023-08-23T00:00:00.000000000",
          "2023-08-24T00:00:00.000000000",
          "2023-08-25T00:00:00.000000000",
          "2023-08-28T00:00:00.000000000",
          "2023-08-29T00:00:00.000000000",
          "2023-08-30T00:00:00.000000000",
          "2023-08-31T00:00:00.000000000",
          "2023-09-01T00:00:00.000000000",
          "2023-09-05T00:00:00.000000000",
          "2023-09-06T00:00:00.000000000",
          "2023-09-07T00:00:00.000000000",
          "2023-09-08T00:00:00.000000000",
          "2023-09-11T00:00:00.000000000",
          "2023-09-12T00:00:00.000000000",
          "2023-09-13T00:00:00.000000000",
          "2023-09-14T00:00:00.000000000",
          "2023-09-15T00:00:00.000000000",
          "2023-09-18T00:00:00.000000000",
          "2023-09-19T00:00:00.000000000",
          "2023-09-20T00:00:00.000000000",
          "2023-09-21T00:00:00.000000000",
          "2023-09-22T00:00:00.000000000",
          "2023-09-25T00:00:00.000000000",
          "2023-09-26T00:00:00.000000000",
          "2023-09-27T00:00:00.000000000",
          "2023-09-28T00:00:00.000000000",
          "2023-09-29T00:00:00.000000000",
          "2023-10-02T00:00:00.000000000",
          "2023-10-03T00:00:00.000000000",
          "2023-10-04T00:00:00.000000000",
          "2023-10-05T00:00:00.000000000",
          "2023-10-06T00:00:00.000000000",
          "2023-10-09T00:00:00.000000000",
          "2023-10-10T00:00:00.000000000",
          "2023-10-11T00:00:00.000000000",
          "2023-10-12T00:00:00.000000000",
          "2023-10-13T00:00:00.000000000",
          "2023-10-16T00:00:00.000000000",
          "2023-10-17T00:00:00.000000000",
          "2023-10-18T00:00:00.000000000",
          "2023-10-19T00:00:00.000000000",
          "2023-10-20T00:00:00.000000000",
          "2023-10-23T00:00:00.000000000",
          "2023-10-24T00:00:00.000000000",
          "2023-10-25T00:00:00.000000000",
          "2023-10-26T00:00:00.000000000",
          "2023-10-27T00:00:00.000000000",
          "2023-10-30T00:00:00.000000000",
          "2023-10-31T00:00:00.000000000",
          "2023-11-01T00:00:00.000000000",
          "2023-11-02T00:00:00.000000000",
          "2023-11-03T00:00:00.000000000",
          "2023-11-06T00:00:00.000000000",
          "2023-11-07T00:00:00.000000000",
          "2023-11-08T00:00:00.000000000",
          "2023-11-09T00:00:00.000000000",
          "2023-11-10T00:00:00.000000000",
          "2023-11-13T00:00:00.000000000",
          "2023-11-14T00:00:00.000000000",
          "2023-11-15T00:00:00.000000000",
          "2023-11-16T00:00:00.000000000",
          "2023-11-17T00:00:00.000000000",
          "2023-11-20T00:00:00.000000000",
          "2023-11-21T00:00:00.000000000",
          "2023-11-22T00:00:00.000000000",
          "2023-11-24T00:00:00.000000000",
          "2023-11-27T00:00:00.000000000",
          "2023-11-28T00:00:00.000000000",
          "2023-11-29T00:00:00.000000000",
          "2023-11-30T00:00:00.000000000",
          "2023-12-01T00:00:00.000000000",
          "2023-12-04T00:00:00.000000000",
          "2023-12-05T00:00:00.000000000",
          "2023-12-06T00:00:00.000000000",
          "2023-12-07T00:00:00.000000000",
          "2023-12-08T00:00:00.000000000",
          "2023-12-11T00:00:00.000000000",
          "2023-12-12T00:00:00.000000000",
          "2023-12-13T00:00:00.000000000",
          "2023-12-14T00:00:00.000000000",
          "2023-12-15T00:00:00.000000000",
          "2023-12-18T00:00:00.000000000",
          "2023-12-19T00:00:00.000000000",
          "2023-12-20T00:00:00.000000000",
          "2023-12-21T00:00:00.000000000",
          "2023-12-22T00:00:00.000000000",
          "2023-12-26T00:00:00.000000000",
          "2023-12-27T00:00:00.000000000",
          "2023-12-28T00:00:00.000000000",
          "2023-12-29T00:00:00.000000000",
          "2024-01-02T00:00:00.000000000",
          "2024-01-03T00:00:00.000000000",
          "2024-01-04T00:00:00.000000000",
          "2024-01-05T00:00:00.000000000",
          "2024-01-08T00:00:00.000000000",
          "2024-01-09T00:00:00.000000000",
          "2024-01-10T00:00:00.000000000",
          "2024-01-11T00:00:00.000000000",
          "2024-01-12T00:00:00.000000000",
          "2024-01-16T00:00:00.000000000",
          "2024-01-17T00:00:00.000000000",
          "2024-01-18T00:00:00.000000000",
          "2024-01-19T00:00:00.000000000",
          "2024-01-22T00:00:00.000000000",
          "2024-01-23T00:00:00.000000000",
          "2024-01-24T00:00:00.000000000",
          "2024-01-25T00:00:00.000000000",
          "2024-01-26T00:00:00.000000000",
          "2024-01-29T00:00:00.000000000",
          "2024-01-30T00:00:00.000000000",
          "2024-01-31T00:00:00.000000000",
          "2024-02-01T00:00:00.000000000",
          "2024-02-02T00:00:00.000000000",
          "2024-02-05T00:00:00.000000000",
          "2024-02-06T00:00:00.000000000",
          "2024-02-07T00:00:00.000000000",
          "2024-02-08T00:00:00.000000000",
          "2024-02-09T00:00:00.000000000",
          "2024-02-12T00:00:00.000000000",
          "2024-02-13T00:00:00.000000000",
          "2024-02-14T00:00:00.000000000",
          "2024-02-15T00:00:00.000000000",
          "2024-02-16T00:00:00.000000000",
          "2024-02-20T00:00:00.000000000",
          "2024-02-21T00:00:00.000000000",
          "2024-02-22T00:00:00.000000000",
          "2024-02-23T00:00:00.000000000",
          "2024-02-26T00:00:00.000000000",
          "2024-02-27T00:00:00.000000000",
          "2024-02-28T00:00:00.000000000",
          "2024-02-29T00:00:00.000000000",
          "2024-03-01T00:00:00.000000000",
          "2024-03-04T00:00:00.000000000",
          "2024-03-05T00:00:00.000000000",
          "2024-03-06T00:00:00.000000000",
          "2024-03-07T00:00:00.000000000",
          "2024-03-08T00:00:00.000000000",
          "2024-03-11T00:00:00.000000000",
          "2024-03-12T00:00:00.000000000",
          "2024-03-13T00:00:00.000000000",
          "2024-03-14T00:00:00.000000000",
          "2024-03-15T00:00:00.000000000",
          "2024-03-18T00:00:00.000000000",
          "2024-03-19T00:00:00.000000000",
          "2024-03-20T00:00:00.000000000",
          "2024-03-21T00:00:00.000000000",
          "2024-03-22T00:00:00.000000000",
          "2024-03-25T00:00:00.000000000",
          "2024-03-26T00:00:00.000000000",
          "2024-03-27T00:00:00.000000000",
          "2024-03-28T00:00:00.000000000",
          "2024-04-01T00:00:00.000000000",
          "2024-04-02T00:00:00.000000000",
          "2024-04-03T00:00:00.000000000",
          "2024-04-04T00:00:00.000000000",
          "2024-04-05T00:00:00.000000000",
          "2024-04-08T00:00:00.000000000",
          "2024-04-09T00:00:00.000000000",
          "2024-04-10T00:00:00.000000000",
          "2024-04-11T00:00:00.000000000",
          "2024-04-12T00:00:00.000000000",
          "2024-04-15T00:00:00.000000000",
          "2024-04-16T00:00:00.000000000",
          "2024-04-17T00:00:00.000000000",
          "2024-04-18T00:00:00.000000000",
          "2024-04-19T00:00:00.000000000",
          "2024-04-22T00:00:00.000000000",
          "2024-04-23T00:00:00.000000000",
          "2024-04-24T00:00:00.000000000",
          "2024-04-25T00:00:00.000000000",
          "2024-04-26T00:00:00.000000000",
          "2024-04-29T00:00:00.000000000",
          "2024-04-30T00:00:00.000000000",
          "2024-05-01T00:00:00.000000000",
          "2024-05-02T00:00:00.000000000",
          "2024-05-03T00:00:00.000000000",
          "2024-05-06T00:00:00.000000000",
          "2024-05-07T00:00:00.000000000",
          "2024-05-08T00:00:00.000000000",
          "2024-05-09T00:00:00.000000000",
          "2024-05-10T00:00:00.000000000",
          "2024-05-13T00:00:00.000000000",
          "2024-05-14T00:00:00.000000000",
          "2024-05-15T00:00:00.000000000",
          "2024-05-16T00:00:00.000000000",
          "2024-05-17T00:00:00.000000000",
          "2024-05-20T00:00:00.000000000",
          "2024-05-21T00:00:00.000000000",
          "2024-05-22T00:00:00.000000000",
          "2024-05-23T00:00:00.000000000",
          "2024-05-24T00:00:00.000000000",
          "2024-05-28T00:00:00.000000000",
          "2024-05-29T00:00:00.000000000",
          "2024-05-30T00:00:00.000000000",
          "2024-05-31T00:00:00.000000000",
          "2024-06-03T00:00:00.000000000",
          "2024-06-04T00:00:00.000000000",
          "2024-06-05T00:00:00.000000000",
          "2024-06-06T00:00:00.000000000",
          "2024-06-07T00:00:00.000000000",
          "2024-06-10T00:00:00.000000000",
          "2024-06-11T00:00:00.000000000",
          "2024-06-12T00:00:00.000000000",
          "2024-06-13T00:00:00.000000000",
          "2024-06-14T00:00:00.000000000",
          "2024-06-17T00:00:00.000000000",
          "2024-06-18T00:00:00.000000000",
          "2024-06-20T00:00:00.000000000",
          "2024-06-21T00:00:00.000000000",
          "2024-06-24T00:00:00.000000000",
          "2024-06-25T00:00:00.000000000",
          "2024-06-26T00:00:00.000000000",
          "2024-06-27T00:00:00.000000000",
          "2024-06-28T00:00:00.000000000",
          "2024-07-01T00:00:00.000000000",
          "2024-07-02T00:00:00.000000000",
          "2024-07-03T00:00:00.000000000",
          "2024-07-05T00:00:00.000000000",
          "2024-07-08T00:00:00.000000000",
          "2024-07-09T00:00:00.000000000",
          "2024-07-10T00:00:00.000000000",
          "2024-07-11T00:00:00.000000000",
          "2024-07-12T00:00:00.000000000",
          "2024-07-15T00:00:00.000000000",
          "2024-07-16T00:00:00.000000000",
          "2024-07-17T00:00:00.000000000",
          "2024-07-18T00:00:00.000000000",
          "2024-07-19T00:00:00.000000000",
          "2024-07-22T00:00:00.000000000",
          "2024-07-23T00:00:00.000000000",
          "2024-07-24T00:00:00.000000000",
          "2024-07-25T00:00:00.000000000",
          "2024-07-26T00:00:00.000000000",
          "2024-07-29T00:00:00.000000000",
          "2024-07-30T00:00:00.000000000",
          "2024-07-31T00:00:00.000000000",
          "2024-08-01T00:00:00.000000000",
          "2024-08-02T00:00:00.000000000",
          "2024-08-05T00:00:00.000000000",
          "2024-08-06T00:00:00.000000000",
          "2024-08-07T00:00:00.000000000",
          "2024-08-08T00:00:00.000000000",
          "2024-08-09T00:00:00.000000000",
          "2024-08-12T00:00:00.000000000",
          "2024-08-13T00:00:00.000000000",
          "2024-08-14T00:00:00.000000000",
          "2024-08-15T00:00:00.000000000",
          "2024-08-16T00:00:00.000000000",
          "2024-08-19T00:00:00.000000000",
          "2024-08-20T00:00:00.000000000",
          "2024-08-21T00:00:00.000000000",
          "2024-08-22T00:00:00.000000000",
          "2024-08-23T00:00:00.000000000",
          "2024-08-26T00:00:00.000000000",
          "2024-08-27T00:00:00.000000000",
          "2024-08-28T00:00:00.000000000",
          "2024-08-29T00:00:00.000000000",
          "2024-08-30T00:00:00.000000000",
          "2024-09-03T00:00:00.000000000",
          "2024-09-04T00:00:00.000000000",
          "2024-09-05T00:00:00.000000000",
          "2024-09-06T00:00:00.000000000",
          "2024-09-09T00:00:00.000000000",
          "2024-09-10T00:00:00.000000000",
          "2024-09-11T00:00:00.000000000",
          "2024-09-12T00:00:00.000000000",
          "2024-09-13T00:00:00.000000000",
          "2024-09-16T00:00:00.000000000",
          "2024-09-17T00:00:00.000000000",
          "2024-09-18T00:00:00.000000000",
          "2024-09-19T00:00:00.000000000",
          "2024-09-20T00:00:00.000000000",
          "2024-09-23T00:00:00.000000000",
          "2024-09-24T00:00:00.000000000",
          "2024-09-25T00:00:00.000000000",
          "2024-09-26T00:00:00.000000000",
          "2024-09-27T00:00:00.000000000",
          "2024-09-30T00:00:00.000000000",
          "2024-10-01T00:00:00.000000000",
          "2024-10-02T00:00:00.000000000",
          "2024-10-03T00:00:00.000000000",
          "2024-10-04T00:00:00.000000000",
          "2024-10-07T00:00:00.000000000",
          "2024-10-08T00:00:00.000000000",
          "2024-10-09T00:00:00.000000000",
          "2024-10-10T00:00:00.000000000",
          "2024-10-11T00:00:00.000000000",
          "2024-10-14T00:00:00.000000000",
          "2024-10-15T00:00:00.000000000",
          "2024-10-16T00:00:00.000000000",
          "2024-10-17T00:00:00.000000000",
          "2024-10-18T00:00:00.000000000",
          "2024-10-21T00:00:00.000000000",
          "2024-10-22T00:00:00.000000000",
          "2024-10-23T00:00:00.000000000",
          "2024-10-24T00:00:00.000000000",
          "2024-10-25T00:00:00.000000000",
          "2024-10-28T00:00:00.000000000",
          "2024-10-29T00:00:00.000000000",
          "2024-10-30T00:00:00.000000000",
          "2024-10-31T00:00:00.000000000",
          "2024-11-01T00:00:00.000000000",
          "2024-11-04T00:00:00.000000000",
          "2024-11-05T00:00:00.000000000",
          "2024-11-06T00:00:00.000000000",
          "2024-11-07T00:00:00.000000000",
          "2024-11-08T00:00:00.000000000",
          "2024-11-11T00:00:00.000000000",
          "2024-11-12T00:00:00.000000000",
          "2024-11-13T00:00:00.000000000",
          "2024-11-14T00:00:00.000000000",
          "2024-11-15T00:00:00.000000000",
          "2024-11-18T00:00:00.000000000",
          "2024-11-19T00:00:00.000000000",
          "2024-11-20T00:00:00.000000000",
          "2024-11-21T00:00:00.000000000",
          "2024-11-22T00:00:00.000000000",
          "2024-11-25T00:00:00.000000000",
          "2024-11-26T00:00:00.000000000",
          "2024-11-27T00:00:00.000000000",
          "2024-11-29T00:00:00.000000000",
          "2024-12-02T00:00:00.000000000",
          "2024-12-03T00:00:00.000000000",
          "2024-12-04T00:00:00.000000000",
          "2024-12-05T00:00:00.000000000",
          "2024-12-06T00:00:00.000000000",
          "2024-12-09T00:00:00.000000000",
          "2024-12-10T00:00:00.000000000",
          "2024-12-11T00:00:00.000000000",
          "2024-12-12T00:00:00.000000000",
          "2024-12-13T00:00:00.000000000",
          "2024-12-16T00:00:00.000000000",
          "2024-12-17T00:00:00.000000000",
          "2024-12-18T00:00:00.000000000",
          "2024-12-19T00:00:00.000000000",
          "2024-12-20T00:00:00.000000000",
          "2024-12-23T00:00:00.000000000",
          "2024-12-24T00:00:00.000000000",
          "2024-12-26T00:00:00.000000000",
          "2024-12-27T00:00:00.000000000",
          "2024-12-30T00:00:00.000000000",
          "2024-12-31T00:00:00.000000000",
          "2025-01-02T00:00:00.000000000",
          "2025-01-03T00:00:00.000000000",
          "2025-01-06T00:00:00.000000000",
          "2025-01-07T00:00:00.000000000",
          "2025-01-08T00:00:00.000000000",
          "2025-01-10T00:00:00.000000000",
          "2025-01-13T00:00:00.000000000",
          "2025-01-14T00:00:00.000000000",
          "2025-01-15T00:00:00.000000000",
          "2025-01-16T00:00:00.000000000",
          "2025-01-17T00:00:00.000000000",
          "2025-01-21T00:00:00.000000000",
          "2025-01-22T00:00:00.000000000",
          "2025-01-23T00:00:00.000000000",
          "2025-01-24T00:00:00.000000000"
         ],
         "y": {
          "bdata": "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",
          "dtype": "f8"
         }
        },
        {
         "line": {
          "color": "blue",
          "dash": "dot",
          "width": 1
         },
         "name": "rsi_14 (scaled)",
         "type": "scatter",
         "x": [
          "2020-09-16T00:00:00.000000000",
          "2020-09-17T00:00:00.000000000",
          "2020-09-18T00:00:00.000000000",
          "2020-09-21T00:00:00.000000000",
          "2020-09-22T00:00:00.000000000",
          "2020-09-23T00:00:00.000000000",
          "2020-09-24T00:00:00.000000000",
          "2020-09-25T00:00:00.000000000",
          "2020-09-28T00:00:00.000000000",
          "2020-09-29T00:00:00.000000000",
          "2020-09-30T00:00:00.000000000",
          "2020-10-01T00:00:00.000000000",
          "2020-10-02T00:00:00.000000000",
          "2020-10-05T00:00:00.000000000",
          "2020-10-06T00:00:00.000000000",
          "2020-10-07T00:00:00.000000000",
          "2020-10-08T00:00:00.000000000",
          "2020-10-09T00:00:00.000000000",
          "2020-10-12T00:00:00.000000000",
          "2020-10-13T00:00:00.000000000",
          "2020-10-14T00:00:00.000000000",
          "2020-10-15T00:00:00.000000000",
          "2020-10-16T00:00:00.000000000",
          "2020-10-19T00:00:00.000000000",
          "2020-10-20T00:00:00.000000000",
          "2020-10-21T00:00:00.000000000",
          "2020-10-22T00:00:00.000000000",
          "2020-10-23T00:00:00.000000000",
          "2020-10-26T00:00:00.000000000",
          "2020-10-27T00:00:00.000000000",
          "2020-10-28T00:00:00.000000000",
          "2020-10-29T00:00:00.000000000",
          "2020-10-30T00:00:00.000000000",
          "2020-11-02T00:00:00.000000000",
          "2020-11-03T00:00:00.000000000",
          "2020-11-04T00:00:00.000000000",
          "2020-11-05T00:00:00.000000000",
          "2020-11-06T00:00:00.000000000",
          "2020-11-09T00:00:00.000000000",
          "2020-11-10T00:00:00.000000000",
          "2020-11-11T00:00:00.000000000",
          "2020-11-12T00:00:00.000000000",
          "2020-11-13T00:00:00.000000000",
          "2020-11-16T00:00:00.000000000",
          "2020-11-17T00:00:00.000000000",
          "2020-11-18T00:00:00.000000000",
          "2020-11-19T00:00:00.000000000",
          "2020-11-20T00:00:00.000000000",
          "2020-11-23T00:00:00.000000000",
          "2020-11-24T00:00:00.000000000",
          "2020-11-25T00:00:00.000000000",
          "2020-11-27T00:00:00.000000000",
          "2020-11-30T00:00:00.000000000",
          "2020-12-01T00:00:00.000000000",
          "2020-12-02T00:00:00.000000000",
          "2020-12-03T00:00:00.000000000",
          "2020-12-04T00:00:00.000000000",
          "2020-12-07T00:00:00.000000000",
          "2020-12-08T00:00:00.000000000",
          "2020-12-09T00:00:00.000000000",
          "2020-12-10T00:00:00.000000000",
          "2020-12-11T00:00:00.000000000",
          "2020-12-14T00:00:00.000000000",
          "2020-12-15T00:00:00.000000000",
          "2020-12-16T00:00:00.000000000",
          "2020-12-17T00:00:00.000000000",
          "2020-12-18T00:00:00.000000000",
          "2020-12-21T00:00:00.000000000",
          "2020-12-22T00:00:00.000000000",
          "2020-12-23T00:00:00.000000000",
          "2020-12-24T00:00:00.000000000",
          "2020-12-28T00:00:00.000000000",
          "2020-12-29T00:00:00.000000000",
          "2020-12-30T00:00:00.000000000",
          "2020-12-31T00:00:00.000000000",
          "2021-01-04T00:00:00.000000000",
          "2021-01-05T00:00:00.000000000",
          "2021-01-06T00:00:00.000000000",
          "2021-01-07T00:00:00.000000000",
          "2021-01-08T00:00:00.000000000",
          "2021-01-11T00:00:00.000000000",
          "2021-01-12T00:00:00.000000000",
          "2021-01-13T00:00:00.000000000",
          "2021-01-14T00:00:00.000000000",
          "2021-01-15T00:00:00.000000000",
          "2021-01-19T00:00:00.000000000",
          "2021-01-20T00:00:00.000000000",
          "2021-01-21T00:00:00.000000000",
          "2021-01-22T00:00:00.000000000",
          "2021-01-25T00:00:00.000000000",
          "2021-01-26T00:00:00.000000000",
          "2021-01-27T00:00:00.000000000",
          "2021-01-28T00:00:00.000000000",
          "2021-01-29T00:00:00.000000000",
          "2021-02-01T00:00:00.000000000",
          "2021-02-02T00:00:00.000000000",
          "2021-02-03T00:00:00.000000000",
          "2021-02-04T00:00:00.000000000",
          "2021-02-05T00:00:00.000000000",
          "2021-02-08T00:00:00.000000000",
          "2021-02-09T00:00:00.000000000",
          "2021-02-10T00:00:00.000000000",
          "2021-02-11T00:00:00.000000000",
          "2021-02-12T00:00:00.000000000",
          "2021-02-16T00:00:00.000000000",
          "2021-02-17T00:00:00.000000000",
          "2021-02-18T00:00:00.000000000",
          "2021-02-19T00:00:00.000000000",
          "2021-02-22T00:00:00.000000000",
          "2021-02-23T00:00:00.000000000",
          "2021-02-24T00:00:00.000000000",
          "2021-02-25T00:00:00.000000000",
          "2021-02-26T00:00:00.000000000",
          "2021-03-01T00:00:00.000000000",
          "2021-03-02T00:00:00.000000000",
          "2021-03-03T00:00:00.000000000",
          "2021-03-04T00:00:00.000000000",
          "2021-03-05T00:00:00.000000000",
          "2021-03-08T00:00:00.000000000",
          "2021-03-09T00:00:00.000000000",
          "2021-03-10T00:00:00.000000000",
          "2021-03-11T00:00:00.000000000",
          "2021-03-12T00:00:00.000000000",
          "2021-03-15T00:00:00.000000000",
          "2021-03-16T00:00:00.000000000",
          "2021-03-17T00:00:00.000000000",
          "2021-03-18T00:00:00.000000000",
          "2021-03-19T00:00:00.000000000",
          "2021-03-22T00:00:00.000000000",
          "2021-03-23T00:00:00.000000000",
          "2021-03-24T00:00:00.000000000",
          "2021-03-25T00:00:00.000000000",
          "2021-03-26T00:00:00.000000000",
          "2021-03-29T00:00:00.000000000",
          "2021-03-30T00:00:00.000000000",
          "2021-03-31T00:00:00.000000000",
          "2021-04-01T00:00:00.000000000",
          "2021-04-05T00:00:00.000000000",
          "2021-04-06T00:00:00.000000000",
          "2021-04-07T00:00:00.000000000",
          "2021-04-08T00:00:00.000000000",
          "2021-04-09T00:00:00.000000000",
          "2021-04-12T00:00:00.000000000",
          "2021-04-13T00:00:00.000000000",
          "2021-04-14T00:00:00.000000000",
          "2021-04-15T00:00:00.000000000",
          "2021-04-16T00:00:00.000000000",
          "2021-04-19T00:00:00.000000000",
          "2021-04-20T00:00:00.000000000",
          "2021-04-21T00:00:00.000000000",
          "2021-04-22T00:00:00.000000000",
          "2021-04-23T00:00:00.000000000",
          "2021-04-26T00:00:00.000000000",
          "2021-04-27T00:00:00.000000000",
          "2021-04-28T00:00:00.000000000",
          "2021-04-29T00:00:00.000000000",
          "2021-04-30T00:00:00.000000000",
          "2021-05-03T00:00:00.000000000",
          "2021-05-04T00:00:00.000000000",
          "2021-05-05T00:00:00.000000000",
          "2021-05-06T00:00:00.000000000",
          "2021-05-07T00:00:00.000000000",
          "2021-05-10T00:00:00.000000000",
          "2021-05-11T00:00:00.000000000",
          "2021-05-12T00:00:00.000000000",
          "2021-05-13T00:00:00.000000000",
          "2021-05-14T00:00:00.000000000",
          "2021-05-17T00:00:00.000000000",
          "2021-05-18T00:00:00.000000000",
          "2021-05-19T00:00:00.000000000",
          "2021-05-20T00:00:00.000000000",
          "2021-05-21T00:00:00.000000000",
          "2021-05-24T00:00:00.000000000",
          "2021-05-25T00:00:00.000000000",
          "2021-05-26T00:00:00.000000000",
          "2021-05-27T00:00:00.000000000",
          "2021-05-28T00:00:00.000000000",
          "2021-06-01T00:00:00.000000000",
          "2021-06-02T00:00:00.000000000",
          "2021-06-03T00:00:00.000000000",
          "2021-06-04T00:00:00.000000000",
          "2021-06-07T00:00:00.000000000",
          "2021-06-08T00:00:00.000000000",
          "2021-06-09T00:00:00.000000000",
          "2021-06-10T00:00:00.000000000",
          "2021-06-11T00:00:00.000000000",
          "2021-06-14T00:00:00.000000000",
          "2021-06-15T00:00:00.000000000",
          "2021-06-16T00:00:00.000000000",
          "2021-06-17T00:00:00.000000000",
          "2021-06-18T00:00:00.000000000",
          "2021-06-21T00:00:00.000000000",
          "2021-06-22T00:00:00.000000000",
          "2021-06-23T00:00:00.000000000",
          "2021-06-24T00:00:00.000000000",
          "2021-06-25T00:00:00.000000000",
          "2021-06-28T00:00:00.000000000",
          "2021-06-29T00:00:00.000000000",
          "2021-06-30T00:00:00.000000000",
          "2021-07-01T00:00:00.000000000",
          "2021-07-02T00:00:00.000000000",
          "2021-07-06T00:00:00.000000000",
          "2021-07-07T00:00:00.000000000",
          "2021-07-08T00:00:00.000000000",
          "2021-07-09T00:00:00.000000000",
          "2021-07-12T00:00:00.000000000",
          "2021-07-13T00:00:00.000000000",
          "2021-07-14T00:00:00.000000000",
          "2021-07-15T00:00:00.000000000",
          "2021-07-16T00:00:00.000000000",
          "2021-07-19T00:00:00.000000000",
          "2021-07-20T00:00:00.000000000",
          "2021-07-21T00:00:00.000000000",
          "2021-07-22T00:00:00.000000000",
          "2021-07-23T00:00:00.000000000",
          "2021-07-26T00:00:00.000000000",
          "2021-07-27T00:00:00.000000000",
          "2021-07-28T00:00:00.000000000",
          "2021-07-29T00:00:00.000000000",
          "2021-07-30T00:00:00.000000000",
          "2021-08-02T00:00:00.000000000",
          "2021-08-03T00:00:00.000000000",
          "2021-08-04T00:00:00.000000000",
          "2021-08-05T00:00:00.000000000",
          "2021-08-06T00:00:00.000000000",
          "2021-08-09T00:00:00.000000000",
          "2021-08-10T00:00:00.000000000",
          "2021-08-11T00:00:00.000000000",
          "2021-08-12T00:00:00.000000000",
          "2021-08-13T00:00:00.000000000",
          "2021-08-16T00:00:00.000000000",
          "2021-08-17T00:00:00.000000000",
          "2021-08-18T00:00:00.000000000",
          "2021-08-19T00:00:00.000000000",
          "2021-08-20T00:00:00.000000000",
          "2021-08-23T00:00:00.000000000",
          "2021-08-24T00:00:00.000000000",
          "2021-08-25T00:00:00.000000000",
          "2021-08-26T00:00:00.000000000",
          "2021-08-27T00:00:00.000000000",
          "2021-08-30T00:00:00.000000000",
          "2021-08-31T00:00:00.000000000",
          "2021-09-01T00:00:00.000000000",
          "2021-09-02T00:00:00.000000000",
          "2021-09-03T00:00:00.000000000",
          "2021-09-07T00:00:00.000000000",
          "2021-09-08T00:00:00.000000000",
          "2021-09-09T00:00:00.000000000",
          "2021-09-10T00:00:00.000000000",
          "2021-09-13T00:00:00.000000000",
          "2021-09-14T00:00:00.000000000",
          "2021-09-15T00:00:00.000000000",
          "2021-09-16T00:00:00.000000000",
          "2021-09-17T00:00:00.000000000",
          "2021-09-20T00:00:00.000000000",
          "2021-09-21T00:00:00.000000000",
          "2021-09-22T00:00:00.000000000",
          "2021-09-23T00:00:00.000000000",
          "2021-09-24T00:00:00.000000000",
          "2021-09-27T00:00:00.000000000",
          "2021-09-28T00:00:00.000000000",
          "2021-09-29T00:00:00.000000000",
          "2021-09-30T00:00:00.000000000",
          "2021-10-01T00:00:00.000000000",
          "2021-10-04T00:00:00.000000000",
          "2021-10-05T00:00:00.000000000",
          "2021-10-06T00:00:00.000000000",
          "2021-10-07T00:00:00.000000000",
          "2021-10-08T00:00:00.000000000",
          "2021-10-11T00:00:00.000000000",
          "2021-10-12T00:00:00.000000000",
          "2021-10-13T00:00:00.000000000",
          "2021-10-14T00:00:00.000000000",
          "2021-10-15T00:00:00.000000000",
          "2021-10-18T00:00:00.000000000",
          "2021-10-19T00:00:00.000000000",
          "2021-10-20T00:00:00.000000000",
          "2021-10-21T00:00:00.000000000",
          "2021-10-22T00:00:00.000000000",
          "2021-10-25T00:00:00.000000000",
          "2021-10-26T00:00:00.000000000",
          "2021-10-27T00:00:00.000000000",
          "2021-10-28T00:00:00.000000000",
          "2021-10-29T00:00:00.000000000",
          "2021-11-01T00:00:00.000000000",
          "2021-11-02T00:00:00.000000000",
          "2021-11-03T00:00:00.000000000",
          "2021-11-04T00:00:00.000000000",
          "2021-11-05T00:00:00.000000000",
          "2021-11-08T00:00:00.000000000",
          "2021-11-09T00:00:00.000000000",
          "2021-11-10T00:00:00.000000000",
          "2021-11-11T00:00:00.000000000",
          "2021-11-12T00:00:00.000000000",
          "2021-11-15T00:00:00.000000000",
          "2021-11-16T00:00:00.000000000",
          "2021-11-17T00:00:00.000000000",
          "2021-11-18T00:00:00.000000000",
          "2021-11-19T00:00:00.000000000",
          "2021-11-22T00:00:00.000000000",
          "2021-11-23T00:00:00.000000000",
          "2021-11-24T00:00:00.000000000",
          "2021-11-26T00:00:00.000000000",
          "2021-11-29T00:00:00.000000000",
          "2021-11-30T00:00:00.000000000",
          "2021-12-01T00:00:00.000000000",
          "2021-12-02T00:00:00.000000000",
          "2021-12-03T00:00:00.000000000",
          "2021-12-06T00:00:00.000000000",
          "2021-12-07T00:00:00.000000000",
          "2021-12-08T00:00:00.000000000",
          "2021-12-09T00:00:00.000000000",
          "2021-12-10T00:00:00.000000000",
          "2021-12-13T00:00:00.000000000",
          "2021-12-14T00:00:00.000000000",
          "2021-12-15T00:00:00.000000000",
          "2021-12-16T00:00:00.000000000",
          "2021-12-17T00:00:00.000000000",
          "2021-12-20T00:00:00.000000000",
          "2021-12-21T00:00:00.000000000",
          "2021-12-22T00:00:00.000000000",
          "2021-12-23T00:00:00.000000000",
          "2021-12-27T00:00:00.000000000",
          "2021-12-28T00:00:00.000000000",
          "2021-12-29T00:00:00.000000000",
          "2021-12-30T00:00:00.000000000",
          "2021-12-31T00:00:00.000000000",
          "2022-01-03T00:00:00.000000000",
          "2022-01-04T00:00:00.000000000",
          "2022-01-05T00:00:00.000000000",
          "2022-01-06T00:00:00.000000000",
          "2022-01-07T00:00:00.000000000",
          "2022-01-10T00:00:00.000000000",
          "2022-01-11T00:00:00.000000000",
          "2022-01-12T00:00:00.000000000",
          "2022-01-13T00:00:00.000000000",
          "2022-01-14T00:00:00.000000000",
          "2022-01-18T00:00:00.000000000",
          "2022-01-19T00:00:00.000000000",
          "2022-01-20T00:00:00.000000000",
          "2022-01-21T00:00:00.000000000",
          "2022-01-24T00:00:00.000000000",
          "2022-01-25T00:00:00.000000000",
          "2022-01-26T00:00:00.000000000",
          "2022-01-27T00:00:00.000000000",
          "2022-01-28T00:00:00.000000000",
          "2022-01-31T00:00:00.000000000",
          "2022-02-01T00:00:00.000000000",
          "2022-02-02T00:00:00.000000000",
          "2022-02-03T00:00:00.000000000",
          "2022-02-04T00:00:00.000000000",
          "2022-02-07T00:00:00.000000000",
          "2022-02-08T00:00:00.000000000",
          "2022-02-09T00:00:00.000000000",
          "2022-02-10T00:00:00.000000000",
          "2022-02-11T00:00:00.000000000",
          "2022-02-14T00:00:00.000000000",
          "2022-02-15T00:00:00.000000000",
          "2022-02-16T00:00:00.000000000",
          "2022-02-17T00:00:00.000000000",
          "2022-02-18T00:00:00.000000000",
          "2022-02-22T00:00:00.000000000",
          "2022-02-23T00:00:00.000000000",
          "2022-02-24T00:00:00.000000000",
          "2022-02-25T00:00:00.000000000",
          "2022-02-28T00:00:00.000000000",
          "2022-03-01T00:00:00.000000000",
          "2022-03-02T00:00:00.000000000",
          "2022-03-03T00:00:00.000000000",
          "2022-03-04T00:00:00.000000000",
          "2022-03-07T00:00:00.000000000",
          "2022-03-08T00:00:00.000000000",
          "2022-03-09T00:00:00.000000000",
          "2022-03-10T00:00:00.000000000",
          "2022-03-11T00:00:00.000000000",
          "2022-03-14T00:00:00.000000000",
          "2022-03-15T00:00:00.000000000",
          "2022-03-16T00:00:00.000000000",
          "2022-03-17T00:00:00.000000000",
          "2022-03-18T00:00:00.000000000",
          "2022-03-21T00:00:00.000000000",
          "2022-03-22T00:00:00.000000000",
          "2022-03-23T00:00:00.000000000",
          "2022-03-24T00:00:00.000000000",
          "2022-03-25T00:00:00.000000000",
          "2022-03-28T00:00:00.000000000",
          "2022-03-29T00:00:00.000000000",
          "2022-03-30T00:00:00.000000000",
          "2022-03-31T00:00:00.000000000",
          "2022-04-01T00:00:00.000000000",
          "2022-04-04T00:00:00.000000000",
          "2022-04-05T00:00:00.000000000",
          "2022-04-06T00:00:00.000000000",
          "2022-04-07T00:00:00.000000000",
          "2022-04-08T00:00:00.000000000",
          "2022-04-11T00:00:00.000000000",
          "2022-04-12T00:00:00.000000000",
          "2022-04-13T00:00:00.000000000",
          "2022-04-14T00:00:00.000000000",
          "2022-04-18T00:00:00.000000000",
          "2022-04-19T00:00:00.000000000",
          "2022-04-20T00:00:00.000000000",
          "2022-04-21T00:00:00.000000000",
          "2022-04-22T00:00:00.000000000",
          "2022-04-25T00:00:00.000000000",
          "2022-04-26T00:00:00.000000000",
          "2022-04-27T00:00:00.000000000",
          "2022-04-28T00:00:00.000000000",
          "2022-04-29T00:00:00.000000000",
          "2022-05-02T00:00:00.000000000",
          "2022-05-03T00:00:00.000000000",
          "2022-05-04T00:00:00.000000000",
          "2022-05-05T00:00:00.000000000",
          "2022-05-06T00:00:00.000000000",
          "2022-05-09T00:00:00.000000000",
          "2022-05-10T00:00:00.000000000",
          "2022-05-11T00:00:00.000000000",
          "2022-05-12T00:00:00.000000000",
          "2022-05-13T00:00:00.000000000",
          "2022-05-16T00:00:00.000000000",
          "2022-05-17T00:00:00.000000000",
          "2022-05-18T00:00:00.000000000",
          "2022-05-19T00:00:00.000000000",
          "2022-05-20T00:00:00.000000000",
          "2022-05-23T00:00:00.000000000",
          "2022-05-24T00:00:00.000000000",
          "2022-05-25T00:00:00.000000000",
          "2022-05-26T00:00:00.000000000",
          "2022-05-27T00:00:00.000000000",
          "2022-05-31T00:00:00.000000000",
          "2022-06-01T00:00:00.000000000",
          "2022-06-02T00:00:00.000000000",
          "2022-06-03T00:00:00.000000000",
          "2022-06-06T00:00:00.000000000",
          "2022-06-07T00:00:00.000000000",
          "2022-06-08T00:00:00.000000000",
          "2022-06-09T00:00:00.000000000",
          "2022-06-10T00:00:00.000000000",
          "2022-06-13T00:00:00.000000000",
          "2022-06-14T00:00:00.000000000",
          "2022-06-15T00:00:00.000000000",
          "2022-06-16T00:00:00.000000000",
          "2022-06-17T00:00:00.000000000",
          "2022-06-21T00:00:00.000000000",
          "2022-06-22T00:00:00.000000000",
          "2022-06-23T00:00:00.000000000",
          "2022-06-24T00:00:00.000000000",
          "2022-06-27T00:00:00.000000000",
          "2022-06-28T00:00:00.000000000",
          "2022-06-29T00:00:00.000000000",
          "2022-06-30T00:00:00.000000000",
          "2022-07-01T00:00:00.000000000",
          "2022-07-05T00:00:00.000000000",
          "2022-07-06T00:00:00.000000000",
          "2022-07-07T00:00:00.000000000",
          "2022-07-08T00:00:00.000000000",
          "2022-07-11T00:00:00.000000000",
          "2022-07-12T00:00:00.000000000",
          "2022-07-13T00:00:00.000000000",
          "2022-07-14T00:00:00.000000000",
          "2022-07-15T00:00:00.000000000",
          "2022-07-18T00:00:00.000000000",
          "2022-07-19T00:00:00.000000000",
          "2022-07-20T00:00:00.000000000",
          "2022-07-21T00:00:00.000000000",
          "2022-07-22T00:00:00.000000000",
          "2022-07-25T00:00:00.000000000",
          "2022-07-26T00:00:00.000000000",
          "2022-07-27T00:00:00.000000000",
          "2022-07-28T00:00:00.000000000",
          "2022-07-29T00:00:00.000000000",
          "2022-08-01T00:00:00.000000000",
          "2022-08-02T00:00:00.000000000",
          "2022-08-03T00:00:00.000000000",
          "2022-08-04T00:00:00.000000000",
          "2022-08-05T00:00:00.000000000",
          "2022-08-08T00:00:00.000000000",
          "2022-08-09T00:00:00.000000000",
          "2022-08-10T00:00:00.000000000",
          "2022-08-11T00:00:00.000000000",
          "2022-08-12T00:00:00.000000000",
          "2022-08-15T00:00:00.000000000",
          "2022-08-16T00:00:00.000000000",
          "2022-08-17T00:00:00.000000000",
          "2022-08-18T00:00:00.000000000",
          "2022-08-19T00:00:00.000000000",
          "2022-08-22T00:00:00.000000000",
          "2022-08-23T00:00:00.000000000",
          "2022-08-24T00:00:00.000000000",
          "2022-08-25T00:00:00.000000000",
          "2022-08-26T00:00:00.000000000",
          "2022-08-29T00:00:00.000000000",
          "2022-08-30T00:00:00.000000000",
          "2022-08-31T00:00:00.000000000",
          "2022-09-01T00:00:00.000000000",
          "2022-09-02T00:00:00.000000000",
          "2022-09-06T00:00:00.000000000",
          "2022-09-07T00:00:00.000000000",
          "2022-09-08T00:00:00.000000000",
          "2022-09-09T00:00:00.000000000",
          "2022-09-12T00:00:00.000000000",
          "2022-09-13T00:00:00.000000000",
          "2022-09-14T00:00:00.000000000",
          "2022-09-15T00:00:00.000000000",
          "2022-09-16T00:00:00.000000000",
          "2022-09-19T00:00:00.000000000",
          "2022-09-20T00:00:00.000000000",
          "2022-09-21T00:00:00.000000000",
          "2022-09-22T00:00:00.000000000",
          "2022-09-23T00:00:00.000000000",
          "2022-09-26T00:00:00.000000000",
          "2022-09-27T00:00:00.000000000",
          "2022-09-28T00:00:00.000000000",
          "2022-09-29T00:00:00.000000000",
          "2022-09-30T00:00:00.000000000",
          "2022-10-03T00:00:00.000000000",
          "2022-10-04T00:00:00.000000000",
          "2022-10-05T00:00:00.000000000",
          "2022-10-06T00:00:00.000000000",
          "2022-10-07T00:00:00.000000000",
          "2022-10-10T00:00:00.000000000",
          "2022-10-11T00:00:00.000000000",
          "2022-10-12T00:00:00.000000000",
          "2022-10-13T00:00:00.000000000",
          "2022-10-14T00:00:00.000000000",
          "2022-10-17T00:00:00.000000000",
          "2022-10-18T00:00:00.000000000",
          "2022-10-19T00:00:00.000000000",
          "2022-10-20T00:00:00.000000000",
          "2022-10-21T00:00:00.000000000",
          "2022-10-24T00:00:00.000000000",
          "2022-10-25T00:00:00.000000000",
          "2022-10-26T00:00:00.000000000",
          "2022-10-27T00:00:00.000000000",
          "2022-10-28T00:00:00.000000000",
          "2022-10-31T00:00:00.000000000",
          "2022-11-01T00:00:00.000000000",
          "2022-11-02T00:00:00.000000000",
          "2022-11-03T00:00:00.000000000",
          "2022-11-04T00:00:00.000000000",
          "2022-11-07T00:00:00.000000000",
          "2022-11-08T00:00:00.000000000",
          "2022-11-09T00:00:00.000000000",
          "2022-11-10T00:00:00.000000000",
          "2022-11-11T00:00:00.000000000",
          "2022-11-14T00:00:00.000000000",
          "2022-11-15T00:00:00.000000000",
          "2022-11-16T00:00:00.000000000",
          "2022-11-17T00:00:00.000000000",
          "2022-11-18T00:00:00.000000000",
          "2022-11-21T00:00:00.000000000",
          "2022-11-22T00:00:00.000000000",
          "2022-11-23T00:00:00.000000000",
          "2022-11-25T00:00:00.000000000",
          "2022-11-28T00:00:00.000000000",
          "2022-11-29T00:00:00.000000000",
          "2022-11-30T00:00:00.000000000",
          "2022-12-01T00:00:00.000000000",
          "2022-12-02T00:00:00.000000000",
          "2022-12-05T00:00:00.000000000",
          "2022-12-06T00:00:00.000000000",
          "2022-12-07T00:00:00.000000000",
          "2022-12-08T00:00:00.000000000",
          "2022-12-09T00:00:00.000000000",
          "2022-12-12T00:00:00.000000000",
          "2022-12-13T00:00:00.000000000",
          "2022-12-14T00:00:00.000000000",
          "2022-12-15T00:00:00.000000000",
          "2022-12-16T00:00:00.000000000",
          "2022-12-19T00:00:00.000000000",
          "2022-12-20T00:00:00.000000000",
          "2022-12-21T00:00:00.000000000",
          "2022-12-22T00:00:00.000000000",
          "2022-12-23T00:00:00.000000000",
          "2022-12-27T00:00:00.000000000",
          "2022-12-28T00:00:00.000000000",
          "2022-12-29T00:00:00.000000000",
          "2022-12-30T00:00:00.000000000",
          "2023-01-03T00:00:00.000000000",
          "2023-01-04T00:00:00.000000000",
          "2023-01-05T00:00:00.000000000",
          "2023-01-06T00:00:00.000000000",
          "2023-01-09T00:00:00.000000000",
          "2023-01-10T00:00:00.000000000",
          "2023-01-11T00:00:00.000000000",
          "2023-01-12T00:00:00.000000000",
          "2023-01-13T00:00:00.000000000",
          "2023-01-17T00:00:00.000000000",
          "2023-01-18T00:00:00.000000000",
          "2023-01-19T00:00:00.000000000",
          "2023-01-20T00:00:00.000000000",
          "2023-01-23T00:00:00.000000000",
          "2023-01-24T00:00:00.000000000",
          "2023-01-25T00:00:00.000000000",
          "2023-01-26T00:00:00.000000000",
          "2023-01-27T00:00:00.000000000",
          "2023-01-30T00:00:00.000000000",
          "2023-01-31T00:00:00.000000000",
          "2023-02-01T00:00:00.000000000",
          "2023-02-02T00:00:00.000000000",
          "2023-02-03T00:00:00.000000000",
          "2023-02-06T00:00:00.000000000",
          "2023-02-07T00:00:00.000000000",
          "2023-02-08T00:00:00.000000000",
          "2023-02-09T00:00:00.000000000",
          "2023-02-10T00:00:00.000000000",
          "2023-02-13T00:00:00.000000000",
          "2023-02-14T00:00:00.000000000",
          "2023-02-15T00:00:00.000000000",
          "2023-02-16T00:00:00.000000000",
          "2023-02-17T00:00:00.000000000",
          "2023-02-21T00:00:00.000000000",
          "2023-02-22T00:00:00.000000000",
          "2023-02-23T00:00:00.000000000",
          "2023-02-24T00:00:00.000000000",
          "2023-02-27T00:00:00.000000000",
          "2023-02-28T00:00:00.000000000",
          "2023-03-01T00:00:00.000000000",
          "2023-03-02T00:00:00.000000000",
          "2023-03-03T00:00:00.000000000",
          "2023-03-06T00:00:00.000000000",
          "2023-03-07T00:00:00.000000000",
          "2023-03-08T00:00:00.000000000",
          "2023-03-09T00:00:00.000000000",
          "2023-03-10T00:00:00.000000000",
          "2023-03-13T00:00:00.000000000",
          "2023-03-14T00:00:00.000000000",
          "2023-03-15T00:00:00.000000000",
          "2023-03-16T00:00:00.000000000",
          "2023-03-17T00:00:00.000000000",
          "2023-03-20T00:00:00.000000000",
          "2023-03-21T00:00:00.000000000",
          "2023-03-22T00:00:00.000000000",
          "2023-03-23T00:00:00.000000000",
          "2023-03-24T00:00:00.000000000",
          "2023-03-27T00:00:00.000000000",
          "2023-03-28T00:00:00.000000000",
          "2023-03-29T00:00:00.000000000",
          "2023-03-30T00:00:00.000000000",
          "2023-03-31T00:00:00.000000000",
          "2023-04-03T00:00:00.000000000",
          "2023-04-04T00:00:00.000000000",
          "2023-04-05T00:00:00.000000000",
          "2023-04-06T00:00:00.000000000",
          "2023-04-10T00:00:00.000000000",
          "2023-04-11T00:00:00.000000000",
          "2023-04-12T00:00:00.000000000",
          "2023-04-13T00:00:00.000000000",
          "2023-04-14T00:00:00.000000000",
          "2023-04-17T00:00:00.000000000",
          "2023-04-18T00:00:00.000000000",
          "2023-04-19T00:00:00.000000000",
          "2023-04-20T00:00:00.000000000",
          "2023-04-21T00:00:00.000000000",
          "2023-04-24T00:00:00.000000000",
          "2023-04-25T00:00:00.000000000",
          "2023-04-26T00:00:00.000000000",
          "2023-04-27T00:00:00.000000000",
          "2023-04-28T00:00:00.000000000",
          "2023-05-01T00:00:00.000000000",
          "2023-05-02T00:00:00.000000000",
          "2023-05-03T00:00:00.000000000",
          "2023-05-04T00:00:00.000000000",
          "2023-05-05T00:00:00.000000000",
          "2023-05-08T00:00:00.000000000",
          "2023-05-09T00:00:00.000000000",
          "2023-05-10T00:00:00.000000000",
          "2023-05-11T00:00:00.000000000",
          "2023-05-12T00:00:00.000000000",
          "2023-05-15T00:00:00.000000000",
          "2023-05-16T00:00:00.000000000",
          "2023-05-17T00:00:00.000000000",
          "2023-05-18T00:00:00.000000000",
          "2023-05-19T00:00:00.000000000",
          "2023-05-22T00:00:00.000000000",
          "2023-05-23T00:00:00.000000000",
          "2023-05-24T00:00:00.000000000",
          "2023-05-25T00:00:00.000000000",
          "2023-05-26T00:00:00.000000000",
          "2023-05-30T00:00:00.000000000",
          "2023-05-31T00:00:00.000000000",
          "2023-06-01T00:00:00.000000000",
          "2023-06-02T00:00:00.000000000",
          "2023-06-05T00:00:00.000000000",
          "2023-06-06T00:00:00.000000000",
          "2023-06-07T00:00:00.000000000",
          "2023-06-08T00:00:00.000000000",
          "2023-06-09T00:00:00.000000000",
          "2023-06-12T00:00:00.000000000",
          "2023-06-13T00:00:00.000000000",
          "2023-06-14T00:00:00.000000000",
          "2023-06-15T00:00:00.000000000",
          "2023-06-16T00:00:00.000000000",
          "2023-06-20T00:00:00.000000000",
          "2023-06-21T00:00:00.000000000",
          "2023-06-22T00:00:00.000000000",
          "2023-06-23T00:00:00.000000000",
          "2023-06-26T00:00:00.000000000",
          "2023-06-27T00:00:00.000000000",
          "2023-06-28T00:00:00.000000000",
          "2023-06-29T00:00:00.000000000",
          "2023-06-30T00:00:00.000000000",
          "2023-07-03T00:00:00.000000000",
          "2023-07-05T00:00:00.000000000",
          "2023-07-06T00:00:00.000000000",
          "2023-07-07T00:00:00.000000000",
          "2023-07-10T00:00:00.000000000",
          "2023-07-11T00:00:00.000000000",
          "2023-07-12T00:00:00.000000000",
          "2023-07-13T00:00:00.000000000",
          "2023-07-14T00:00:00.000000000",
          "2023-07-17T00:00:00.000000000",
          "2023-07-18T00:00:00.000000000",
          "2023-07-19T00:00:00.000000000",
          "2023-07-20T00:00:00.000000000",
          "2023-07-21T00:00:00.000000000",
          "2023-07-24T00:00:00.000000000",
          "2023-07-25T00:00:00.000000000",
          "2023-07-26T00:00:00.000000000",
          "2023-07-27T00:00:00.000000000",
          "2023-07-28T00:00:00.000000000",
          "2023-07-31T00:00:00.000000000",
          "2023-08-01T00:00:00.000000000",
          "2023-08-02T00:00:00.000000000",
          "2023-08-03T00:00:00.000000000",
          "2023-08-04T00:00:00.000000000",
          "2023-08-07T00:00:00.000000000",
          "2023-08-08T00:00:00.000000000",
          "2023-08-09T00:00:00.000000000",
          "2023-08-10T00:00:00.000000000",
          "2023-08-11T00:00:00.000000000",
          "2023-08-14T00:00:00.000000000",
          "2023-08-15T00:00:00.000000000",
          "2023-08-16T00:00:00.000000000",
          "2023-08-17T00:00:00.000000000",
          "2023-08-18T00:00:00.000000000",
          "2023-08-21T00:00:00.000000000",
          "2023-08-22T00:00:00.000000000",
          "2023-08-23T00:00:00.000000000",
          "2023-08-24T00:00:00.000000000",
          "2023-08-25T00:00:00.000000000",
          "2023-08-28T00:00:00.000000000",
          "2023-08-29T00:00:00.000000000",
          "2023-08-30T00:00:00.000000000",
          "2023-08-31T00:00:00.000000000",
          "2023-09-01T00:00:00.000000000",
          "2023-09-05T00:00:00.000000000",
          "2023-09-06T00:00:00.000000000",
          "2023-09-07T00:00:00.000000000",
          "2023-09-08T00:00:00.000000000",
          "2023-09-11T00:00:00.000000000",
          "2023-09-12T00:00:00.000000000",
          "2023-09-13T00:00:00.000000000",
          "2023-09-14T00:00:00.000000000",
          "2023-09-15T00:00:00.000000000",
          "2023-09-18T00:00:00.000000000",
          "2023-09-19T00:00:00.000000000",
          "2023-09-20T00:00:00.000000000",
          "2023-09-21T00:00:00.000000000",
          "2023-09-22T00:00:00.000000000",
          "2023-09-25T00:00:00.000000000",
          "2023-09-26T00:00:00.000000000",
          "2023-09-27T00:00:00.000000000",
          "2023-09-28T00:00:00.000000000",
          "2023-09-29T00:00:00.000000000",
          "2023-10-02T00:00:00.000000000",
          "2023-10-03T00:00:00.000000000",
          "2023-10-04T00:00:00.000000000",
          "2023-10-05T00:00:00.000000000",
          "2023-10-06T00:00:00.000000000",
          "2023-10-09T00:00:00.000000000",
          "2023-10-10T00:00:00.000000000",
          "2023-10-11T00:00:00.000000000",
          "2023-10-12T00:00:00.000000000",
          "2023-10-13T00:00:00.000000000",
          "2023-10-16T00:00:00.000000000",
          "2023-10-17T00:00:00.000000000",
          "2023-10-18T00:00:00.000000000",
          "2023-10-19T00:00:00.000000000",
          "2023-10-20T00:00:00.000000000",
          "2023-10-23T00:00:00.000000000",
          "2023-10-24T00:00:00.000000000",
          "2023-10-25T00:00:00.000000000",
          "2023-10-26T00:00:00.000000000",
          "2023-10-27T00:00:00.000000000",
          "2023-10-30T00:00:00.000000000",
          "2023-10-31T00:00:00.000000000",
          "2023-11-01T00:00:00.000000000",
          "2023-11-02T00:00:00.000000000",
          "2023-11-03T00:00:00.000000000",
          "2023-11-06T00:00:00.000000000",
          "2023-11-07T00:00:00.000000000",
          "2023-11-08T00:00:00.000000000",
          "2023-11-09T00:00:00.000000000",
          "2023-11-10T00:00:00.000000000",
          "2023-11-13T00:00:00.000000000",
          "2023-11-14T00:00:00.000000000",
          "2023-11-15T00:00:00.000000000",
          "2023-11-16T00:00:00.000000000",
          "2023-11-17T00:00:00.000000000",
          "2023-11-20T00:00:00.000000000",
          "2023-11-21T00:00:00.000000000",
          "2023-11-22T00:00:00.000000000",
          "2023-11-24T00:00:00.000000000",
          "2023-11-27T00:00:00.000000000",
          "2023-11-28T00:00:00.000000000",
          "2023-11-29T00:00:00.000000000",
          "2023-11-30T00:00:00.000000000",
          "2023-12-01T00:00:00.000000000",
          "2023-12-04T00:00:00.000000000",
          "2023-12-05T00:00:00.000000000",
          "2023-12-06T00:00:00.000000000",
          "2023-12-07T00:00:00.000000000",
          "2023-12-08T00:00:00.000000000",
          "2023-12-11T00:00:00.000000000",
          "2023-12-12T00:00:00.000000000",
          "2023-12-13T00:00:00.000000000",
          "2023-12-14T00:00:00.000000000",
          "2023-12-15T00:00:00.000000000",
          "2023-12-18T00:00:00.000000000",
          "2023-12-19T00:00:00.000000000",
          "2023-12-20T00:00:00.000000000",
          "2023-12-21T00:00:00.000000000",
          "2023-12-22T00:00:00.000000000",
          "2023-12-26T00:00:00.000000000",
          "2023-12-27T00:00:00.000000000",
          "2023-12-28T00:00:00.000000000",
          "2023-12-29T00:00:00.000000000",
          "2024-01-02T00:00:00.000000000",
          "2024-01-03T00:00:00.000000000",
          "2024-01-04T00:00:00.000000000",
          "2024-01-05T00:00:00.000000000",
          "2024-01-08T00:00:00.000000000",
          "2024-01-09T00:00:00.000000000",
          "2024-01-10T00:00:00.000000000",
          "2024-01-11T00:00:00.000000000",
          "2024-01-12T00:00:00.000000000",
          "2024-01-16T00:00:00.000000000",
          "2024-01-17T00:00:00.000000000",
          "2024-01-18T00:00:00.000000000",
          "2024-01-19T00:00:00.000000000",
          "2024-01-22T00:00:00.000000000",
          "2024-01-23T00:00:00.000000000",
          "2024-01-24T00:00:00.000000000",
          "2024-01-25T00:00:00.000000000",
          "2024-01-26T00:00:00.000000000",
          "2024-01-29T00:00:00.000000000",
          "2024-01-30T00:00:00.000000000",
          "2024-01-31T00:00:00.000000000",
          "2024-02-01T00:00:00.000000000",
          "2024-02-02T00:00:00.000000000",
          "2024-02-05T00:00:00.000000000",
          "2024-02-06T00:00:00.000000000",
          "2024-02-07T00:00:00.000000000",
          "2024-02-08T00:00:00.000000000",
          "2024-02-09T00:00:00.000000000",
          "2024-02-12T00:00:00.000000000",
          "2024-02-13T00:00:00.000000000",
          "2024-02-14T00:00:00.000000000",
          "2024-02-15T00:00:00.000000000",
          "2024-02-16T00:00:00.000000000",
          "2024-02-20T00:00:00.000000000",
          "2024-02-21T00:00:00.000000000",
          "2024-02-22T00:00:00.000000000",
          "2024-02-23T00:00:00.000000000",
          "2024-02-26T00:00:00.000000000",
          "2024-02-27T00:00:00.000000000",
          "2024-02-28T00:00:00.000000000",
          "2024-02-29T00:00:00.000000000",
          "2024-03-01T00:00:00.000000000",
          "2024-03-04T00:00:00.000000000",
          "2024-03-05T00:00:00.000000000",
          "2024-03-06T00:00:00.000000000",
          "2024-03-07T00:00:00.000000000",
          "2024-03-08T00:00:00.000000000",
          "2024-03-11T00:00:00.000000000",
          "2024-03-12T00:00:00.000000000",
          "2024-03-13T00:00:00.000000000",
          "2024-03-14T00:00:00.000000000",
          "2024-03-15T00:00:00.000000000",
          "2024-03-18T00:00:00.000000000",
          "2024-03-19T00:00:00.000000000",
          "2024-03-20T00:00:00.000000000",
          "2024-03-21T00:00:00.000000000",
          "2024-03-22T00:00:00.000000000",
          "2024-03-25T00:00:00.000000000",
          "2024-03-26T00:00:00.000000000",
          "2024-03-27T00:00:00.000000000",
          "2024-03-28T00:00:00.000000000",
          "2024-04-01T00:00:00.000000000",
          "2024-04-02T00:00:00.000000000",
          "2024-04-03T00:00:00.000000000",
          "2024-04-04T00:00:00.000000000",
          "2024-04-05T00:00:00.000000000",
          "2024-04-08T00:00:00.000000000",
          "2024-04-09T00:00:00.000000000",
          "2024-04-10T00:00:00.000000000",
          "2024-04-11T00:00:00.000000000",
          "2024-04-12T00:00:00.000000000",
          "2024-04-15T00:00:00.000000000",
          "2024-04-16T00:00:00.000000000",
          "2024-04-17T00:00:00.000000000",
          "2024-04-18T00:00:00.000000000",
          "2024-04-19T00:00:00.000000000",
          "2024-04-22T00:00:00.000000000",
          "2024-04-23T00:00:00.000000000",
          "2024-04-24T00:00:00.000000000",
          "2024-04-25T00:00:00.000000000",
          "2024-04-26T00:00:00.000000000",
          "2024-04-29T00:00:00.000000000",
          "2024-04-30T00:00:00.000000000",
          "2024-05-01T00:00:00.000000000",
          "2024-05-02T00:00:00.000000000",
          "2024-05-03T00:00:00.000000000",
          "2024-05-06T00:00:00.000000000",
          "2024-05-07T00:00:00.000000000",
          "2024-05-08T00:00:00.000000000",
          "2024-05-09T00:00:00.000000000",
          "2024-05-10T00:00:00.000000000",
          "2024-05-13T00:00:00.000000000",
          "2024-05-14T00:00:00.000000000",
          "2024-05-15T00:00:00.000000000",
          "2024-05-16T00:00:00.000000000",
          "2024-05-17T00:00:00.000000000",
          "2024-05-20T00:00:00.000000000",
          "2024-05-21T00:00:00.000000000",
          "2024-05-22T00:00:00.000000000",
          "2024-05-23T00:00:00.000000000",
          "2024-05-24T00:00:00.000000000",
          "2024-05-28T00:00:00.000000000",
          "2024-05-29T00:00:00.000000000",
          "2024-05-30T00:00:00.000000000",
          "2024-05-31T00:00:00.000000000",
          "2024-06-03T00:00:00.000000000",
          "2024-06-04T00:00:00.000000000",
          "2024-06-05T00:00:00.000000000",
          "2024-06-06T00:00:00.000000000",
          "2024-06-07T00:00:00.000000000",
          "2024-06-10T00:00:00.000000000",
          "2024-06-11T00:00:00.000000000",
          "2024-06-12T00:00:00.000000000",
          "2024-06-13T00:00:00.000000000",
          "2024-06-14T00:00:00.000000000",
          "2024-06-17T00:00:00.000000000",
          "2024-06-18T00:00:00.000000000",
          "2024-06-20T00:00:00.000000000",
          "2024-06-21T00:00:00.000000000",
          "2024-06-24T00:00:00.000000000",
          "2024-06-25T00:00:00.000000000",
          "2024-06-26T00:00:00.000000000",
          "2024-06-27T00:00:00.000000000",
          "2024-06-28T00:00:00.000000000",
          "2024-07-01T00:00:00.000000000",
          "2024-07-02T00:00:00.000000000",
          "2024-07-03T00:00:00.000000000",
          "2024-07-05T00:00:00.000000000",
          "2024-07-08T00:00:00.000000000",
          "2024-07-09T00:00:00.000000000",
          "2024-07-10T00:00:00.000000000",
          "2024-07-11T00:00:00.000000000",
          "2024-07-12T00:00:00.000000000",
          "2024-07-15T00:00:00.000000000",
          "2024-07-16T00:00:00.000000000",
          "2024-07-17T00:00:00.000000000",
          "2024-07-18T00:00:00.000000000",
          "2024-07-19T00:00:00.000000000",
          "2024-07-22T00:00:00.000000000",
          "2024-07-23T00:00:00.000000000",
          "2024-07-24T00:00:00.000000000",
          "2024-07-25T00:00:00.000000000",
          "2024-07-26T00:00:00.000000000",
          "2024-07-29T00:00:00.000000000",
          "2024-07-30T00:00:00.000000000",
          "2024-07-31T00:00:00.000000000",
          "2024-08-01T00:00:00.000000000",
          "2024-08-02T00:00:00.000000000",
          "2024-08-05T00:00:00.000000000",
          "2024-08-06T00:00:00.000000000",
          "2024-08-07T00:00:00.000000000",
          "2024-08-08T00:00:00.000000000",
          "2024-08-09T00:00:00.000000000",
          "2024-08-12T00:00:00.000000000",
          "2024-08-13T00:00:00.000000000",
          "2024-08-14T00:00:00.000000000",
          "2024-08-15T00:00:00.000000000",
          "2024-08-16T00:00:00.000000000",
          "2024-08-19T00:00:00.000000000",
          "2024-08-20T00:00:00.000000000",
          "2024-08-21T00:00:00.000000000",
          "2024-08-22T00:00:00.000000000",
          "2024-08-23T00:00:00.000000000",
          "2024-08-26T00:00:00.000000000",
          "2024-08-27T00:00:00.000000000",
          "2024-08-28T00:00:00.000000000",
          "2024-08-29T00:00:00.000000000",
          "2024-08-30T00:00:00.000000000",
          "2024-09-03T00:00:00.000000000",
          "2024-09-04T00:00:00.000000000",
          "2024-09-05T00:00:00.000000000",
          "2024-09-06T00:00:00.000000000",
          "2024-09-09T00:00:00.000000000",
          "2024-09-10T00:00:00.000000000",
          "2024-09-11T00:00:00.000000000",
          "2024-09-12T00:00:00.000000000",
          "2024-09-13T00:00:00.000000000",
          "2024-09-16T00:00:00.000000000",
          "2024-09-17T00:00:00.000000000",
          "2024-09-18T00:00:00.000000000",
          "2024-09-19T00:00:00.000000000",
          "2024-09-20T00:00:00.000000000",
          "2024-09-23T00:00:00.000000000",
          "2024-09-24T00:00:00.000000000",
          "2024-09-25T00:00:00.000000000",
          "2024-09-26T00:00:00.000000000",
          "2024-09-27T00:00:00.000000000",
          "2024-09-30T00:00:00.000000000",
          "2024-10-01T00:00:00.000000000",
          "2024-10-02T00:00:00.000000000",
          "2024-10-03T00:00:00.000000000",
          "2024-10-04T00:00:00.000000000",
          "2024-10-07T00:00:00.000000000",
          "2024-10-08T00:00:00.000000000",
          "2024-10-09T00:00:00.000000000",
          "2024-10-10T00:00:00.000000000",
          "2024-10-11T00:00:00.000000000",
          "2024-10-14T00:00:00.000000000",
          "2024-10-15T00:00:00.000000000",
          "2024-10-16T00:00:00.000000000",
          "2024-10-17T00:00:00.000000000",
          "2024-10-18T00:00:00.000000000",
          "2024-10-21T00:00:00.000000000",
          "2024-10-22T00:00:00.000000000",
          "2024-10-23T00:00:00.000000000",
          "2024-10-24T00:00:00.000000000",
          "2024-10-25T00:00:00.000000000",
          "2024-10-28T00:00:00.000000000",
          "2024-10-29T00:00:00.000000000",
          "2024-10-30T00:00:00.000000000",
          "2024-10-31T00:00:00.000000000",
          "2024-11-01T00:00:00.000000000",
          "2024-11-04T00:00:00.000000000",
          "2024-11-05T00:00:00.000000000",
          "2024-11-06T00:00:00.000000000",
          "2024-11-07T00:00:00.000000000",
          "2024-11-08T00:00:00.000000000",
          "2024-11-11T00:00:00.000000000",
          "2024-11-12T00:00:00.000000000",
          "2024-11-13T00:00:00.000000000",
          "2024-11-14T00:00:00.000000000",
          "2024-11-15T00:00:00.000000000",
          "2024-11-18T00:00:00.000000000",
          "2024-11-19T00:00:00.000000000",
          "2024-11-20T00:00:00.000000000",
          "2024-11-21T00:00:00.000000000",
          "2024-11-22T00:00:00.000000000",
          "2024-11-25T00:00:00.000000000",
          "2024-11-26T00:00:00.000000000",
          "2024-11-27T00:00:00.000000000",
          "2024-11-29T00:00:00.000000000",
          "2024-12-02T00:00:00.000000000",
          "2024-12-03T00:00:00.000000000",
          "2024-12-04T00:00:00.000000000",
          "2024-12-05T00:00:00.000000000",
          "2024-12-06T00:00:00.000000000",
          "2024-12-09T00:00:00.000000000",
          "2024-12-10T00:00:00.000000000",
          "2024-12-11T00:00:00.000000000",
          "2024-12-12T00:00:00.000000000",
          "2024-12-13T00:00:00.000000000",
          "2024-12-16T00:00:00.000000000",
          "2024-12-17T00:00:00.000000000",
          "2024-12-18T00:00:00.000000000",
          "2024-12-19T00:00:00.000000000",
          "2024-12-20T00:00:00.000000000",
          "2024-12-23T00:00:00.000000000",
          "2024-12-24T00:00:00.000000000",
          "2024-12-26T00:00:00.000000000",
          "2024-12-27T00:00:00.000000000",
          "2024-12-30T00:00:00.000000000",
          "2024-12-31T00:00:00.000000000",
          "2025-01-02T00:00:00.000000000",
          "2025-01-03T00:00:00.000000000",
          "2025-01-06T00:00:00.000000000",
          "2025-01-07T00:00:00.000000000",
          "2025-01-08T00:00:00.000000000",
          "2025-01-10T00:00:00.000000000",
          "2025-01-13T00:00:00.000000000",
          "2025-01-14T00:00:00.000000000",
          "2025-01-15T00:00:00.000000000",
          "2025-01-16T00:00:00.000000000",
          "2025-01-17T00:00:00.000000000",
          "2025-01-21T00:00:00.000000000",
          "2025-01-22T00:00:00.000000000",
          "2025-01-23T00:00:00.000000000",
          "2025-01-24T00:00:00.000000000"
         ],
         "y": {
          "bdata": "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",
          "dtype": "f8"
         }
        },
        {
         "line": {
          "color": "red",
          "width": 2
         },
         "marker": {
          "color": "red",
          "size": 8
         },
         "mode": "lines+markers",
         "name": "Price convergence",
         "showlegend": true,
         "type": "scatter",
         "x": [
          "2020-10-13T00:00:00",
          "2020-11-09T00:00:00"
         ],
         "y": [
          122.26763193691325,
          119.15750989185466
         ]
        },
        {
         "line": {
          "color": "blue",
          "dash": "dash",
          "width": 2
         },
         "marker": {
          "color": "blue",
          "size": 8
         },
         "mode": "lines+markers",
         "name": "rsi_14 convergence",
         "showlegend": true,
         "type": "scatter",
         "x": [
          "2020-10-13T00:00:00",
          "2020-11-10T00:00:00"
         ],
         "y": [
          190.01368049795184,
          183.46444755360716
         ]
        },
        {
         "line": {
          "color": "green",
          "width": 2
         },
         "marker": {
          "color": "green",
          "size": 8
         },
         "mode": "lines+markers",
         "name": "Price convergence",
         "showlegend": false,
         "type": "scatter",
         "x": [
          "2020-11-09T00:00:00",
          "2020-12-29T00:00:00"
         ],
         "y": [
          119.15750989185466,
          135.56742883965345
         ]
        },
        {
         "line": {
          "color": "blue",
          "dash": "dash",
          "width": 2
         },
         "marker": {
          "color": "blue",
          "size": 8
         },
         "mode": "lines+markers",
         "name": "rsi_14 convergence",
         "showlegend": false,
         "type": "scatter",
         "x": [
          "2020-11-10T00:00:00",
          "2020-12-22T00:00:00"
         ],
         "y": [
          183.46444755360716,
          187.06566635349526
         ]
        },
        {
         "line": {
          "color": "green",
          "width": 2
         },
         "marker": {
          "color": "green",
          "size": 8
         },
         "mode": "lines+markers",
         "name": "Price convergence",
         "showlegend": false,
         "type": "scatter",
         "x": [
          "2020-12-29T00:00:00",
          "2021-01-25T00:00:00"
         ],
         "y": [
          135.56742883965345,
          141.72114486140973
         ]
        },
        {
         "line": {
          "color": "blue",
          "dash": "dash",
          "width": 2
         },
         "marker": {
          "color": "blue",
          "size": 8
         },
         "mode": "lines+markers",
         "name": "rsi_14 convergence",
         "showlegend": false,
         "type": "scatter",
         "x": [
          "2020-12-22T00:00:00",
          "2021-01-29T00:00:00"
         ],
         "y": [
          187.06566635349526,
          194.33340563912213
         ]
        },
        {
         "line": {
          "color": "red",
          "width": 2
         },
         "marker": {
          "color": "red",
          "size": 8
         },
         "mode": "lines+markers",
         "name": "Price neutral",
         "showlegend": false,
         "type": "scatter",
         "x": [
          "2021-01-25T00:00:00",
          "2021-02-09T00:00:00"
         ],
         "y": [
          141.72114486140973,
          134.8798267734332
         ]
        },
        {
         "line": {
          "color": "blue",
          "dash": "dash",
          "width": 2
         },
         "marker": {
          "color": "blue",
          "size": 8
         },
         "mode": "lines+markers",
         "name": "rsi_14 neutral",
         "showlegend": false,
         "type": "scatter",
         "x": [
          "2021-01-29T00:00:00",
          "2021-01-29T00:00:00"
         ],
         "y": [
          194.33340563912213,
          194.33340563912213
         ]
        },
        {
         "line": {
          "color": "red",
          "width": 2
         },
         "marker": {
          "color": "red",
          "size": 8
         },
         "mode": "lines+markers",
         "name": "Price convergence",
         "showlegend": false,
         "type": "scatter",
         "x": [
          "2021-02-09T00:00:00",
          "2021-03-16T00:00:00"
         ],
         "y": [
          134.8798267734332,
          124.45178328205833
         ]
        },
        {
         "line": {
          "color": "blue",
          "dash": "dash",
          "width": 2
         },
         "marker": {
          "color": "blue",
          "size": 8
         },
         "mode": "lines+markers",
         "name": "rsi_14 convergence",
         "showlegend": false,
         "type": "scatter",
         "x": [
          "2021-01-29T00:00:00",
          "2021-03-19T00:00:00"
         ],
         "y": [
          194.33340563912213,
          192.80379978383388
         ]
        },
        {
         "line": {
          "color": "green",
          "width": 2
         },
         "marker": {
          "color": "green",
          "size": 8
         },
         "mode": "lines+markers",
         "name": "Price convergence",
         "showlegend": false,
         "type": "scatter",
         "x": [
          "2021-03-16T00:00:00",
          "2021-04-29T00:00:00"
         ],
         "y": [
          124.45178328205833,
          134.08745690189525
         ]
        },
        {
         "line": {
          "color": "blue",
          "dash": "dash",
          "width": 2
         },
         "marker": {
          "color": "blue",
          "size": 8
         },
         "mode": "lines+markers",
         "name": "rsi_14 convergence",
         "showlegend": false,
         "type": "scatter",
         "x": [
          "2021-03-19T00:00:00",
          "2021-04-29T00:00:00"
         ],
         "y": [
          192.80379978383388,
          192.99616352976207
         ]
        },
        {
         "line": {
          "color": "red",
          "width": 2
         },
         "marker": {
          "color": "red",
          "size": 8
         },
         "mode": "lines+markers",
         "name": "Price convergence",
         "showlegend": false,
         "type": "scatter",
         "x": [
          "2021-04-29T00:00:00",
          "2021-05-25T00:00:00"
         ],
         "y": [
          134.08745690189525,
          125.74106096052154
         ]
        },
        {
         "line": {
          "color": "blue",
          "dash": "dash",
          "width": 2
         },
         "marker": {
          "color": "blue",
          "size": 8
         },
         "mode": "lines+markers",
         "name": "rsi_14 convergence",
         "showlegend": false,
         "type": "scatter",
         "x": [
          "2021-04-29T00:00:00",
          "2021-05-27T00:00:00"
         ],
         "y": [
          192.99616352976207,
          178.2818439921518
         ]
        },
        {
         "line": {
          "color": "green",
          "width": 2
         },
         "marker": {
          "color": "green",
          "size": 8
         },
         "mode": "lines+markers",
         "name": "Price convergence",
         "showlegend": false,
         "type": "scatter",
         "x": [
          "2021-05-25T00:00:00",
          "2021-07-15T00:00:00"
         ],
         "y": [
          125.74106096052154,
          146.98535113045864
         ]
        },
        {
         "line": {
          "color": "blue",
          "dash": "dash",
          "width": 2
         },
         "marker": {
          "color": "blue",
          "size": 8
         },
         "mode": "lines+markers",
         "name": "rsi_14 convergence",
         "showlegend": false,
         "type": "scatter",
         "x": [
          "2021-05-27T00:00:00",
          "2021-07-14T00:00:00"
         ],
         "y": [
          178.2818439921518,
          204.54722972879046
         ]
        },
        {
         "line": {
          "color": "green",
          "width": 2
         },
         "marker": {
          "color": "green",
          "size": 8
         },
         "mode": "lines+markers",
         "name": "Price bearish_divergence",
         "showlegend": false,
         "type": "scatter",
         "x": [
          "2021-07-15T00:00:00",
          "2021-08-17T00:00:00"
         ],
         "y": [
          146.98535113045864,
          148.85424577061949
         ]
        },
        {
         "line": {
          "color": "blue",
          "dash": "dash",
          "width": 2
         },
         "marker": {
          "color": "blue",
          "size": 8
         },
         "mode": "lines+markers",
         "name": "rsi_14 bearish_divergence",
         "showlegend": false,
         "type": "scatter",
         "x": [
          "2021-07-14T00:00:00",
          "2021-08-18T00:00:00"
         ],
         "y": [
          204.54722972879046,
          185.47325995838116
         ]
        },
        {
         "line": {
          "color": "green",
          "width": 2
         },
         "marker": {
          "color": "green",
          "size": 8
         },
         "mode": "lines+markers",
         "name": "Price convergence",
         "showlegend": false,
         "type": "scatter",
         "x": [
          "2021-08-17T00:00:00",
          "2021-09-07T00:00:00"
         ],
         "y": [
          148.85424577061949,
          154.33029310259397
         ]
        },
        {
         "line": {
          "color": "blue",
          "dash": "dash",
          "width": 2
         },
         "marker": {
          "color": "blue",
          "size": 8
         },
         "mode": "lines+markers",
         "name": "rsi_14 convergence",
         "showlegend": false,
         "type": "scatter",
         "x": [
          "2021-08-18T00:00:00",
          "2021-09-10T00:00:00"
         ],
         "y": [
          185.47325995838116,
          200.2342680490912
         ]
        },
        {
         "line": {
          "color": "red",
          "width": 2
         },
         "marker": {
          "color": "red",
          "size": 8
         },
         "mode": "lines+markers",
         "name": "Price bullish_divergence",
         "showlegend": false,
         "type": "scatter",
         "x": [
          "2021-09-07T00:00:00",
          "2021-10-28T00:00:00"
         ],
         "y": [
          154.33029310259397,
          150.31648959684864
         ]
        },
        {
         "line": {
          "color": "blue",
          "dash": "dash",
          "width": 2
         },
         "marker": {
          "color": "blue",
          "size": 8
         },
         "mode": "lines+markers",
         "name": "rsi_14 bullish_divergence",
         "showlegend": false,
         "type": "scatter",
         "x": [
          "2021-09-10T00:00:00",
          "2021-10-29T00:00:00"
         ],
         "y": [
          200.2342680490912,
          202.55674347469005
         ]
        },
        {
         "line": {
          "color": "green",
          "width": 2
         },
         "marker": {
          "color": "green",
          "size": 8
         },
         "mode": "lines+markers",
         "name": "Price bearish_divergence",
         "showlegend": false,
         "type": "scatter",
         "x": [
          "2021-10-28T00:00:00",
          "2021-12-13T00:00:00"
         ],
         "y": [
          150.31648959684864,
          178.99789868748653
         ]
        },
        {
         "line": {
          "color": "blue",
          "dash": "dash",
          "width": 2
         },
         "marker": {
          "color": "blue",
          "size": 8
         },
         "mode": "lines+markers",
         "name": "rsi_14 bearish_divergence",
         "showlegend": false,
         "type": "scatter",
         "x": [
          "2021-10-29T00:00:00",
          "2021-12-17T00:00:00"
         ],
         "y": [
          202.55674347469005,
          201.4177803888292
         ]
        },
        {
         "line": {
          "color": "green",
          "width": 2
         },
         "marker": {
          "color": "green",
          "size": 8
         },
         "mode": "lines+markers",
         "name": "Price neutral",
         "showlegend": false,
         "type": "scatter",
         "x": [
          "2021-12-13T00:00:00",
          "2022-01-04T00:00:00"
         ],
         "y": [
          178.99789868748653,
          179.79388933782005
         ]
        },
        {
         "line": {
          "color": "blue",
          "dash": "dash",
          "width": 2
         },
         "marker": {
          "color": "blue",
          "size": 8
         },
         "mode": "lines+markers",
         "name": "rsi_14 neutral",
         "showlegend": false,
         "type": "scatter",
         "x": [
          "2021-12-17T00:00:00",
          "2021-12-17T00:00:00"
         ],
         "y": [
          201.4177803888292,
          201.4177803888292
         ]
        },
        {
         "line": {
          "color": "red",
          "width": 2
         },
         "marker": {
          "color": "red",
          "size": 8
         },
         "mode": "lines+markers",
         "name": "Price convergence",
         "showlegend": false,
         "type": "scatter",
         "x": [
          "2022-01-04T00:00:00",
          "2022-02-09T00:00:00"
         ],
         "y": [
          179.79388933782005,
          173.83327271357754
         ]
        },
        {
         "line": {
          "color": "blue",
          "dash": "dash",
          "width": 2
         },
         "marker": {
          "color": "blue",
          "size": 8
         },
         "mode": "lines+markers",
         "name": "rsi_14 convergence",
         "showlegend": false,
         "type": "scatter",
         "x": [
          "2021-12-17T00:00:00",
          "2022-01-28T00:00:00"
         ],
         "y": [
          201.4177803888292,
          200.21861610869973
         ]
        },
        {
         "line": {
          "color": "red",
          "width": 2
         },
         "marker": {
          "color": "red",
          "size": 8
         },
         "mode": "lines+markers",
         "name": "Price convergence",
         "showlegend": false,
         "type": "scatter",
         "x": [
          "2022-02-09T00:00:00",
          "2022-03-03T00:00:00"
         ],
         "y": [
          173.83327271357754,
          166.21672762708047
         ]
        },
        {
         "line": {
          "color": "blue",
          "dash": "dash",
          "width": 2
         },
         "marker": {
          "color": "blue",
          "size": 8
         },
         "mode": "lines+markers",
         "name": "rsi_14 convergence",
         "showlegend": false,
         "type": "scatter",
         "x": [
          "2022-01-28T00:00:00",
          "2022-03-08T00:00:00"
         ],
         "y": [
          200.21861610869973,
          199.8832275264302
         ]
        },
        {
         "line": {
          "color": "green",
          "width": 2
         },
         "marker": {
          "color": "green",
          "size": 8
         },
         "mode": "lines+markers",
         "name": "Price bearish_divergence",
         "showlegend": false,
         "type": "scatter",
         "x": [
          "2022-03-03T00:00:00",
          "2022-03-30T00:00:00"
         ],
         "y": [
          166.21672762708047,
          176.74609743731983
         ]
        },
        {
         "line": {
          "color": "blue",
          "dash": "dash",
          "width": 2
         },
         "marker": {
          "color": "blue",
          "size": 8
         },
         "mode": "lines+markers",
         "name": "rsi_14 bearish_divergence",
         "showlegend": false,
         "type": "scatter",
         "x": [
          "2022-03-08T00:00:00",
          "2022-04-06T00:00:00"
         ],
         "y": [
          199.8832275264302,
          178.15254021670978
         ]
        },
        {
         "line": {
          "color": "red",
          "width": 2
         },
         "marker": {
          "color": "red",
          "size": 8
         },
         "mode": "lines+markers",
         "name": "Price bullish_divergence",
         "showlegend": false,
         "type": "scatter",
         "x": [
          "2022-03-30T00:00:00",
          "2022-04-21T00:00:00"
         ],
         "y": [
          176.74609743731983,
          168.79493971335873
         ]
        },
        {
         "line": {
          "color": "blue",
          "dash": "dash",
          "width": 2
         },
         "marker": {
          "color": "blue",
          "size": 8
         },
         "mode": "lines+markers",
         "name": "rsi_14 bullish_divergence",
         "showlegend": false,
         "type": "scatter",
         "x": [
          "2022-04-06T00:00:00",
          "2022-04-29T00:00:00"
         ],
         "y": [
          178.15254021670978,
          211.64051116675296
         ]
        },
        {
         "line": {
          "color": "red",
          "width": 2
         },
         "marker": {
          "color": "red",
          "size": 8
         },
         "mode": "lines+markers",
         "name": "Price neutral",
         "showlegend": false,
         "type": "scatter",
         "x": [
          "2022-04-21T00:00:00",
          "2022-05-04T00:00:00"
         ],
         "y": [
          168.79493971335873,
          163.82544428980776
         ]
        },
        {
         "line": {
          "color": "blue",
          "dash": "dash",
          "width": 2
         },
         "marker": {
          "color": "blue",
          "size": 8
         },
         "mode": "lines+markers",
         "name": "rsi_14 neutral",
         "showlegend": false,
         "type": "scatter",
         "x": [
          "2022-04-29T00:00:00",
          "2022-04-29T00:00:00"
         ],
         "y": [
          211.64051116675296,
          211.64051116675296
         ]
        },
        {
         "line": {
          "color": "red",
          "width": 2
         },
         "marker": {
          "color": "red",
          "size": 8
         },
         "mode": "lines+markers",
         "name": "Price convergence",
         "showlegend": false,
         "type": "scatter",
         "x": [
          "2022-05-04T00:00:00",
          "2022-06-01T00:00:00"
         ],
         "y": [
          163.82544428980776,
          149.53986813880326
         ]
        },
        {
         "line": {
          "color": "blue",
          "dash": "dash",
          "width": 2
         },
         "marker": {
          "color": "blue",
          "size": 8
         },
         "mode": "lines+markers",
         "name": "rsi_14 convergence",
         "showlegend": false,
         "type": "scatter",
         "x": [
          "2022-04-29T00:00:00",
          "2022-06-17T00:00:00"
         ],
         "y": [
          211.64051116675296,
          187.13819599806317
         ]
        },
        {
         "line": {
          "color": "green",
          "width": 2
         },
         "marker": {
          "color": "green",
          "size": 8
         },
         "mode": "lines+markers",
         "name": "Price bearish_divergence",
         "showlegend": false,
         "type": "scatter",
         "x": [
          "2022-06-01T00:00:00",
          "2022-08-17T00:00:00"
         ],
         "y": [
          149.53986813880326,
          173.83706944158646
         ]
        },
        {
         "line": {
          "color": "blue",
          "dash": "dash",
          "width": 2
         },
         "marker": {
          "color": "blue",
          "size": 8
         },
         "mode": "lines+markers",
         "name": "rsi_14 bearish_divergence",
         "showlegend": false,
         "type": "scatter",
         "x": [
          "2022-06-17T00:00:00",
          "2022-08-12T00:00:00"
         ],
         "y": [
          187.13819599806317,
          179.47887264655668
         ]
        },
        {
         "line": {
          "color": "red",
          "width": 2
         },
         "marker": {
          "color": "red",
          "size": 8
         },
         "mode": "lines+markers",
         "name": "Price bullish_divergence",
         "showlegend": false,
         "type": "scatter",
         "x": [
          "2022-08-17T00:00:00",
          "2022-09-12T00:00:00"
         ],
         "y": [
          173.83706944158646,
          162.10319169268726
         ]
        },
        {
         "line": {
          "color": "blue",
          "dash": "dash",
          "width": 2
         },
         "marker": {
          "color": "blue",
          "size": 8
         },
         "mode": "lines+markers",
         "name": "rsi_14 bullish_divergence",
         "showlegend": false,
         "type": "scatter",
         "x": [
          "2022-08-12T00:00:00",
          "2022-09-13T00:00:00"
         ],
         "y": [
          179.47887264655668,
          208.39846985751885
         ]
        },
        {
         "line": {
          "color": "red",
          "width": 2
         },
         "marker": {
          "color": "red",
          "size": 8
         },
         "mode": "lines+markers",
         "name": "Price convergence",
         "showlegend": false,
         "type": "scatter",
         "x": [
          "2022-09-12T00:00:00",
          "2022-10-28T00:00:00"
         ],
         "y": [
          162.10319169268726,
          155.4319533375391
         ]
        },
        {
         "line": {
          "color": "blue",
          "dash": "dash",
          "width": 2
         },
         "marker": {
          "color": "blue",
          "size": 8
         },
         "mode": "lines+markers",
         "name": "rsi_14 convergence",
         "showlegend": false,
         "type": "scatter",
         "x": [
          "2022-09-13T00:00:00",
          "2022-10-28T00:00:00"
         ],
         "y": [
          208.39846985751885,
          201.55977364793114
         ]
        },
        {
         "line": {
          "color": "red",
          "width": 2
         },
         "marker": {
          "color": "red",
          "size": 8
         },
         "mode": "lines+markers",
         "name": "Price convergence",
         "showlegend": false,
         "type": "scatter",
         "x": [
          "2022-10-28T00:00:00",
          "2022-11-15T00:00:00"
         ],
         "y": [
          155.4319533375391,
          151.82473825025608
         ]
        },
        {
         "line": {
          "color": "blue",
          "dash": "dash",
          "width": 2
         },
         "marker": {
          "color": "blue",
          "size": 8
         },
         "mode": "lines+markers",
         "name": "rsi_14 convergence",
         "showlegend": false,
         "type": "scatter",
         "x": [
          "2022-10-28T00:00:00",
          "2022-11-30T00:00:00"
         ],
         "y": [
          201.55977364793114,
          183.46245666440706
         ]
        },
        {
         "line": {
          "color": "green",
          "width": 2
         },
         "marker": {
          "color": "green",
          "size": 8
         },
         "mode": "lines+markers",
         "name": "Price convergence",
         "showlegend": false,
         "type": "scatter",
         "x": [
          "2022-11-15T00:00:00",
          "2023-02-03T00:00:00"
         ],
         "y": [
          151.82473825025608,
          155.57120867700445
         ]
        },
        {
         "line": {
          "color": "blue",
          "dash": "dash",
          "width": 2
         },
         "marker": {
          "color": "blue",
          "size": 8
         },
         "mode": "lines+markers",
         "name": "rsi_14 convergence",
         "showlegend": false,
         "type": "scatter",
         "x": [
          "2022-11-30T00:00:00",
          "2023-02-03T00:00:00"
         ],
         "y": [
          183.46245666440706,
          215.156204442705
         ]
        },
        {
         "line": {
          "color": "red",
          "width": 2
         },
         "marker": {
          "color": "red",
          "size": 8
         },
         "mode": "lines+markers",
         "name": "Price neutral",
         "showlegend": false,
         "type": "scatter",
         "x": [
          "2023-02-03T00:00:00",
          "2023-02-16T00:00:00"
         ],
         "y": [
          155.57120867700445,
          154.76917536637725
         ]
        },
        {
         "line": {
          "color": "blue",
          "dash": "dash",
          "width": 2
         },
         "marker": {
          "color": "blue",
          "size": 8
         },
         "mode": "lines+markers",
         "name": "rsi_14 neutral",
         "showlegend": false,
         "type": "scatter",
         "x": [
          "2023-02-03T00:00:00",
          "2023-02-03T00:00:00"
         ],
         "y": [
          215.156204442705,
          215.156204442705
         ]
        },
        {
         "line": {
          "color": "red",
          "width": 2
         },
         "marker": {
          "color": "red",
          "size": 8
         },
         "mode": "lines+markers",
         "name": "Price convergence",
         "showlegend": false,
         "type": "scatter",
         "x": [
          "2023-02-16T00:00:00",
          "2023-03-06T00:00:00"
         ],
         "y": [
          154.76917536637725,
          154.73951510110595
         ]
        },
        {
         "line": {
          "color": "blue",
          "dash": "dash",
          "width": 2
         },
         "marker": {
          "color": "blue",
          "size": 8
         },
         "mode": "lines+markers",
         "name": "rsi_14 convergence",
         "showlegend": false,
         "type": "scatter",
         "x": [
          "2023-02-03T00:00:00",
          "2023-03-06T00:00:00"
         ],
         "y": [
          215.156204442705,
          195.19233612128863
         ]
        },
        {
         "line": {
          "color": "green",
          "width": 2
         },
         "marker": {
          "color": "green",
          "size": 8
         },
         "mode": "lines+markers",
         "name": "Price convergence",
         "showlegend": false,
         "type": "scatter",
         "x": [
          "2023-03-06T00:00:00",
          "2023-04-04T00:00:00"
         ],
         "y": [
          154.73951510110595,
          165.17425973324032
         ]
        },
        {
         "line": {
          "color": "blue",
          "dash": "dash",
          "width": 2
         },
         "marker": {
          "color": "blue",
          "size": 8
         },
         "mode": "lines+markers",
         "name": "rsi_14 convergence",
         "showlegend": false,
         "type": "scatter",
         "x": [
          "2023-03-06T00:00:00",
          "2023-03-17T00:00:00"
         ],
         "y": [
          195.19233612128863,
          199.7884084806728
         ]
        },
        {
         "line": {
          "color": "green",
          "width": 2
         },
         "marker": {
          "color": "green",
          "size": 8
         },
         "mode": "lines+markers",
         "name": "Price convergence",
         "showlegend": false,
         "type": "scatter",
         "x": [
          "2023-04-04T00:00:00",
          "2023-06-05T00:00:00"
         ],
         "y": [
          165.17425973324032,
          183.35670847100744
         ]
        },
        {
         "line": {
          "color": "blue",
          "dash": "dash",
          "width": 2
         },
         "marker": {
          "color": "blue",
          "size": 8
         },
         "mode": "lines+markers",
         "name": "rsi_14 convergence",
         "showlegend": false,
         "type": "scatter",
         "x": [
          "2023-03-17T00:00:00",
          "2023-06-05T00:00:00"
         ],
         "y": [
          199.7884084806728,
          204.86301670203125
         ]
        },
        {
         "line": {
          "color": "green",
          "width": 2
         },
         "marker": {
          "color": "green",
          "size": 8
         },
         "mode": "lines+markers",
         "name": "Price bearish_divergence",
         "showlegend": false,
         "type": "scatter",
         "x": [
          "2023-06-05T00:00:00",
          "2023-06-30T00:00:00"
         ],
         "y": [
          183.35670847100744,
          192.80462759541973
         ]
        },
        {
         "line": {
          "color": "blue",
          "dash": "dash",
          "width": 2
         },
         "marker": {
          "color": "blue",
          "size": 8
         },
         "mode": "lines+markers",
         "name": "rsi_14 bearish_divergence",
         "showlegend": false,
         "type": "scatter",
         "x": [
          "2023-06-05T00:00:00",
          "2023-06-30T00:00:00"
         ],
         "y": [
          204.86301670203125,
          191.5205718296279
         ]
        },
        {
         "line": {
          "color": "green",
          "width": 2
         },
         "marker": {
          "color": "green",
          "size": 8
         },
         "mode": "lines+markers",
         "name": "Price bearish_divergence",
         "showlegend": false,
         "type": "scatter",
         "x": [
          "2023-06-30T00:00:00",
          "2023-07-19T00:00:00"
         ],
         "y": [
          192.80462759541973,
          196.52230675519328
         ]
        },
        {
         "line": {
          "color": "blue",
          "dash": "dash",
          "width": 2
         },
         "marker": {
          "color": "blue",
          "size": 8
         },
         "mode": "lines+markers",
         "name": "rsi_14 bearish_divergence",
         "showlegend": false,
         "type": "scatter",
         "x": [
          "2023-06-30T00:00:00",
          "2023-07-19T00:00:00"
         ],
         "y": [
          191.5205718296279,
          183.8011182089083
         ]
        },
        {
         "line": {
          "color": "red",
          "width": 2
         },
         "marker": {
          "color": "red",
          "size": 8
         },
         "mode": "lines+markers",
         "name": "Price bullish_divergence",
         "showlegend": false,
         "type": "scatter",
         "x": [
          "2023-07-19T00:00:00",
          "2023-09-05T00:00:00"
         ],
         "y": [
          196.52230675519328,
          188.59772472633045
         ]
        },
        {
         "line": {
          "color": "blue",
          "dash": "dash",
          "width": 2
         },
         "marker": {
          "color": "blue",
          "size": 8
         },
         "mode": "lines+markers",
         "name": "rsi_14 bullish_divergence",
         "showlegend": false,
         "type": "scatter",
         "x": [
          "2023-07-19T00:00:00",
          "2023-09-07T00:00:00"
         ],
         "y": [
          183.8011182089083,
          198.69551316700907
         ]
        },
        {
         "line": {
          "color": "red",
          "width": 2
         },
         "marker": {
          "color": "red",
          "size": 8
         },
         "mode": "lines+markers",
         "name": "Price convergence",
         "showlegend": false,
         "type": "scatter",
         "x": [
          "2023-09-05T00:00:00",
          "2023-10-12T00:00:00"
         ],
         "y": [
          188.59772472633045,
          181.01330204161414
         ]
        },
        {
         "line": {
          "color": "blue",
          "dash": "dash",
          "width": 2
         },
         "marker": {
          "color": "blue",
          "size": 8
         },
         "mode": "lines+markers",
         "name": "rsi_14 convergence",
         "showlegend": false,
         "type": "scatter",
         "x": [
          "2023-09-07T00:00:00",
          "2023-10-20T00:00:00"
         ],
         "y": [
          198.69551316700907,
          186.56682411923288
         ]
        },
        {
         "line": {
          "color": "green",
          "width": 2
         },
         "marker": {
          "color": "green",
          "size": 8
         },
         "mode": "lines+markers",
         "name": "Price convergence",
         "showlegend": false,
         "type": "scatter",
         "x": [
          "2023-10-12T00:00:00",
          "2023-11-22T00:00:00"
         ],
         "y": [
          181.01330204161414,
          191.77857025832532
         ]
        },
        {
         "line": {
          "color": "blue",
          "dash": "dash",
          "width": 2
         },
         "marker": {
          "color": "blue",
          "size": 8
         },
         "mode": "lines+markers",
         "name": "rsi_14 convergence",
         "showlegend": false,
         "type": "scatter",
         "x": [
          "2023-10-20T00:00:00",
          "2023-11-03T00:00:00"
         ],
         "y": [
          186.56682411923288,
          190.74768192081285
         ]
        },
        {
         "line": {
          "color": "green",
          "width": 2
         },
         "marker": {
          "color": "green",
          "size": 8
         },
         "mode": "lines+markers",
         "name": "Price convergence",
         "showlegend": false,
         "type": "scatter",
         "x": [
          "2023-11-22T00:00:00",
          "2023-12-14T00:00:00"
         ],
         "y": [
          191.77857025832532,
          198.42867152282497
         ]
        },
        {
         "line": {
          "color": "blue",
          "dash": "dash",
          "width": 2
         },
         "marker": {
          "color": "blue",
          "size": 8
         },
         "mode": "lines+markers",
         "name": "rsi_14 convergence",
         "showlegend": false,
         "type": "scatter",
         "x": [
          "2023-11-03T00:00:00",
          "2023-12-15T00:00:00"
         ],
         "y": [
          190.74768192081285,
          213.49258668706523
         ]
        },
        {
         "line": {
          "color": "red",
          "width": 2
         },
         "marker": {
          "color": "red",
          "size": 8
         },
         "mode": "lines+markers",
         "name": "Price convergence",
         "showlegend": false,
         "type": "scatter",
         "x": [
          "2023-12-14T00:00:00",
          "2024-01-24T00:00:00"
         ],
         "y": [
          198.42867152282497,
          195.20800309667513
         ]
        },
        {
         "line": {
          "color": "blue",
          "dash": "dash",
          "width": 2
         },
         "marker": {
          "color": "blue",
          "size": 8
         },
         "mode": "lines+markers",
         "name": "rsi_14 convergence",
         "showlegend": false,
         "type": "scatter",
         "x": [
          "2023-12-15T00:00:00",
          "2024-01-19T00:00:00"
         ],
         "y": [
          213.49258668706523,
          186.192211206433
         ]
        },
        {
         "line": {
          "color": "red",
          "width": 2
         },
         "marker": {
          "color": "red",
          "size": 8
         },
         "mode": "lines+markers",
         "name": "Price bullish_divergence",
         "showlegend": false,
         "type": "scatter",
         "x": [
          "2024-01-24T00:00:00",
          "2024-03-20T00:00:00"
         ],
         "y": [
          195.20800309667513,
          177.83030700683594
         ]
        },
        {
         "line": {
          "color": "blue",
          "dash": "dash",
          "width": 2
         },
         "marker": {
          "color": "blue",
          "size": 8
         },
         "mode": "lines+markers",
         "name": "rsi_14 bullish_divergence",
         "showlegend": false,
         "type": "scatter",
         "x": [
          "2024-01-19T00:00:00",
          "2024-03-15T00:00:00"
         ],
         "y": [
          186.192211206433,
          193.71994205000215
         ]
        },
        {
         "line": {
          "color": "red",
          "width": 2
         },
         "marker": {
          "color": "red",
          "size": 8
         },
         "mode": "lines+markers",
         "name": "Price convergence",
         "showlegend": false,
         "type": "scatter",
         "x": [
          "2024-03-20T00:00:00",
          "2024-04-12T00:00:00"
         ],
         "y": [
          177.83030700683594,
          177.52176704196785
         ]
        },
        {
         "line": {
          "color": "blue",
          "dash": "dash",
          "width": 2
         },
         "marker": {
          "color": "blue",
          "size": 8
         },
         "mode": "lines+markers",
         "name": "rsi_14 convergence",
         "showlegend": false,
         "type": "scatter",
         "x": [
          "2024-03-15T00:00:00",
          "2024-04-12T00:00:00"
         ],
         "y": [
          193.71994205000215,
          190.89979930563464
         ]
        },
        {
         "line": {
          "color": "green",
          "width": 2
         },
         "marker": {
          "color": "green",
          "size": 8
         },
         "mode": "lines+markers",
         "name": "Price convergence",
         "showlegend": false,
         "type": "scatter",
         "x": [
          "2024-04-12T00:00:00",
          "2024-06-12T00:00:00"
         ],
         "y": [
          177.52176704196785,
          219.46239922329934
         ]
        },
        {
         "line": {
          "color": "blue",
          "dash": "dash",
          "width": 2
         },
         "marker": {
          "color": "blue",
          "size": 8
         },
         "mode": "lines+markers",
         "name": "rsi_14 convergence",
         "showlegend": false,
         "type": "scatter",
         "x": [
          "2024-04-12T00:00:00",
          "2024-06-12T00:00:00"
         ],
         "y": [
          190.89979930563464,
          220.80167363098636
         ]
        },
        {
         "line": {
          "color": "green",
          "width": 2
         },
         "marker": {
          "color": "green",
          "size": 8
         },
         "mode": "lines+markers",
         "name": "Price bearish_divergence",
         "showlegend": false,
         "type": "scatter",
         "x": [
          "2024-06-12T00:00:00",
          "2024-07-15T00:00:00"
         ],
         "y": [
          219.46239922329934,
          236.43535998230433
         ]
        },
        {
         "line": {
          "color": "blue",
          "dash": "dash",
          "width": 2
         },
         "marker": {
          "color": "blue",
          "size": 8
         },
         "mode": "lines+markers",
         "name": "rsi_14 bearish_divergence",
         "showlegend": false,
         "type": "scatter",
         "x": [
          "2024-06-12T00:00:00",
          "2024-08-05T00:00:00"
         ],
         "y": [
          220.80167363098636,
          207.838229994959
         ]
        },
        {
         "line": {
          "color": "red",
          "width": 2
         },
         "marker": {
          "color": "red",
          "size": 8
         },
         "mode": "lines+markers",
         "name": "Price neutral",
         "showlegend": false,
         "type": "scatter",
         "x": [
          "2024-07-15T00:00:00",
          "2024-08-02T00:00:00"
         ],
         "y": [
          236.43535998230433,
          224.84431334230803
         ]
        },
        {
         "line": {
          "color": "blue",
          "dash": "dash",
          "width": 2
         },
         "marker": {
          "color": "blue",
          "size": 8
         },
         "mode": "lines+markers",
         "name": "rsi_14 neutral",
         "showlegend": false,
         "type": "scatter",
         "x": [
          "2024-08-05T00:00:00",
          "2024-08-05T00:00:00"
         ],
         "y": [
          207.838229994959,
          207.838229994959
         ]
        },
        {
         "line": {
          "color": "green",
          "width": 2
         },
         "marker": {
          "color": "green",
          "size": 8
         },
         "mode": "lines+markers",
         "name": "Price bearish_divergence",
         "showlegend": false,
         "type": "scatter",
         "x": [
          "2024-08-02T00:00:00",
          "2024-08-29T00:00:00"
         ],
         "y": [
          224.84431334230803,
          232.4085012026452
         ]
        },
        {
         "line": {
          "color": "blue",
          "dash": "dash",
          "width": 2
         },
         "marker": {
          "color": "blue",
          "size": 8
         },
         "mode": "lines+markers",
         "name": "rsi_14 bearish_divergence",
         "showlegend": false,
         "type": "scatter",
         "x": [
          "2024-08-05T00:00:00",
          "2024-09-09T00:00:00"
         ],
         "y": [
          207.838229994959,
          193.3549744565313
         ]
        },
        {
         "line": {
          "color": "green",
          "width": 2
         },
         "marker": {
          "color": "green",
          "size": 8
         },
         "mode": "lines+markers",
         "name": "Price convergence",
         "showlegend": false,
         "type": "scatter",
         "x": [
          "2024-08-29T00:00:00",
          "2024-09-20T00:00:00"
         ],
         "y": [
          232.4085012026452,
          232.57811312113958
         ]
        },
        {
         "line": {
          "color": "blue",
          "dash": "dash",
          "width": 2
         },
         "marker": {
          "color": "blue",
          "size": 8
         },
         "mode": "lines+markers",
         "name": "rsi_14 convergence",
         "showlegend": false,
         "type": "scatter",
         "x": [
          "2024-09-09T00:00:00",
          "2024-09-20T00:00:00"
         ],
         "y": [
          193.3549744565313,
          229.34069376329802
         ]
        },
        {
         "line": {
          "color": "green",
          "width": 2
         },
         "marker": {
          "color": "green",
          "size": 8
         },
         "mode": "lines+markers",
         "name": "Price bearish_divergence",
         "showlegend": false,
         "type": "scatter",
         "x": [
          "2024-09-20T00:00:00",
          "2024-10-15T00:00:00"
         ],
         "y": [
          232.57811312113958,
          236.9684620133565
         ]
        },
        {
         "line": {
          "color": "blue",
          "dash": "dash",
          "width": 2
         },
         "marker": {
          "color": "blue",
          "size": 8
         },
         "mode": "lines+markers",
         "name": "rsi_14 bearish_divergence",
         "showlegend": false,
         "type": "scatter",
         "x": [
          "2024-09-20T00:00:00",
          "2024-10-15T00:00:00"
         ],
         "y": [
          229.34069376329802,
          187.49233444917013
         ]
        },
        {
         "line": {
          "color": "green",
          "width": 2
         },
         "marker": {
          "color": "green",
          "size": 8
         },
         "mode": "lines+markers",
         "name": "Price convergence",
         "showlegend": false,
         "type": "scatter",
         "x": [
          "2024-10-15T00:00:00",
          "2024-12-26T00:00:00"
         ],
         "y": [
          236.9684620133565,
          259.81433504408284
         ]
        },
        {
         "line": {
          "color": "blue",
          "dash": "dash",
          "width": 2
         },
         "marker": {
          "color": "blue",
          "size": 8
         },
         "mode": "lines+markers",
         "name": "rsi_14 convergence",
         "showlegend": false,
         "type": "scatter",
         "x": [
          "2024-10-15T00:00:00",
          "2024-12-20T00:00:00"
         ],
         "y": [
          187.49233444917013,
          219.84105727130884
         ]
        }
       ],
       "layout": {
        "annotations": [
         {
          "arrowcolor": "red",
          "arrowhead": 1,
          "arrowsize": 1,
          "arrowwidth": 2,
          "bgcolor": "rgba(255,255,255,0.8)",
          "font": {
           "color": "red"
          },
          "showarrow": true,
          "text": "Bearish Divergence",
          "x": "2021-07-30T00:00:00",
          "y": 147.91979845053908
         },
         {
          "arrowcolor": "green",
          "arrowhead": 1,
          "arrowsize": 1,
          "arrowwidth": 2,
          "bgcolor": "rgba(255,255,255,0.8)",
          "font": {
           "color": "green"
          },
          "showarrow": true,
          "text": "Bullish Divergence",
          "x": "2021-10-01T00:00:00",
          "y": 152.3233913497213
         },
         {
          "arrowcolor": "red",
          "arrowhead": 1,
          "arrowsize": 1,
          "arrowwidth": 2,
          "bgcolor": "rgba(255,255,255,0.8)",
          "font": {
           "color": "red"
          },
          "showarrow": true,
          "text": "Bearish Divergence",
          "x": "2021-11-18T00:00:00",
          "y": 164.65719414216758
         },
         {
          "arrowcolor": "red",
          "arrowhead": 1,
          "arrowsize": 1,
          "arrowwidth": 2,
          "bgcolor": "rgba(255,255,255,0.8)",
          "font": {
           "color": "red"
          },
          "showarrow": true,
          "text": "Bearish Divergence",
          "x": "2022-03-16T00:00:00",
          "y": 171.48141253220015
         },
         {
          "arrowcolor": "green",
          "arrowhead": 1,
          "arrowsize": 1,
          "arrowwidth": 2,
          "bgcolor": "rgba(255,255,255,0.8)",
          "font": {
           "color": "green"
          },
          "showarrow": true,
          "text": "Bullish Divergence",
          "x": "2022-04-08T00:00:00",
          "y": 172.77051857533928
         },
         {
          "arrowcolor": "red",
          "arrowhead": 1,
          "arrowsize": 1,
          "arrowwidth": 2,
          "bgcolor": "rgba(255,255,255,0.8)",
          "font": {
           "color": "red"
          },
          "showarrow": true,
          "text": "Bearish Divergence",
          "x": "2022-07-11T00:00:00",
          "y": 161.68846879019486
         },
         {
          "arrowcolor": "green",
          "arrowhead": 1,
          "arrowsize": 1,
          "arrowwidth": 2,
          "bgcolor": "rgba(255,255,255,0.8)",
          "font": {
           "color": "green"
          },
          "showarrow": true,
          "text": "Bullish Divergence",
          "x": "2022-08-29T00:00:00",
          "y": 167.97013056713686
         },
         {
          "arrowcolor": "red",
          "arrowhead": 1,
          "arrowsize": 1,
          "arrowwidth": 2,
          "bgcolor": "rgba(255,255,255,0.8)",
          "font": {
           "color": "red"
          },
          "showarrow": true,
          "text": "Bearish Divergence",
          "x": "2023-06-16T00:00:00",
          "y": 188.08066803321358
         },
         {
          "arrowcolor": "red",
          "arrowhead": 1,
          "arrowsize": 1,
          "arrowwidth": 2,
          "bgcolor": "rgba(255,255,255,0.8)",
          "font": {
           "color": "red"
          },
          "showarrow": true,
          "text": "Bearish Divergence",
          "x": "2023-07-11T00:00:00",
          "y": 194.6634671753065
         },
         {
          "arrowcolor": "green",
          "arrowhead": 1,
          "arrowsize": 1,
          "arrowwidth": 2,
          "bgcolor": "rgba(255,255,255,0.8)",
          "font": {
           "color": "green"
          },
          "showarrow": true,
          "text": "Bullish Divergence",
          "x": "2023-08-10T00:00:00",
          "y": 192.56001574076186
         },
         {
          "arrowcolor": "green",
          "arrowhead": 1,
          "arrowsize": 1,
          "arrowwidth": 2,
          "bgcolor": "rgba(255,255,255,0.8)",
          "font": {
           "color": "green"
          },
          "showarrow": true,
          "text": "Bullish Divergence",
          "x": "2024-02-21T00:00:00",
          "y": 186.51915505175555
         },
         {
          "arrowcolor": "red",
          "arrowhead": 1,
          "arrowsize": 1,
          "arrowwidth": 2,
          "bgcolor": "rgba(255,255,255,0.8)",
          "font": {
           "color": "red"
          },
          "showarrow": true,
          "text": "Bearish Divergence",
          "x": "2024-06-27T00:00:00",
          "y": 227.94887960280184
         },
         {
          "arrowcolor": "red",
          "arrowhead": 1,
          "arrowsize": 1,
          "arrowwidth": 2,
          "bgcolor": "rgba(255,255,255,0.8)",
          "font": {
           "color": "red"
          },
          "showarrow": true,
          "text": "Bearish Divergence",
          "x": "2024-08-15T00:00:00",
          "y": 228.62640727247663
         },
         {
          "arrowcolor": "red",
          "arrowhead": 1,
          "arrowsize": 1,
          "arrowwidth": 2,
          "bgcolor": "rgba(255,255,255,0.8)",
          "font": {
           "color": "red"
          },
          "showarrow": true,
          "text": "Bearish Divergence",
          "x": "2024-10-02T00:00:00",
          "y": 234.77328756724802
         },
         {
          "bgcolor": "rgba(255,255,255,0.8)",
          "font": {
           "size": 10
          },
          "showarrow": false,
          "text": "Note: rsi_14 is scaled to match price range for visualization",
          "x": 0.01,
          "xref": "paper",
          "y": 0.99,
          "yref": "paper"
         }
        ],
        "height": 800,
        "hovermode": "x unified",
        "legend": {
         "orientation": "h",
         "x": 1,
         "xanchor": "right",
         "y": 1.02
        },
        "template": {
         "data": {
          "bar": [
           {
            "error_x": {
             "color": "#2a3f5f"
            },
            "error_y": {
             "color": "#2a3f5f"
            },
            "marker": {
             "line": {
              "color": "#E5ECF6",
              "width": 0.5
             },
             "pattern": {
              "fillmode": "overlay",
              "size": 10,
              "solidity": 0.2
             }
            },
            "type": "bar"
           }
          ],
          "barpolar": [
           {
            "marker": {
             "line": {
              "color": "#E5ECF6",
              "width": 0.5
             },
             "pattern": {
              "fillmode": "overlay",
              "size": 10,
              "solidity": 0.2
             }
            },
            "type": "barpolar"
           }
          ],
          "carpet": [
           {
            "aaxis": {
             "endlinecolor": "#2a3f5f",
             "gridcolor": "white",
             "linecolor": "white",
             "minorgridcolor": "white",
             "startlinecolor": "#2a3f5f"
            },
            "baxis": {
             "endlinecolor": "#2a3f5f",
             "gridcolor": "white",
             "linecolor": "white",
             "minorgridcolor": "white",
             "startlinecolor": "#2a3f5f"
            },
            "type": "carpet"
           }
          ],
          "choropleth": [
           {
            "colorbar": {
             "outlinewidth": 0,
             "ticks": ""
            },
            "type": "choropleth"
           }
          ],
          "contour": [
           {
            "colorbar": {
             "outlinewidth": 0,
             "ticks": ""
            },
            "colorscale": [
             [
              0,
              "#0d0887"
             ],
             [
              0.1111111111111111,
              "#46039f"
             ],
             [
              0.2222222222222222,
              "#7201a8"
             ],
             [
              0.3333333333333333,
              "#9c179e"
             ],
             [
              0.4444444444444444,
              "#bd3786"
             ],
             [
              0.5555555555555556,
              "#d8576b"
             ],
             [
              0.6666666666666666,
              "#ed7953"
             ],
             [
              0.7777777777777778,
              "#fb9f3a"
             ],
             [
              0.8888888888888888,
              "#fdca26"
             ],
             [
              1,
              "#f0f921"
             ]
            ],
            "type": "contour"
           }
          ],
          "contourcarpet": [
           {
            "colorbar": {
             "outlinewidth": 0,
             "ticks": ""
            },
            "type": "contourcarpet"
           }
          ],
          "heatmap": [
           {
            "colorbar": {
             "outlinewidth": 0,
             "ticks": ""
            },
            "colorscale": [
             [
              0,
              "#0d0887"
             ],
             [
              0.1111111111111111,
              "#46039f"
             ],
             [
              0.2222222222222222,
              "#7201a8"
             ],
             [
              0.3333333333333333,
              "#9c179e"
             ],
             [
              0.4444444444444444,
              "#bd3786"
             ],
             [
              0.5555555555555556,
              "#d8576b"
             ],
             [
              0.6666666666666666,
              "#ed7953"
             ],
             [
              0.7777777777777778,
              "#fb9f3a"
             ],
             [
              0.8888888888888888,
              "#fdca26"
             ],
             [
              1,
              "#f0f921"
             ]
            ],
            "type": "heatmap"
           }
          ],
          "histogram": [
           {
            "marker": {
             "pattern": {
              "fillmode": "overlay",
              "size": 10,
              "solidity": 0.2
             }
            },
            "type": "histogram"
           }
          ],
          "histogram2d": [
           {
            "colorbar": {
             "outlinewidth": 0,
             "ticks": ""
            },
            "colorscale": [
             [
              0,
              "#0d0887"
             ],
             [
              0.1111111111111111,
              "#46039f"
             ],
             [
              0.2222222222222222,
              "#7201a8"
             ],
             [
              0.3333333333333333,
              "#9c179e"
             ],
             [
              0.4444444444444444,
              "#bd3786"
             ],
             [
              0.5555555555555556,
              "#d8576b"
             ],
             [
              0.6666666666666666,
              "#ed7953"
             ],
             [
              0.7777777777777778,
              "#fb9f3a"
             ],
             [
              0.8888888888888888,
              "#fdca26"
             ],
             [
              1,
              "#f0f921"
             ]
            ],
            "type": "histogram2d"
           }
          ],
          "histogram2dcontour": [
           {
            "colorbar": {
             "outlinewidth": 0,
             "ticks": ""
            },
            "colorscale": [
             [
              0,
              "#0d0887"
             ],
             [
              0.1111111111111111,
              "#46039f"
             ],
             [
              0.2222222222222222,
              "#7201a8"
             ],
             [
              0.3333333333333333,
              "#9c179e"
             ],
             [
              0.4444444444444444,
              "#bd3786"
             ],
             [
              0.5555555555555556,
              "#d8576b"
             ],
             [
              0.6666666666666666,
              "#ed7953"
             ],
             [
              0.7777777777777778,
              "#fb9f3a"
             ],
             [
              0.8888888888888888,
              "#fdca26"
             ],
             [
              1,
              "#f0f921"
             ]
            ],
            "type": "histogram2dcontour"
           }
          ],
          "mesh3d": [
           {
            "colorbar": {
             "outlinewidth": 0,
             "ticks": ""
            },
            "type": "mesh3d"
           }
          ],
          "parcoords": [
           {
            "line": {
             "colorbar": {
              "outlinewidth": 0,
              "ticks": ""
             }
            },
            "type": "parcoords"
           }
          ],
          "pie": [
           {
            "automargin": true,
            "type": "pie"
           }
          ],
          "scatter": [
           {
            "fillpattern": {
             "fillmode": "overlay",
             "size": 10,
             "solidity": 0.2
            },
            "type": "scatter"
           }
          ],
          "scatter3d": [
           {
            "line": {
             "colorbar": {
              "outlinewidth": 0,
              "ticks": ""
             }
            },
            "marker": {
             "colorbar": {
              "outlinewidth": 0,
              "ticks": ""
             }
            },
            "type": "scatter3d"
           }
          ],
          "scattercarpet": [
           {
            "marker": {
             "colorbar": {
              "outlinewidth": 0,
              "ticks": ""
             }
            },
            "type": "scattercarpet"
           }
          ],
          "scattergeo": [
           {
            "marker": {
             "colorbar": {
              "outlinewidth": 0,
              "ticks": ""
             }
            },
            "type": "scattergeo"
           }
          ],
          "scattergl": [
           {
            "marker": {
             "colorbar": {
              "outlinewidth": 0,
              "ticks": ""
             }
            },
            "type": "scattergl"
           }
          ],
          "scattermap": [
           {
            "marker": {
             "colorbar": {
              "outlinewidth": 0,
              "ticks": ""
             }
            },
            "type": "scattermap"
           }
          ],
          "scattermapbox": [
           {
            "marker": {
             "colorbar": {
              "outlinewidth": 0,
              "ticks": ""
             }
            },
            "type": "scattermapbox"
           }
          ],
          "scatterpolar": [
           {
            "marker": {
             "colorbar": {
              "outlinewidth": 0,
              "ticks": ""
             }
            },
            "type": "scatterpolar"
           }
          ],
          "scatterpolargl": [
           {
            "marker": {
             "colorbar": {
              "outlinewidth": 0,
              "ticks": ""
             }
            },
            "type": "scatterpolargl"
           }
          ],
          "scatterternary": [
           {
            "marker": {
             "colorbar": {
              "outlinewidth": 0,
              "ticks": ""
             }
            },
            "type": "scatterternary"
           }
          ],
          "surface": [
           {
            "colorbar": {
             "outlinewidth": 0,
             "ticks": ""
            },
            "colorscale": [
             [
              0,
              "#0d0887"
             ],
             [
              0.1111111111111111,
              "#46039f"
             ],
             [
              0.2222222222222222,
              "#7201a8"
             ],
             [
              0.3333333333333333,
              "#9c179e"
             ],
             [
              0.4444444444444444,
              "#bd3786"
             ],
             [
              0.5555555555555556,
              "#d8576b"
             ],
             [
              0.6666666666666666,
              "#ed7953"
             ],
             [
              0.7777777777777778,
              "#fb9f3a"
             ],
             [
              0.8888888888888888,
              "#fdca26"
             ],
             [
              1,
              "#f0f921"
             ]
            ],
            "type": "surface"
           }
          ],
          "table": [
           {
            "cells": {
             "fill": {
              "color": "#EBF0F8"
             },
             "line": {
              "color": "white"
             }
            },
            "header": {
             "fill": {
              "color": "#C8D4E3"
             },
             "line": {
              "color": "white"
             }
            },
            "type": "table"
           }
          ]
         },
         "layout": {
          "annotationdefaults": {
           "arrowcolor": "#2a3f5f",
           "arrowhead": 0,
           "arrowwidth": 1
          },
          "autotypenumbers": "strict",
          "coloraxis": {
           "colorbar": {
            "outlinewidth": 0,
            "ticks": ""
           }
          },
          "colorscale": {
           "diverging": [
            [
             0,
             "#8e0152"
            ],
            [
             0.1,
             "#c51b7d"
            ],
            [
             0.2,
             "#de77ae"
            ],
            [
             0.3,
             "#f1b6da"
            ],
            [
             0.4,
             "#fde0ef"
            ],
            [
             0.5,
             "#f7f7f7"
            ],
            [
             0.6,
             "#e6f5d0"
            ],
            [
             0.7,
             "#b8e186"
            ],
            [
             0.8,
             "#7fbc41"
            ],
            [
             0.9,
             "#4d9221"
            ],
            [
             1,
             "#276419"
            ]
           ],
           "sequential": [
            [
             0,
             "#0d0887"
            ],
            [
             0.1111111111111111,
             "#46039f"
            ],
            [
             0.2222222222222222,
             "#7201a8"
            ],
            [
             0.3333333333333333,
             "#9c179e"
            ],
            [
             0.4444444444444444,
             "#bd3786"
            ],
            [
             0.5555555555555556,
             "#d8576b"
            ],
            [
             0.6666666666666666,
             "#ed7953"
            ],
            [
             0.7777777777777778,
             "#fb9f3a"
            ],
            [
             0.8888888888888888,
             "#fdca26"
            ],
            [
             1,
             "#f0f921"
            ]
           ],
           "sequentialminus": [
            [
             0,
             "#0d0887"
            ],
            [
             0.1111111111111111,
             "#46039f"
            ],
            [
             0.2222222222222222,
             "#7201a8"
            ],
            [
             0.3333333333333333,
             "#9c179e"
            ],
            [
             0.4444444444444444,
             "#bd3786"
            ],
            [
             0.5555555555555556,
             "#d8576b"
            ],
            [
             0.6666666666666666,
             "#ed7953"
            ],
            [
             0.7777777777777778,
             "#fb9f3a"
            ],
            [
             0.8888888888888888,
             "#fdca26"
            ],
            [
             1,
             "#f0f921"
            ]
           ]
          },
          "colorway": [
           "#636efa",
           "#EF553B",
           "#00cc96",
           "#ab63fa",
           "#FFA15A",
           "#19d3f3",
           "#FF6692",
           "#B6E880",
           "#FF97FF",
           "#FECB52"
          ],
          "font": {
           "color": "#2a3f5f"
          },
          "geo": {
           "bgcolor": "white",
           "lakecolor": "white",
           "landcolor": "#E5ECF6",
           "showlakes": true,
           "showland": true,
           "subunitcolor": "white"
          },
          "hoverlabel": {
           "align": "left"
          },
          "hovermode": "closest",
          "mapbox": {
           "style": "light"
          },
          "paper_bgcolor": "white",
          "plot_bgcolor": "#E5ECF6",
          "polar": {
           "angularaxis": {
            "gridcolor": "white",
            "linecolor": "white",
            "ticks": ""
           },
           "bgcolor": "#E5ECF6",
           "radialaxis": {
            "gridcolor": "white",
            "linecolor": "white",
            "ticks": ""
           }
          },
          "scene": {
           "xaxis": {
            "backgroundcolor": "#E5ECF6",
            "gridcolor": "white",
            "gridwidth": 2,
            "linecolor": "white",
            "showbackground": true,
            "ticks": "",
            "zerolinecolor": "white"
           },
           "yaxis": {
            "backgroundcolor": "#E5ECF6",
            "gridcolor": "white",
            "gridwidth": 2,
            "linecolor": "white",
            "showbackground": true,
            "ticks": "",
            "zerolinecolor": "white"
           },
           "zaxis": {
            "backgroundcolor": "#E5ECF6",
            "gridcolor": "white",
            "gridwidth": 2,
            "linecolor": "white",
            "showbackground": true,
            "ticks": "",
            "zerolinecolor": "white"
           }
          },
          "shapedefaults": {
           "line": {
            "color": "#2a3f5f"
           }
          },
          "ternary": {
           "aaxis": {
            "gridcolor": "white",
            "linecolor": "white",
            "ticks": ""
           },
           "baxis": {
            "gridcolor": "white",
            "linecolor": "white",
            "ticks": ""
           },
           "bgcolor": "#E5ECF6",
           "caxis": {
            "gridcolor": "white",
            "linecolor": "white",
            "ticks": ""
           }
          },
          "title": {
           "x": 0.05
          },
          "xaxis": {
           "automargin": true,
           "gridcolor": "white",
           "linecolor": "white",
           "ticks": "",
           "title": {
            "standoff": 15
           },
           "zerolinecolor": "white",
           "zerolinewidth": 2
          },
          "yaxis": {
           "automargin": true,
           "gridcolor": "white",
           "linecolor": "white",
           "ticks": "",
           "title": {
            "standoff": 15
           },
           "zerolinecolor": "white",
           "zerolinewidth": 2
          }
         }
        },
        "title": {
         "text": "Highs Trendline Analysis: high vs rsi_14"
        },
        "width": 1200,
        "xaxis": {
         "title": {
          "text": "Date"
         }
        },
        "yaxis": {
         "title": {
          "text": "Price"
         }
        },
        "yaxis2": {
         "overlaying": "y",
         "range": [
          10.28592302400537,
          84.33182260224959
         ],
         "showgrid": false,
         "side": "right",
         "title": {
          "text": "rsi_14 Value"
         }
        }
       }
      }
     },
     "metadata": {},
     "output_type": "display_data"
    },
    {
     "data": {
      "application/vnd.plotly.v1+json": {
       "config": {
        "plotlyServerURL": "https://plot.ly"
       },
       "data": [
        {
         "line": {
          "color": "blue",
          "width": 1
         },
         "name": "low",
         "type": "scatter",
         "x": [
          "2020-09-16T00:00:00.000000000",
          "2020-09-17T00:00:00.000000000",
          "2020-09-18T00:00:00.000000000",
          "2020-09-21T00:00:00.000000000",
          "2020-09-22T00:00:00.000000000",
          "2020-09-23T00:00:00.000000000",
          "2020-09-24T00:00:00.000000000",
          "2020-09-25T00:00:00.000000000",
          "2020-09-28T00:00:00.000000000",
          "2020-09-29T00:00:00.000000000",
          "2020-09-30T00:00:00.000000000",
          "2020-10-01T00:00:00.000000000",
          "2020-10-02T00:00:00.000000000",
          "2020-10-05T00:00:00.000000000",
          "2020-10-06T00:00:00.000000000",
          "2020-10-07T00:00:00.000000000",
          "2020-10-08T00:00:00.000000000",
          "2020-10-09T00:00:00.000000000",
          "2020-10-12T00:00:00.000000000",
          "2020-10-13T00:00:00.000000000",
          "2020-10-14T00:00:00.000000000",
          "2020-10-15T00:00:00.000000000",
          "2020-10-16T00:00:00.000000000",
          "2020-10-19T00:00:00.000000000",
          "2020-10-20T00:00:00.000000000",
          "2020-10-21T00:00:00.000000000",
          "2020-10-22T00:00:00.000000000",
          "2020-10-23T00:00:00.000000000",
          "2020-10-26T00:00:00.000000000",
          "2020-10-27T00:00:00.000000000",
          "2020-10-28T00:00:00.000000000",
          "2020-10-29T00:00:00.000000000",
          "2020-10-30T00:00:00.000000000",
          "2020-11-02T00:00:00.000000000",
          "2020-11-03T00:00:00.000000000",
          "2020-11-04T00:00:00.000000000",
          "2020-11-05T00:00:00.000000000",
          "2020-11-06T00:00:00.000000000",
          "2020-11-09T00:00:00.000000000",
          "2020-11-10T00:00:00.000000000",
          "2020-11-11T00:00:00.000000000",
          "2020-11-12T00:00:00.000000000",
          "2020-11-13T00:00:00.000000000",
          "2020-11-16T00:00:00.000000000",
          "2020-11-17T00:00:00.000000000",
          "2020-11-18T00:00:00.000000000",
          "2020-11-19T00:00:00.000000000",
          "2020-11-20T00:00:00.000000000",
          "2020-11-23T00:00:00.000000000",
          "2020-11-24T00:00:00.000000000",
          "2020-11-25T00:00:00.000000000",
          "2020-11-27T00:00:00.000000000",
          "2020-11-30T00:00:00.000000000",
          "2020-12-01T00:00:00.000000000",
          "2020-12-02T00:00:00.000000000",
          "2020-12-03T00:00:00.000000000",
          "2020-12-04T00:00:00.000000000",
          "2020-12-07T00:00:00.000000000",
          "2020-12-08T00:00:00.000000000",
          "2020-12-09T00:00:00.000000000",
          "2020-12-10T00:00:00.000000000",
          "2020-12-11T00:00:00.000000000",
          "2020-12-14T00:00:00.000000000",
          "2020-12-15T00:00:00.000000000",
          "2020-12-16T00:00:00.000000000",
          "2020-12-17T00:00:00.000000000",
          "2020-12-18T00:00:00.000000000",
          "2020-12-21T00:00:00.000000000",
          "2020-12-22T00:00:00.000000000",
          "2020-12-23T00:00:00.000000000",
          "2020-12-24T00:00:00.000000000",
          "2020-12-28T00:00:00.000000000",
          "2020-12-29T00:00:00.000000000",
          "2020-12-30T00:00:00.000000000",
          "2020-12-31T00:00:00.000000000",
          "2021-01-04T00:00:00.000000000",
          "2021-01-05T00:00:00.000000000",
          "2021-01-06T00:00:00.000000000",
          "2021-01-07T00:00:00.000000000",
          "2021-01-08T00:00:00.000000000",
          "2021-01-11T00:00:00.000000000",
          "2021-01-12T00:00:00.000000000",
          "2021-01-13T00:00:00.000000000",
          "2021-01-14T00:00:00.000000000",
          "2021-01-15T00:00:00.000000000",
          "2021-01-19T00:00:00.000000000",
          "2021-01-20T00:00:00.000000000",
          "2021-01-21T00:00:00.000000000",
          "2021-01-22T00:00:00.000000000",
          "2021-01-25T00:00:00.000000000",
          "2021-01-26T00:00:00.000000000",
          "2021-01-27T00:00:00.000000000",
          "2021-01-28T00:00:00.000000000",
          "2021-01-29T00:00:00.000000000",
          "2021-02-01T00:00:00.000000000",
          "2021-02-02T00:00:00.000000000",
          "2021-02-03T00:00:00.000000000",
          "2021-02-04T00:00:00.000000000",
          "2021-02-05T00:00:00.000000000",
          "2021-02-08T00:00:00.000000000",
          "2021-02-09T00:00:00.000000000",
          "2021-02-10T00:00:00.000000000",
          "2021-02-11T00:00:00.000000000",
          "2021-02-12T00:00:00.000000000",
          "2021-02-16T00:00:00.000000000",
          "2021-02-17T00:00:00.000000000",
          "2021-02-18T00:00:00.000000000",
          "2021-02-19T00:00:00.000000000",
          "2021-02-22T00:00:00.000000000",
          "2021-02-23T00:00:00.000000000",
          "2021-02-24T00:00:00.000000000",
          "2021-02-25T00:00:00.000000000",
          "2021-02-26T00:00:00.000000000",
          "2021-03-01T00:00:00.000000000",
          "2021-03-02T00:00:00.000000000",
          "2021-03-03T00:00:00.000000000",
          "2021-03-04T00:00:00.000000000",
          "2021-03-05T00:00:00.000000000",
          "2021-03-08T00:00:00.000000000",
          "2021-03-09T00:00:00.000000000",
          "2021-03-10T00:00:00.000000000",
          "2021-03-11T00:00:00.000000000",
          "2021-03-12T00:00:00.000000000",
          "2021-03-15T00:00:00.000000000",
          "2021-03-16T00:00:00.000000000",
          "2021-03-17T00:00:00.000000000",
          "2021-03-18T00:00:00.000000000",
          "2021-03-19T00:00:00.000000000",
          "2021-03-22T00:00:00.000000000",
          "2021-03-23T00:00:00.000000000",
          "2021-03-24T00:00:00.000000000",
          "2021-03-25T00:00:00.000000000",
          "2021-03-26T00:00:00.000000000",
          "2021-03-29T00:00:00.000000000",
          "2021-03-30T00:00:00.000000000",
          "2021-03-31T00:00:00.000000000",
          "2021-04-01T00:00:00.000000000",
          "2021-04-05T00:00:00.000000000",
          "2021-04-06T00:00:00.000000000",
          "2021-04-07T00:00:00.000000000",
          "2021-04-08T00:00:00.000000000",
          "2021-04-09T00:00:00.000000000",
          "2021-04-12T00:00:00.000000000",
          "2021-04-13T00:00:00.000000000",
          "2021-04-14T00:00:00.000000000",
          "2021-04-15T00:00:00.000000000",
          "2021-04-16T00:00:00.000000000",
          "2021-04-19T00:00:00.000000000",
          "2021-04-20T00:00:00.000000000",
          "2021-04-21T00:00:00.000000000",
          "2021-04-22T00:00:00.000000000",
          "2021-04-23T00:00:00.000000000",
          "2021-04-26T00:00:00.000000000",
          "2021-04-27T00:00:00.000000000",
          "2021-04-28T00:00:00.000000000",
          "2021-04-29T00:00:00.000000000",
          "2021-04-30T00:00:00.000000000",
          "2021-05-03T00:00:00.000000000",
          "2021-05-04T00:00:00.000000000",
          "2021-05-05T00:00:00.000000000",
          "2021-05-06T00:00:00.000000000",
          "2021-05-07T00:00:00.000000000",
          "2021-05-10T00:00:00.000000000",
          "2021-05-11T00:00:00.000000000",
          "2021-05-12T00:00:00.000000000",
          "2021-05-13T00:00:00.000000000",
          "2021-05-14T00:00:00.000000000",
          "2021-05-17T00:00:00.000000000",
          "2021-05-18T00:00:00.000000000",
          "2021-05-19T00:00:00.000000000",
          "2021-05-20T00:00:00.000000000",
          "2021-05-21T00:00:00.000000000",
          "2021-05-24T00:00:00.000000000",
          "2021-05-25T00:00:00.000000000",
          "2021-05-26T00:00:00.000000000",
          "2021-05-27T00:00:00.000000000",
          "2021-05-28T00:00:00.000000000",
          "2021-06-01T00:00:00.000000000",
          "2021-06-02T00:00:00.000000000",
          "2021-06-03T00:00:00.000000000",
          "2021-06-04T00:00:00.000000000",
          "2021-06-07T00:00:00.000000000",
          "2021-06-08T00:00:00.000000000",
          "2021-06-09T00:00:00.000000000",
          "2021-06-10T00:00:00.000000000",
          "2021-06-11T00:00:00.000000000",
          "2021-06-14T00:00:00.000000000",
          "2021-06-15T00:00:00.000000000",
          "2021-06-16T00:00:00.000000000",
          "2021-06-17T00:00:00.000000000",
          "2021-06-18T00:00:00.000000000",
          "2021-06-21T00:00:00.000000000",
          "2021-06-22T00:00:00.000000000",
          "2021-06-23T00:00:00.000000000",
          "2021-06-24T00:00:00.000000000",
          "2021-06-25T00:00:00.000000000",
          "2021-06-28T00:00:00.000000000",
          "2021-06-29T00:00:00.000000000",
          "2021-06-30T00:00:00.000000000",
          "2021-07-01T00:00:00.000000000",
          "2021-07-02T00:00:00.000000000",
          "2021-07-06T00:00:00.000000000",
          "2021-07-07T00:00:00.000000000",
          "2021-07-08T00:00:00.000000000",
          "2021-07-09T00:00:00.000000000",
          "2021-07-12T00:00:00.000000000",
          "2021-07-13T00:00:00.000000000",
          "2021-07-14T00:00:00.000000000",
          "2021-07-15T00:00:00.000000000",
          "2021-07-16T00:00:00.000000000",
          "2021-07-19T00:00:00.000000000",
          "2021-07-20T00:00:00.000000000",
          "2021-07-21T00:00:00.000000000",
          "2021-07-22T00:00:00.000000000",
          "2021-07-23T00:00:00.000000000",
          "2021-07-26T00:00:00.000000000",
          "2021-07-27T00:00:00.000000000",
          "2021-07-28T00:00:00.000000000",
          "2021-07-29T00:00:00.000000000",
          "2021-07-30T00:00:00.000000000",
          "2021-08-02T00:00:00.000000000",
          "2021-08-03T00:00:00.000000000",
          "2021-08-04T00:00:00.000000000",
          "2021-08-05T00:00:00.000000000",
          "2021-08-06T00:00:00.000000000",
          "2021-08-09T00:00:00.000000000",
          "2021-08-10T00:00:00.000000000",
          "2021-08-11T00:00:00.000000000",
          "2021-08-12T00:00:00.000000000",
          "2021-08-13T00:00:00.000000000",
          "2021-08-16T00:00:00.000000000",
          "2021-08-17T00:00:00.000000000",
          "2021-08-18T00:00:00.000000000",
          "2021-08-19T00:00:00.000000000",
          "2021-08-20T00:00:00.000000000",
          "2021-08-23T00:00:00.000000000",
          "2021-08-24T00:00:00.000000000",
          "2021-08-25T00:00:00.000000000",
          "2021-08-26T00:00:00.000000000",
          "2021-08-27T00:00:00.000000000",
          "2021-08-30T00:00:00.000000000",
          "2021-08-31T00:00:00.000000000",
          "2021-09-01T00:00:00.000000000",
          "2021-09-02T00:00:00.000000000",
          "2021-09-03T00:00:00.000000000",
          "2021-09-07T00:00:00.000000000",
          "2021-09-08T00:00:00.000000000",
          "2021-09-09T00:00:00.000000000",
          "2021-09-10T00:00:00.000000000",
          "2021-09-13T00:00:00.000000000",
          "2021-09-14T00:00:00.000000000",
          "2021-09-15T00:00:00.000000000",
          "2021-09-16T00:00:00.000000000",
          "2021-09-17T00:00:00.000000000",
          "2021-09-20T00:00:00.000000000",
          "2021-09-21T00:00:00.000000000",
          "2021-09-22T00:00:00.000000000",
          "2021-09-23T00:00:00.000000000",
          "2021-09-24T00:00:00.000000000",
          "2021-09-27T00:00:00.000000000",
          "2021-09-28T00:00:00.000000000",
          "2021-09-29T00:00:00.000000000",
          "2021-09-30T00:00:00.000000000",
          "2021-10-01T00:00:00.000000000",
          "2021-10-04T00:00:00.000000000",
          "2021-10-05T00:00:00.000000000",
          "2021-10-06T00:00:00.000000000",
          "2021-10-07T00:00:00.000000000",
          "2021-10-08T00:00:00.000000000",
          "2021-10-11T00:00:00.000000000",
          "2021-10-12T00:00:00.000000000",
          "2021-10-13T00:00:00.000000000",
          "2021-10-14T00:00:00.000000000",
          "2021-10-15T00:00:00.000000000",
          "2021-10-18T00:00:00.000000000",
          "2021-10-19T00:00:00.000000000",
          "2021-10-20T00:00:00.000000000",
          "2021-10-21T00:00:00.000000000",
          "2021-10-22T00:00:00.000000000",
          "2021-10-25T00:00:00.000000000",
          "2021-10-26T00:00:00.000000000",
          "2021-10-27T00:00:00.000000000",
          "2021-10-28T00:00:00.000000000",
          "2021-10-29T00:00:00.000000000",
          "2021-11-01T00:00:00.000000000",
          "2021-11-02T00:00:00.000000000",
          "2021-11-03T00:00:00.000000000",
          "2021-11-04T00:00:00.000000000",
          "2021-11-05T00:00:00.000000000",
          "2021-11-08T00:00:00.000000000",
          "2021-11-09T00:00:00.000000000",
          "2021-11-10T00:00:00.000000000",
          "2021-11-11T00:00:00.000000000",
          "2021-11-12T00:00:00.000000000",
          "2021-11-15T00:00:00.000000000",
          "2021-11-16T00:00:00.000000000",
          "2021-11-17T00:00:00.000000000",
          "2021-11-18T00:00:00.000000000",
          "2021-11-19T00:00:00.000000000",
          "2021-11-22T00:00:00.000000000",
          "2021-11-23T00:00:00.000000000",
          "2021-11-24T00:00:00.000000000",
          "2021-11-26T00:00:00.000000000",
          "2021-11-29T00:00:00.000000000",
          "2021-11-30T00:00:00.000000000",
          "2021-12-01T00:00:00.000000000",
          "2021-12-02T00:00:00.000000000",
          "2021-12-03T00:00:00.000000000",
          "2021-12-06T00:00:00.000000000",
          "2021-12-07T00:00:00.000000000",
          "2021-12-08T00:00:00.000000000",
          "2021-12-09T00:00:00.000000000",
          "2021-12-10T00:00:00.000000000",
          "2021-12-13T00:00:00.000000000",
          "2021-12-14T00:00:00.000000000",
          "2021-12-15T00:00:00.000000000",
          "2021-12-16T00:00:00.000000000",
          "2021-12-17T00:00:00.000000000",
          "2021-12-20T00:00:00.000000000",
          "2021-12-21T00:00:00.000000000",
          "2021-12-22T00:00:00.000000000",
          "2021-12-23T00:00:00.000000000",
          "2021-12-27T00:00:00.000000000",
          "2021-12-28T00:00:00.000000000",
          "2021-12-29T00:00:00.000000000",
          "2021-12-30T00:00:00.000000000",
          "2021-12-31T00:00:00.000000000",
          "2022-01-03T00:00:00.000000000",
          "2022-01-04T00:00:00.000000000",
          "2022-01-05T00:00:00.000000000",
          "2022-01-06T00:00:00.000000000",
          "2022-01-07T00:00:00.000000000",
          "2022-01-10T00:00:00.000000000",
          "2022-01-11T00:00:00.000000000",
          "2022-01-12T00:00:00.000000000",
          "2022-01-13T00:00:00.000000000",
          "2022-01-14T00:00:00.000000000",
          "2022-01-18T00:00:00.000000000",
          "2022-01-19T00:00:00.000000000",
          "2022-01-20T00:00:00.000000000",
          "2022-01-21T00:00:00.000000000",
          "2022-01-24T00:00:00.000000000",
          "2022-01-25T00:00:00.000000000",
          "2022-01-26T00:00:00.000000000",
          "2022-01-27T00:00:00.000000000",
          "2022-01-28T00:00:00.000000000",
          "2022-01-31T00:00:00.000000000",
          "2022-02-01T00:00:00.000000000",
          "2022-02-02T00:00:00.000000000",
          "2022-02-03T00:00:00.000000000",
          "2022-02-04T00:00:00.000000000",
          "2022-02-07T00:00:00.000000000",
          "2022-02-08T00:00:00.000000000",
          "2022-02-09T00:00:00.000000000",
          "2022-02-10T00:00:00.000000000",
          "2022-02-11T00:00:00.000000000",
          "2022-02-14T00:00:00.000000000",
          "2022-02-15T00:00:00.000000000",
          "2022-02-16T00:00:00.000000000",
          "2022-02-17T00:00:00.000000000",
          "2022-02-18T00:00:00.000000000",
          "2022-02-22T00:00:00.000000000",
          "2022-02-23T00:00:00.000000000",
          "2022-02-24T00:00:00.000000000",
          "2022-02-25T00:00:00.000000000",
          "2022-02-28T00:00:00.000000000",
          "2022-03-01T00:00:00.000000000",
          "2022-03-02T00:00:00.000000000",
          "2022-03-03T00:00:00.000000000",
          "2022-03-04T00:00:00.000000000",
          "2022-03-07T00:00:00.000000000",
          "2022-03-08T00:00:00.000000000",
          "2022-03-09T00:00:00.000000000",
          "2022-03-10T00:00:00.000000000",
          "2022-03-11T00:00:00.000000000",
          "2022-03-14T00:00:00.000000000",
          "2022-03-15T00:00:00.000000000",
          "2022-03-16T00:00:00.000000000",
          "2022-03-17T00:00:00.000000000",
          "2022-03-18T00:00:00.000000000",
          "2022-03-21T00:00:00.000000000",
          "2022-03-22T00:00:00.000000000",
          "2022-03-23T00:00:00.000000000",
          "2022-03-24T00:00:00.000000000",
          "2022-03-25T00:00:00.000000000",
          "2022-03-28T00:00:00.000000000",
          "2022-03-29T00:00:00.000000000",
          "2022-03-30T00:00:00.000000000",
          "2022-03-31T00:00:00.000000000",
          "2022-04-01T00:00:00.000000000",
          "2022-04-04T00:00:00.000000000",
          "2022-04-05T00:00:00.000000000",
          "2022-04-06T00:00:00.000000000",
          "2022-04-07T00:00:00.000000000",
          "2022-04-08T00:00:00.000000000",
          "2022-04-11T00:00:00.000000000",
          "2022-04-12T00:00:00.000000000",
          "2022-04-13T00:00:00.000000000",
          "2022-04-14T00:00:00.000000000",
          "2022-04-18T00:00:00.000000000",
          "2022-04-19T00:00:00.000000000",
          "2022-04-20T00:00:00.000000000",
          "2022-04-21T00:00:00.000000000",
          "2022-04-22T00:00:00.000000000",
          "2022-04-25T00:00:00.000000000",
          "2022-04-26T00:00:00.000000000",
          "2022-04-27T00:00:00.000000000",
          "2022-04-28T00:00:00.000000000",
          "2022-04-29T00:00:00.000000000",
          "2022-05-02T00:00:00.000000000",
          "2022-05-03T00:00:00.000000000",
          "2022-05-04T00:00:00.000000000",
          "2022-05-05T00:00:00.000000000",
          "2022-05-06T00:00:00.000000000",
          "2022-05-09T00:00:00.000000000",
          "2022-05-10T00:00:00.000000000",
          "2022-05-11T00:00:00.000000000",
          "2022-05-12T00:00:00.000000000",
          "2022-05-13T00:00:00.000000000",
          "2022-05-16T00:00:00.000000000",
          "2022-05-17T00:00:00.000000000",
          "2022-05-18T00:00:00.000000000",
          "2022-05-19T00:00:00.000000000",
          "2022-05-20T00:00:00.000000000",
          "2022-05-23T00:00:00.000000000",
          "2022-05-24T00:00:00.000000000",
          "2022-05-25T00:00:00.000000000",
          "2022-05-26T00:00:00.000000000",
          "2022-05-27T00:00:00.000000000",
          "2022-05-31T00:00:00.000000000",
          "2022-06-01T00:00:00.000000000",
          "2022-06-02T00:00:00.000000000",
          "2022-06-03T00:00:00.000000000",
          "2022-06-06T00:00:00.000000000",
          "2022-06-07T00:00:00.000000000",
          "2022-06-08T00:00:00.000000000",
          "2022-06-09T00:00:00.000000000",
          "2022-06-10T00:00:00.000000000",
          "2022-06-13T00:00:00.000000000",
          "2022-06-14T00:00:00.000000000",
          "2022-06-15T00:00:00.000000000",
          "2022-06-16T00:00:00.000000000",
          "2022-06-17T00:00:00.000000000",
          "2022-06-21T00:00:00.000000000",
          "2022-06-22T00:00:00.000000000",
          "2022-06-23T00:00:00.000000000",
          "2022-06-24T00:00:00.000000000",
          "2022-06-27T00:00:00.000000000",
          "2022-06-28T00:00:00.000000000",
          "2022-06-29T00:00:00.000000000",
          "2022-06-30T00:00:00.000000000",
          "2022-07-01T00:00:00.000000000",
          "2022-07-05T00:00:00.000000000",
          "2022-07-06T00:00:00.000000000",
          "2022-07-07T00:00:00.000000000",
          "2022-07-08T00:00:00.000000000",
          "2022-07-11T00:00:00.000000000",
          "2022-07-12T00:00:00.000000000",
          "2022-07-13T00:00:00.000000000",
          "2022-07-14T00:00:00.000000000",
          "2022-07-15T00:00:00.000000000",
          "2022-07-18T00:00:00.000000000",
          "2022-07-19T00:00:00.000000000",
          "2022-07-20T00:00:00.000000000",
          "2022-07-21T00:00:00.000000000",
          "2022-07-22T00:00:00.000000000",
          "2022-07-25T00:00:00.000000000",
          "2022-07-26T00:00:00.000000000",
          "2022-07-27T00:00:00.000000000",
          "2022-07-28T00:00:00.000000000",
          "2022-07-29T00:00:00.000000000",
          "2022-08-01T00:00:00.000000000",
          "2022-08-02T00:00:00.000000000",
          "2022-08-03T00:00:00.000000000",
          "2022-08-04T00:00:00.000000000",
          "2022-08-05T00:00:00.000000000",
          "2022-08-08T00:00:00.000000000",
          "2022-08-09T00:00:00.000000000",
          "2022-08-10T00:00:00.000000000",
          "2022-08-11T00:00:00.000000000",
          "2022-08-12T00:00:00.000000000",
          "2022-08-15T00:00:00.000000000",
          "2022-08-16T00:00:00.000000000",
          "2022-08-17T00:00:00.000000000",
          "2022-08-18T00:00:00.000000000",
          "2022-08-19T00:00:00.000000000",
          "2022-08-22T00:00:00.000000000",
          "2022-08-23T00:00:00.000000000",
          "2022-08-24T00:00:00.000000000",
          "2022-08-25T00:00:00.000000000",
          "2022-08-26T00:00:00.000000000",
          "2022-08-29T00:00:00.000000000",
          "2022-08-30T00:00:00.000000000",
          "2022-08-31T00:00:00.000000000",
          "2022-09-01T00:00:00.000000000",
          "2022-09-02T00:00:00.000000000",
          "2022-09-06T00:00:00.000000000",
          "2022-09-07T00:00:00.000000000",
          "2022-09-08T00:00:00.000000000",
          "2022-09-09T00:00:00.000000000",
          "2022-09-12T00:00:00.000000000",
          "2022-09-13T00:00:00.000000000",
          "2022-09-14T00:00:00.000000000",
          "2022-09-15T00:00:00.000000000",
          "2022-09-16T00:00:00.000000000",
          "2022-09-19T00:00:00.000000000",
          "2022-09-20T00:00:00.000000000",
          "2022-09-21T00:00:00.000000000",
          "2022-09-22T00:00:00.000000000",
          "2022-09-23T00:00:00.000000000",
          "2022-09-26T00:00:00.000000000",
          "2022-09-27T00:00:00.000000000",
          "2022-09-28T00:00:00.000000000",
          "2022-09-29T00:00:00.000000000",
          "2022-09-30T00:00:00.000000000",
          "2022-10-03T00:00:00.000000000",
          "2022-10-04T00:00:00.000000000",
          "2022-10-05T00:00:00.000000000",
          "2022-10-06T00:00:00.000000000",
          "2022-10-07T00:00:00.000000000",
          "2022-10-10T00:00:00.000000000",
          "2022-10-11T00:00:00.000000000",
          "2022-10-12T00:00:00.000000000",
          "2022-10-13T00:00:00.000000000",
          "2022-10-14T00:00:00.000000000",
          "2022-10-17T00:00:00.000000000",
          "2022-10-18T00:00:00.000000000",
          "2022-10-19T00:00:00.000000000",
          "2022-10-20T00:00:00.000000000",
          "2022-10-21T00:00:00.000000000",
          "2022-10-24T00:00:00.000000000",
          "2022-10-25T00:00:00.000000000",
          "2022-10-26T00:00:00.000000000",
          "2022-10-27T00:00:00.000000000",
          "2022-10-28T00:00:00.000000000",
          "2022-10-31T00:00:00.000000000",
          "2022-11-01T00:00:00.000000000",
          "2022-11-02T00:00:00.000000000",
          "2022-11-03T00:00:00.000000000",
          "2022-11-04T00:00:00.000000000",
          "2022-11-07T00:00:00.000000000",
          "2022-11-08T00:00:00.000000000",
          "2022-11-09T00:00:00.000000000",
          "2022-11-10T00:00:00.000000000",
          "2022-11-11T00:00:00.000000000",
          "2022-11-14T00:00:00.000000000",
          "2022-11-15T00:00:00.000000000",
          "2022-11-16T00:00:00.000000000",
          "2022-11-17T00:00:00.000000000",
          "2022-11-18T00:00:00.000000000",
          "2022-11-21T00:00:00.000000000",
          "2022-11-22T00:00:00.000000000",
          "2022-11-23T00:00:00.000000000",
          "2022-11-25T00:00:00.000000000",
          "2022-11-28T00:00:00.000000000",
          "2022-11-29T00:00:00.000000000",
          "2022-11-30T00:00:00.000000000",
          "2022-12-01T00:00:00.000000000",
          "2022-12-02T00:00:00.000000000",
          "2022-12-05T00:00:00.000000000",
          "2022-12-06T00:00:00.000000000",
          "2022-12-07T00:00:00.000000000",
          "2022-12-08T00:00:00.000000000",
          "2022-12-09T00:00:00.000000000",
          "2022-12-12T00:00:00.000000000",
          "2022-12-13T00:00:00.000000000",
          "2022-12-14T00:00:00.000000000",
          "2022-12-15T00:00:00.000000000",
          "2022-12-16T00:00:00.000000000",
          "2022-12-19T00:00:00.000000000",
          "2022-12-20T00:00:00.000000000",
          "2022-12-21T00:00:00.000000000",
          "2022-12-22T00:00:00.000000000",
          "2022-12-23T00:00:00.000000000",
          "2022-12-27T00:00:00.000000000",
          "2022-12-28T00:00:00.000000000",
          "2022-12-29T00:00:00.000000000",
          "2022-12-30T00:00:00.000000000",
          "2023-01-03T00:00:00.000000000",
          "2023-01-04T00:00:00.000000000",
          "2023-01-05T00:00:00.000000000",
          "2023-01-06T00:00:00.000000000",
          "2023-01-09T00:00:00.000000000",
          "2023-01-10T00:00:00.000000000",
          "2023-01-11T00:00:00.000000000",
          "2023-01-12T00:00:00.000000000",
          "2023-01-13T00:00:00.000000000",
          "2023-01-17T00:00:00.000000000",
          "2023-01-18T00:00:00.000000000",
          "2023-01-19T00:00:00.000000000",
          "2023-01-20T00:00:00.000000000",
          "2023-01-23T00:00:00.000000000",
          "2023-01-24T00:00:00.000000000",
          "2023-01-25T00:00:00.000000000",
          "2023-01-26T00:00:00.000000000",
          "2023-01-27T00:00:00.000000000",
          "2023-01-30T00:00:00.000000000",
          "2023-01-31T00:00:00.000000000",
          "2023-02-01T00:00:00.000000000",
          "2023-02-02T00:00:00.000000000",
          "2023-02-03T00:00:00.000000000",
          "2023-02-06T00:00:00.000000000",
          "2023-02-07T00:00:00.000000000",
          "2023-02-08T00:00:00.000000000",
          "2023-02-09T00:00:00.000000000",
          "2023-02-10T00:00:00.000000000",
          "2023-02-13T00:00:00.000000000",
          "2023-02-14T00:00:00.000000000",
          "2023-02-15T00:00:00.000000000",
          "2023-02-16T00:00:00.000000000",
          "2023-02-17T00:00:00.000000000",
          "2023-02-21T00:00:00.000000000",
          "2023-02-22T00:00:00.000000000",
          "2023-02-23T00:00:00.000000000",
          "2023-02-24T00:00:00.000000000",
          "2023-02-27T00:00:00.000000000",
          "2023-02-28T00:00:00.000000000",
          "2023-03-01T00:00:00.000000000",
          "2023-03-02T00:00:00.000000000",
          "2023-03-03T00:00:00.000000000",
          "2023-03-06T00:00:00.000000000",
          "2023-03-07T00:00:00.000000000",
          "2023-03-08T00:00:00.000000000",
          "2023-03-09T00:00:00.000000000",
          "2023-03-10T00:00:00.000000000",
          "2023-03-13T00:00:00.000000000",
          "2023-03-14T00:00:00.000000000",
          "2023-03-15T00:00:00.000000000",
          "2023-03-16T00:00:00.000000000",
          "2023-03-17T00:00:00.000000000",
          "2023-03-20T00:00:00.000000000",
          "2023-03-21T00:00:00.000000000",
          "2023-03-22T00:00:00.000000000",
          "2023-03-23T00:00:00.000000000",
          "2023-03-24T00:00:00.000000000",
          "2023-03-27T00:00:00.000000000",
          "2023-03-28T00:00:00.000000000",
          "2023-03-29T00:00:00.000000000",
          "2023-03-30T00:00:00.000000000",
          "2023-03-31T00:00:00.000000000",
          "2023-04-03T00:00:00.000000000",
          "2023-04-04T00:00:00.000000000",
          "2023-04-05T00:00:00.000000000",
          "2023-04-06T00:00:00.000000000",
          "2023-04-10T00:00:00.000000000",
          "2023-04-11T00:00:00.000000000",
          "2023-04-12T00:00:00.000000000",
          "2023-04-13T00:00:00.000000000",
          "2023-04-14T00:00:00.000000000",
          "2023-04-17T00:00:00.000000000",
          "2023-04-18T00:00:00.000000000",
          "2023-04-19T00:00:00.000000000",
          "2023-04-20T00:00:00.000000000",
          "2023-04-21T00:00:00.000000000",
          "2023-04-24T00:00:00.000000000",
          "2023-04-25T00:00:00.000000000",
          "2023-04-26T00:00:00.000000000",
          "2023-04-27T00:00:00.000000000",
          "2023-04-28T00:00:00.000000000",
          "2023-05-01T00:00:00.000000000",
          "2023-05-02T00:00:00.000000000",
          "2023-05-03T00:00:00.000000000",
          "2023-05-04T00:00:00.000000000",
          "2023-05-05T00:00:00.000000000",
          "2023-05-08T00:00:00.000000000",
          "2023-05-09T00:00:00.000000000",
          "2023-05-10T00:00:00.000000000",
          "2023-05-11T00:00:00.000000000",
          "2023-05-12T00:00:00.000000000",
          "2023-05-15T00:00:00.000000000",
          "2023-05-16T00:00:00.000000000",
          "2023-05-17T00:00:00.000000000",
          "2023-05-18T00:00:00.000000000",
          "2023-05-19T00:00:00.000000000",
          "2023-05-22T00:00:00.000000000",
          "2023-05-23T00:00:00.000000000",
          "2023-05-24T00:00:00.000000000",
          "2023-05-25T00:00:00.000000000",
          "2023-05-26T00:00:00.000000000",
          "2023-05-30T00:00:00.000000000",
          "2023-05-31T00:00:00.000000000",
          "2023-06-01T00:00:00.000000000",
          "2023-06-02T00:00:00.000000000",
          "2023-06-05T00:00:00.000000000",
          "2023-06-06T00:00:00.000000000",
          "2023-06-07T00:00:00.000000000",
          "2023-06-08T00:00:00.000000000",
          "2023-06-09T00:00:00.000000000",
          "2023-06-12T00:00:00.000000000",
          "2023-06-13T00:00:00.000000000",
          "2023-06-14T00:00:00.000000000",
          "2023-06-15T00:00:00.000000000",
          "2023-06-16T00:00:00.000000000",
          "2023-06-20T00:00:00.000000000",
          "2023-06-21T00:00:00.000000000",
          "2023-06-22T00:00:00.000000000",
          "2023-06-23T00:00:00.000000000",
          "2023-06-26T00:00:00.000000000",
          "2023-06-27T00:00:00.000000000",
          "2023-06-28T00:00:00.000000000",
          "2023-06-29T00:00:00.000000000",
          "2023-06-30T00:00:00.000000000",
          "2023-07-03T00:00:00.000000000",
          "2023-07-05T00:00:00.000000000",
          "2023-07-06T00:00:00.000000000",
          "2023-07-07T00:00:00.000000000",
          "2023-07-10T00:00:00.000000000",
          "2023-07-11T00:00:00.000000000",
          "2023-07-12T00:00:00.000000000",
          "2023-07-13T00:00:00.000000000",
          "2023-07-14T00:00:00.000000000",
          "2023-07-17T00:00:00.000000000",
          "2023-07-18T00:00:00.000000000",
          "2023-07-19T00:00:00.000000000",
          "2023-07-20T00:00:00.000000000",
          "2023-07-21T00:00:00.000000000",
          "2023-07-24T00:00:00.000000000",
          "2023-07-25T00:00:00.000000000",
          "2023-07-26T00:00:00.000000000",
          "2023-07-27T00:00:00.000000000",
          "2023-07-28T00:00:00.000000000",
          "2023-07-31T00:00:00.000000000",
          "2023-08-01T00:00:00.000000000",
          "2023-08-02T00:00:00.000000000",
          "2023-08-03T00:00:00.000000000",
          "2023-08-04T00:00:00.000000000",
          "2023-08-07T00:00:00.000000000",
          "2023-08-08T00:00:00.000000000",
          "2023-08-09T00:00:00.000000000",
          "2023-08-10T00:00:00.000000000",
          "2023-08-11T00:00:00.000000000",
          "2023-08-14T00:00:00.000000000",
          "2023-08-15T00:00:00.000000000",
          "2023-08-16T00:00:00.000000000",
          "2023-08-17T00:00:00.000000000",
          "2023-08-18T00:00:00.000000000",
          "2023-08-21T00:00:00.000000000",
          "2023-08-22T00:00:00.000000000",
          "2023-08-23T00:00:00.000000000",
          "2023-08-24T00:00:00.000000000",
          "2023-08-25T00:00:00.000000000",
          "2023-08-28T00:00:00.000000000",
          "2023-08-29T00:00:00.000000000",
          "2023-08-30T00:00:00.000000000",
          "2023-08-31T00:00:00.000000000",
          "2023-09-01T00:00:00.000000000",
          "2023-09-05T00:00:00.000000000",
          "2023-09-06T00:00:00.000000000",
          "2023-09-07T00:00:00.000000000",
          "2023-09-08T00:00:00.000000000",
          "2023-09-11T00:00:00.000000000",
          "2023-09-12T00:00:00.000000000",
          "2023-09-13T00:00:00.000000000",
          "2023-09-14T00:00:00.000000000",
          "2023-09-15T00:00:00.000000000",
          "2023-09-18T00:00:00.000000000",
          "2023-09-19T00:00:00.000000000",
          "2023-09-20T00:00:00.000000000",
          "2023-09-21T00:00:00.000000000",
          "2023-09-22T00:00:00.000000000",
          "2023-09-25T00:00:00.000000000",
          "2023-09-26T00:00:00.000000000",
          "2023-09-27T00:00:00.000000000",
          "2023-09-28T00:00:00.000000000",
          "2023-09-29T00:00:00.000000000",
          "2023-10-02T00:00:00.000000000",
          "2023-10-03T00:00:00.000000000",
          "2023-10-04T00:00:00.000000000",
          "2023-10-05T00:00:00.000000000",
          "2023-10-06T00:00:00.000000000",
          "2023-10-09T00:00:00.000000000",
          "2023-10-10T00:00:00.000000000",
          "2023-10-11T00:00:00.000000000",
          "2023-10-12T00:00:00.000000000",
          "2023-10-13T00:00:00.000000000",
          "2023-10-16T00:00:00.000000000",
          "2023-10-17T00:00:00.000000000",
          "2023-10-18T00:00:00.000000000",
          "2023-10-19T00:00:00.000000000",
          "2023-10-20T00:00:00.000000000",
          "2023-10-23T00:00:00.000000000",
          "2023-10-24T00:00:00.000000000",
          "2023-10-25T00:00:00.000000000",
          "2023-10-26T00:00:00.000000000",
          "2023-10-27T00:00:00.000000000",
          "2023-10-30T00:00:00.000000000",
          "2023-10-31T00:00:00.000000000",
          "2023-11-01T00:00:00.000000000",
          "2023-11-02T00:00:00.000000000",
          "2023-11-03T00:00:00.000000000",
          "2023-11-06T00:00:00.000000000",
          "2023-11-07T00:00:00.000000000",
          "2023-11-08T00:00:00.000000000",
          "2023-11-09T00:00:00.000000000",
          "2023-11-10T00:00:00.000000000",
          "2023-11-13T00:00:00.000000000",
          "2023-11-14T00:00:00.000000000",
          "2023-11-15T00:00:00.000000000",
          "2023-11-16T00:00:00.000000000",
          "2023-11-17T00:00:00.000000000",
          "2023-11-20T00:00:00.000000000",
          "2023-11-21T00:00:00.000000000",
          "2023-11-22T00:00:00.000000000",
          "2023-11-24T00:00:00.000000000",
          "2023-11-27T00:00:00.000000000",
          "2023-11-28T00:00:00.000000000",
          "2023-11-29T00:00:00.000000000",
          "2023-11-30T00:00:00.000000000",
          "2023-12-01T00:00:00.000000000",
          "2023-12-04T00:00:00.000000000",
          "2023-12-05T00:00:00.000000000",
          "2023-12-06T00:00:00.000000000",
          "2023-12-07T00:00:00.000000000",
          "2023-12-08T00:00:00.000000000",
          "2023-12-11T00:00:00.000000000",
          "2023-12-12T00:00:00.000000000",
          "2023-12-13T00:00:00.000000000",
          "2023-12-14T00:00:00.000000000",
          "2023-12-15T00:00:00.000000000",
          "2023-12-18T00:00:00.000000000",
          "2023-12-19T00:00:00.000000000",
          "2023-12-20T00:00:00.000000000",
          "2023-12-21T00:00:00.000000000",
          "2023-12-22T00:00:00.000000000",
          "2023-12-26T00:00:00.000000000",
          "2023-12-27T00:00:00.000000000",
          "2023-12-28T00:00:00.000000000",
          "2023-12-29T00:00:00.000000000",
          "2024-01-02T00:00:00.000000000",
          "2024-01-03T00:00:00.000000000",
          "2024-01-04T00:00:00.000000000",
          "2024-01-05T00:00:00.000000000",
          "2024-01-08T00:00:00.000000000",
          "2024-01-09T00:00:00.000000000",
          "2024-01-10T00:00:00.000000000",
          "2024-01-11T00:00:00.000000000",
          "2024-01-12T00:00:00.000000000",
          "2024-01-16T00:00:00.000000000",
          "2024-01-17T00:00:00.000000000",
          "2024-01-18T00:00:00.000000000",
          "2024-01-19T00:00:00.000000000",
          "2024-01-22T00:00:00.000000000",
          "2024-01-23T00:00:00.000000000",
          "2024-01-24T00:00:00.000000000",
          "2024-01-25T00:00:00.000000000",
          "2024-01-26T00:00:00.000000000",
          "2024-01-29T00:00:00.000000000",
          "2024-01-30T00:00:00.000000000",
          "2024-01-31T00:00:00.000000000",
          "2024-02-01T00:00:00.000000000",
          "2024-02-02T00:00:00.000000000",
          "2024-02-05T00:00:00.000000000",
          "2024-02-06T00:00:00.000000000",
          "2024-02-07T00:00:00.000000000",
          "2024-02-08T00:00:00.000000000",
          "2024-02-09T00:00:00.000000000",
          "2024-02-12T00:00:00.000000000",
          "2024-02-13T00:00:00.000000000",
          "2024-02-14T00:00:00.000000000",
          "2024-02-15T00:00:00.000000000",
          "2024-02-16T00:00:00.000000000",
          "2024-02-20T00:00:00.000000000",
          "2024-02-21T00:00:00.000000000",
          "2024-02-22T00:00:00.000000000",
          "2024-02-23T00:00:00.000000000",
          "2024-02-26T00:00:00.000000000",
          "2024-02-27T00:00:00.000000000",
          "2024-02-28T00:00:00.000000000",
          "2024-02-29T00:00:00.000000000",
          "2024-03-01T00:00:00.000000000",
          "2024-03-04T00:00:00.000000000",
          "2024-03-05T00:00:00.000000000",
          "2024-03-06T00:00:00.000000000",
          "2024-03-07T00:00:00.000000000",
          "2024-03-08T00:00:00.000000000",
          "2024-03-11T00:00:00.000000000",
          "2024-03-12T00:00:00.000000000",
          "2024-03-13T00:00:00.000000000",
          "2024-03-14T00:00:00.000000000",
          "2024-03-15T00:00:00.000000000",
          "2024-03-18T00:00:00.000000000",
          "2024-03-19T00:00:00.000000000",
          "2024-03-20T00:00:00.000000000",
          "2024-03-21T00:00:00.000000000",
          "2024-03-22T00:00:00.000000000",
          "2024-03-25T00:00:00.000000000",
          "2024-03-26T00:00:00.000000000",
          "2024-03-27T00:00:00.000000000",
          "2024-03-28T00:00:00.000000000",
          "2024-04-01T00:00:00.000000000",
          "2024-04-02T00:00:00.000000000",
          "2024-04-03T00:00:00.000000000",
          "2024-04-04T00:00:00.000000000",
          "2024-04-05T00:00:00.000000000",
          "2024-04-08T00:00:00.000000000",
          "2024-04-09T00:00:00.000000000",
          "2024-04-10T00:00:00.000000000",
          "2024-04-11T00:00:00.000000000",
          "2024-04-12T00:00:00.000000000",
          "2024-04-15T00:00:00.000000000",
          "2024-04-16T00:00:00.000000000",
          "2024-04-17T00:00:00.000000000",
          "2024-04-18T00:00:00.000000000",
          "2024-04-19T00:00:00.000000000",
          "2024-04-22T00:00:00.000000000",
          "2024-04-23T00:00:00.000000000",
          "2024-04-24T00:00:00.000000000",
          "2024-04-25T00:00:00.000000000",
          "2024-04-26T00:00:00.000000000",
          "2024-04-29T00:00:00.000000000",
          "2024-04-30T00:00:00.000000000",
          "2024-05-01T00:00:00.000000000",
          "2024-05-02T00:00:00.000000000",
          "2024-05-03T00:00:00.000000000",
          "2024-05-06T00:00:00.000000000",
          "2024-05-07T00:00:00.000000000",
          "2024-05-08T00:00:00.000000000",
          "2024-05-09T00:00:00.000000000",
          "2024-05-10T00:00:00.000000000",
          "2024-05-13T00:00:00.000000000",
          "2024-05-14T00:00:00.000000000",
          "2024-05-15T00:00:00.000000000",
          "2024-05-16T00:00:00.000000000",
          "2024-05-17T00:00:00.000000000",
          "2024-05-20T00:00:00.000000000",
          "2024-05-21T00:00:00.000000000",
          "2024-05-22T00:00:00.000000000",
          "2024-05-23T00:00:00.000000000",
          "2024-05-24T00:00:00.000000000",
          "2024-05-28T00:00:00.000000000",
          "2024-05-29T00:00:00.000000000",
          "2024-05-30T00:00:00.000000000",
          "2024-05-31T00:00:00.000000000",
          "2024-06-03T00:00:00.000000000",
          "2024-06-04T00:00:00.000000000",
          "2024-06-05T00:00:00.000000000",
          "2024-06-06T00:00:00.000000000",
          "2024-06-07T00:00:00.000000000",
          "2024-06-10T00:00:00.000000000",
          "2024-06-11T00:00:00.000000000",
          "2024-06-12T00:00:00.000000000",
          "2024-06-13T00:00:00.000000000",
          "2024-06-14T00:00:00.000000000",
          "2024-06-17T00:00:00.000000000",
          "2024-06-18T00:00:00.000000000",
          "2024-06-20T00:00:00.000000000",
          "2024-06-21T00:00:00.000000000",
          "2024-06-24T00:00:00.000000000",
          "2024-06-25T00:00:00.000000000",
          "2024-06-26T00:00:00.000000000",
          "2024-06-27T00:00:00.000000000",
          "2024-06-28T00:00:00.000000000",
          "2024-07-01T00:00:00.000000000",
          "2024-07-02T00:00:00.000000000",
          "2024-07-03T00:00:00.000000000",
          "2024-07-05T00:00:00.000000000",
          "2024-07-08T00:00:00.000000000",
          "2024-07-09T00:00:00.000000000",
          "2024-07-10T00:00:00.000000000",
          "2024-07-11T00:00:00.000000000",
          "2024-07-12T00:00:00.000000000",
          "2024-07-15T00:00:00.000000000",
          "2024-07-16T00:00:00.000000000",
          "2024-07-17T00:00:00.000000000",
          "2024-07-18T00:00:00.000000000",
          "2024-07-19T00:00:00.000000000",
          "2024-07-22T00:00:00.000000000",
          "2024-07-23T00:00:00.000000000",
          "2024-07-24T00:00:00.000000000",
          "2024-07-25T00:00:00.000000000",
          "2024-07-26T00:00:00.000000000",
          "2024-07-29T00:00:00.000000000",
          "2024-07-30T00:00:00.000000000",
          "2024-07-31T00:00:00.000000000",
          "2024-08-01T00:00:00.000000000",
          "2024-08-02T00:00:00.000000000",
          "2024-08-05T00:00:00.000000000",
          "2024-08-06T00:00:00.000000000",
          "2024-08-07T00:00:00.000000000",
          "2024-08-08T00:00:00.000000000",
          "2024-08-09T00:00:00.000000000",
          "2024-08-12T00:00:00.000000000",
          "2024-08-13T00:00:00.000000000",
          "2024-08-14T00:00:00.000000000",
          "2024-08-15T00:00:00.000000000",
          "2024-08-16T00:00:00.000000000",
          "2024-08-19T00:00:00.000000000",
          "2024-08-20T00:00:00.000000000",
          "2024-08-21T00:00:00.000000000",
          "2024-08-22T00:00:00.000000000",
          "2024-08-23T00:00:00.000000000",
          "2024-08-26T00:00:00.000000000",
          "2024-08-27T00:00:00.000000000",
          "2024-08-28T00:00:00.000000000",
          "2024-08-29T00:00:00.000000000",
          "2024-08-30T00:00:00.000000000",
          "2024-09-03T00:00:00.000000000",
          "2024-09-04T00:00:00.000000000",
          "2024-09-05T00:00:00.000000000",
          "2024-09-06T00:00:00.000000000",
          "2024-09-09T00:00:00.000000000",
          "2024-09-10T00:00:00.000000000",
          "2024-09-11T00:00:00.000000000",
          "2024-09-12T00:00:00.000000000",
          "2024-09-13T00:00:00.000000000",
          "2024-09-16T00:00:00.000000000",
          "2024-09-17T00:00:00.000000000",
          "2024-09-18T00:00:00.000000000",
          "2024-09-19T00:00:00.000000000",
          "2024-09-20T00:00:00.000000000",
          "2024-09-23T00:00:00.000000000",
          "2024-09-24T00:00:00.000000000",
          "2024-09-25T00:00:00.000000000",
          "2024-09-26T00:00:00.000000000",
          "2024-09-27T00:00:00.000000000",
          "2024-09-30T00:00:00.000000000",
          "2024-10-01T00:00:00.000000000",
          "2024-10-02T00:00:00.000000000",
          "2024-10-03T00:00:00.000000000",
          "2024-10-04T00:00:00.000000000",
          "2024-10-07T00:00:00.000000000",
          "2024-10-08T00:00:00.000000000",
          "2024-10-09T00:00:00.000000000",
          "2024-10-10T00:00:00.000000000",
          "2024-10-11T00:00:00.000000000",
          "2024-10-14T00:00:00.000000000",
          "2024-10-15T00:00:00.000000000",
          "2024-10-16T00:00:00.000000000",
          "2024-10-17T00:00:00.000000000",
          "2024-10-18T00:00:00.000000000",
          "2024-10-21T00:00:00.000000000",
          "2024-10-22T00:00:00.000000000",
          "2024-10-23T00:00:00.000000000",
          "2024-10-24T00:00:00.000000000",
          "2024-10-25T00:00:00.000000000",
          "2024-10-28T00:00:00.000000000",
          "2024-10-29T00:00:00.000000000",
          "2024-10-30T00:00:00.000000000",
          "2024-10-31T00:00:00.000000000",
          "2024-11-01T00:00:00.000000000",
          "2024-11-04T00:00:00.000000000",
          "2024-11-05T00:00:00.000000000",
          "2024-11-06T00:00:00.000000000",
          "2024-11-07T00:00:00.000000000",
          "2024-11-08T00:00:00.000000000",
          "2024-11-11T00:00:00.000000000",
          "2024-11-12T00:00:00.000000000",
          "2024-11-13T00:00:00.000000000",
          "2024-11-14T00:00:00.000000000",
          "2024-11-15T00:00:00.000000000",
          "2024-11-18T00:00:00.000000000",
          "2024-11-19T00:00:00.000000000",
          "2024-11-20T00:00:00.000000000",
          "2024-11-21T00:00:00.000000000",
          "2024-11-22T00:00:00.000000000",
          "2024-11-25T00:00:00.000000000",
          "2024-11-26T00:00:00.000000000",
          "2024-11-27T00:00:00.000000000",
          "2024-11-29T00:00:00.000000000",
          "2024-12-02T00:00:00.000000000",
          "2024-12-03T00:00:00.000000000",
          "2024-12-04T00:00:00.000000000",
          "2024-12-05T00:00:00.000000000",
          "2024-12-06T00:00:00.000000000",
          "2024-12-09T00:00:00.000000000",
          "2024-12-10T00:00:00.000000000",
          "2024-12-11T00:00:00.000000000",
          "2024-12-12T00:00:00.000000000",
          "2024-12-13T00:00:00.000000000",
          "2024-12-16T00:00:00.000000000",
          "2024-12-17T00:00:00.000000000",
          "2024-12-18T00:00:00.000000000",
          "2024-12-19T00:00:00.000000000",
          "2024-12-20T00:00:00.000000000",
          "2024-12-23T00:00:00.000000000",
          "2024-12-24T00:00:00.000000000",
          "2024-12-26T00:00:00.000000000",
          "2024-12-27T00:00:00.000000000",
          "2024-12-30T00:00:00.000000000",
          "2024-12-31T00:00:00.000000000",
          "2025-01-02T00:00:00.000000000",
          "2025-01-03T00:00:00.000000000",
          "2025-01-06T00:00:00.000000000",
          "2025-01-07T00:00:00.000000000",
          "2025-01-08T00:00:00.000000000",
          "2025-01-10T00:00:00.000000000",
          "2025-01-13T00:00:00.000000000",
          "2025-01-14T00:00:00.000000000",
          "2025-01-15T00:00:00.000000000",
          "2025-01-16T00:00:00.000000000",
          "2025-01-17T00:00:00.000000000",
          "2025-01-21T00:00:00.000000000",
          "2025-01-22T00:00:00.000000000",
          "2025-01-23T00:00:00.000000000",
          "2025-01-24T00:00:00.000000000"
         ],
         "y": {
          "bdata": "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",
          "dtype": "f8"
         }
        },
        {
         "line": {
          "color": "blue",
          "dash": "dot",
          "width": 1
         },
         "name": "rsi_14 (scaled)",
         "type": "scatter",
         "x": [
          "2020-09-16T00:00:00.000000000",
          "2020-09-17T00:00:00.000000000",
          "2020-09-18T00:00:00.000000000",
          "2020-09-21T00:00:00.000000000",
          "2020-09-22T00:00:00.000000000",
          "2020-09-23T00:00:00.000000000",
          "2020-09-24T00:00:00.000000000",
          "2020-09-25T00:00:00.000000000",
          "2020-09-28T00:00:00.000000000",
          "2020-09-29T00:00:00.000000000",
          "2020-09-30T00:00:00.000000000",
          "2020-10-01T00:00:00.000000000",
          "2020-10-02T00:00:00.000000000",
          "2020-10-05T00:00:00.000000000",
          "2020-10-06T00:00:00.000000000",
          "2020-10-07T00:00:00.000000000",
          "2020-10-08T00:00:00.000000000",
          "2020-10-09T00:00:00.000000000",
          "2020-10-12T00:00:00.000000000",
          "2020-10-13T00:00:00.000000000",
          "2020-10-14T00:00:00.000000000",
          "2020-10-15T00:00:00.000000000",
          "2020-10-16T00:00:00.000000000",
          "2020-10-19T00:00:00.000000000",
          "2020-10-20T00:00:00.000000000",
          "2020-10-21T00:00:00.000000000",
          "2020-10-22T00:00:00.000000000",
          "2020-10-23T00:00:00.000000000",
          "2020-10-26T00:00:00.000000000",
          "2020-10-27T00:00:00.000000000",
          "2020-10-28T00:00:00.000000000",
          "2020-10-29T00:00:00.000000000",
          "2020-10-30T00:00:00.000000000",
          "2020-11-02T00:00:00.000000000",
          "2020-11-03T00:00:00.000000000",
          "2020-11-04T00:00:00.000000000",
          "2020-11-05T00:00:00.000000000",
          "2020-11-06T00:00:00.000000000",
          "2020-11-09T00:00:00.000000000",
          "2020-11-10T00:00:00.000000000",
          "2020-11-11T00:00:00.000000000",
          "2020-11-12T00:00:00.000000000",
          "2020-11-13T00:00:00.000000000",
          "2020-11-16T00:00:00.000000000",
          "2020-11-17T00:00:00.000000000",
          "2020-11-18T00:00:00.000000000",
          "2020-11-19T00:00:00.000000000",
          "2020-11-20T00:00:00.000000000",
          "2020-11-23T00:00:00.000000000",
          "2020-11-24T00:00:00.000000000",
          "2020-11-25T00:00:00.000000000",
          "2020-11-27T00:00:00.000000000",
          "2020-11-30T00:00:00.000000000",
          "2020-12-01T00:00:00.000000000",
          "2020-12-02T00:00:00.000000000",
          "2020-12-03T00:00:00.000000000",
          "2020-12-04T00:00:00.000000000",
          "2020-12-07T00:00:00.000000000",
          "2020-12-08T00:00:00.000000000",
          "2020-12-09T00:00:00.000000000",
          "2020-12-10T00:00:00.000000000",
          "2020-12-11T00:00:00.000000000",
          "2020-12-14T00:00:00.000000000",
          "2020-12-15T00:00:00.000000000",
          "2020-12-16T00:00:00.000000000",
          "2020-12-17T00:00:00.000000000",
          "2020-12-18T00:00:00.000000000",
          "2020-12-21T00:00:00.000000000",
          "2020-12-22T00:00:00.000000000",
          "2020-12-23T00:00:00.000000000",
          "2020-12-24T00:00:00.000000000",
          "2020-12-28T00:00:00.000000000",
          "2020-12-29T00:00:00.000000000",
          "2020-12-30T00:00:00.000000000",
          "2020-12-31T00:00:00.000000000",
          "2021-01-04T00:00:00.000000000",
          "2021-01-05T00:00:00.000000000",
          "2021-01-06T00:00:00.000000000",
          "2021-01-07T00:00:00.000000000",
          "2021-01-08T00:00:00.000000000",
          "2021-01-11T00:00:00.000000000",
          "2021-01-12T00:00:00.000000000",
          "2021-01-13T00:00:00.000000000",
          "2021-01-14T00:00:00.000000000",
          "2021-01-15T00:00:00.000000000",
          "2021-01-19T00:00:00.000000000",
          "2021-01-20T00:00:00.000000000",
          "2021-01-21T00:00:00.000000000",
          "2021-01-22T00:00:00.000000000",
          "2021-01-25T00:00:00.000000000",
          "2021-01-26T00:00:00.000000000",
          "2021-01-27T00:00:00.000000000",
          "2021-01-28T00:00:00.000000000",
          "2021-01-29T00:00:00.000000000",
          "2021-02-01T00:00:00.000000000",
          "2021-02-02T00:00:00.000000000",
          "2021-02-03T00:00:00.000000000",
          "2021-02-04T00:00:00.000000000",
          "2021-02-05T00:00:00.000000000",
          "2021-02-08T00:00:00.000000000",
          "2021-02-09T00:00:00.000000000",
          "2021-02-10T00:00:00.000000000",
          "2021-02-11T00:00:00.000000000",
          "2021-02-12T00:00:00.000000000",
          "2021-02-16T00:00:00.000000000",
          "2021-02-17T00:00:00.000000000",
          "2021-02-18T00:00:00.000000000",
          "2021-02-19T00:00:00.000000000",
          "2021-02-22T00:00:00.000000000",
          "2021-02-23T00:00:00.000000000",
          "2021-02-24T00:00:00.000000000",
          "2021-02-25T00:00:00.000000000",
          "2021-02-26T00:00:00.000000000",
          "2021-03-01T00:00:00.000000000",
          "2021-03-02T00:00:00.000000000",
          "2021-03-03T00:00:00.000000000",
          "2021-03-04T00:00:00.000000000",
          "2021-03-05T00:00:00.000000000",
          "2021-03-08T00:00:00.000000000",
          "2021-03-09T00:00:00.000000000",
          "2021-03-10T00:00:00.000000000",
          "2021-03-11T00:00:00.000000000",
          "2021-03-12T00:00:00.000000000",
          "2021-03-15T00:00:00.000000000",
          "2021-03-16T00:00:00.000000000",
          "2021-03-17T00:00:00.000000000",
          "2021-03-18T00:00:00.000000000",
          "2021-03-19T00:00:00.000000000",
          "2021-03-22T00:00:00.000000000",
          "2021-03-23T00:00:00.000000000",
          "2021-03-24T00:00:00.000000000",
          "2021-03-25T00:00:00.000000000",
          "2021-03-26T00:00:00.000000000",
          "2021-03-29T00:00:00.000000000",
          "2021-03-30T00:00:00.000000000",
          "2021-03-31T00:00:00.000000000",
          "2021-04-01T00:00:00.000000000",
          "2021-04-05T00:00:00.000000000",
          "2021-04-06T00:00:00.000000000",
          "2021-04-07T00:00:00.000000000",
          "2021-04-08T00:00:00.000000000",
          "2021-04-09T00:00:00.000000000",
          "2021-04-12T00:00:00.000000000",
          "2021-04-13T00:00:00.000000000",
          "2021-04-14T00:00:00.000000000",
          "2021-04-15T00:00:00.000000000",
          "2021-04-16T00:00:00.000000000",
          "2021-04-19T00:00:00.000000000",
          "2021-04-20T00:00:00.000000000",
          "2021-04-21T00:00:00.000000000",
          "2021-04-22T00:00:00.000000000",
          "2021-04-23T00:00:00.000000000",
          "2021-04-26T00:00:00.000000000",
          "2021-04-27T00:00:00.000000000",
          "2021-04-28T00:00:00.000000000",
          "2021-04-29T00:00:00.000000000",
          "2021-04-30T00:00:00.000000000",
          "2021-05-03T00:00:00.000000000",
          "2021-05-04T00:00:00.000000000",
          "2021-05-05T00:00:00.000000000",
          "2021-05-06T00:00:00.000000000",
          "2021-05-07T00:00:00.000000000",
          "2021-05-10T00:00:00.000000000",
          "2021-05-11T00:00:00.000000000",
          "2021-05-12T00:00:00.000000000",
          "2021-05-13T00:00:00.000000000",
          "2021-05-14T00:00:00.000000000",
          "2021-05-17T00:00:00.000000000",
          "2021-05-18T00:00:00.000000000",
          "2021-05-19T00:00:00.000000000",
          "2021-05-20T00:00:00.000000000",
          "2021-05-21T00:00:00.000000000",
          "2021-05-24T00:00:00.000000000",
          "2021-05-25T00:00:00.000000000",
          "2021-05-26T00:00:00.000000000",
          "2021-05-27T00:00:00.000000000",
          "2021-05-28T00:00:00.000000000",
          "2021-06-01T00:00:00.000000000",
          "2021-06-02T00:00:00.000000000",
          "2021-06-03T00:00:00.000000000",
          "2021-06-04T00:00:00.000000000",
          "2021-06-07T00:00:00.000000000",
          "2021-06-08T00:00:00.000000000",
          "2021-06-09T00:00:00.000000000",
          "2021-06-10T00:00:00.000000000",
          "2021-06-11T00:00:00.000000000",
          "2021-06-14T00:00:00.000000000",
          "2021-06-15T00:00:00.000000000",
          "2021-06-16T00:00:00.000000000",
          "2021-06-17T00:00:00.000000000",
          "2021-06-18T00:00:00.000000000",
          "2021-06-21T00:00:00.000000000",
          "2021-06-22T00:00:00.000000000",
          "2021-06-23T00:00:00.000000000",
          "2021-06-24T00:00:00.000000000",
          "2021-06-25T00:00:00.000000000",
          "2021-06-28T00:00:00.000000000",
          "2021-06-29T00:00:00.000000000",
          "2021-06-30T00:00:00.000000000",
          "2021-07-01T00:00:00.000000000",
          "2021-07-02T00:00:00.000000000",
          "2021-07-06T00:00:00.000000000",
          "2021-07-07T00:00:00.000000000",
          "2021-07-08T00:00:00.000000000",
          "2021-07-09T00:00:00.000000000",
          "2021-07-12T00:00:00.000000000",
          "2021-07-13T00:00:00.000000000",
          "2021-07-14T00:00:00.000000000",
          "2021-07-15T00:00:00.000000000",
          "2021-07-16T00:00:00.000000000",
          "2021-07-19T00:00:00.000000000",
          "2021-07-20T00:00:00.000000000",
          "2021-07-21T00:00:00.000000000",
          "2021-07-22T00:00:00.000000000",
          "2021-07-23T00:00:00.000000000",
          "2021-07-26T00:00:00.000000000",
          "2021-07-27T00:00:00.000000000",
          "2021-07-28T00:00:00.000000000",
          "2021-07-29T00:00:00.000000000",
          "2021-07-30T00:00:00.000000000",
          "2021-08-02T00:00:00.000000000",
          "2021-08-03T00:00:00.000000000",
          "2021-08-04T00:00:00.000000000",
          "2021-08-05T00:00:00.000000000",
          "2021-08-06T00:00:00.000000000",
          "2021-08-09T00:00:00.000000000",
          "2021-08-10T00:00:00.000000000",
          "2021-08-11T00:00:00.000000000",
          "2021-08-12T00:00:00.000000000",
          "2021-08-13T00:00:00.000000000",
          "2021-08-16T00:00:00.000000000",
          "2021-08-17T00:00:00.000000000",
          "2021-08-18T00:00:00.000000000",
          "2021-08-19T00:00:00.000000000",
          "2021-08-20T00:00:00.000000000",
          "2021-08-23T00:00:00.000000000",
          "2021-08-24T00:00:00.000000000",
          "2021-08-25T00:00:00.000000000",
          "2021-08-26T00:00:00.000000000",
          "2021-08-27T00:00:00.000000000",
          "2021-08-30T00:00:00.000000000",
          "2021-08-31T00:00:00.000000000",
          "2021-09-01T00:00:00.000000000",
          "2021-09-02T00:00:00.000000000",
          "2021-09-03T00:00:00.000000000",
          "2021-09-07T00:00:00.000000000",
          "2021-09-08T00:00:00.000000000",
          "2021-09-09T00:00:00.000000000",
          "2021-09-10T00:00:00.000000000",
          "2021-09-13T00:00:00.000000000",
          "2021-09-14T00:00:00.000000000",
          "2021-09-15T00:00:00.000000000",
          "2021-09-16T00:00:00.000000000",
          "2021-09-17T00:00:00.000000000",
          "2021-09-20T00:00:00.000000000",
          "2021-09-21T00:00:00.000000000",
          "2021-09-22T00:00:00.000000000",
          "2021-09-23T00:00:00.000000000",
          "2021-09-24T00:00:00.000000000",
          "2021-09-27T00:00:00.000000000",
          "2021-09-28T00:00:00.000000000",
          "2021-09-29T00:00:00.000000000",
          "2021-09-30T00:00:00.000000000",
          "2021-10-01T00:00:00.000000000",
          "2021-10-04T00:00:00.000000000",
          "2021-10-05T00:00:00.000000000",
          "2021-10-06T00:00:00.000000000",
          "2021-10-07T00:00:00.000000000",
          "2021-10-08T00:00:00.000000000",
          "2021-10-11T00:00:00.000000000",
          "2021-10-12T00:00:00.000000000",
          "2021-10-13T00:00:00.000000000",
          "2021-10-14T00:00:00.000000000",
          "2021-10-15T00:00:00.000000000",
          "2021-10-18T00:00:00.000000000",
          "2021-10-19T00:00:00.000000000",
          "2021-10-20T00:00:00.000000000",
          "2021-10-21T00:00:00.000000000",
          "2021-10-22T00:00:00.000000000",
          "2021-10-25T00:00:00.000000000",
          "2021-10-26T00:00:00.000000000",
          "2021-10-27T00:00:00.000000000",
          "2021-10-28T00:00:00.000000000",
          "2021-10-29T00:00:00.000000000",
          "2021-11-01T00:00:00.000000000",
          "2021-11-02T00:00:00.000000000",
          "2021-11-03T00:00:00.000000000",
          "2021-11-04T00:00:00.000000000",
          "2021-11-05T00:00:00.000000000",
          "2021-11-08T00:00:00.000000000",
          "2021-11-09T00:00:00.000000000",
          "2021-11-10T00:00:00.000000000",
          "2021-11-11T00:00:00.000000000",
          "2021-11-12T00:00:00.000000000",
          "2021-11-15T00:00:00.000000000",
          "2021-11-16T00:00:00.000000000",
          "2021-11-17T00:00:00.000000000",
          "2021-11-18T00:00:00.000000000",
          "2021-11-19T00:00:00.000000000",
          "2021-11-22T00:00:00.000000000",
          "2021-11-23T00:00:00.000000000",
          "2021-11-24T00:00:00.000000000",
          "2021-11-26T00:00:00.000000000",
          "2021-11-29T00:00:00.000000000",
          "2021-11-30T00:00:00.000000000",
          "2021-12-01T00:00:00.000000000",
          "2021-12-02T00:00:00.000000000",
          "2021-12-03T00:00:00.000000000",
          "2021-12-06T00:00:00.000000000",
          "2021-12-07T00:00:00.000000000",
          "2021-12-08T00:00:00.000000000",
          "2021-12-09T00:00:00.000000000",
          "2021-12-10T00:00:00.000000000",
          "2021-12-13T00:00:00.000000000",
          "2021-12-14T00:00:00.000000000",
          "2021-12-15T00:00:00.000000000",
          "2021-12-16T00:00:00.000000000",
          "2021-12-17T00:00:00.000000000",
          "2021-12-20T00:00:00.000000000",
          "2021-12-21T00:00:00.000000000",
          "2021-12-22T00:00:00.000000000",
          "2021-12-23T00:00:00.000000000",
          "2021-12-27T00:00:00.000000000",
          "2021-12-28T00:00:00.000000000",
          "2021-12-29T00:00:00.000000000",
          "2021-12-30T00:00:00.000000000",
          "2021-12-31T00:00:00.000000000",
          "2022-01-03T00:00:00.000000000",
          "2022-01-04T00:00:00.000000000",
          "2022-01-05T00:00:00.000000000",
          "2022-01-06T00:00:00.000000000",
          "2022-01-07T00:00:00.000000000",
          "2022-01-10T00:00:00.000000000",
          "2022-01-11T00:00:00.000000000",
          "2022-01-12T00:00:00.000000000",
          "2022-01-13T00:00:00.000000000",
          "2022-01-14T00:00:00.000000000",
          "2022-01-18T00:00:00.000000000",
          "2022-01-19T00:00:00.000000000",
          "2022-01-20T00:00:00.000000000",
          "2022-01-21T00:00:00.000000000",
          "2022-01-24T00:00:00.000000000",
          "2022-01-25T00:00:00.000000000",
          "2022-01-26T00:00:00.000000000",
          "2022-01-27T00:00:00.000000000",
          "2022-01-28T00:00:00.000000000",
          "2022-01-31T00:00:00.000000000",
          "2022-02-01T00:00:00.000000000",
          "2022-02-02T00:00:00.000000000",
          "2022-02-03T00:00:00.000000000",
          "2022-02-04T00:00:00.000000000",
          "2022-02-07T00:00:00.000000000",
          "2022-02-08T00:00:00.000000000",
          "2022-02-09T00:00:00.000000000",
          "2022-02-10T00:00:00.000000000",
          "2022-02-11T00:00:00.000000000",
          "2022-02-14T00:00:00.000000000",
          "2022-02-15T00:00:00.000000000",
          "2022-02-16T00:00:00.000000000",
          "2022-02-17T00:00:00.000000000",
          "2022-02-18T00:00:00.000000000",
          "2022-02-22T00:00:00.000000000",
          "2022-02-23T00:00:00.000000000",
          "2022-02-24T00:00:00.000000000",
          "2022-02-25T00:00:00.000000000",
          "2022-02-28T00:00:00.000000000",
          "2022-03-01T00:00:00.000000000",
          "2022-03-02T00:00:00.000000000",
          "2022-03-03T00:00:00.000000000",
          "2022-03-04T00:00:00.000000000",
          "2022-03-07T00:00:00.000000000",
          "2022-03-08T00:00:00.000000000",
          "2022-03-09T00:00:00.000000000",
          "2022-03-10T00:00:00.000000000",
          "2022-03-11T00:00:00.000000000",
          "2022-03-14T00:00:00.000000000",
          "2022-03-15T00:00:00.000000000",
          "2022-03-16T00:00:00.000000000",
          "2022-03-17T00:00:00.000000000",
          "2022-03-18T00:00:00.000000000",
          "2022-03-21T00:00:00.000000000",
          "2022-03-22T00:00:00.000000000",
          "2022-03-23T00:00:00.000000000",
          "2022-03-24T00:00:00.000000000",
          "2022-03-25T00:00:00.000000000",
          "2022-03-28T00:00:00.000000000",
          "2022-03-29T00:00:00.000000000",
          "2022-03-30T00:00:00.000000000",
          "2022-03-31T00:00:00.000000000",
          "2022-04-01T00:00:00.000000000",
          "2022-04-04T00:00:00.000000000",
          "2022-04-05T00:00:00.000000000",
          "2022-04-06T00:00:00.000000000",
          "2022-04-07T00:00:00.000000000",
          "2022-04-08T00:00:00.000000000",
          "2022-04-11T00:00:00.000000000",
          "2022-04-12T00:00:00.000000000",
          "2022-04-13T00:00:00.000000000",
          "2022-04-14T00:00:00.000000000",
          "2022-04-18T00:00:00.000000000",
          "2022-04-19T00:00:00.000000000",
          "2022-04-20T00:00:00.000000000",
          "2022-04-21T00:00:00.000000000",
          "2022-04-22T00:00:00.000000000",
          "2022-04-25T00:00:00.000000000",
          "2022-04-26T00:00:00.000000000",
          "2022-04-27T00:00:00.000000000",
          "2022-04-28T00:00:00.000000000",
          "2022-04-29T00:00:00.000000000",
          "2022-05-02T00:00:00.000000000",
          "2022-05-03T00:00:00.000000000",
          "2022-05-04T00:00:00.000000000",
          "2022-05-05T00:00:00.000000000",
          "2022-05-06T00:00:00.000000000",
          "2022-05-09T00:00:00.000000000",
          "2022-05-10T00:00:00.000000000",
          "2022-05-11T00:00:00.000000000",
          "2022-05-12T00:00:00.000000000",
          "2022-05-13T00:00:00.000000000",
          "2022-05-16T00:00:00.000000000",
          "2022-05-17T00:00:00.000000000",
          "2022-05-18T00:00:00.000000000",
          "2022-05-19T00:00:00.000000000",
          "2022-05-20T00:00:00.000000000",
          "2022-05-23T00:00:00.000000000",
          "2022-05-24T00:00:00.000000000",
          "2022-05-25T00:00:00.000000000",
          "2022-05-26T00:00:00.000000000",
          "2022-05-27T00:00:00.000000000",
          "2022-05-31T00:00:00.000000000",
          "2022-06-01T00:00:00.000000000",
          "2022-06-02T00:00:00.000000000",
          "2022-06-03T00:00:00.000000000",
          "2022-06-06T00:00:00.000000000",
          "2022-06-07T00:00:00.000000000",
          "2022-06-08T00:00:00.000000000",
          "2022-06-09T00:00:00.000000000",
          "2022-06-10T00:00:00.000000000",
          "2022-06-13T00:00:00.000000000",
          "2022-06-14T00:00:00.000000000",
          "2022-06-15T00:00:00.000000000",
          "2022-06-16T00:00:00.000000000",
          "2022-06-17T00:00:00.000000000",
          "2022-06-21T00:00:00.000000000",
          "2022-06-22T00:00:00.000000000",
          "2022-06-23T00:00:00.000000000",
          "2022-06-24T00:00:00.000000000",
          "2022-06-27T00:00:00.000000000",
          "2022-06-28T00:00:00.000000000",
          "2022-06-29T00:00:00.000000000",
          "2022-06-30T00:00:00.000000000",
          "2022-07-01T00:00:00.000000000",
          "2022-07-05T00:00:00.000000000",
          "2022-07-06T00:00:00.000000000",
          "2022-07-07T00:00:00.000000000",
          "2022-07-08T00:00:00.000000000",
          "2022-07-11T00:00:00.000000000",
          "2022-07-12T00:00:00.000000000",
          "2022-07-13T00:00:00.000000000",
          "2022-07-14T00:00:00.000000000",
          "2022-07-15T00:00:00.000000000",
          "2022-07-18T00:00:00.000000000",
          "2022-07-19T00:00:00.000000000",
          "2022-07-20T00:00:00.000000000",
          "2022-07-21T00:00:00.000000000",
          "2022-07-22T00:00:00.000000000",
          "2022-07-25T00:00:00.000000000",
          "2022-07-26T00:00:00.000000000",
          "2022-07-27T00:00:00.000000000",
          "2022-07-28T00:00:00.000000000",
          "2022-07-29T00:00:00.000000000",
          "2022-08-01T00:00:00.000000000",
          "2022-08-02T00:00:00.000000000",
          "2022-08-03T00:00:00.000000000",
          "2022-08-04T00:00:00.000000000",
          "2022-08-05T00:00:00.000000000",
          "2022-08-08T00:00:00.000000000",
          "2022-08-09T00:00:00.000000000",
          "2022-08-10T00:00:00.000000000",
          "2022-08-11T00:00:00.000000000",
          "2022-08-12T00:00:00.000000000",
          "2022-08-15T00:00:00.000000000",
          "2022-08-16T00:00:00.000000000",
          "2022-08-17T00:00:00.000000000",
          "2022-08-18T00:00:00.000000000",
          "2022-08-19T00:00:00.000000000",
          "2022-08-22T00:00:00.000000000",
          "2022-08-23T00:00:00.000000000",
          "2022-08-24T00:00:00.000000000",
          "2022-08-25T00:00:00.000000000",
          "2022-08-26T00:00:00.000000000",
          "2022-08-29T00:00:00.000000000",
          "2022-08-30T00:00:00.000000000",
          "2022-08-31T00:00:00.000000000",
          "2022-09-01T00:00:00.000000000",
          "2022-09-02T00:00:00.000000000",
          "2022-09-06T00:00:00.000000000",
          "2022-09-07T00:00:00.000000000",
          "2022-09-08T00:00:00.000000000",
          "2022-09-09T00:00:00.000000000",
          "2022-09-12T00:00:00.000000000",
          "2022-09-13T00:00:00.000000000",
          "2022-09-14T00:00:00.000000000",
          "2022-09-15T00:00:00.000000000",
          "2022-09-16T00:00:00.000000000",
          "2022-09-19T00:00:00.000000000",
          "2022-09-20T00:00:00.000000000",
          "2022-09-21T00:00:00.000000000",
          "2022-09-22T00:00:00.000000000",
          "2022-09-23T00:00:00.000000000",
          "2022-09-26T00:00:00.000000000",
          "2022-09-27T00:00:00.000000000",
          "2022-09-28T00:00:00.000000000",
          "2022-09-29T00:00:00.000000000",
          "2022-09-30T00:00:00.000000000",
          "2022-10-03T00:00:00.000000000",
          "2022-10-04T00:00:00.000000000",
          "2022-10-05T00:00:00.000000000",
          "2022-10-06T00:00:00.000000000",
          "2022-10-07T00:00:00.000000000",
          "2022-10-10T00:00:00.000000000",
          "2022-10-11T00:00:00.000000000",
          "2022-10-12T00:00:00.000000000",
          "2022-10-13T00:00:00.000000000",
          "2022-10-14T00:00:00.000000000",
          "2022-10-17T00:00:00.000000000",
          "2022-10-18T00:00:00.000000000",
          "2022-10-19T00:00:00.000000000",
          "2022-10-20T00:00:00.000000000",
          "2022-10-21T00:00:00.000000000",
          "2022-10-24T00:00:00.000000000",
          "2022-10-25T00:00:00.000000000",
          "2022-10-26T00:00:00.000000000",
          "2022-10-27T00:00:00.000000000",
          "2022-10-28T00:00:00.000000000",
          "2022-10-31T00:00:00.000000000",
          "2022-11-01T00:00:00.000000000",
          "2022-11-02T00:00:00.000000000",
          "2022-11-03T00:00:00.000000000",
          "2022-11-04T00:00:00.000000000",
          "2022-11-07T00:00:00.000000000",
          "2022-11-08T00:00:00.000000000",
          "2022-11-09T00:00:00.000000000",
          "2022-11-10T00:00:00.000000000",
          "2022-11-11T00:00:00.000000000",
          "2022-11-14T00:00:00.000000000",
          "2022-11-15T00:00:00.000000000",
          "2022-11-16T00:00:00.000000000",
          "2022-11-17T00:00:00.000000000",
          "2022-11-18T00:00:00.000000000",
          "2022-11-21T00:00:00.000000000",
          "2022-11-22T00:00:00.000000000",
          "2022-11-23T00:00:00.000000000",
          "2022-11-25T00:00:00.000000000",
          "2022-11-28T00:00:00.000000000",
          "2022-11-29T00:00:00.000000000",
          "2022-11-30T00:00:00.000000000",
          "2022-12-01T00:00:00.000000000",
          "2022-12-02T00:00:00.000000000",
          "2022-12-05T00:00:00.000000000",
          "2022-12-06T00:00:00.000000000",
          "2022-12-07T00:00:00.000000000",
          "2022-12-08T00:00:00.000000000",
          "2022-12-09T00:00:00.000000000",
          "2022-12-12T00:00:00.000000000",
          "2022-12-13T00:00:00.000000000",
          "2022-12-14T00:00:00.000000000",
          "2022-12-15T00:00:00.000000000",
          "2022-12-16T00:00:00.000000000",
          "2022-12-19T00:00:00.000000000",
          "2022-12-20T00:00:00.000000000",
          "2022-12-21T00:00:00.000000000",
          "2022-12-22T00:00:00.000000000",
          "2022-12-23T00:00:00.000000000",
          "2022-12-27T00:00:00.000000000",
          "2022-12-28T00:00:00.000000000",
          "2022-12-29T00:00:00.000000000",
          "2022-12-30T00:00:00.000000000",
          "2023-01-03T00:00:00.000000000",
          "2023-01-04T00:00:00.000000000",
          "2023-01-05T00:00:00.000000000",
          "2023-01-06T00:00:00.000000000",
          "2023-01-09T00:00:00.000000000",
          "2023-01-10T00:00:00.000000000",
          "2023-01-11T00:00:00.000000000",
          "2023-01-12T00:00:00.000000000",
          "2023-01-13T00:00:00.000000000",
          "2023-01-17T00:00:00.000000000",
          "2023-01-18T00:00:00.000000000",
          "2023-01-19T00:00:00.000000000",
          "2023-01-20T00:00:00.000000000",
          "2023-01-23T00:00:00.000000000",
          "2023-01-24T00:00:00.000000000",
          "2023-01-25T00:00:00.000000000",
          "2023-01-26T00:00:00.000000000",
          "2023-01-27T00:00:00.000000000",
          "2023-01-30T00:00:00.000000000",
          "2023-01-31T00:00:00.000000000",
          "2023-02-01T00:00:00.000000000",
          "2023-02-02T00:00:00.000000000",
          "2023-02-03T00:00:00.000000000",
          "2023-02-06T00:00:00.000000000",
          "2023-02-07T00:00:00.000000000",
          "2023-02-08T00:00:00.000000000",
          "2023-02-09T00:00:00.000000000",
          "2023-02-10T00:00:00.000000000",
          "2023-02-13T00:00:00.000000000",
          "2023-02-14T00:00:00.000000000",
          "2023-02-15T00:00:00.000000000",
          "2023-02-16T00:00:00.000000000",
          "2023-02-17T00:00:00.000000000",
          "2023-02-21T00:00:00.000000000",
          "2023-02-22T00:00:00.000000000",
          "2023-02-23T00:00:00.000000000",
          "2023-02-24T00:00:00.000000000",
          "2023-02-27T00:00:00.000000000",
          "2023-02-28T00:00:00.000000000",
          "2023-03-01T00:00:00.000000000",
          "2023-03-02T00:00:00.000000000",
          "2023-03-03T00:00:00.000000000",
          "2023-03-06T00:00:00.000000000",
          "2023-03-07T00:00:00.000000000",
          "2023-03-08T00:00:00.000000000",
          "2023-03-09T00:00:00.000000000",
          "2023-03-10T00:00:00.000000000",
          "2023-03-13T00:00:00.000000000",
          "2023-03-14T00:00:00.000000000",
          "2023-03-15T00:00:00.000000000",
          "2023-03-16T00:00:00.000000000",
          "2023-03-17T00:00:00.000000000",
          "2023-03-20T00:00:00.000000000",
          "2023-03-21T00:00:00.000000000",
          "2023-03-22T00:00:00.000000000",
          "2023-03-23T00:00:00.000000000",
          "2023-03-24T00:00:00.000000000",
          "2023-03-27T00:00:00.000000000",
          "2023-03-28T00:00:00.000000000",
          "2023-03-29T00:00:00.000000000",
          "2023-03-30T00:00:00.000000000",
          "2023-03-31T00:00:00.000000000",
          "2023-04-03T00:00:00.000000000",
          "2023-04-04T00:00:00.000000000",
          "2023-04-05T00:00:00.000000000",
          "2023-04-06T00:00:00.000000000",
          "2023-04-10T00:00:00.000000000",
          "2023-04-11T00:00:00.000000000",
          "2023-04-12T00:00:00.000000000",
          "2023-04-13T00:00:00.000000000",
          "2023-04-14T00:00:00.000000000",
          "2023-04-17T00:00:00.000000000",
          "2023-04-18T00:00:00.000000000",
          "2023-04-19T00:00:00.000000000",
          "2023-04-20T00:00:00.000000000",
          "2023-04-21T00:00:00.000000000",
          "2023-04-24T00:00:00.000000000",
          "2023-04-25T00:00:00.000000000",
          "2023-04-26T00:00:00.000000000",
          "2023-04-27T00:00:00.000000000",
          "2023-04-28T00:00:00.000000000",
          "2023-05-01T00:00:00.000000000",
          "2023-05-02T00:00:00.000000000",
          "2023-05-03T00:00:00.000000000",
          "2023-05-04T00:00:00.000000000",
          "2023-05-05T00:00:00.000000000",
          "2023-05-08T00:00:00.000000000",
          "2023-05-09T00:00:00.000000000",
          "2023-05-10T00:00:00.000000000",
          "2023-05-11T00:00:00.000000000",
          "2023-05-12T00:00:00.000000000",
          "2023-05-15T00:00:00.000000000",
          "2023-05-16T00:00:00.000000000",
          "2023-05-17T00:00:00.000000000",
          "2023-05-18T00:00:00.000000000",
          "2023-05-19T00:00:00.000000000",
          "2023-05-22T00:00:00.000000000",
          "2023-05-23T00:00:00.000000000",
          "2023-05-24T00:00:00.000000000",
          "2023-05-25T00:00:00.000000000",
          "2023-05-26T00:00:00.000000000",
          "2023-05-30T00:00:00.000000000",
          "2023-05-31T00:00:00.000000000",
          "2023-06-01T00:00:00.000000000",
          "2023-06-02T00:00:00.000000000",
          "2023-06-05T00:00:00.000000000",
          "2023-06-06T00:00:00.000000000",
          "2023-06-07T00:00:00.000000000",
          "2023-06-08T00:00:00.000000000",
          "2023-06-09T00:00:00.000000000",
          "2023-06-12T00:00:00.000000000",
          "2023-06-13T00:00:00.000000000",
          "2023-06-14T00:00:00.000000000",
          "2023-06-15T00:00:00.000000000",
          "2023-06-16T00:00:00.000000000",
          "2023-06-20T00:00:00.000000000",
          "2023-06-21T00:00:00.000000000",
          "2023-06-22T00:00:00.000000000",
          "2023-06-23T00:00:00.000000000",
          "2023-06-26T00:00:00.000000000",
          "2023-06-27T00:00:00.000000000",
          "2023-06-28T00:00:00.000000000",
          "2023-06-29T00:00:00.000000000",
          "2023-06-30T00:00:00.000000000",
          "2023-07-03T00:00:00.000000000",
          "2023-07-05T00:00:00.000000000",
          "2023-07-06T00:00:00.000000000",
          "2023-07-07T00:00:00.000000000",
          "2023-07-10T00:00:00.000000000",
          "2023-07-11T00:00:00.000000000",
          "2023-07-12T00:00:00.000000000",
          "2023-07-13T00:00:00.000000000",
          "2023-07-14T00:00:00.000000000",
          "2023-07-17T00:00:00.000000000",
          "2023-07-18T00:00:00.000000000",
          "2023-07-19T00:00:00.000000000",
          "2023-07-20T00:00:00.000000000",
          "2023-07-21T00:00:00.000000000",
          "2023-07-24T00:00:00.000000000",
          "2023-07-25T00:00:00.000000000",
          "2023-07-26T00:00:00.000000000",
          "2023-07-27T00:00:00.000000000",
          "2023-07-28T00:00:00.000000000",
          "2023-07-31T00:00:00.000000000",
          "2023-08-01T00:00:00.000000000",
          "2023-08-02T00:00:00.000000000",
          "2023-08-03T00:00:00.000000000",
          "2023-08-04T00:00:00.000000000",
          "2023-08-07T00:00:00.000000000",
          "2023-08-08T00:00:00.000000000",
          "2023-08-09T00:00:00.000000000",
          "2023-08-10T00:00:00.000000000",
          "2023-08-11T00:00:00.000000000",
          "2023-08-14T00:00:00.000000000",
          "2023-08-15T00:00:00.000000000",
          "2023-08-16T00:00:00.000000000",
          "2023-08-17T00:00:00.000000000",
          "2023-08-18T00:00:00.000000000",
          "2023-08-21T00:00:00.000000000",
          "2023-08-22T00:00:00.000000000",
          "2023-08-23T00:00:00.000000000",
          "2023-08-24T00:00:00.000000000",
          "2023-08-25T00:00:00.000000000",
          "2023-08-28T00:00:00.000000000",
          "2023-08-29T00:00:00.000000000",
          "2023-08-30T00:00:00.000000000",
          "2023-08-31T00:00:00.000000000",
          "2023-09-01T00:00:00.000000000",
          "2023-09-05T00:00:00.000000000",
          "2023-09-06T00:00:00.000000000",
          "2023-09-07T00:00:00.000000000",
          "2023-09-08T00:00:00.000000000",
          "2023-09-11T00:00:00.000000000",
          "2023-09-12T00:00:00.000000000",
          "2023-09-13T00:00:00.000000000",
          "2023-09-14T00:00:00.000000000",
          "2023-09-15T00:00:00.000000000",
          "2023-09-18T00:00:00.000000000",
          "2023-09-19T00:00:00.000000000",
          "2023-09-20T00:00:00.000000000",
          "2023-09-21T00:00:00.000000000",
          "2023-09-22T00:00:00.000000000",
          "2023-09-25T00:00:00.000000000",
          "2023-09-26T00:00:00.000000000",
          "2023-09-27T00:00:00.000000000",
          "2023-09-28T00:00:00.000000000",
          "2023-09-29T00:00:00.000000000",
          "2023-10-02T00:00:00.000000000",
          "2023-10-03T00:00:00.000000000",
          "2023-10-04T00:00:00.000000000",
          "2023-10-05T00:00:00.000000000",
          "2023-10-06T00:00:00.000000000",
          "2023-10-09T00:00:00.000000000",
          "2023-10-10T00:00:00.000000000",
          "2023-10-11T00:00:00.000000000",
          "2023-10-12T00:00:00.000000000",
          "2023-10-13T00:00:00.000000000",
          "2023-10-16T00:00:00.000000000",
          "2023-10-17T00:00:00.000000000",
          "2023-10-18T00:00:00.000000000",
          "2023-10-19T00:00:00.000000000",
          "2023-10-20T00:00:00.000000000",
          "2023-10-23T00:00:00.000000000",
          "2023-10-24T00:00:00.000000000",
          "2023-10-25T00:00:00.000000000",
          "2023-10-26T00:00:00.000000000",
          "2023-10-27T00:00:00.000000000",
          "2023-10-30T00:00:00.000000000",
          "2023-10-31T00:00:00.000000000",
          "2023-11-01T00:00:00.000000000",
          "2023-11-02T00:00:00.000000000",
          "2023-11-03T00:00:00.000000000",
          "2023-11-06T00:00:00.000000000",
          "2023-11-07T00:00:00.000000000",
          "2023-11-08T00:00:00.000000000",
          "2023-11-09T00:00:00.000000000",
          "2023-11-10T00:00:00.000000000",
          "2023-11-13T00:00:00.000000000",
          "2023-11-14T00:00:00.000000000",
          "2023-11-15T00:00:00.000000000",
          "2023-11-16T00:00:00.000000000",
          "2023-11-17T00:00:00.000000000",
          "2023-11-20T00:00:00.000000000",
          "2023-11-21T00:00:00.000000000",
          "2023-11-22T00:00:00.000000000",
          "2023-11-24T00:00:00.000000000",
          "2023-11-27T00:00:00.000000000",
          "2023-11-28T00:00:00.000000000",
          "2023-11-29T00:00:00.000000000",
          "2023-11-30T00:00:00.000000000",
          "2023-12-01T00:00:00.000000000",
          "2023-12-04T00:00:00.000000000",
          "2023-12-05T00:00:00.000000000",
          "2023-12-06T00:00:00.000000000",
          "2023-12-07T00:00:00.000000000",
          "2023-12-08T00:00:00.000000000",
          "2023-12-11T00:00:00.000000000",
          "2023-12-12T00:00:00.000000000",
          "2023-12-13T00:00:00.000000000",
          "2023-12-14T00:00:00.000000000",
          "2023-12-15T00:00:00.000000000",
          "2023-12-18T00:00:00.000000000",
          "2023-12-19T00:00:00.000000000",
          "2023-12-20T00:00:00.000000000",
          "2023-12-21T00:00:00.000000000",
          "2023-12-22T00:00:00.000000000",
          "2023-12-26T00:00:00.000000000",
          "2023-12-27T00:00:00.000000000",
          "2023-12-28T00:00:00.000000000",
          "2023-12-29T00:00:00.000000000",
          "2024-01-02T00:00:00.000000000",
          "2024-01-03T00:00:00.000000000",
          "2024-01-04T00:00:00.000000000",
          "2024-01-05T00:00:00.000000000",
          "2024-01-08T00:00:00.000000000",
          "2024-01-09T00:00:00.000000000",
          "2024-01-10T00:00:00.000000000",
          "2024-01-11T00:00:00.000000000",
          "2024-01-12T00:00:00.000000000",
          "2024-01-16T00:00:00.000000000",
          "2024-01-17T00:00:00.000000000",
          "2024-01-18T00:00:00.000000000",
          "2024-01-19T00:00:00.000000000",
          "2024-01-22T00:00:00.000000000",
          "2024-01-23T00:00:00.000000000",
          "2024-01-24T00:00:00.000000000",
          "2024-01-25T00:00:00.000000000",
          "2024-01-26T00:00:00.000000000",
          "2024-01-29T00:00:00.000000000",
          "2024-01-30T00:00:00.000000000",
          "2024-01-31T00:00:00.000000000",
          "2024-02-01T00:00:00.000000000",
          "2024-02-02T00:00:00.000000000",
          "2024-02-05T00:00:00.000000000",
          "2024-02-06T00:00:00.000000000",
          "2024-02-07T00:00:00.000000000",
          "2024-02-08T00:00:00.000000000",
          "2024-02-09T00:00:00.000000000",
          "2024-02-12T00:00:00.000000000",
          "2024-02-13T00:00:00.000000000",
          "2024-02-14T00:00:00.000000000",
          "2024-02-15T00:00:00.000000000",
          "2024-02-16T00:00:00.000000000",
          "2024-02-20T00:00:00.000000000",
          "2024-02-21T00:00:00.000000000",
          "2024-02-22T00:00:00.000000000",
          "2024-02-23T00:00:00.000000000",
          "2024-02-26T00:00:00.000000000",
          "2024-02-27T00:00:00.000000000",
          "2024-02-28T00:00:00.000000000",
          "2024-02-29T00:00:00.000000000",
          "2024-03-01T00:00:00.000000000",
          "2024-03-04T00:00:00.000000000",
          "2024-03-05T00:00:00.000000000",
          "2024-03-06T00:00:00.000000000",
          "2024-03-07T00:00:00.000000000",
          "2024-03-08T00:00:00.000000000",
          "2024-03-11T00:00:00.000000000",
          "2024-03-12T00:00:00.000000000",
          "2024-03-13T00:00:00.000000000",
          "2024-03-14T00:00:00.000000000",
          "2024-03-15T00:00:00.000000000",
          "2024-03-18T00:00:00.000000000",
          "2024-03-19T00:00:00.000000000",
          "2024-03-20T00:00:00.000000000",
          "2024-03-21T00:00:00.000000000",
          "2024-03-22T00:00:00.000000000",
          "2024-03-25T00:00:00.000000000",
          "2024-03-26T00:00:00.000000000",
          "2024-03-27T00:00:00.000000000",
          "2024-03-28T00:00:00.000000000",
          "2024-04-01T00:00:00.000000000",
          "2024-04-02T00:00:00.000000000",
          "2024-04-03T00:00:00.000000000",
          "2024-04-04T00:00:00.000000000",
          "2024-04-05T00:00:00.000000000",
          "2024-04-08T00:00:00.000000000",
          "2024-04-09T00:00:00.000000000",
          "2024-04-10T00:00:00.000000000",
          "2024-04-11T00:00:00.000000000",
          "2024-04-12T00:00:00.000000000",
          "2024-04-15T00:00:00.000000000",
          "2024-04-16T00:00:00.000000000",
          "2024-04-17T00:00:00.000000000",
          "2024-04-18T00:00:00.000000000",
          "2024-04-19T00:00:00.000000000",
          "2024-04-22T00:00:00.000000000",
          "2024-04-23T00:00:00.000000000",
          "2024-04-24T00:00:00.000000000",
          "2024-04-25T00:00:00.000000000",
          "2024-04-26T00:00:00.000000000",
          "2024-04-29T00:00:00.000000000",
          "2024-04-30T00:00:00.000000000",
          "2024-05-01T00:00:00.000000000",
          "2024-05-02T00:00:00.000000000",
          "2024-05-03T00:00:00.000000000",
          "2024-05-06T00:00:00.000000000",
          "2024-05-07T00:00:00.000000000",
          "2024-05-08T00:00:00.000000000",
          "2024-05-09T00:00:00.000000000",
          "2024-05-10T00:00:00.000000000",
          "2024-05-13T00:00:00.000000000",
          "2024-05-14T00:00:00.000000000",
          "2024-05-15T00:00:00.000000000",
          "2024-05-16T00:00:00.000000000",
          "2024-05-17T00:00:00.000000000",
          "2024-05-20T00:00:00.000000000",
          "2024-05-21T00:00:00.000000000",
          "2024-05-22T00:00:00.000000000",
          "2024-05-23T00:00:00.000000000",
          "2024-05-24T00:00:00.000000000",
          "2024-05-28T00:00:00.000000000",
          "2024-05-29T00:00:00.000000000",
          "2024-05-30T00:00:00.000000000",
          "2024-05-31T00:00:00.000000000",
          "2024-06-03T00:00:00.000000000",
          "2024-06-04T00:00:00.000000000",
          "2024-06-05T00:00:00.000000000",
          "2024-06-06T00:00:00.000000000",
          "2024-06-07T00:00:00.000000000",
          "2024-06-10T00:00:00.000000000",
          "2024-06-11T00:00:00.000000000",
          "2024-06-12T00:00:00.000000000",
          "2024-06-13T00:00:00.000000000",
          "2024-06-14T00:00:00.000000000",
          "2024-06-17T00:00:00.000000000",
          "2024-06-18T00:00:00.000000000",
          "2024-06-20T00:00:00.000000000",
          "2024-06-21T00:00:00.000000000",
          "2024-06-24T00:00:00.000000000",
          "2024-06-25T00:00:00.000000000",
          "2024-06-26T00:00:00.000000000",
          "2024-06-27T00:00:00.000000000",
          "2024-06-28T00:00:00.000000000",
          "2024-07-01T00:00:00.000000000",
          "2024-07-02T00:00:00.000000000",
          "2024-07-03T00:00:00.000000000",
          "2024-07-05T00:00:00.000000000",
          "2024-07-08T00:00:00.000000000",
          "2024-07-09T00:00:00.000000000",
          "2024-07-10T00:00:00.000000000",
          "2024-07-11T00:00:00.000000000",
          "2024-07-12T00:00:00.000000000",
          "2024-07-15T00:00:00.000000000",
          "2024-07-16T00:00:00.000000000",
          "2024-07-17T00:00:00.000000000",
          "2024-07-18T00:00:00.000000000",
          "2024-07-19T00:00:00.000000000",
          "2024-07-22T00:00:00.000000000",
          "2024-07-23T00:00:00.000000000",
          "2024-07-24T00:00:00.000000000",
          "2024-07-25T00:00:00.000000000",
          "2024-07-26T00:00:00.000000000",
          "2024-07-29T00:00:00.000000000",
          "2024-07-30T00:00:00.000000000",
          "2024-07-31T00:00:00.000000000",
          "2024-08-01T00:00:00.000000000",
          "2024-08-02T00:00:00.000000000",
          "2024-08-05T00:00:00.000000000",
          "2024-08-06T00:00:00.000000000",
          "2024-08-07T00:00:00.000000000",
          "2024-08-08T00:00:00.000000000",
          "2024-08-09T00:00:00.000000000",
          "2024-08-12T00:00:00.000000000",
          "2024-08-13T00:00:00.000000000",
          "2024-08-14T00:00:00.000000000",
          "2024-08-15T00:00:00.000000000",
          "2024-08-16T00:00:00.000000000",
          "2024-08-19T00:00:00.000000000",
          "2024-08-20T00:00:00.000000000",
          "2024-08-21T00:00:00.000000000",
          "2024-08-22T00:00:00.000000000",
          "2024-08-23T00:00:00.000000000",
          "2024-08-26T00:00:00.000000000",
          "2024-08-27T00:00:00.000000000",
          "2024-08-28T00:00:00.000000000",
          "2024-08-29T00:00:00.000000000",
          "2024-08-30T00:00:00.000000000",
          "2024-09-03T00:00:00.000000000",
          "2024-09-04T00:00:00.000000000",
          "2024-09-05T00:00:00.000000000",
          "2024-09-06T00:00:00.000000000",
          "2024-09-09T00:00:00.000000000",
          "2024-09-10T00:00:00.000000000",
          "2024-09-11T00:00:00.000000000",
          "2024-09-12T00:00:00.000000000",
          "2024-09-13T00:00:00.000000000",
          "2024-09-16T00:00:00.000000000",
          "2024-09-17T00:00:00.000000000",
          "2024-09-18T00:00:00.000000000",
          "2024-09-19T00:00:00.000000000",
          "2024-09-20T00:00:00.000000000",
          "2024-09-23T00:00:00.000000000",
          "2024-09-24T00:00:00.000000000",
          "2024-09-25T00:00:00.000000000",
          "2024-09-26T00:00:00.000000000",
          "2024-09-27T00:00:00.000000000",
          "2024-09-30T00:00:00.000000000",
          "2024-10-01T00:00:00.000000000",
          "2024-10-02T00:00:00.000000000",
          "2024-10-03T00:00:00.000000000",
          "2024-10-04T00:00:00.000000000",
          "2024-10-07T00:00:00.000000000",
          "2024-10-08T00:00:00.000000000",
          "2024-10-09T00:00:00.000000000",
          "2024-10-10T00:00:00.000000000",
          "2024-10-11T00:00:00.000000000",
          "2024-10-14T00:00:00.000000000",
          "2024-10-15T00:00:00.000000000",
          "2024-10-16T00:00:00.000000000",
          "2024-10-17T00:00:00.000000000",
          "2024-10-18T00:00:00.000000000",
          "2024-10-21T00:00:00.000000000",
          "2024-10-22T00:00:00.000000000",
          "2024-10-23T00:00:00.000000000",
          "2024-10-24T00:00:00.000000000",
          "2024-10-25T00:00:00.000000000",
          "2024-10-28T00:00:00.000000000",
          "2024-10-29T00:00:00.000000000",
          "2024-10-30T00:00:00.000000000",
          "2024-10-31T00:00:00.000000000",
          "2024-11-01T00:00:00.000000000",
          "2024-11-04T00:00:00.000000000",
          "2024-11-05T00:00:00.000000000",
          "2024-11-06T00:00:00.000000000",
          "2024-11-07T00:00:00.000000000",
          "2024-11-08T00:00:00.000000000",
          "2024-11-11T00:00:00.000000000",
          "2024-11-12T00:00:00.000000000",
          "2024-11-13T00:00:00.000000000",
          "2024-11-14T00:00:00.000000000",
          "2024-11-15T00:00:00.000000000",
          "2024-11-18T00:00:00.000000000",
          "2024-11-19T00:00:00.000000000",
          "2024-11-20T00:00:00.000000000",
          "2024-11-21T00:00:00.000000000",
          "2024-11-22T00:00:00.000000000",
          "2024-11-25T00:00:00.000000000",
          "2024-11-26T00:00:00.000000000",
          "2024-11-27T00:00:00.000000000",
          "2024-11-29T00:00:00.000000000",
          "2024-12-02T00:00:00.000000000",
          "2024-12-03T00:00:00.000000000",
          "2024-12-04T00:00:00.000000000",
          "2024-12-05T00:00:00.000000000",
          "2024-12-06T00:00:00.000000000",
          "2024-12-09T00:00:00.000000000",
          "2024-12-10T00:00:00.000000000",
          "2024-12-11T00:00:00.000000000",
          "2024-12-12T00:00:00.000000000",
          "2024-12-13T00:00:00.000000000",
          "2024-12-16T00:00:00.000000000",
          "2024-12-17T00:00:00.000000000",
          "2024-12-18T00:00:00.000000000",
          "2024-12-19T00:00:00.000000000",
          "2024-12-20T00:00:00.000000000",
          "2024-12-23T00:00:00.000000000",
          "2024-12-24T00:00:00.000000000",
          "2024-12-26T00:00:00.000000000",
          "2024-12-27T00:00:00.000000000",
          "2024-12-30T00:00:00.000000000",
          "2024-12-31T00:00:00.000000000",
          "2025-01-02T00:00:00.000000000",
          "2025-01-03T00:00:00.000000000",
          "2025-01-06T00:00:00.000000000",
          "2025-01-07T00:00:00.000000000",
          "2025-01-08T00:00:00.000000000",
          "2025-01-10T00:00:00.000000000",
          "2025-01-13T00:00:00.000000000",
          "2025-01-14T00:00:00.000000000",
          "2025-01-15T00:00:00.000000000",
          "2025-01-16T00:00:00.000000000",
          "2025-01-17T00:00:00.000000000",
          "2025-01-21T00:00:00.000000000",
          "2025-01-22T00:00:00.000000000",
          "2025-01-23T00:00:00.000000000",
          "2025-01-24T00:00:00.000000000"
         ],
         "y": {
          "bdata": "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",
          "dtype": "f8"
         }
        },
        {
         "line": {
          "color": "green",
          "width": 2
         },
         "marker": {
          "color": "green",
          "size": 8
         },
         "mode": "lines+markers",
         "name": "Price bearish_divergence",
         "showlegend": true,
         "type": "scatter",
         "x": [
          "2020-11-02T00:00:00",
          "2020-11-24T00:00:00"
         ],
         "y": [
          104.64759511176818,
          109.97576812456435
         ]
        },
        {
         "line": {
          "color": "blue",
          "dash": "dash",
          "width": 2
         },
         "marker": {
          "color": "blue",
          "size": 8
         },
         "mode": "lines+markers",
         "name": "rsi_14 bearish_divergence",
         "showlegend": true,
         "type": "scatter",
         "x": [
          "2020-11-02T00:00:00",
          "2020-11-19T00:00:00"
         ],
         "y": [
          141.07816969042113,
          132.7748364220852
         ]
        },
        {
         "line": {
          "color": "green",
          "width": 2
         },
         "marker": {
          "color": "green",
          "size": 8
         },
         "mode": "lines+markers",
         "name": "Price convergence",
         "showlegend": false,
         "type": "scatter",
         "x": [
          "2020-11-24T00:00:00",
          "2021-01-06T00:00:00"
         ],
         "y": [
          109.97576812456435,
          123.44559128213457
         ]
        },
        {
         "line": {
          "color": "blue",
          "dash": "dash",
          "width": 2
         },
         "marker": {
          "color": "blue",
          "size": 8
         },
         "mode": "lines+markers",
         "name": "rsi_14 convergence",
         "showlegend": false,
         "type": "scatter",
         "x": [
          "2020-11-19T00:00:00",
          "2021-01-13T00:00:00"
         ],
         "y": [
          132.7748364220852,
          151.92803149090295
         ]
        },
        {
         "line": {
          "color": "red",
          "width": 2
         },
         "marker": {
          "color": "red",
          "size": 8
         },
         "mode": "lines+markers",
         "name": "Price convergence",
         "showlegend": false,
         "type": "scatter",
         "x": [
          "2021-01-06T00:00:00",
          "2021-02-23T00:00:00"
         ],
         "y": [
          123.44559128213457,
          115.81391675875304
         ]
        },
        {
         "line": {
          "color": "blue",
          "dash": "dash",
          "width": 2
         },
         "marker": {
          "color": "blue",
          "size": 8
         },
         "mode": "lines+markers",
         "name": "rsi_14 convergence",
         "showlegend": false,
         "type": "scatter",
         "x": [
          "2021-01-13T00:00:00",
          "2021-02-19T00:00:00"
         ],
         "y": [
          151.92803149090295,
          127.6514951750824
         ]
        },
        {
         "line": {
          "color": "red",
          "width": 2
         },
         "marker": {
          "color": "red",
          "size": 8
         },
         "mode": "lines+markers",
         "name": "Price neutral",
         "showlegend": false,
         "type": "scatter",
         "x": [
          "2021-02-23T00:00:00",
          "2021-03-08T00:00:00"
         ],
         "y": [
          115.81391675875304,
          113.68137211608605
         ]
        },
        {
         "line": {
          "color": "blue",
          "dash": "dash",
          "width": 2
         },
         "marker": {
          "color": "blue",
          "size": 8
         },
         "mode": "lines+markers",
         "name": "rsi_14 neutral",
         "showlegend": false,
         "type": "scatter",
         "x": [
          "2021-02-19T00:00:00",
          "2021-02-19T00:00:00"
         ],
         "y": [
          127.6514951750824,
          127.6514951750824
         ]
        },
        {
         "line": {
          "color": "green",
          "width": 2
         },
         "marker": {
          "color": "green",
          "size": 8
         },
         "mode": "lines+markers",
         "name": "Price convergence",
         "showlegend": false,
         "type": "scatter",
         "x": [
          "2021-03-08T00:00:00",
          "2021-03-30T00:00:00"
         ],
         "y": [
          113.68137211608605,
          116.27369017794591
         ]
        },
        {
         "line": {
          "color": "blue",
          "dash": "dash",
          "width": 2
         },
         "marker": {
          "color": "blue",
          "size": 8
         },
         "mode": "lines+markers",
         "name": "rsi_14 convergence",
         "showlegend": false,
         "type": "scatter",
         "x": [
          "2021-02-19T00:00:00",
          "2021-03-24T00:00:00"
         ],
         "y": [
          127.6514951750824,
          141.84572628138343
         ]
        },
        {
         "line": {
          "color": "green",
          "width": 2
         },
         "marker": {
          "color": "green",
          "size": 8
         },
         "mode": "lines+markers",
         "name": "Price bearish_divergence",
         "showlegend": false,
         "type": "scatter",
         "x": [
          "2021-03-30T00:00:00",
          "2021-05-12T00:00:00"
         ],
         "y": [
          116.27369017794591,
          119.79306635485392
         ]
        },
        {
         "line": {
          "color": "blue",
          "dash": "dash",
          "width": 2
         },
         "marker": {
          "color": "blue",
          "size": 8
         },
         "mode": "lines+markers",
         "name": "rsi_14 bearish_divergence",
         "showlegend": false,
         "type": "scatter",
         "x": [
          "2021-03-24T00:00:00",
          "2021-05-24T00:00:00"
         ],
         "y": [
          141.84572628138343,
          140.84805169287102
         ]
        },
        {
         "line": {
          "color": "green",
          "width": 2
         },
         "marker": {
          "color": "green",
          "size": 8
         },
         "mode": "lines+markers",
         "name": "Price neutral",
         "showlegend": false,
         "type": "scatter",
         "x": [
          "2021-05-12T00:00:00",
          "2021-06-03T00:00:00"
         ],
         "y": [
          119.79306635485392,
          120.65537298589332
         ]
        },
        {
         "line": {
          "color": "blue",
          "dash": "dash",
          "width": 2
         },
         "marker": {
          "color": "blue",
          "size": 8
         },
         "mode": "lines+markers",
         "name": "rsi_14 neutral",
         "showlegend": false,
         "type": "scatter",
         "x": [
          "2021-05-24T00:00:00",
          "2021-05-24T00:00:00"
         ],
         "y": [
          140.84805169287102,
          140.84805169287102
         ]
        },
        {
         "line": {
          "color": "green",
          "width": 2
         },
         "marker": {
          "color": "green",
          "size": 8
         },
         "mode": "lines+markers",
         "name": "Price convergence",
         "showlegend": false,
         "type": "scatter",
         "x": [
          "2021-06-03T00:00:00",
          "2021-08-19T00:00:00"
         ],
         "y": [
          120.65537298589332,
          141.808014005634
         ]
        },
        {
         "line": {
          "color": "blue",
          "dash": "dash",
          "width": 2
         },
         "marker": {
          "color": "blue",
          "size": 8
         },
         "mode": "lines+markers",
         "name": "rsi_14 convergence",
         "showlegend": false,
         "type": "scatter",
         "x": [
          "2021-05-24T00:00:00",
          "2021-08-06T00:00:00"
         ],
         "y": [
          140.84805169287102,
          141.13891325447565
         ]
        },
        {
         "line": {
          "color": "red",
          "width": 2
         },
         "marker": {
          "color": "red",
          "size": 8
         },
         "mode": "lines+markers",
         "name": "Price bullish_divergence",
         "showlegend": false,
         "type": "scatter",
         "x": [
          "2021-08-19T00:00:00",
          "2021-09-20T00:00:00"
         ],
         "y": [
          141.808014005634,
          138.63818253431032
         ]
        },
        {
         "line": {
          "color": "blue",
          "dash": "dash",
          "width": 2
         },
         "marker": {
          "color": "blue",
          "size": 8
         },
         "mode": "lines+markers",
         "name": "rsi_14 bullish_divergence",
         "showlegend": false,
         "type": "scatter",
         "x": [
          "2021-08-06T00:00:00",
          "2021-09-03T00:00:00"
         ],
         "y": [
          141.13891325447565,
          142.50779884791027
         ]
        },
        {
         "line": {
          "color": "red",
          "width": 2
         },
         "marker": {
          "color": "red",
          "size": 8
         },
         "mode": "lines+markers",
         "name": "Price bullish_divergence",
         "showlegend": false,
         "type": "scatter",
         "x": [
          "2021-09-20T00:00:00",
          "2021-10-04T00:00:00"
         ],
         "y": [
          138.63818253431032,
          135.6941400814109
         ]
        },
        {
         "line": {
          "color": "blue",
          "dash": "dash",
          "width": 2
         },
         "marker": {
          "color": "blue",
          "size": 8
         },
         "mode": "lines+markers",
         "name": "rsi_14 bullish_divergence",
         "showlegend": false,
         "type": "scatter",
         "x": [
          "2021-09-03T00:00:00",
          "2021-10-07T00:00:00"
         ],
         "y": [
          142.50779884791027,
          142.98431480537496
         ]
        },
        {
         "line": {
          "color": "green",
          "width": 2
         },
         "marker": {
          "color": "green",
          "size": 8
         },
         "mode": "lines+markers",
         "name": "Price bearish_divergence",
         "showlegend": false,
         "type": "scatter",
         "x": [
          "2021-10-04T00:00:00",
          "2021-10-29T00:00:00"
         ],
         "y": [
          135.6941400814109,
          143.68241763510807
         ]
        },
        {
         "line": {
          "color": "blue",
          "dash": "dash",
          "width": 2
         },
         "marker": {
          "color": "blue",
          "size": 8
         },
         "mode": "lines+markers",
         "name": "rsi_14 bearish_divergence",
         "showlegend": false,
         "type": "scatter",
         "x": [
          "2021-10-07T00:00:00",
          "2021-10-22T00:00:00"
         ],
         "y": [
          142.98431480537496,
          141.1841702587875
         ]
        },
        {
         "line": {
          "color": "green",
          "width": 2
         },
         "marker": {
          "color": "green",
          "size": 8
         },
         "mode": "lines+markers",
         "name": "Price convergence",
         "showlegend": false,
         "type": "scatter",
         "x": [
          "2021-10-29T00:00:00",
          "2021-11-12T00:00:00"
         ],
         "y": [
          143.68241763510807,
          144.94372409915425
         ]
        },
        {
         "line": {
          "color": "blue",
          "dash": "dash",
          "width": 2
         },
         "marker": {
          "color": "blue",
          "size": 8
         },
         "mode": "lines+markers",
         "name": "rsi_14 convergence",
         "showlegend": false,
         "type": "scatter",
         "x": [
          "2021-10-22T00:00:00",
          "2021-11-08T00:00:00"
         ],
         "y": [
          141.1841702587875,
          159.09124878000716
         ]
        },
        {
         "line": {
          "color": "green",
          "width": 2
         },
         "marker": {
          "color": "green",
          "size": 8
         },
         "mode": "lines+markers",
         "name": "Price bearish_divergence",
         "showlegend": false,
         "type": "scatter",
         "x": [
          "2021-11-12T00:00:00",
          "2021-12-20T00:00:00"
         ],
         "y": [
          144.94372409915425,
          164.58012299307805
         ]
        },
        {
         "line": {
          "color": "blue",
          "dash": "dash",
          "width": 2
         },
         "marker": {
          "color": "blue",
          "size": 8
         },
         "mode": "lines+markers",
         "name": "rsi_14 bearish_divergence",
         "showlegend": false,
         "type": "scatter",
         "x": [
          "2021-11-08T00:00:00",
          "2021-12-20T00:00:00"
         ],
         "y": [
          159.09124878000716,
          149.61657941624298
         ]
        },
        {
         "line": {
          "color": "red",
          "width": 2
         },
         "marker": {
          "color": "red",
          "size": 8
         },
         "mode": "lines+markers",
         "name": "Price convergence",
         "showlegend": false,
         "type": "scatter",
         "x": [
          "2021-12-20T00:00:00",
          "2022-01-24T00:00:00"
         ],
         "y": [
          164.58012299307805,
          152.03959752482095
         ]
        },
        {
         "line": {
          "color": "blue",
          "dash": "dash",
          "width": 2
         },
         "marker": {
          "color": "blue",
          "size": 8
         },
         "mode": "lines+markers",
         "name": "rsi_14 convergence",
         "showlegend": false,
         "type": "scatter",
         "x": [
          "2021-12-20T00:00:00",
          "2022-01-07T00:00:00"
         ],
         "y": [
          149.61657941624298,
          127.12966290307898
         ]
        },
        {
         "line": {
          "color": "red",
          "width": 2
         },
         "marker": {
          "color": "red",
          "size": 8
         },
         "mode": "lines+markers",
         "name": "Price convergence",
         "showlegend": false,
         "type": "scatter",
         "x": [
          "2022-01-24T00:00:00",
          "2022-02-24T00:00:00"
         ],
         "y": [
          152.03959752482095,
          149.57636956159533
         ]
        },
        {
         "line": {
          "color": "blue",
          "dash": "dash",
          "width": 2
         },
         "marker": {
          "color": "blue",
          "size": 8
         },
         "mode": "lines+markers",
         "name": "rsi_14 convergence",
         "showlegend": false,
         "type": "scatter",
         "x": [
          "2022-01-07T00:00:00",
          "2022-02-17T00:00:00"
         ],
         "y": [
          127.12966290307898,
          118.86417811442124
         ]
        },
        {
         "line": {
          "color": "red",
          "width": 2
         },
         "marker": {
          "color": "red",
          "size": 8
         },
         "mode": "lines+markers",
         "name": "Price bullish_divergence",
         "showlegend": false,
         "type": "scatter",
         "x": [
          "2022-02-24T00:00:00",
          "2022-03-14T00:00:00"
         ],
         "y": [
          149.57636956159533,
          147.70664029732
         ]
        },
        {
         "line": {
          "color": "blue",
          "dash": "dash",
          "width": 2
         },
         "marker": {
          "color": "blue",
          "size": 8
         },
         "mode": "lines+markers",
         "name": "rsi_14 bullish_divergence",
         "showlegend": false,
         "type": "scatter",
         "x": [
          "2022-02-17T00:00:00",
          "2022-03-16T00:00:00"
         ],
         "y": [
          118.86417811442124,
          153.1215007322714
         ]
        },
        {
         "line": {
          "color": "red",
          "width": 2
         },
         "marker": {
          "color": "red",
          "size": 8
         },
         "mode": "lines+markers",
         "name": "Price convergence",
         "showlegend": false,
         "type": "scatter",
         "x": [
          "2022-03-14T00:00:00",
          "2022-05-20T00:00:00"
         ],
         "y": [
          147.70664029732,
          130.68724267872005
         ]
        },
        {
         "line": {
          "color": "blue",
          "dash": "dash",
          "width": 2
         },
         "marker": {
          "color": "blue",
          "size": 8
         },
         "mode": "lines+markers",
         "name": "rsi_14 convergence",
         "showlegend": false,
         "type": "scatter",
         "x": [
          "2022-03-16T00:00:00",
          "2022-06-02T00:00:00"
         ],
         "y": [
          153.1215007322714,
          131.1432184612007
         ]
        },
        {
         "line": {
          "color": "red",
          "width": 2
         },
         "marker": {
          "color": "red",
          "size": 8
         },
         "mode": "lines+markers",
         "name": "Price neutral",
         "showlegend": false,
         "type": "scatter",
         "x": [
          "2022-05-20T00:00:00",
          "2022-06-16T00:00:00"
         ],
         "y": [
          130.68724267872005,
          127.16902501936201
         ]
        },
        {
         "line": {
          "color": "blue",
          "dash": "dash",
          "width": 2
         },
         "marker": {
          "color": "blue",
          "size": 8
         },
         "mode": "lines+markers",
         "name": "rsi_14 neutral",
         "showlegend": false,
         "type": "scatter",
         "x": [
          "2022-06-02T00:00:00",
          "2022-06-02T00:00:00"
         ],
         "y": [
          131.1432184612007,
          131.1432184612007
         ]
        },
        {
         "line": {
          "color": "green",
          "width": 2
         },
         "marker": {
          "color": "green",
          "size": 8
         },
         "mode": "lines+markers",
         "name": "Price convergence",
         "showlegend": false,
         "type": "scatter",
         "x": [
          "2022-06-16T00:00:00",
          "2022-09-16T00:00:00"
         ],
         "y": [
          127.16902501936201,
          146.4218293394224
         ]
        },
        {
         "line": {
          "color": "blue",
          "dash": "dash",
          "width": 2
         },
         "marker": {
          "color": "blue",
          "size": 8
         },
         "mode": "lines+markers",
         "name": "rsi_14 convergence",
         "showlegend": false,
         "type": "scatter",
         "x": [
          "2022-06-02T00:00:00",
          "2022-09-09T00:00:00"
         ],
         "y": [
          131.1432184612007,
          166.18296451974135
         ]
        },
        {
         "line": {
          "color": "red",
          "width": 2
         },
         "marker": {
          "color": "red",
          "size": 8
         },
         "mode": "lines+markers",
         "name": "Price convergence",
         "showlegend": false,
         "type": "scatter",
         "x": [
          "2022-09-16T00:00:00",
          "2022-10-03T00:00:00"
         ],
         "y": [
          146.4218293394224,
          135.88206585827712
         ]
        },
        {
         "line": {
          "color": "blue",
          "dash": "dash",
          "width": 2
         },
         "marker": {
          "color": "blue",
          "size": 8
         },
         "mode": "lines+markers",
         "name": "rsi_14 convergence",
         "showlegend": false,
         "type": "scatter",
         "x": [
          "2022-09-09T00:00:00",
          "2022-10-06T00:00:00"
         ],
         "y": [
          166.18296451974135,
          140.35384848199368
         ]
        },
        {
         "line": {
          "color": "red",
          "width": 2
         },
         "marker": {
          "color": "red",
          "size": 8
         },
         "mode": "lines+markers",
         "name": "Price bullish_divergence",
         "showlegend": false,
         "type": "scatter",
         "x": [
          "2022-10-03T00:00:00",
          "2022-10-13T00:00:00"
         ],
         "y": [
          135.88206585827712,
          132.60567604457702
         ]
        },
        {
         "line": {
          "color": "blue",
          "dash": "dash",
          "width": 2
         },
         "marker": {
          "color": "blue",
          "size": 8
         },
         "mode": "lines+markers",
         "name": "rsi_14 bullish_divergence",
         "showlegend": false,
         "type": "scatter",
         "x": [
          "2022-10-06T00:00:00",
          "2022-10-19T00:00:00"
         ],
         "y": [
          140.35384848199368,
          142.14688781599017
         ]
        },
        {
         "line": {
          "color": "green",
          "width": 2
         },
         "marker": {
          "color": "green",
          "size": 8
         },
         "mode": "lines+markers",
         "name": "Price convergence",
         "showlegend": false,
         "type": "scatter",
         "x": [
          "2022-10-13T00:00:00",
          "2022-11-04T00:00:00"
         ],
         "y": [
          132.60567604457702,
          132.83552430474884
         ]
        },
        {
         "line": {
          "color": "blue",
          "dash": "dash",
          "width": 2
         },
         "marker": {
          "color": "blue",
          "size": 8
         },
         "mode": "lines+markers",
         "name": "rsi_14 convergence",
         "showlegend": false,
         "type": "scatter",
         "x": [
          "2022-10-19T00:00:00",
          "2022-11-02T00:00:00"
         ],
         "y": [
          142.14688781599017,
          162.34141051931624
         ]
        },
        {
         "line": {
          "color": "red",
          "width": 2
         },
         "marker": {
          "color": "red",
          "size": 8
         },
         "mode": "lines+markers",
         "name": "Price convergence",
         "showlegend": false,
         "type": "scatter",
         "x": [
          "2022-11-04T00:00:00",
          "2023-01-03T00:00:00"
         ],
         "y": [
          132.83552430474884,
          122.74286511723291
         ]
        },
        {
         "line": {
          "color": "blue",
          "dash": "dash",
          "width": 2
         },
         "marker": {
          "color": "blue",
          "size": 8
         },
         "mode": "lines+markers",
         "name": "rsi_14 convergence",
         "showlegend": false,
         "type": "scatter",
         "x": [
          "2022-11-02T00:00:00",
          "2023-01-09T00:00:00"
         ],
         "y": [
          162.34141051931624,
          135.74201145080133
         ]
        },
        {
         "line": {
          "color": "green",
          "width": 2
         },
         "marker": {
          "color": "green",
          "size": 8
         },
         "mode": "lines+markers",
         "name": "Price bearish_divergence",
         "showlegend": false,
         "type": "scatter",
         "x": [
          "2023-01-03T00:00:00",
          "2023-03-02T00:00:00"
         ],
         "y": [
          122.74286511723291,
          142.46327502261613
         ]
        },
        {
         "line": {
          "color": "blue",
          "dash": "dash",
          "width": 2
         },
         "marker": {
          "color": "blue",
          "size": 8
         },
         "mode": "lines+markers",
         "name": "rsi_14 bearish_divergence",
         "showlegend": false,
         "type": "scatter",
         "x": [
          "2023-01-09T00:00:00",
          "2023-02-24T00:00:00"
         ],
         "y": [
          135.74201145080133,
          117.13170633237372
         ]
        },
        {
         "line": {
          "color": "green",
          "width": 2
         },
         "marker": {
          "color": "green",
          "size": 8
         },
         "mode": "lines+markers",
         "name": "Price convergence",
         "showlegend": false,
         "type": "scatter",
         "x": [
          "2023-03-02T00:00:00",
          "2023-04-12T00:00:00"
         ],
         "y": [
          142.46327502261613,
          158.18475927615913
         ]
        },
        {
         "line": {
          "color": "blue",
          "dash": "dash",
          "width": 2
         },
         "marker": {
          "color": "blue",
          "size": 8
         },
         "mode": "lines+markers",
         "name": "rsi_14 convergence",
         "showlegend": false,
         "type": "scatter",
         "x": [
          "2023-02-24T00:00:00",
          "2023-04-06T00:00:00"
         ],
         "y": [
          117.13170633237372,
          129.1302824087005
         ]
        },
        {
         "line": {
          "color": "green",
          "width": 2
         },
         "marker": {
          "color": "green",
          "size": 8
         },
         "mode": "lines+markers",
         "name": "Price convergence",
         "showlegend": false,
         "type": "scatter",
         "x": [
          "2023-04-12T00:00:00",
          "2023-04-26T00:00:00"
         ],
         "y": [
          158.18475927615913,
          161.1746083552498
         ]
        },
        {
         "line": {
          "color": "blue",
          "dash": "dash",
          "width": 2
         },
         "marker": {
          "color": "blue",
          "size": 8
         },
         "mode": "lines+markers",
         "name": "rsi_14 convergence",
         "showlegend": false,
         "type": "scatter",
         "x": [
          "2023-04-06T00:00:00",
          "2023-04-24T00:00:00"
         ],
         "y": [
          129.1302824087005,
          156.22438728611223
         ]
        },
        {
         "line": {
          "color": "green",
          "width": 2
         },
         "marker": {
          "color": "green",
          "size": 8
         },
         "mode": "lines+markers",
         "name": "Price bearish_divergence",
         "showlegend": false,
         "type": "scatter",
         "x": [
          "2023-04-26T00:00:00",
          "2023-05-17T00:00:00"
         ],
         "y": [
          161.1746083552498,
          168.9518675962068
         ]
        },
        {
         "line": {
          "color": "blue",
          "dash": "dash",
          "width": 2
         },
         "marker": {
          "color": "blue",
          "size": 8
         },
         "mode": "lines+markers",
         "name": "rsi_14 bearish_divergence",
         "showlegend": false,
         "type": "scatter",
         "x": [
          "2023-04-24T00:00:00",
          "2023-05-25T00:00:00"
         ],
         "y": [
          156.22438728611223,
          138.72022415053985
         ]
        },
        {
         "line": {
          "color": "green",
          "width": 2
         },
         "marker": {
          "color": "green",
          "size": 8
         },
         "mode": "lines+markers",
         "name": "Price convergence",
         "showlegend": false,
         "type": "scatter",
         "x": [
          "2023-05-17T00:00:00",
          "2023-07-11T00:00:00"
         ],
         "y": [
          168.9518675962068,
          184.99251645839882
         ]
        },
        {
         "line": {
          "color": "blue",
          "dash": "dash",
          "width": 2
         },
         "marker": {
          "color": "blue",
          "size": 8
         },
         "mode": "lines+markers",
         "name": "rsi_14 convergence",
         "showlegend": false,
         "type": "scatter",
         "x": [
          "2023-05-25T00:00:00",
          "2023-07-10T00:00:00"
         ],
         "y": [
          138.72022415053985,
          149.65825644793136
         ]
        },
        {
         "line": {
          "color": "red",
          "width": 2
         },
         "marker": {
          "color": "red",
          "size": 8
         },
         "mode": "lines+markers",
         "name": "Price convergence",
         "showlegend": false,
         "type": "scatter",
         "x": [
          "2023-07-11T00:00:00",
          "2023-08-18T00:00:00"
         ],
         "y": [
          184.99251645839882,
          170.70885281849434
         ]
        },
        {
         "line": {
          "color": "blue",
          "dash": "dash",
          "width": 2
         },
         "marker": {
          "color": "blue",
          "size": 8
         },
         "mode": "lines+markers",
         "name": "rsi_14 convergence",
         "showlegend": false,
         "type": "scatter",
         "x": [
          "2023-07-10T00:00:00",
          "2023-08-24T00:00:00"
         ],
         "y": [
          149.65825644793136,
          128.60328875492795
         ]
        },
        {
         "line": {
          "color": "green",
          "width": 2
         },
         "marker": {
          "color": "green",
          "size": 8
         },
         "mode": "lines+markers",
         "name": "Price neutral",
         "showlegend": false,
         "type": "scatter",
         "x": [
          "2023-08-18T00:00:00",
          "2023-09-07T00:00:00"
         ],
         "y": [
          170.70885281849434,
          172.27732670257566
         ]
        },
        {
         "line": {
          "color": "blue",
          "dash": "dash",
          "width": 2
         },
         "marker": {
          "color": "blue",
          "size": 8
         },
         "mode": "lines+markers",
         "name": "rsi_14 neutral",
         "showlegend": false,
         "type": "scatter",
         "x": [
          "2023-08-24T00:00:00",
          "2023-08-24T00:00:00"
         ],
         "y": [
          128.60328875492795,
          128.60328875492795
         ]
        },
        {
         "line": {
          "color": "red",
          "width": 2
         },
         "marker": {
          "color": "red",
          "size": 8
         },
         "mode": "lines+markers",
         "name": "Price bullish_divergence",
         "showlegend": false,
         "type": "scatter",
         "x": [
          "2023-09-07T00:00:00",
          "2023-09-28T00:00:00"
         ],
         "y": [
          172.27732670257566,
          166.40040416763804
         ]
        },
        {
         "line": {
          "color": "blue",
          "dash": "dash",
          "width": 2
         },
         "marker": {
          "color": "blue",
          "size": 8
         },
         "mode": "lines+markers",
         "name": "rsi_14 bullish_divergence",
         "showlegend": false,
         "type": "scatter",
         "x": [
          "2023-08-24T00:00:00",
          "2023-10-05T00:00:00"
         ],
         "y": [
          128.60328875492795,
          128.927702740187
         ]
        },
        {
         "line": {
          "color": "red",
          "width": 2
         },
         "marker": {
          "color": "red",
          "size": 8
         },
         "mode": "lines+markers",
         "name": "Price neutral",
         "showlegend": false,
         "type": "scatter",
         "x": [
          "2023-09-28T00:00:00",
          "2023-10-26T00:00:00"
         ],
         "y": [
          166.40040416763804,
          164.4645956319317
         ]
        },
        {
         "line": {
          "color": "blue",
          "dash": "dash",
          "width": 2
         },
         "marker": {
          "color": "blue",
          "size": 8
         },
         "mode": "lines+markers",
         "name": "rsi_14 neutral",
         "showlegend": false,
         "type": "scatter",
         "x": [
          "2023-10-05T00:00:00",
          "2023-10-05T00:00:00"
         ],
         "y": [
          128.927702740187,
          128.927702740187
         ]
        },
        {
         "line": {
          "color": "green",
          "width": 2
         },
         "marker": {
          "color": "green",
          "size": 8
         },
         "mode": "lines+markers",
         "name": "Price convergence",
         "showlegend": false,
         "type": "scatter",
         "x": [
          "2023-10-26T00:00:00",
          "2023-12-04T00:00:00"
         ],
         "y": [
          164.4645956319317,
          186.33127483914026
         ]
        },
        {
         "line": {
          "color": "blue",
          "dash": "dash",
          "width": 2
         },
         "marker": {
          "color": "blue",
          "size": 8
         },
         "mode": "lines+markers",
         "name": "rsi_14 convergence",
         "showlegend": false,
         "type": "scatter",
         "x": [
          "2023-10-05T00:00:00",
          "2023-11-24T00:00:00"
         ],
         "y": [
          128.927702740187,
          134.06957602169456
         ]
        },
        {
         "line": {
          "color": "red",
          "width": 2
         },
         "marker": {
          "color": "red",
          "size": 8
         },
         "mode": "lines+markers",
         "name": "Price bullish_divergence",
         "showlegend": false,
         "type": "scatter",
         "x": [
          "2023-12-04T00:00:00",
          "2024-01-05T00:00:00"
         ],
         "y": [
          186.33127483914026,
          179.09472708075188
         ]
        },
        {
         "line": {
          "color": "blue",
          "dash": "dash",
          "width": 2
         },
         "marker": {
          "color": "blue",
          "size": 8
         },
         "mode": "lines+markers",
         "name": "rsi_14 bullish_divergence",
         "showlegend": false,
         "type": "scatter",
         "x": [
          "2023-11-24T00:00:00",
          "2024-01-08T00:00:00"
         ],
         "y": [
          134.06957602169456,
          144.81539887603896
         ]
        },
        {
         "line": {
          "color": "red",
          "width": 2
         },
         "marker": {
          "color": "red",
          "size": 8
         },
         "mode": "lines+markers",
         "name": "Price bullish_divergence",
         "showlegend": false,
         "type": "scatter",
         "x": [
          "2024-01-05T00:00:00",
          "2024-02-02T00:00:00"
         ],
         "y": [
          179.09472708075188,
          178.1802130458578
         ]
        },
        {
         "line": {
          "color": "blue",
          "dash": "dash",
          "width": 2
         },
         "marker": {
          "color": "blue",
          "size": 8
         },
         "mode": "lines+markers",
         "name": "rsi_14 bullish_divergence",
         "showlegend": false,
         "type": "scatter",
         "x": [
          "2024-01-08T00:00:00",
          "2024-02-08T00:00:00"
         ],
         "y": [
          144.81539887603896,
          155.38273383102361
         ]
        },
        {
         "line": {
          "color": "red",
          "width": 2
         },
         "marker": {
          "color": "red",
          "size": 8
         },
         "mode": "lines+markers",
         "name": "Price convergence",
         "showlegend": false,
         "type": "scatter",
         "x": [
          "2024-02-02T00:00:00",
          "2024-03-07T00:00:00"
         ],
         "y": [
          178.1802130458578,
          167.6981518296525
         ]
        },
        {
         "line": {
          "color": "blue",
          "dash": "dash",
          "width": 2
         },
         "marker": {
          "color": "blue",
          "size": 8
         },
         "mode": "lines+markers",
         "name": "rsi_14 convergence",
         "showlegend": false,
         "type": "scatter",
         "x": [
          "2024-02-08T00:00:00",
          "2024-02-23T00:00:00"
         ],
         "y": [
          155.38273383102361,
          138.56861397476436
         ]
        },
        {
         "line": {
          "color": "red",
          "width": 2
         },
         "marker": {
          "color": "red",
          "size": 8
         },
         "mode": "lines+markers",
         "name": "Price bullish_divergence",
         "showlegend": false,
         "type": "scatter",
         "x": [
          "2024-03-07T00:00:00",
          "2024-04-19T00:00:00"
         ],
         "y": [
          167.6981518296525,
          163.30887389276177
         ]
        },
        {
         "line": {
          "color": "blue",
          "dash": "dash",
          "width": 2
         },
         "marker": {
          "color": "blue",
          "size": 8
         },
         "mode": "lines+markers",
         "name": "rsi_14 bullish_divergence",
         "showlegend": false,
         "type": "scatter",
         "x": [
          "2024-02-23T00:00:00",
          "2024-04-18T00:00:00"
         ],
         "y": [
          138.56861397476436,
          156.5445107592527
         ]
        },
        {
         "line": {
          "color": "green",
          "width": 2
         },
         "marker": {
          "color": "green",
          "size": 8
         },
         "mode": "lines+markers",
         "name": "Price bearish_divergence",
         "showlegend": false,
         "type": "scatter",
         "x": [
          "2024-04-19T00:00:00",
          "2024-06-24T00:00:00"
         ],
         "y": [
          163.30887389276177,
          205.89799892378585
         ]
        },
        {
         "line": {
          "color": "blue",
          "dash": "dash",
          "width": 2
         },
         "marker": {
          "color": "blue",
          "size": 8
         },
         "mode": "lines+markers",
         "name": "rsi_14 bearish_divergence",
         "showlegend": false,
         "type": "scatter",
         "x": [
          "2024-04-18T00:00:00",
          "2024-07-12T00:00:00"
         ],
         "y": [
          156.5445107592527,
          121.96658711246918
         ]
        },
        {
         "line": {
          "color": "red",
          "width": 2
         },
         "marker": {
          "color": "red",
          "size": 8
         },
         "mode": "lines+markers",
         "name": "Price convergence",
         "showlegend": false,
         "type": "scatter",
         "x": [
          "2024-06-24T00:00:00",
          "2024-08-05T00:00:00"
         ],
         "y": [
          205.89799892378585,
          195.34346157584417
         ]
        },
        {
         "line": {
          "color": "blue",
          "dash": "dash",
          "width": 2
         },
         "marker": {
          "color": "blue",
          "size": 8
         },
         "mode": "lines+markers",
         "name": "rsi_14 convergence",
         "showlegend": false,
         "type": "scatter",
         "x": [
          "2024-07-12T00:00:00",
          "2024-08-23T00:00:00"
         ],
         "y": [
          121.96658711246918,
          114.6390082011676
         ]
        },
        {
         "line": {
          "color": "green",
          "width": 2
         },
         "marker": {
          "color": "green",
          "size": 8
         },
         "mode": "lines+markers",
         "name": "Price convergence",
         "showlegend": false,
         "type": "scatter",
         "x": [
          "2024-08-05T00:00:00",
          "2024-09-16T00:00:00"
         ],
         "y": [
          195.34346157584417,
          213.4502168549942
         ]
        },
        {
         "line": {
          "color": "blue",
          "dash": "dash",
          "width": 2
         },
         "marker": {
          "color": "blue",
          "size": 8
         },
         "mode": "lines+markers",
         "name": "rsi_14 convergence",
         "showlegend": false,
         "type": "scatter",
         "x": [
          "2024-08-23T00:00:00",
          "2024-09-27T00:00:00"
         ],
         "y": [
          114.6390082011676,
          163.3217033926113
         ]
        },
        {
         "line": {
          "color": "green",
          "width": 2
         },
         "marker": {
          "color": "green",
          "size": 8
         },
         "mode": "lines+markers",
         "name": "Price bearish_divergence",
         "showlegend": false,
         "type": "scatter",
         "x": [
          "2024-09-16T00:00:00",
          "2024-10-07T00:00:00"
         ],
         "y": [
          213.4502168549942,
          220.84396072803747
         ]
        },
        {
         "line": {
          "color": "blue",
          "dash": "dash",
          "width": 2
         },
         "marker": {
          "color": "blue",
          "size": 8
         },
         "mode": "lines+markers",
         "name": "rsi_14 bearish_divergence",
         "showlegend": false,
         "type": "scatter",
         "x": [
          "2024-09-27T00:00:00",
          "2024-10-10T00:00:00"
         ],
         "y": [
          163.3217033926113,
          100.53267495607115
         ]
        },
        {
         "line": {
          "color": "red",
          "width": 2
         },
         "marker": {
          "color": "red",
          "size": 8
         },
         "mode": "lines+markers",
         "name": "Price bullish_divergence",
         "showlegend": false,
         "type": "scatter",
         "x": [
          "2024-10-07T00:00:00",
          "2024-11-04T00:00:00"
         ],
         "y": [
          220.84396072803747,
          219.2275088130919
         ]
        },
        {
         "line": {
          "color": "blue",
          "dash": "dash",
          "width": 2
         },
         "marker": {
          "color": "blue",
          "size": 8
         },
         "mode": "lines+markers",
         "name": "rsi_14 bullish_divergence",
         "showlegend": false,
         "type": "scatter",
         "x": [
          "2024-10-10T00:00:00",
          "2024-11-04T00:00:00"
         ],
         "y": [
          100.53267495607115,
          156.91201395394702
         ]
        }
       ],
       "layout": {
        "annotations": [
         {
          "arrowcolor": "red",
          "arrowhead": 1,
          "arrowsize": 1,
          "arrowwidth": 2,
          "bgcolor": "rgba(255,255,255,0.8)",
          "font": {
           "color": "red"
          },
          "showarrow": true,
          "text": "Bearish Divergence",
          "x": "2020-11-12T00:00:00",
          "y": 107.31168161816626
         },
         {
          "arrowcolor": "red",
          "arrowhead": 1,
          "arrowsize": 1,
          "arrowwidth": 2,
          "bgcolor": "rgba(255,255,255,0.8)",
          "font": {
           "color": "red"
          },
          "showarrow": true,
          "text": "Bearish Divergence",
          "x": "2021-04-21T00:00:00",
          "y": 118.03337826639992
         },
         {
          "arrowcolor": "green",
          "arrowhead": 1,
          "arrowsize": 1,
          "arrowwidth": 2,
          "bgcolor": "rgba(255,255,255,0.8)",
          "font": {
           "color": "green"
          },
          "showarrow": true,
          "text": "Bullish Divergence",
          "x": "2021-09-02T00:00:00",
          "y": 140.22309826997216
         },
         {
          "arrowcolor": "green",
          "arrowhead": 1,
          "arrowsize": 1,
          "arrowwidth": 2,
          "bgcolor": "rgba(255,255,255,0.8)",
          "font": {
           "color": "green"
          },
          "showarrow": true,
          "text": "Bullish Divergence",
          "x": "2021-09-27T00:00:00",
          "y": 137.1661613078606
         },
         {
          "arrowcolor": "red",
          "arrowhead": 1,
          "arrowsize": 1,
          "arrowwidth": 2,
          "bgcolor": "rgba(255,255,255,0.8)",
          "font": {
           "color": "red"
          },
          "showarrow": true,
          "text": "Bearish Divergence",
          "x": "2021-10-15T00:00:00",
          "y": 139.68827885825948
         },
         {
          "arrowcolor": "red",
          "arrowhead": 1,
          "arrowsize": 1,
          "arrowwidth": 2,
          "bgcolor": "rgba(255,255,255,0.8)",
          "font": {
           "color": "red"
          },
          "showarrow": true,
          "text": "Bearish Divergence",
          "x": "2021-12-01T00:00:00",
          "y": 154.76192354611615
         },
         {
          "arrowcolor": "green",
          "arrowhead": 1,
          "arrowsize": 1,
          "arrowwidth": 2,
          "bgcolor": "rgba(255,255,255,0.8)",
          "font": {
           "color": "green"
          },
          "showarrow": true,
          "text": "Bullish Divergence",
          "x": "2022-03-04T00:00:00",
          "y": 148.64150492945765
         },
         {
          "arrowcolor": "green",
          "arrowhead": 1,
          "arrowsize": 1,
          "arrowwidth": 2,
          "bgcolor": "rgba(255,255,255,0.8)",
          "font": {
           "color": "green"
          },
          "showarrow": true,
          "text": "Bullish Divergence",
          "x": "2022-10-07T00:00:00",
          "y": 134.24387095142708
         },
         {
          "arrowcolor": "red",
          "arrowhead": 1,
          "arrowsize": 1,
          "arrowwidth": 2,
          "bgcolor": "rgba(255,255,255,0.8)",
          "font": {
           "color": "red"
          },
          "showarrow": true,
          "text": "Bearish Divergence",
          "x": "2023-02-01T00:00:00",
          "y": 132.6030700699245
         },
         {
          "arrowcolor": "red",
          "arrowhead": 1,
          "arrowsize": 1,
          "arrowwidth": 2,
          "bgcolor": "rgba(255,255,255,0.8)",
          "font": {
           "color": "red"
          },
          "showarrow": true,
          "text": "Bearish Divergence",
          "x": "2023-05-05T00:00:00",
          "y": 165.0632379757283
         },
         {
          "arrowcolor": "green",
          "arrowhead": 1,
          "arrowsize": 1,
          "arrowwidth": 2,
          "bgcolor": "rgba(255,255,255,0.8)",
          "font": {
           "color": "green"
          },
          "showarrow": true,
          "text": "Bullish Divergence",
          "x": "2023-09-18T00:00:00",
          "y": 169.33886543510687
         },
         {
          "arrowcolor": "green",
          "arrowhead": 1,
          "arrowsize": 1,
          "arrowwidth": 2,
          "bgcolor": "rgba(255,255,255,0.8)",
          "font": {
           "color": "green"
          },
          "showarrow": true,
          "text": "Bullish Divergence",
          "x": "2023-12-19T00:00:00",
          "y": 182.71300095994607
         },
         {
          "arrowcolor": "green",
          "arrowhead": 1,
          "arrowsize": 1,
          "arrowwidth": 2,
          "bgcolor": "rgba(255,255,255,0.8)",
          "font": {
           "color": "green"
          },
          "showarrow": true,
          "text": "Bullish Divergence",
          "x": "2024-01-19T00:00:00",
          "y": 178.63747006330485
         },
         {
          "arrowcolor": "green",
          "arrowhead": 1,
          "arrowsize": 1,
          "arrowwidth": 2,
          "bgcolor": "rgba(255,255,255,0.8)",
          "font": {
           "color": "green"
          },
          "showarrow": true,
          "text": "Bullish Divergence",
          "x": "2024-03-28T00:00:00",
          "y": 165.50351286120713
         },
         {
          "arrowcolor": "red",
          "arrowhead": 1,
          "arrowsize": 1,
          "arrowwidth": 2,
          "bgcolor": "rgba(255,255,255,0.8)",
          "font": {
           "color": "red"
          },
          "showarrow": true,
          "text": "Bearish Divergence",
          "x": "2024-05-21T00:00:00",
          "y": 184.6034364082738
         },
         {
          "arrowcolor": "red",
          "arrowhead": 1,
          "arrowsize": 1,
          "arrowwidth": 2,
          "bgcolor": "rgba(255,255,255,0.8)",
          "font": {
           "color": "red"
          },
          "showarrow": true,
          "text": "Bearish Divergence",
          "x": "2024-09-25T00:00:00",
          "y": 217.14708879151584
         },
         {
          "arrowcolor": "green",
          "arrowhead": 1,
          "arrowsize": 1,
          "arrowwidth": 2,
          "bgcolor": "rgba(255,255,255,0.8)",
          "font": {
           "color": "green"
          },
          "showarrow": true,
          "text": "Bullish Divergence",
          "x": "2024-10-21T00:00:00",
          "y": 220.0357347705647
         },
         {
          "bgcolor": "rgba(255,255,255,0.8)",
          "font": {
           "size": 10
          },
          "showarrow": false,
          "text": "Note: rsi_14 is scaled to match price range for visualization",
          "x": 0.01,
          "xref": "paper",
          "y": 0.99,
          "yref": "paper"
         }
        ],
        "height": 800,
        "hovermode": "x unified",
        "legend": {
         "orientation": "h",
         "x": 1,
         "xanchor": "right",
         "y": 1.02
        },
        "template": {
         "data": {
          "bar": [
           {
            "error_x": {
             "color": "#2a3f5f"
            },
            "error_y": {
             "color": "#2a3f5f"
            },
            "marker": {
             "line": {
              "color": "#E5ECF6",
              "width": 0.5
             },
             "pattern": {
              "fillmode": "overlay",
              "size": 10,
              "solidity": 0.2
             }
            },
            "type": "bar"
           }
          ],
          "barpolar": [
           {
            "marker": {
             "line": {
              "color": "#E5ECF6",
              "width": 0.5
             },
             "pattern": {
              "fillmode": "overlay",
              "size": 10,
              "solidity": 0.2
             }
            },
            "type": "barpolar"
           }
          ],
          "carpet": [
           {
            "aaxis": {
             "endlinecolor": "#2a3f5f",
             "gridcolor": "white",
             "linecolor": "white",
             "minorgridcolor": "white",
             "startlinecolor": "#2a3f5f"
            },
            "baxis": {
             "endlinecolor": "#2a3f5f",
             "gridcolor": "white",
             "linecolor": "white",
             "minorgridcolor": "white",
             "startlinecolor": "#2a3f5f"
            },
            "type": "carpet"
           }
          ],
          "choropleth": [
           {
            "colorbar": {
             "outlinewidth": 0,
             "ticks": ""
            },
            "type": "choropleth"
           }
          ],
          "contour": [
           {
            "colorbar": {
             "outlinewidth": 0,
             "ticks": ""
            },
            "colorscale": [
             [
              0,
              "#0d0887"
             ],
             [
              0.1111111111111111,
              "#46039f"
             ],
             [
              0.2222222222222222,
              "#7201a8"
             ],
             [
              0.3333333333333333,
              "#9c179e"
             ],
             [
              0.4444444444444444,
              "#bd3786"
             ],
             [
              0.5555555555555556,
              "#d8576b"
             ],
             [
              0.6666666666666666,
              "#ed7953"
             ],
             [
              0.7777777777777778,
              "#fb9f3a"
             ],
             [
              0.8888888888888888,
              "#fdca26"
             ],
             [
              1,
              "#f0f921"
             ]
            ],
            "type": "contour"
           }
          ],
          "contourcarpet": [
           {
            "colorbar": {
             "outlinewidth": 0,
             "ticks": ""
            },
            "type": "contourcarpet"
           }
          ],
          "heatmap": [
           {
            "colorbar": {
             "outlinewidth": 0,
             "ticks": ""
            },
            "colorscale": [
             [
              0,
              "#0d0887"
             ],
             [
              0.1111111111111111,
              "#46039f"
             ],
             [
              0.2222222222222222,
              "#7201a8"
             ],
             [
              0.3333333333333333,
              "#9c179e"
             ],
             [
              0.4444444444444444,
              "#bd3786"
             ],
             [
              0.5555555555555556,
              "#d8576b"
             ],
             [
              0.6666666666666666,
              "#ed7953"
             ],
             [
              0.7777777777777778,
              "#fb9f3a"
             ],
             [
              0.8888888888888888,
              "#fdca26"
             ],
             [
              1,
              "#f0f921"
             ]
            ],
            "type": "heatmap"
           }
          ],
          "histogram": [
           {
            "marker": {
             "pattern": {
              "fillmode": "overlay",
              "size": 10,
              "solidity": 0.2
             }
            },
            "type": "histogram"
           }
          ],
          "histogram2d": [
           {
            "colorbar": {
             "outlinewidth": 0,
             "ticks": ""
            },
            "colorscale": [
             [
              0,
              "#0d0887"
             ],
             [
              0.1111111111111111,
              "#46039f"
             ],
             [
              0.2222222222222222,
              "#7201a8"
             ],
             [
              0.3333333333333333,
              "#9c179e"
             ],
             [
              0.4444444444444444,
              "#bd3786"
             ],
             [
              0.5555555555555556,
              "#d8576b"
             ],
             [
              0.6666666666666666,
              "#ed7953"
             ],
             [
              0.7777777777777778,
              "#fb9f3a"
             ],
             [
              0.8888888888888888,
              "#fdca26"
             ],
             [
              1,
              "#f0f921"
             ]
            ],
            "type": "histogram2d"
           }
          ],
          "histogram2dcontour": [
           {
            "colorbar": {
             "outlinewidth": 0,
             "ticks": ""
            },
            "colorscale": [
             [
              0,
              "#0d0887"
             ],
             [
              0.1111111111111111,
              "#46039f"
             ],
             [
              0.2222222222222222,
              "#7201a8"
             ],
             [
              0.3333333333333333,
              "#9c179e"
             ],
             [
              0.4444444444444444,
              "#bd3786"
             ],
             [
              0.5555555555555556,
              "#d8576b"
             ],
             [
              0.6666666666666666,
              "#ed7953"
             ],
             [
              0.7777777777777778,
              "#fb9f3a"
             ],
             [
              0.8888888888888888,
              "#fdca26"
             ],
             [
              1,
              "#f0f921"
             ]
            ],
            "type": "histogram2dcontour"
           }
          ],
          "mesh3d": [
           {
            "colorbar": {
             "outlinewidth": 0,
             "ticks": ""
            },
            "type": "mesh3d"
           }
          ],
          "parcoords": [
           {
            "line": {
             "colorbar": {
              "outlinewidth": 0,
              "ticks": ""
             }
            },
            "type": "parcoords"
           }
          ],
          "pie": [
           {
            "automargin": true,
            "type": "pie"
           }
          ],
          "scatter": [
           {
            "fillpattern": {
             "fillmode": "overlay",
             "size": 10,
             "solidity": 0.2
            },
            "type": "scatter"
           }
          ],
          "scatter3d": [
           {
            "line": {
             "colorbar": {
              "outlinewidth": 0,
              "ticks": ""
             }
            },
            "marker": {
             "colorbar": {
              "outlinewidth": 0,
              "ticks": ""
             }
            },
            "type": "scatter3d"
           }
          ],
          "scattercarpet": [
           {
            "marker": {
             "colorbar": {
              "outlinewidth": 0,
              "ticks": ""
             }
            },
            "type": "scattercarpet"
           }
          ],
          "scattergeo": [
           {
            "marker": {
             "colorbar": {
              "outlinewidth": 0,
              "ticks": ""
             }
            },
            "type": "scattergeo"
           }
          ],
          "scattergl": [
           {
            "marker": {
             "colorbar": {
              "outlinewidth": 0,
              "ticks": ""
             }
            },
            "type": "scattergl"
           }
          ],
          "scattermap": [
           {
            "marker": {
             "colorbar": {
              "outlinewidth": 0,
              "ticks": ""
             }
            },
            "type": "scattermap"
           }
          ],
          "scattermapbox": [
           {
            "marker": {
             "colorbar": {
              "outlinewidth": 0,
              "ticks": ""
             }
            },
            "type": "scattermapbox"
           }
          ],
          "scatterpolar": [
           {
            "marker": {
             "colorbar": {
              "outlinewidth": 0,
              "ticks": ""
             }
            },
            "type": "scatterpolar"
           }
          ],
          "scatterpolargl": [
           {
            "marker": {
             "colorbar": {
              "outlinewidth": 0,
              "ticks": ""
             }
            },
            "type": "scatterpolargl"
           }
          ],
          "scatterternary": [
           {
            "marker": {
             "colorbar": {
              "outlinewidth": 0,
              "ticks": ""
             }
            },
            "type": "scatterternary"
           }
          ],
          "surface": [
           {
            "colorbar": {
             "outlinewidth": 0,
             "ticks": ""
            },
            "colorscale": [
             [
              0,
              "#0d0887"
             ],
             [
              0.1111111111111111,
              "#46039f"
             ],
             [
              0.2222222222222222,
              "#7201a8"
             ],
             [
              0.3333333333333333,
              "#9c179e"
             ],
             [
              0.4444444444444444,
              "#bd3786"
             ],
             [
              0.5555555555555556,
              "#d8576b"
             ],
             [
              0.6666666666666666,
              "#ed7953"
             ],
             [
              0.7777777777777778,
              "#fb9f3a"
             ],
             [
              0.8888888888888888,
              "#fdca26"
             ],
             [
              1,
              "#f0f921"
             ]
            ],
            "type": "surface"
           }
          ],
          "table": [
           {
            "cells": {
             "fill": {
              "color": "#EBF0F8"
             },
             "line": {
              "color": "white"
             }
            },
            "header": {
             "fill": {
              "color": "#C8D4E3"
             },
             "line": {
              "color": "white"
             }
            },
            "type": "table"
           }
          ]
         },
         "layout": {
          "annotationdefaults": {
           "arrowcolor": "#2a3f5f",
           "arrowhead": 0,
           "arrowwidth": 1
          },
          "autotypenumbers": "strict",
          "coloraxis": {
           "colorbar": {
            "outlinewidth": 0,
            "ticks": ""
           }
          },
          "colorscale": {
           "diverging": [
            [
             0,
             "#8e0152"
            ],
            [
             0.1,
             "#c51b7d"
            ],
            [
             0.2,
             "#de77ae"
            ],
            [
             0.3,
             "#f1b6da"
            ],
            [
             0.4,
             "#fde0ef"
            ],
            [
             0.5,
             "#f7f7f7"
            ],
            [
             0.6,
             "#e6f5d0"
            ],
            [
             0.7,
             "#b8e186"
            ],
            [
             0.8,
             "#7fbc41"
            ],
            [
             0.9,
             "#4d9221"
            ],
            [
             1,
             "#276419"
            ]
           ],
           "sequential": [
            [
             0,
             "#0d0887"
            ],
            [
             0.1111111111111111,
             "#46039f"
            ],
            [
             0.2222222222222222,
             "#7201a8"
            ],
            [
             0.3333333333333333,
             "#9c179e"
            ],
            [
             0.4444444444444444,
             "#bd3786"
            ],
            [
             0.5555555555555556,
             "#d8576b"
            ],
            [
             0.6666666666666666,
             "#ed7953"
            ],
            [
             0.7777777777777778,
             "#fb9f3a"
            ],
            [
             0.8888888888888888,
             "#fdca26"
            ],
            [
             1,
             "#f0f921"
            ]
           ],
           "sequentialminus": [
            [
             0,
             "#0d0887"
            ],
            [
             0.1111111111111111,
             "#46039f"
            ],
            [
             0.2222222222222222,
             "#7201a8"
            ],
            [
             0.3333333333333333,
             "#9c179e"
            ],
            [
             0.4444444444444444,
             "#bd3786"
            ],
            [
             0.5555555555555556,
             "#d8576b"
            ],
            [
             0.6666666666666666,
             "#ed7953"
            ],
            [
             0.7777777777777778,
             "#fb9f3a"
            ],
            [
             0.8888888888888888,
             "#fdca26"
            ],
            [
             1,
             "#f0f921"
            ]
           ]
          },
          "colorway": [
           "#636efa",
           "#EF553B",
           "#00cc96",
           "#ab63fa",
           "#FFA15A",
           "#19d3f3",
           "#FF6692",
           "#B6E880",
           "#FF97FF",
           "#FECB52"
          ],
          "font": {
           "color": "#2a3f5f"
          },
          "geo": {
           "bgcolor": "white",
           "lakecolor": "white",
           "landcolor": "#E5ECF6",
           "showlakes": true,
           "showland": true,
           "subunitcolor": "white"
          },
          "hoverlabel": {
           "align": "left"
          },
          "hovermode": "closest",
          "mapbox": {
           "style": "light"
          },
          "paper_bgcolor": "white",
          "plot_bgcolor": "#E5ECF6",
          "polar": {
           "angularaxis": {
            "gridcolor": "white",
            "linecolor": "white",
            "ticks": ""
           },
           "bgcolor": "#E5ECF6",
           "radialaxis": {
            "gridcolor": "white",
            "linecolor": "white",
            "ticks": ""
           }
          },
          "scene": {
           "xaxis": {
            "backgroundcolor": "#E5ECF6",
            "gridcolor": "white",
            "gridwidth": 2,
            "linecolor": "white",
            "showbackground": true,
            "ticks": "",
            "zerolinecolor": "white"
           },
           "yaxis": {
            "backgroundcolor": "#E5ECF6",
            "gridcolor": "white",
            "gridwidth": 2,
            "linecolor": "white",
            "showbackground": true,
            "ticks": "",
            "zerolinecolor": "white"
           },
           "zaxis": {
            "backgroundcolor": "#E5ECF6",
            "gridcolor": "white",
            "gridwidth": 2,
            "linecolor": "white",
            "showbackground": true,
            "ticks": "",
            "zerolinecolor": "white"
           }
          },
          "shapedefaults": {
           "line": {
            "color": "#2a3f5f"
           }
          },
          "ternary": {
           "aaxis": {
            "gridcolor": "white",
            "linecolor": "white",
            "ticks": ""
           },
           "baxis": {
            "gridcolor": "white",
            "linecolor": "white",
            "ticks": ""
           },
           "bgcolor": "#E5ECF6",
           "caxis": {
            "gridcolor": "white",
            "linecolor": "white",
            "ticks": ""
           }
          },
          "title": {
           "x": 0.05
          },
          "xaxis": {
           "automargin": true,
           "gridcolor": "white",
           "linecolor": "white",
           "ticks": "",
           "title": {
            "standoff": 15
           },
           "zerolinecolor": "white",
           "zerolinewidth": 2
          },
          "yaxis": {
           "automargin": true,
           "gridcolor": "white",
           "linecolor": "white",
           "ticks": "",
           "title": {
            "standoff": 15
           },
           "zerolinecolor": "white",
           "zerolinewidth": 2
          }
         }
        },
        "title": {
         "text": "Lows Trendline Analysis: low vs rsi_14"
        },
        "width": 1200,
        "xaxis": {
         "title": {
          "text": "Date"
         }
        },
        "yaxis": {
         "title": {
          "text": "Price"
         }
        },
        "yaxis2": {
         "overlaying": "y",
         "range": [
          10.28592302400537,
          84.33182260224959
         ],
         "showgrid": false,
         "side": "right",
         "title": {
          "text": "rsi_14 Value"
         }
        }
       }
      }
     },
     "metadata": {},
     "output_type": "display_data"
    }
   ],
   "source": [
    "# Analyze RSI trendlines\n",
    "rsi_high_results = analyze_indicator_trendlines(\n",
    "    recent_df, 'high', 'rsi_14', extrema_window=7, time_gap=90, mode='high'\n",
    ")\n",
    "\n",
    "rsi_low_results = analyze_indicator_trendlines(\n",
    "    recent_df, 'low', 'rsi_14', extrema_window=7, time_gap=90, mode='low'\n",
    ")"
   ]
  },
  {
   "cell_type": "markdown",
   "metadata": {},
   "source": [
    "## Summary of Detected Patterns\n",
    "\n",
    "Let's summarize the convergence/divergence patterns we found."
   ]
  },
  {
   "cell_type": "code",
   "execution_count": 47,
   "metadata": {},
   "outputs": [
    {
     "name": "stdout",
     "output_type": "stream",
     "text": [
      "\n",
      "ADX High-to-High - 44 total patterns:\n",
      "  bullish_divergence: 6 patterns\n",
      "  convergence: 21 patterns\n",
      "  bearish_divergence: 9 patterns\n",
      "  neutral: 8 patterns\n",
      "\n",
      "Most recent patterns:\n",
      "  bullish_divergence: 2024-01-05 to 2024-03-20\n",
      "  convergence: 2024-10-15 to 2024-12-26\n",
      "  bearish_divergence: 2024-08-02 to 2024-09-04\n",
      "  neutral: 2023-12-14 to 2024-01-24\n",
      "\n",
      "ADX Low-to-Low - 42 total patterns:\n",
      "  convergence: 21 patterns\n",
      "  bearish_divergence: 7 patterns\n",
      "  neutral: 9 patterns\n",
      "  bullish_divergence: 5 patterns\n",
      "\n",
      "Most recent patterns:\n",
      "  convergence: 2024-06-24 to 2024-08-05\n",
      "  bearish_divergence: 2024-09-13 to 2024-10-11\n",
      "  neutral: 2023-12-04 to 2024-01-05\n",
      "  bullish_divergence: 2024-10-07 to 2024-11-04\n",
      "\n",
      "RSI High-to-High - 44 total patterns:\n",
      "  convergence: 25 patterns\n",
      "  neutral: 5 patterns\n",
      "  bearish_divergence: 9 patterns\n",
      "  bullish_divergence: 5 patterns\n",
      "\n",
      "Most recent patterns:\n",
      "  convergence: 2024-10-15 to 2024-12-26\n",
      "  neutral: 2024-07-15 to 2024-08-05\n",
      "  bearish_divergence: 2024-09-20 to 2024-10-15\n",
      "  bullish_divergence: 2024-01-19 to 2024-03-20\n",
      "\n",
      "RSI Low-to-Low - 42 total patterns:\n",
      "  bearish_divergence: 8 patterns\n",
      "  convergence: 20 patterns\n",
      "  neutral: 5 patterns\n",
      "  bullish_divergence: 9 patterns\n",
      "\n",
      "Most recent patterns:\n",
      "  bearish_divergence: 2024-09-16 to 2024-10-10\n",
      "  convergence: 2024-08-05 to 2024-09-27\n",
      "  neutral: 2023-09-28 to 2023-10-26\n",
      "  bullish_divergence: 2024-10-07 to 2024-11-04\n"
     ]
    }
   ],
   "source": [
    "def summarize_patterns(results, pattern_name):\n",
    "    \"\"\"Create a summary of detected patterns.\"\"\"\n",
    "    if not results:\n",
    "        print(f\"No {pattern_name} patterns detected.\")\n",
    "        return\n",
    "    \n",
    "    pattern_counts = {}\n",
    "    for result in results:\n",
    "        pattern_type = result['pattern_type']\n",
    "        pattern_counts[pattern_type] = pattern_counts.get(pattern_type, 0) + 1\n",
    "    \n",
    "    print(f\"\\n{pattern_name} - {len(results)} total patterns:\")\n",
    "    for pattern_type, count in pattern_counts.items():\n",
    "        print(f\"  {pattern_type}: {count} patterns\")\n",
    "        \n",
    "    # Show the most recent patterns of each type\n",
    "    print(\"\\nMost recent patterns:\")\n",
    "    for pattern_type in pattern_counts.keys():\n",
    "        type_results = [r for r in results if r['pattern_type'] == pattern_type]\n",
    "        if type_results:\n",
    "            latest = max(type_results, key=lambda x: x['end_date'])\n",
    "            print(f\"  {pattern_type}: {latest['start_date'].date()} to {latest['end_date'].date()}\")\n",
    "\n",
    "# Print summaries\n",
    "summarize_patterns(adx_high_results, \"ADX High-to-High\")\n",
    "summarize_patterns(adx_low_results, \"ADX Low-to-Low\")\n",
    "summarize_patterns(rsi_high_results, \"RSI High-to-High\")\n",
    "summarize_patterns(rsi_low_results, \"RSI Low-to-Low\")"
   ]
  },
  {
   "cell_type": "code",
   "execution_count": 48,
   "metadata": {},
   "outputs": [
    {
     "name": "stdout",
     "output_type": "stream",
     "text": [
      "Strongest ADX divergence signals:\n",
      "1. bearish_divergence from 2021-07-15 to 2021-08-20\n",
      "2. bullish_divergence from 2022-04-27 to 2022-06-01\n",
      "3. bearish_divergence from 2022-03-03 to 2022-03-30\n",
      "\n",
      "Strongest RSI divergence signals:\n",
      "1. bearish_divergence from 2024-09-16 to 2024-10-10\n",
      "2. bullish_divergence from 2024-10-07 to 2024-11-04\n",
      "3. bullish_divergence from 2022-03-30 to 2022-04-29\n"
     ]
    }
   ],
   "source": [
    "def find_strongest_signals(results, top_n=3):\n",
    "    \"\"\"Find the strongest divergence signals based on slope difference.\"\"\"\n",
    "    if not results:\n",
    "        return []\n",
    "    \n",
    "    # Filter for divergence patterns only\n",
    "    divergences = [r for r in results if 'divergence' in r['pattern_type']]\n",
    "    \n",
    "    # Calculate strength based on slope difference\n",
    "    for div in divergences:\n",
    "        div['strength'] = abs(div['price_slope'] - div['indicator_slope'])\n",
    "    \n",
    "    # Sort by strength\n",
    "    strongest = sorted(divergences, key=lambda x: x['strength'], reverse=True)[:top_n]\n",
    "    return strongest\n",
    "\n",
    "# Find strongest divergence signals\n",
    "strongest_adx = find_strongest_signals(adx_high_results + adx_low_results)\n",
    "strongest_rsi = find_strongest_signals(rsi_high_results + rsi_low_results)\n",
    "\n",
    "print(\"Strongest ADX divergence signals:\")\n",
    "for i, signal in enumerate(strongest_adx, 1):\n",
    "    print(f\"{i}. {signal['pattern_type']} from {signal['start_date'].date()} to {signal['end_date'].date()}\")\n",
    "\n",
    "print(\"\\nStrongest RSI divergence signals:\")\n",
    "for i, signal in enumerate(strongest_rsi, 1):\n",
    "    print(f\"{i}. {signal['pattern_type']} from {signal['start_date'].date()} to {signal['end_date'].date()}\")"
   ]
  }
 ],
 "metadata": {
  "kernelspec": {
   "display_name": ".venv",
   "language": "python",
   "name": "python3"
  },
  "language_info": {
   "codemirror_mode": {
    "name": "ipython",
    "version": 3
   },
   "file_extension": ".py",
   "mimetype": "text/x-python",
   "name": "python",
   "nbconvert_exporter": "python",
   "pygments_lexer": "ipython3",
   "version": "3.13.2"
  }
 },
 "nbformat": 4,
 "nbformat_minor": 2
}
