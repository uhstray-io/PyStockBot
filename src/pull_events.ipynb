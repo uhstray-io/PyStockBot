{
 "cells": [
  {
   "cell_type": "code",
   "execution_count": 3,
   "metadata": {},
   "outputs": [],
   "source": [
    "import pandas as pd\n",
    "import numpy as np\n",
    "import matplotlib.pyplot as plt"
   ]
  },
  {
   "cell_type": "code",
   "execution_count": 4,
   "metadata": {},
   "outputs": [
    {
     "name": "stderr",
     "output_type": "stream",
     "text": [
      "<>:5: SyntaxWarning: invalid escape sequence '\\d'\n",
      "<>:5: SyntaxWarning: invalid escape sequence '\\d'\n",
      "C:\\Users\\jacob\\AppData\\Local\\Temp\\ipykernel_18420\\1990255686.py:5: SyntaxWarning: invalid escape sequence '\\d'\n",
      "  events_df.to_parquet(\"..\\data\\events.parquet\")\n"
     ]
    }
   ],
   "source": [
    "# EXAMPLE of the schema of the events.parquet file\n",
    "events_df = pd.DataFrame(data= {'name': [\"SPLIT\", \"ALLTIMEHIGH\"], \n",
    "                                'date': [\"2024-07-17\", \"2024-07-24\"], \n",
    "                                'sentiment': [100, 50]}) \n",
    "events_df.to_parquet(\"..\\data\\events.parquet\")"
   ]
  },
  {
   "cell_type": "code",
   "execution_count": null,
   "metadata": {},
   "outputs": [],
   "source": []
  }
 ],
 "metadata": {
  "kernelspec": {
   "display_name": "Python 3",
   "language": "python",
   "name": "python3"
  },
  "language_info": {
   "codemirror_mode": {
    "name": "ipython",
    "version": 3
   },
   "file_extension": ".py",
   "mimetype": "text/x-python",
   "name": "python",
   "nbconvert_exporter": "python",
   "pygments_lexer": "ipython3",
   "version": "3.12.4"
  }
 },
 "nbformat": 4,
 "nbformat_minor": 2
}
