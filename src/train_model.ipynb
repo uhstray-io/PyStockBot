{
 "cells": [
  {
   "cell_type": "code",
   "execution_count": 50,
   "metadata": {},
   "outputs": [],
   "source": [
    "# !pip install pyarrow"
   ]
  },
  {
   "cell_type": "code",
   "execution_count": 51,
   "metadata": {},
   "outputs": [],
   "source": [
    "from datetime import datetime\n",
    "\n",
    "import matplotlib.pyplot as plt\n",
    "import numpy as np\n",
    "import pandas as pd\n",
    "import seaborn as sns\n",
    "import xgboost as xgb\n",
    "\n",
    "from sklearn.preprocessing import MinMaxScaler\n"
   ]
  },
  {
   "cell_type": "code",
   "execution_count": null,
   "metadata": {},
   "outputs": [],
   "source": [
    "# # replace Close with the count of days\n",
    "# data[\"Close\"] = range(1, len(data) + 1)\n",
    "# data"
   ]
  },
  {
   "cell_type": "code",
   "execution_count": null,
   "metadata": {},
   "outputs": [
    {
     "data": {
      "text/plain": [
       "array([[ 23.48500061],\n",
       "       [ 23.68000031],\n",
       "       [ 24.29750061],\n",
       "       ...,\n",
       "       [234.82000732],\n",
       "       [228.88000488],\n",
       "       [224.17999268]])"
      ]
     },
     "execution_count": 10,
     "metadata": {},
     "output_type": "execute_result"
    }
   ],
   "source": [
    "dataset = data.values\n",
    "dataset"
   ]
  },
  {
   "cell_type": "code",
   "execution_count": null,
   "metadata": {},
   "outputs": [
    {
     "data": {
      "text/plain": [
       "(array([[0.00424059],\n",
       "        [0.00515938],\n",
       "        [0.00806889],\n",
       "        ...,\n",
       "        [1.        ],\n",
       "        [0.97201215],\n",
       "        [0.94986683]]),\n",
       " array([1.]),\n",
       " array([0.]))"
      ]
     },
     "execution_count": 11,
     "metadata": {},
     "output_type": "execute_result"
    }
   ],
   "source": [
    "# Scale the data\n",
    "from sklearn.preprocessing import MinMaxScaler\n",
    "\n",
    "scaler = MinMaxScaler(feature_range=(0,1))\n",
    "scaled_data = scaler.fit_transform(dataset)\n",
    "\n",
    "scaled_data, max(scaled_data), min(scaled_data)"
   ]
  },
  {
   "cell_type": "code",
   "execution_count": null,
   "metadata": {},
   "outputs": [],
   "source": [
    "# How many days to look back\n",
    "days = 60\n",
    "\n",
    "x = []\n",
    "y = []\n",
    "\n",
    "# Create two arrays, x_train and y_train\n",
    "# x_train contain arrays of 60 days of data\n",
    "# y_train contain the 61st day data\n",
    "for i in range(days, len(scaled_data)):\n",
    "    x.append(scaled_data[i-days:i, 0])\n",
    "    y.append(scaled_data[i, 0])\n",
    "\n",
    "from sklearn.model_selection import train_test_split\n",
    "x_train, x_test, y_train, y_test = train_test_split(x, y, test_size=0.05, random_state=42, shuffle=False)\n",
    "\n",
    "\n",
    "# x_train\n",
    "# y_train\n",
    "# x_train[-1], y_train[-2]"
   ]
  },
  {
   "cell_type": "code",
   "execution_count": null,
   "metadata": {},
   "outputs": [
    {
     "data": {
      "text/plain": [
       "(array([0.67993024, 0.68619689, 0.69595019, 0.69821189, 0.7132895 ,\n",
       "        0.73025185, 0.72591697, 0.73807332, 0.75027683, 0.75531837,\n",
       "        0.75305675, 0.77185661, 0.76431784, 0.77675688, 0.77944255,\n",
       "        0.78745259, 0.78735834, 0.79565101, 0.79183449, 0.79499136,\n",
       "        0.78867762, 0.78782947, 0.79070365, 0.78585054, 0.78858337,\n",
       "        0.79466158, 0.78613323, 0.80493318, 0.79975028, 0.8089382 ,\n",
       "        0.81572314, 0.80380233, 0.81101138, 0.8263246 , 0.82703133,\n",
       "        0.82448701, 0.81657122, 0.82151858, 0.81157677, 0.81086996,\n",
       "        0.80578133, 0.80318985, 0.80366098, 0.80568707, 0.80073971,\n",
       "        0.7682757 , 0.76172636, 0.75070087, 0.74726123, 0.76789875,\n",
       "        0.76591982, 0.77086718, 0.7680401 , 0.76959499, 0.7588051 ,\n",
       "        0.75432887, 0.78236389, 0.7961693 , 0.80714771, 0.81322584]),\n",
       " 0.8132258434779096)"
      ]
     },
     "execution_count": 534,
     "metadata": {},
     "output_type": "execute_result"
    }
   ],
   "source": [
    "x_test[1], y_test[0]"
   ]
  },
  {
   "cell_type": "code",
   "execution_count": null,
   "metadata": {},
   "outputs": [
    {
     "data": {
      "text/plain": [
       "(array([0.67498288, 0.67997733, 0.68996631, 0.69406552, 0.6912856 ,\n",
       "        0.71107496, 0.6961387 , 0.6912856 , 0.70886043, 0.75762716,\n",
       "        0.74975853, 0.75300958, 0.75461163, 0.76323416, 0.75607227,\n",
       "        0.77129123, 0.77670972, 0.78749969, 0.78806507, 0.78820642,\n",
       "        0.79371917, 0.79989163, 0.79305952, 0.77411831, 0.78872472,\n",
       "        0.78877188, 0.79018535, 0.79489711, 0.79942043, 0.80780735,\n",
       "        0.80931515, 0.81647697, 0.80992763, 0.82128298, 0.80351963,\n",
       "        0.86962559, 0.89751926, 0.90303201, 0.89478644, 0.91448155,\n",
       "        0.90326754, 0.88154633, 0.87122764, 0.87429026, 0.87867223,\n",
       "        0.89836735, 0.90237237, 0.8859754 , 0.9148585 , 0.93144391,\n",
       "        0.93747495, 0.96004424, 0.96701769, 0.97106974, 0.99133031,\n",
       "        0.96583975, 0.97983361, 0.998021  , 1.        , 0.97201215]),\n",
       " 0.9498668257575196)"
      ]
     },
     "execution_count": 535,
     "metadata": {},
     "output_type": "execute_result"
    }
   ],
   "source": [
    "x_test[-1], y_test[-1]"
   ]
  },
  {
   "cell_type": "code",
   "execution_count": null,
   "metadata": {},
   "outputs": [],
   "source": [
    "x_test = np.array(x_test)\n",
    "x_train, y_train = np.array(x_train), np.array(y_train)\n",
    "\n",
    "# Reshape the data\n",
    "# LSTM expects the input to be 3D\n",
    "# x_train.shape[0] is the number of samples\n",
    "# x_train.shape[1] is the number of time steps\n",
    "# 1 is the number of features\n",
    "\n",
    "# The reason we need to reshape the data is because LSTM expects the input to be 3D\n",
    "# In this case, 2332, 60, 1\n",
    "x_train = np.reshape(x_train, (x_train.shape[0], x_train.shape[1], 1))\n",
    "x_test = np.reshape(x_test, (x_test.shape[0], x_test.shape[1], 1))\n",
    "\n",
    "# x_train"
   ]
  },
  {
   "cell_type": "code",
   "execution_count": null,
   "metadata": {},
   "outputs": [
    {
     "name": "stdout",
     "output_type": "stream",
     "text": [
      "Epoch 1/2\n"
     ]
    },
    {
     "name": "stderr",
     "output_type": "stream",
     "text": [
      "c:\\Users\\jacob\\AppData\\Local\\Programs\\Python\\Python311\\Lib\\site-packages\\keras\\src\\layers\\rnn\\rnn.py:204: UserWarning: Do not pass an `input_shape`/`input_dim` argument to a layer. When using Sequential models, prefer using an `Input(shape)` object as the first layer in the model instead.\n",
      "  super().__init__(**kwargs)\n"
     ]
    },
    {
     "name": "stdout",
     "output_type": "stream",
     "text": [
      "\u001b[1m2334/2334\u001b[0m \u001b[32m━━━━━━━━━━━━━━━━━━━━\u001b[0m\u001b[37m\u001b[0m \u001b[1m34s\u001b[0m 14ms/step - loss: 0.0022\n",
      "Epoch 2/2\n",
      "\u001b[1m2334/2334\u001b[0m \u001b[32m━━━━━━━━━━━━━━━━━━━━\u001b[0m\u001b[37m\u001b[0m \u001b[1m32s\u001b[0m 14ms/step - loss: 5.1660e-04\n"
     ]
    },
    {
     "data": {
      "text/plain": [
       "<keras.src.callbacks.history.History at 0x1ef875ad450>"
      ]
     },
     "execution_count": 537,
     "metadata": {},
     "output_type": "execute_result"
    }
   ],
   "source": [
    "# Build the LSTM model\n",
    "model = Sequential()\n",
    "model.add(LSTM(128, return_sequences=True, input_shape=(x_train.shape[1], 1)))\n",
    "model.add(LSTM(64, return_sequences=False))\n",
    "model.add(Dense(25))\n",
    "model.add(Dense(1))\n",
    "\n",
    "# Compile the model\n",
    "model.compile(optimizer='adam', loss='mean_squared_error')\n",
    "\n",
    "# Train the model\n",
    "model.fit(x_train, y_train, batch_size=1, epochs=2)"
   ]
  },
  {
   "cell_type": "code",
   "execution_count": null,
   "metadata": {},
   "outputs": [
    {
     "name": "stdout",
     "output_type": "stream",
     "text": [
      "\u001b[1m4/4\u001b[0m \u001b[32m━━━━━━━━━━━━━━━━━━━━\u001b[0m\u001b[37m\u001b[0m \u001b[1m1s\u001b[0m 88ms/step\n"
     ]
    },
    {
     "data": {
      "text/plain": [
       "0.11770677388882383"
      ]
     },
     "execution_count": 538,
     "metadata": {},
     "output_type": "execute_result"
    }
   ],
   "source": [
    "# Get the models predicted price values \n",
    "predictions_scaled = model.predict(x_test)\n",
    "predictions = scaler.inverse_transform(predictions_scaled)\n",
    "\n",
    "# Get the root mean squared error (RMSE)\n",
    "rmse = np.sqrt(np.mean(((predictions_scaled - y_test) ** 2)))\n",
    "rmse"
   ]
  },
  {
   "cell_type": "code",
   "execution_count": null,
   "metadata": {},
   "outputs": [],
   "source": [
    "a = scaler.inverse_transform(y_train.reshape(-1, 1)).flatten().tolist()\n",
    "b = scaler.inverse_transform(np.reshape(y_test,  (1, len(y_test))))[0].tolist()\n",
    "pred = scaler.inverse_transform(predictions_scaled).flatten().tolist()\n",
    "# pred"
   ]
  },
  {
   "cell_type": "code",
   "execution_count": null,
   "metadata": {},
   "outputs": [
    {
     "data": {
      "text/plain": [
       "24.98149882547235"
      ]
     },
     "execution_count": 540,
     "metadata": {},
     "output_type": "execute_result"
    }
   ],
   "source": [
    "rmse = np.sqrt(np.mean(((predictions - b) ** 2)))\n",
    "rmse"
   ]
  },
  {
   "cell_type": "code",
   "execution_count": null,
   "metadata": {},
   "outputs": [],
   "source": [
    "new_table = {'Date': data.iloc[60:, :].index.values,\n",
    "             'Values': a + b,\n",
    "             'Prediction': a + pred,\n",
    "             }\n",
    "\n",
    "df2 = pd.DataFrame(new_table)"
   ]
  },
  {
   "cell_type": "code",
   "execution_count": null,
   "metadata": {},
   "outputs": [
    {
     "data": {
      "text/html": [
       "<div>\n",
       "<style scoped>\n",
       "    .dataframe tbody tr th:only-of-type {\n",
       "        vertical-align: middle;\n",
       "    }\n",
       "\n",
       "    .dataframe tbody tr th {\n",
       "        vertical-align: top;\n",
       "    }\n",
       "\n",
       "    .dataframe thead th {\n",
       "        text-align: right;\n",
       "    }\n",
       "</style>\n",
       "<table border=\"1\" class=\"dataframe\">\n",
       "  <thead>\n",
       "    <tr style=\"text-align: right;\">\n",
       "      <th></th>\n",
       "      <th>Values</th>\n",
       "      <th>Prediction</th>\n",
       "    </tr>\n",
       "    <tr>\n",
       "      <th>Date</th>\n",
       "      <th></th>\n",
       "      <th></th>\n",
       "    </tr>\n",
       "  </thead>\n",
       "  <tbody>\n",
       "    <tr>\n",
       "      <th>2014-10-13</th>\n",
       "      <td>24.952499</td>\n",
       "      <td>24.952499</td>\n",
       "    </tr>\n",
       "    <tr>\n",
       "      <th>2014-10-14</th>\n",
       "      <td>24.687500</td>\n",
       "      <td>24.687500</td>\n",
       "    </tr>\n",
       "    <tr>\n",
       "      <th>2014-10-15</th>\n",
       "      <td>24.385000</td>\n",
       "      <td>24.385000</td>\n",
       "    </tr>\n",
       "    <tr>\n",
       "      <th>2014-10-16</th>\n",
       "      <td>24.065001</td>\n",
       "      <td>24.065001</td>\n",
       "    </tr>\n",
       "    <tr>\n",
       "      <th>2014-10-17</th>\n",
       "      <td>24.417500</td>\n",
       "      <td>24.417500</td>\n",
       "    </tr>\n",
       "    <tr>\n",
       "      <th>...</th>\n",
       "      <td>...</td>\n",
       "      <td>...</td>\n",
       "    </tr>\n",
       "    <tr>\n",
       "      <th>2024-07-12</th>\n",
       "      <td>230.539993</td>\n",
       "      <td>226.667160</td>\n",
       "    </tr>\n",
       "    <tr>\n",
       "      <th>2024-07-15</th>\n",
       "      <td>234.399994</td>\n",
       "      <td>226.589005</td>\n",
       "    </tr>\n",
       "    <tr>\n",
       "      <th>2024-07-16</th>\n",
       "      <td>234.820007</td>\n",
       "      <td>228.047134</td>\n",
       "    </tr>\n",
       "    <tr>\n",
       "      <th>2024-07-17</th>\n",
       "      <td>228.880005</td>\n",
       "      <td>229.484558</td>\n",
       "    </tr>\n",
       "    <tr>\n",
       "      <th>2024-07-18</th>\n",
       "      <td>224.179993</td>\n",
       "      <td>228.131973</td>\n",
       "    </tr>\n",
       "  </tbody>\n",
       "</table>\n",
       "<p>2457 rows × 2 columns</p>\n",
       "</div>"
      ],
      "text/plain": [
       "                Values  Prediction\n",
       "Date                              \n",
       "2014-10-13   24.952499   24.952499\n",
       "2014-10-14   24.687500   24.687500\n",
       "2014-10-15   24.385000   24.385000\n",
       "2014-10-16   24.065001   24.065001\n",
       "2014-10-17   24.417500   24.417500\n",
       "...                ...         ...\n",
       "2024-07-12  230.539993  226.667160\n",
       "2024-07-15  234.399994  226.589005\n",
       "2024-07-16  234.820007  228.047134\n",
       "2024-07-17  228.880005  229.484558\n",
       "2024-07-18  224.179993  228.131973\n",
       "\n",
       "[2457 rows x 2 columns]"
      ]
     },
     "execution_count": 542,
     "metadata": {},
     "output_type": "execute_result"
    }
   ],
   "source": [
    "df2[\"Date\"] = pd.to_datetime(df2[\"Date\"])\n",
    "df3 = df2.set_index('Date').copy(deep=True)\n",
    "df3"
   ]
  },
  {
   "cell_type": "code",
   "execution_count": null,
   "metadata": {},
   "outputs": [
    {
     "ename": "NameError",
     "evalue": "name 'plt' is not defined",
     "output_type": "error",
     "traceback": [
      "\u001b[1;31m---------------------------------------------------------------------------\u001b[0m",
      "\u001b[1;31mNameError\u001b[0m                                 Traceback (most recent call last)",
      "Cell \u001b[1;32mIn[1], line 2\u001b[0m\n\u001b[0;32m      1\u001b[0m \u001b[38;5;66;03m# Visualize the data\u001b[39;00m\n\u001b[1;32m----> 2\u001b[0m \u001b[43mplt\u001b[49m\u001b[38;5;241m.\u001b[39mfigure(figsize\u001b[38;5;241m=\u001b[39m(\u001b[38;5;241m16\u001b[39m,\u001b[38;5;241m6\u001b[39m))\n\u001b[0;32m      3\u001b[0m plt\u001b[38;5;241m.\u001b[39mtitle(\u001b[38;5;124m'\u001b[39m\u001b[38;5;124mModel\u001b[39m\u001b[38;5;124m'\u001b[39m)\n\u001b[0;32m      4\u001b[0m plt\u001b[38;5;241m.\u001b[39mxlabel(\u001b[38;5;124m'\u001b[39m\u001b[38;5;124mDate\u001b[39m\u001b[38;5;124m'\u001b[39m, fontsize\u001b[38;5;241m=\u001b[39m\u001b[38;5;241m18\u001b[39m)\n",
      "\u001b[1;31mNameError\u001b[0m: name 'plt' is not defined"
     ]
    }
   ],
   "source": [
    "# Visualize the data\n",
    "plt.figure(figsize=(16,6))\n",
    "plt.title('Model')\n",
    "plt.xlabel('Date', fontsize=18)\n",
    "plt.ylabel('Close Price USD ($)', fontsize=18)\n",
    "plt.plot(df3.tail(200)[['Values', 'Prediction']])\n",
    "plt.legend(['Train', 'Val', 'Predictions'], loc='lower right')\n",
    "plt.show()"
   ]
  },
  {
   "cell_type": "code",
   "execution_count": null,
   "metadata": {},
   "outputs": [],
   "source": []
  }
 ],
 "metadata": {
  "kernelspec": {
   "display_name": "Python 3",
   "language": "python",
   "name": "python3"
  },
  "language_info": {
   "codemirror_mode": {
    "name": "ipython",
    "version": 3
   },
   "file_extension": ".py",
   "mimetype": "text/x-python",
   "name": "python",
   "nbconvert_exporter": "python",
   "pygments_lexer": "ipython3",
   "version": "3.12.4"
  }
 },
 "nbformat": 4,
 "nbformat_minor": 2
}
