{
 "cells": [
  {
   "cell_type": "code",
   "execution_count": null,
   "metadata": {},
   "outputs": [],
   "source": [
    "from datetime import datetime\n",
    "\n",
    "import matplotlib.pyplot as plt\n",
    "import numpy as np\n",
    "import pandas as pd\n",
    "import seaborn as sns\n",
    "import xgboost as xgb\n",
    "import yfinance as yf"
   ]
  },
  {
   "cell_type": "code",
   "execution_count": null,
   "metadata": {},
   "outputs": [],
   "source": [
    "stock = \"XMR-USD\""
   ]
  },
  {
   "cell_type": "code",
   "execution_count": null,
   "metadata": {},
   "outputs": [],
   "source": [
    "end = datetime.now()\n",
    "start = datetime(end.year - 20, end.month, end.day)"
   ]
  },
  {
   "cell_type": "code",
   "execution_count": null,
   "metadata": {},
   "outputs": [],
   "source": [
    "\n",
    "df = yf.download(stock, start, end)\n",
    "df = df.reset_index()\n",
    "df.columns = df.columns.str.lower()\n",
    "df\n"
   ]
  },
  {
   "cell_type": "code",
   "execution_count": null,
   "metadata": {},
   "outputs": [],
   "source": [
    "plt.figure(figsize=(16, 5))\n",
    "sns.lineplot(x=\"date\", y=\"close\", data=df)"
   ]
  },
  {
   "cell_type": "code",
   "execution_count": null,
   "metadata": {},
   "outputs": [],
   "source": [
    "df"
   ]
  },
  {
   "cell_type": "code",
   "execution_count": null,
   "metadata": {},
   "outputs": [],
   "source": [
    "df.to_parquet(\"../data/stock_data.parquet\")"
   ]
  },
  {
   "cell_type": "code",
   "execution_count": null,
   "metadata": {},
   "outputs": [],
   "source": [
    "ticker= yf.Ticker(\"MSFT\")\n"
   ]
  },
  {
   "cell_type": "code",
   "execution_count": null,
   "metadata": {},
   "outputs": [],
   "source": [
    "artical = []\n",
    "for new  in ticker.get_news():\n",
    "    artical.append(\n",
    "        {\"title\": new[\"title\"],\n",
    "         \"publisher\": new[\"publisher\"],\n",
    "         \"link\": new[\"link\"],\n",
    "         \"published\": new[\"providerPublishTime\"],\n",
    "         \"relatedTickers\": new[\"relatedTickers\"] if \"relatedTickers\" in new else None,\n",
    "         }\n",
    "    )\n",
    "\n",
    "\n",
    "df_artical = pd.DataFrame(artical)\n",
    "\n",
    "# convert to datetime\n",
    "df_artical[\"datetime\"] = pd.to_datetime(df_artical[\"published\"], unit='s')\n",
    "\n",
    "df_artical"
   ]
  },
  {
   "cell_type": "code",
   "execution_count": null,
   "metadata": {},
   "outputs": [],
   "source": [
    "\n",
    "# ticker.actions[\"Stock Splits\"] != 0\n",
    "# ticker.balance_sheet\n",
    "# ticker.dividends\n",
    "# ticker.cashflow\n",
    "# ticker.major_holders\n",
    "ticker.get_news()\n",
    "# ticker.recommendations\n",
    "# ticker.recommendations_summary\n",
    "# ticker.history(period=\"1y\", interval=\"1h\")"
   ]
  }
 ],
 "metadata": {
  "kernelspec": {
   "display_name": "Python 3",
   "language": "python",
   "name": "python3"
  },
  "language_info": {
   "codemirror_mode": {
    "name": "ipython",
    "version": 3
   },
   "file_extension": ".py",
   "mimetype": "text/x-python",
   "name": "python",
   "nbconvert_exporter": "python",
   "pygments_lexer": "ipython3"
  }
 },
 "nbformat": 4,
 "nbformat_minor": 2
}
