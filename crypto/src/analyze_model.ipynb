{
 "cells": [
  {
   "cell_type": "code",
   "execution_count": null,
   "metadata": {},
   "outputs": [],
   "source": [
    "from datetime import datetime\n",
    "\n",
    "import matplotlib.pyplot as plt\n",
    "import numpy as np\n",
    "import pandas as pd\n",
    "import seaborn as sns\n",
    "import xgboost as xgb\n",
    "from sklearn.model_selection import train_test_split\n",
    "from sklearn.preprocessing import MinMaxScaler\n",
    "import pickle"
   ]
  },
  {
   "cell_type": "code",
   "execution_count": null,
   "metadata": {},
   "outputs": [],
   "source": [
    "# target = \"target_close\"\n",
    "# target = \"close_percent_change_1\"\n",
    "target = \"up_down_close_1\""
   ]
  },
  {
   "cell_type": "code",
   "execution_count": null,
   "metadata": {},
   "outputs": [],
   "source": [
    "# Load model\n",
    "# model = pickle.load(open(\"../model/xgboost_model.pkl\", \"rb\"))\n",
    "\n",
    "try:\n",
    "    model = xgb.XGBRegressor()\n",
    "    model.load_model(\"../model/xgboost_model.json\")\n",
    "except:\n",
    "    model = xgb.XGBClassifier()\n",
    "    model.load_model(\"../model/xgboost_model.json\")"
   ]
  },
  {
   "cell_type": "code",
   "execution_count": null,
   "metadata": {},
   "outputs": [],
   "source": [
    "# print features name\n",
    "print(len(model.get_booster().feature_names))\n",
    "model.get_booster().get_score()"
   ]
  },
  {
   "cell_type": "code",
   "execution_count": null,
   "metadata": {},
   "outputs": [],
   "source": [
    "# load predictions\n",
    "df = pd.read_parquet(\"../data/predicted.parquet\")"
   ]
  },
  {
   "cell_type": "code",
   "execution_count": null,
   "metadata": {},
   "outputs": [],
   "source": [
    "def normalize_column(data: pd.DataFrame, column: str | list) -> pd.DataFrame:\n",
    "    if isinstance(column, str):\n",
    "        data[column] = (data[column] - data[column].min()) / (data[column].max() - data[column].min())\n",
    "    elif isinstance(column, list):\n",
    "        for col in column:\n",
    "            data[col] = (data[col] - data[col].min()) / (data[col].max() - data[col].min())\n",
    "    return data"
   ]
  },
  {
   "cell_type": "code",
   "execution_count": null,
   "metadata": {},
   "outputs": [],
   "source": [
    "# Plot the predicted vs actual values\n",
    "plt.figure(figsize=(20, 10))\n",
    "plt.plot(df[target], label=\"Actual\")\n",
    "plt.plot(df[\"predicted\"], label=\"Predicted\")\n",
    "plt.legend()\n",
    "plt.show()"
   ]
  },
  {
   "cell_type": "code",
   "execution_count": null,
   "metadata": {},
   "outputs": [],
   "source": [
    "fig, ax = plt.subplots(figsize=(20, 8))\n",
    "# Only 2008 - 2012 indexs \n",
    "df_date = df.loc[\"2020\":\"2024\"]\n",
    "\n",
    "sns.lineplot(\n",
    "    df_date.reset_index().melt(id_vars=[\"date\"], value_vars=[target, \"predicted\"]),\n",
    "    y=\"value\",\n",
    "    x=\"date\",\n",
    "    hue=\"variable\",\n",
    "    linewidth=1.5,\n",
    "    palette=['black', 'red'],\n",
    "    ax=ax,\n",
    ")"
   ]
  },
  {
   "cell_type": "code",
   "execution_count": null,
   "metadata": {},
   "outputs": [],
   "source": [
    "df_importance = pd.DataFrame()\n",
    "\n",
    "importance_types = [\"weight\", \"gain\", \"cover\", \"total_gain\", \"total_cover\"]\n",
    "for importance_type in importance_types:\n",
    "    importance = model.get_booster().get_score(importance_type=importance_type)\n",
    "\n",
    "    df_i = pd.DataFrame(importance.items(), columns=[\"feature\", importance_type])\n",
    "\n",
    "    if df_importance.empty:\n",
    "        df_importance = df_i\n",
    "    else:\n",
    "        df_importance = pd.merge(df_importance, df_i, on=\"feature\", how=\"outer\")\n",
    "df_importance\n"
   ]
  },
  {
   "cell_type": "code",
   "execution_count": null,
   "metadata": {},
   "outputs": [],
   "source": [
    "df_importance = normalize_column(df_importance, [\"weight\", \"gain\", \"cover\", \"total_gain\", \"total_cover\"])\n",
    "df_importance_melted = df_importance.sort_values(by=\"weight\", ascending=True).melt(id_vars=[\"feature\"], value_vars=importance_types)\n",
    "df_importance_melted"
   ]
  },
  {
   "cell_type": "code",
   "execution_count": null,
   "metadata": {},
   "outputs": [],
   "source": [
    "fig, ax = plt.subplots(figsize=(10, 18))\n",
    "sns.stripplot(\n",
    "    df_importance[df_importance[\"weight\"] >= 0.2]\n",
    "    .melt(id_vars=[\"feature\"], value_vars=importance_types).sort_values(by=\"value\", ascending=False),\n",
    "    y=\"feature\",\n",
    "    x=\"value\",\n",
    "    hue=\"variable\",\n",
    "    ax=ax,\n",
    "    jitter=True,\n",
    "    legend=\"auto\",\n",
    ")"
   ]
  },
  {
   "cell_type": "code",
   "execution_count": null,
   "metadata": {},
   "outputs": [],
   "source": [
    "fig, ax = plt.subplots(figsize=(10, 5))\n",
    "sns.barplot(\n",
    "    df_importance[df_importance[\"feature\"] == \"open\"]\n",
    "    .melt(id_vars=[\"feature\"], value_vars=importance_types).sort_values(by=\"value\", ascending=False),\n",
    "    y=\"feature\",\n",
    "    x=\"value\",\n",
    "    hue=\"variable\",\n",
    "    ax=ax,\n",
    ")"
   ]
  },
  {
   "cell_type": "code",
   "execution_count": null,
   "metadata": {},
   "outputs": [],
   "source": [
    "fig, ax = plt.subplots(figsize=(10, 25))\n",
    "sns.barplot(\n",
    "    df_importance[df_importance[\"weight\"] >= 0.15][[\"feature\", \"weight\"]]\n",
    "    .melt(id_vars=[\"feature\"], value_vars=[\"weight\"]).sort_values(by=\"value\", ascending=False),\n",
    "    y=\"feature\",\n",
    "    x=\"value\",\n",
    "    hue=\"variable\",\n",
    "    ax=ax,\n",
    ")"
   ]
  },
  {
   "cell_type": "code",
   "execution_count": null,
   "metadata": {},
   "outputs": [],
   "source": [
    "fig, ax = plt.subplots(figsize=(10, 15))\n",
    "sns.barplot(\n",
    "    df_importance[df_importance[\"gain\"] >= 0.15][[\"feature\", \"gain\"]]\n",
    "    .melt(id_vars=[\"feature\"], value_vars=[\"gain\"]).sort_values(by=\"value\", ascending=False),\n",
    "    y=\"feature\",\n",
    "    x=\"value\",\n",
    "    hue=\"variable\",\n",
    "    ax=ax,\n",
    ")"
   ]
  },
  {
   "cell_type": "code",
   "execution_count": null,
   "metadata": {},
   "outputs": [],
   "source": [
    "fig, ax = plt.subplots(figsize=(10, 20))\n",
    "sns.barplot(\n",
    "    df_importance[df_importance[\"cover\"] >= 0.25][[\"feature\", \"cover\"]]\n",
    "    .melt(id_vars=[\"feature\"], value_vars=[\"cover\"]).sort_values(by=\"value\", ascending=False),\n",
    "    y=\"feature\",\n",
    "    x=\"value\",\n",
    "    hue=\"variable\",\n",
    "    ax=ax,\n",
    ")"
   ]
  }
 ],
 "metadata": {
  "kernelspec": {
   "display_name": "Python 3",
   "language": "python",
   "name": "python3"
  },
  "language_info": {
   "codemirror_mode": {
    "name": "ipython",
    "version": 3
   },
   "file_extension": ".py",
   "mimetype": "text/x-python",
   "name": "python",
   "nbconvert_exporter": "python",
   "pygments_lexer": "ipython3",
   "version": "3.12.4"
  }
 },
 "nbformat": 4,
 "nbformat_minor": 2
}
